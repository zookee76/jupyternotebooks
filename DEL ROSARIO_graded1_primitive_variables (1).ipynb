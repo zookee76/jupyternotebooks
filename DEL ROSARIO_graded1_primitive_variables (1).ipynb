{
  "cells": [
    {
      "cell_type": "markdown",
      "metadata": {
        "id": "ppFDL2teD2PP"
      },
      "source": [
        "## Print Statements"
      ]
    },
    {
      "cell_type": "markdown",
      "metadata": {},
      "source": [
        "DEL ROSARIO, JAVIER\n",
        "BSIT"
      ]
    },
    {
      "cell_type": "markdown",
      "metadata": {
        "id": "DukyK6MtD2PQ"
      },
      "source": [
        "The print() function prints the specified message to the screen, or other standard output device.\n",
        "\n",
        "The message can be a string, or any other object, the object will be converted into a string before written to the screen."
      ]
    },
    {
      "cell_type": "code",
      "execution_count": 1,
      "metadata": {
        "id": "girtP4azD2PR"
      },
      "outputs": [
        {
          "name": "stdout",
          "output_type": "stream",
          "text": [
            "Hello World!\n"
          ]
        }
      ],
      "source": [
        "print(\"Hello World!\")"
      ]
    },
    {
      "cell_type": "markdown",
      "metadata": {
        "id": "KzhQXuZ1D2PR"
      },
      "source": [
        "## Variables"
      ]
    },
    {
      "cell_type": "markdown",
      "metadata": {
        "id": "fLgjsF6xD2PS"
      },
      "source": [
        "Variables are containers for storing data values. In Python, variables do not need to be declared with any particular type, and can even change type after they have been set. This might not be the case for other programming languages like Java or C.\n",
        "\n"
      ]
    },
    {
      "cell_type": "code",
      "execution_count": null,
      "metadata": {
        "id": "SZGeaJEQD2PS"
      },
      "outputs": [],
      "source": []
    },
    {
      "cell_type": "markdown",
      "metadata": {
        "id": "QkE0AG6aD2PS"
      },
      "source": [
        "## Input"
      ]
    },
    {
      "cell_type": "markdown",
      "metadata": {
        "id": "AHQtEu7gD2PS"
      },
      "source": [
        "Python allows for user input which allows us to provide a small interface where the user can provide his/her inputs"
      ]
    },
    {
      "cell_type": "code",
      "execution_count": null,
      "metadata": {
        "id": "a61ToaWDD2PT"
      },
      "outputs": [],
      "source": []
    },
    {
      "cell_type": "markdown",
      "metadata": {
        "id": "s6fRR7tTD2PT"
      },
      "source": [
        "## Primitive Variables"
      ]
    },
    {
      "cell_type": "markdown",
      "metadata": {
        "id": "DyGwOUzxD2PT"
      },
      "source": [
        "### Strings"
      ]
    },
    {
      "cell_type": "markdown",
      "metadata": {
        "id": "BqF3yCSaD2PT"
      },
      "source": [
        "Strings in python are surrounded by either single quotation marks, or double quotation marks.\n",
        "\n",
        "'hello' is the same as \"hello\".\n",
        "\n",
        "You can display a string literal with the print() function:\n",
        "\n"
      ]
    },
    {
      "cell_type": "code",
      "execution_count": null,
      "metadata": {
        "id": "rrBiS1FHD2PT"
      },
      "outputs": [],
      "source": []
    },
    {
      "cell_type": "markdown",
      "metadata": {
        "id": "tH8ntk3HD2PT"
      },
      "source": [
        "### Int"
      ]
    },
    {
      "cell_type": "markdown",
      "metadata": {
        "id": "p7vBK3CED2PU"
      },
      "source": [
        "Integers are numbers without decimals so things like age, # of shoes owned, # of bedrooms"
      ]
    },
    {
      "cell_type": "code",
      "execution_count": null,
      "metadata": {
        "id": "Ja10HC8aD2PU"
      },
      "outputs": [],
      "source": []
    },
    {
      "cell_type": "markdown",
      "metadata": {
        "id": "bng_-rJvD2PU"
      },
      "source": [
        "### Floats"
      ]
    },
    {
      "cell_type": "markdown",
      "metadata": {
        "id": "4c64TTyBD2PU"
      },
      "source": [
        "Floats are numbers with decimals so things like weight, # of kilometers, temperature"
      ]
    },
    {
      "cell_type": "code",
      "execution_count": null,
      "metadata": {
        "id": "4u-SQCqrD2PU"
      },
      "outputs": [],
      "source": []
    },
    {
      "cell_type": "markdown",
      "metadata": {
        "id": "3F-PUb9MD2PU"
      },
      "source": [
        "### Boolean"
      ]
    },
    {
      "cell_type": "markdown",
      "metadata": {
        "id": "ojegsQm4D2PU"
      },
      "source": [
        "Booleans represent one of two values: True or False.The values here are used for logical expressions."
      ]
    },
    {
      "cell_type": "code",
      "execution_count": null,
      "metadata": {
        "id": "ria_chK7D2PU"
      },
      "outputs": [],
      "source": []
    },
    {
      "cell_type": "markdown",
      "metadata": {
        "id": "ce77FNh9D2PU"
      },
      "source": [
        "### Typecasting"
      ]
    },
    {
      "cell_type": "markdown",
      "metadata": {
        "id": "hg9BYst6D2PU"
      },
      "source": [
        "Is the process of converting a literal of one type to another."
      ]
    },
    {
      "cell_type": "code",
      "execution_count": null,
      "metadata": {
        "id": "EYhpplW7D2PU"
      },
      "outputs": [],
      "source": []
    },
    {
      "cell_type": "markdown",
      "metadata": {
        "id": "ScPhfi4-D2PU"
      },
      "source": [
        "## Operands"
      ]
    },
    {
      "cell_type": "markdown",
      "metadata": {
        "id": "bn6-SNqGD2PU"
      },
      "source": [
        "### Arithmetic Expressions"
      ]
    },
    {
      "cell_type": "markdown",
      "metadata": {
        "id": "2ht7rIKtD2PU"
      },
      "source": [
        "<img src=\"https://www.devopsschool.com/blog/wp-content/uploads/2020/08/arithmetic-operation-in-python.png\">"
      ]
    },
    {
      "cell_type": "code",
      "execution_count": null,
      "metadata": {
        "id": "xjiv9mcVD2PU"
      },
      "outputs": [],
      "source": []
    },
    {
      "cell_type": "markdown",
      "metadata": {
        "id": "XNeUFccHD2PV"
      },
      "source": [
        "### Logical Expressions"
      ]
    },
    {
      "cell_type": "markdown",
      "metadata": {
        "id": "ChF6EE1OD2PV"
      },
      "source": [
        "<img src=\"https://www.devopsschool.com/blog/wp-content/uploads/2020/08/relational-operator-in-python.png\">"
      ]
    },
    {
      "cell_type": "markdown",
      "metadata": {
        "id": "PHv532atD2PV"
      },
      "source": [
        "<img src=\"https://1.bp.blogspot.com/-k27I3cNB6zE/XYTAZv3C07I/AAAAAAAAAy0/KobVTHHhCJUVpg7D19HhI4ddrh0IU5GKgCLcBGAsYHQ/s1600/LogicalOperators.png\">"
      ]
    },
    {
      "cell_type": "code",
      "execution_count": null,
      "metadata": {
        "id": "phOGIpVHD2PV"
      },
      "outputs": [],
      "source": []
    },
    {
      "cell_type": "markdown",
      "metadata": {
        "id": "LKEOdkL6D2PV"
      },
      "source": []
    },
    {
      "cell_type": "code",
      "execution_count": null,
      "metadata": {
        "id": "falbSA4jD2PV"
      },
      "outputs": [],
      "source": []
    },
    {
      "cell_type": "markdown",
      "metadata": {
        "id": "qkaEh5GLD2PV"
      },
      "source": [
        "### Variable Swapping"
      ]
    },
    {
      "cell_type": "code",
      "execution_count": null,
      "metadata": {
        "id": "YB-MIMukD2PV"
      },
      "outputs": [],
      "source": []
    },
    {
      "cell_type": "markdown",
      "metadata": {
        "id": "kOQB6QtGD2PV"
      },
      "source": [
        "\n",
        "\n",
        "```\n",
        "# This is formatted as code\n",
        "```\n",
        "\n",
        "# Graded Exercise (6 points total)"
      ]
    },
    {
      "cell_type": "markdown",
      "metadata": {
        "id": "YwgFvmnzEvGy"
      },
      "source": []
    },
    {
      "cell_type": "markdown",
      "metadata": {
        "id": "I0YRN_o-D2PV"
      },
      "source": [
        "1. Write a Python program which accepts the radius of a circle from the user and compute the area (2 points)."
      ]
    },
    {
      "cell_type": "code",
      "execution_count": 3,
      "metadata": {
        "id": "bxBdwkTAD2Pa"
      },
      "outputs": [
        {
          "name": "stdout",
          "output_type": "stream",
          "text": [
            "Area of the cirlce is 30.974846927333925\n"
          ]
        }
      ],
      "source": [
        "import math\n",
        "\n",
        "radius = float(input(\"Enter circle radius:\"))\n",
        "area = math.pi * pow(radius, 2)\n",
        "print(f\"Area of the cirlce is {area}\")"
      ]
    },
    {
      "cell_type": "markdown",
      "metadata": {
        "id": "iKxa4za8D2Pa"
      },
      "source": [
        "2. Write a Python program which accepts the user's first and last name and print them in reverse order with a space between them (2 points)."
      ]
    },
    {
      "cell_type": "code",
      "execution_count": 4,
      "metadata": {
        "id": "T4WBVNX8D2Pa"
      },
      "outputs": [
        {
          "name": "stdout",
          "output_type": "stream",
          "text": [
            "doe john\n"
          ]
        }
      ],
      "source": [
        "first_name = input(\"Enter first name: \")\n",
        "last_name = input(\"Enter last name: \")\n",
        "print(f\"{last_name} {first_name}\")"
      ]
    },
    {
      "cell_type": "markdown",
      "metadata": {
        "id": "E2zpDSF9D2Pa"
      },
      "source": [
        "3. Create a program that asks the user to enter their name and their age. Print out a message addressed to them that tells them the year that they will turn 100 years old (2 points)."
      ]
    },
    {
      "cell_type": "code",
      "execution_count": 5,
      "metadata": {
        "id": "Hiv83ObQD2Pa"
      },
      "outputs": [
        {
          "name": "stdout",
          "output_type": "stream",
          "text": [
            "john will turn 100 in the year 2104\n"
          ]
        }
      ],
      "source": [
        "name = input(\"Enter name: \")\n",
        "age = int(input(\"Enter age: \"))\n",
        "\n",
        "year_100 = 2024 + (100 - age)\n",
        "print(f\"{name} will turn 100 in the year {year_100}\")"
      ]
    }
  ],
  "metadata": {
    "colab": {
      "provenance": []
    },
    "kernelspec": {
      "display_name": "Python 3",
      "language": "python",
      "name": "python3"
    },
    "language_info": {
      "codemirror_mode": {
        "name": "ipython",
        "version": 3
      },
      "file_extension": ".py",
      "mimetype": "text/x-python",
      "name": "python",
      "nbconvert_exporter": "python",
      "pygments_lexer": "ipython3",
      "version": "3.12.4"
    }
  },
  "nbformat": 4,
  "nbformat_minor": 0
}
