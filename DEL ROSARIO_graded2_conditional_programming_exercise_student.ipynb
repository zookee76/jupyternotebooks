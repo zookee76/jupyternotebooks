{
  "cells": [
    {
      "cell_type": "markdown",
      "id": "ee290204",
      "metadata": {
        "id": "ee290204"
      },
      "source": [
        "In this notebook we will familiarize ourselves further with conditional statements and logical operators in Python. Use the images below as reference to the syntax in Python."
      ]
    },
    {
      "cell_type": "markdown",
      "id": "2131455c",
      "metadata": {},
      "source": [
        "DEL ROSARIO, JAVIER\n",
        "BSIT"
      ]
    },
    {
      "cell_type": "markdown",
      "id": "fcfa6ae4",
      "metadata": {
        "id": "fcfa6ae4"
      },
      "source": [
        "<img src=\"https://www.devopsschool.com/blog/wp-content/uploads/2020/08/arithmetic-operation-in-python.png\">"
      ]
    },
    {
      "cell_type": "markdown",
      "id": "9f5ee017",
      "metadata": {
        "id": "9f5ee017"
      },
      "source": [
        "<img src=\"https://www.devopsschool.com/blog/wp-content/uploads/2020/08/relational-operator-in-python.png\">"
      ]
    },
    {
      "cell_type": "markdown",
      "id": "a236e520",
      "metadata": {
        "id": "a236e520"
      },
      "source": [
        "<img src=\"https://1.bp.blogspot.com/-k27I3cNB6zE/XYTAZv3C07I/AAAAAAAAAy0/KobVTHHhCJUVpg7D19HhI4ddrh0IU5GKgCLcBGAsYHQ/s1600/LogicalOperators.png\">"
      ]
    },
    {
      "cell_type": "markdown",
      "id": "5196e4b1",
      "metadata": {
        "id": "5196e4b1"
      },
      "source": [
        "You are to create a guessing number game wherein the machine expects you to provide an input from 1 to 100.\n",
        "- If the input of the user is equal to the number to be guessed then the machine exclaims \"You Win!\"\n",
        "- If the input of the user is greater than the number to be guessed then the machine exclaims \"Too High!\"\n",
        "- If the input of the user is less than the number to be guessed then the machine exclaims \"Too Low!\""
      ]
    },
    {
      "cell_type": "code",
      "execution_count": null,
      "id": "ccaf85da",
      "metadata": {
        "id": "ccaf85da"
      },
      "outputs": [],
      "source": [
        "import random\n",
        "correctnumber = random.randint(1, 100)\n",
        "usernumber = int(input(\"Enter a number from 1 to 100: \"))\n",
        "if usernumber == correctnumber:\n",
        "    print(\"You Win!\")\n",
        "elif usernumber > correctnumber:\n",
        "    print(\"Too High!\\n\")\n",
        "    print(f\"You guessed {usernumber} while the Correct Number is {correctnumber}.\")\n",
        "else:\n",
        "    print(\"Too Low!\\n\")\n",
        "    print(f\"You guessed {usernumber} while the Correct Number is {correctnumber}.\")"
      ]
    },
    {
      "cell_type": "markdown",
      "id": "532e5df0",
      "metadata": {
        "id": "532e5df0"
      },
      "source": [
        "Write a Python program to convert temperatures to and from celsius, fahrenheit. <br>\n",
        "&deg; C = &deg;F - 32 * (5 / 9) <br>\n",
        "&deg; F = ((9 *&deg;C )/5) + 32\n",
        "\n",
        "The input of the user should be XXF or XXC wherein XX represents the number and F or C represents the current temperature metric being used."
      ]
    },
    {
      "cell_type": "code",
      "execution_count": 20,
      "id": "8146e070",
      "metadata": {
        "id": "8146e070"
      },
      "outputs": [
        {
          "name": "stdout",
          "output_type": "stream",
          "text": [
            "Temperature in Celsius: 27.77777777777778\n"
          ]
        }
      ],
      "source": [
        "import math\n",
        "usertemp = input(\"Enter a temperature using the format XXF/XXC wherein XX represents the number and F/C represents the temperature metric: \")\n",
        "tempinput = slice(0, -1)\n",
        "metricinput = slice(-1, None)\n",
        "\n",
        "temp_val = int(usertemp[tempinput])\n",
        "metric_val = usertemp[metricinput]\n",
        "\n",
        "if metric_val == 'C':\n",
        "    result = ((9 * temp_val) / 5) + 32\n",
        "    print(f\"Temperature in Fahrenheit: {result}\")\n",
        "elif metric_val == 'F':\n",
        "    result = (temp_val - 32) * (5/9)\n",
        "    print(f\"Temperature in Celsius: {result}\")\n",
        "else:\n",
        "    print(\"Invalid input\")\n"
      ]
    },
    {
      "cell_type": "markdown",
      "id": "dac5bb44",
      "metadata": {
        "id": "dac5bb44"
      },
      "source": [
        "You have been tasked to create a tax calculator based on the graduated tax table below. The program will accept the users annual salary and will output the tax of the user."
      ]
    },
    {
      "cell_type": "markdown",
      "id": "40d525d0",
      "metadata": {
        "id": "40d525d0"
      },
      "source": [
        "<img src=\"http://assets.rappler.com/612F469A6EA84F6BAE882D2B94A4B421/img/ABB83A969F6C4A63BD7A5AE957DAF456/personal-income-tax-20180112-01-1.jpg\">"
      ]
    },
    {
      "cell_type": "code",
      "execution_count": 24,
      "id": "adcf72a4",
      "metadata": {
        "id": "adcf72a4"
      },
      "outputs": [
        {
          "name": "stdout",
          "output_type": "stream",
          "text": [
            "Tax is 10000.0\n"
          ]
        }
      ],
      "source": [
        "import math\n",
        "user_salary = int(input(\"Enter Annual Salary: \"))\n",
        "\n",
        "if user_salary < 250000:\n",
        "    print(f\"Tax is 0%\")\n",
        "elif 400000 >= user_salary > 250000:\n",
        "    excess_amount = user_salary - 250000\n",
        "    tax_amount = excess_amount * 0.20\n",
        "    print(f\"Tax is {tax_amount}\")\n",
        "elif 800000 >= user_salary > 400000:\n",
        "    excess_amount = user_salary - 400000\n",
        "    tax_amount = (excess_amount * 0.25) + 30000\n",
        "    print(f\"Tax is {tax_amount}\")\n",
        "elif 2000000 >= user_salary > 800000:\n",
        "    excess_amount = user_salary - 800000\n",
        "    tax_amount = (excess_amount * 0.30) + 130000\n",
        "    print(f\"Tax is {tax_amount}\")\n",
        "elif 8000000 >= user_salary > 2000000:\n",
        "    excess_amount = user_salary - 2000000\n",
        "    tax_amount = (excess_amount * 0.32) + 490000\n",
        "    print(f\"Tax is {tax_amount}\")\n",
        "elif user_salary > 8000000:\n",
        "    excess_amount = user_salary - 8000000\n",
        "    tax_amount = (excess_amount * 0.35) + 2410000\n",
        "    print(f\"Tax is {tax_amount}\")\n"
      ]
    },
    {
      "cell_type": "markdown",
      "id": "ad6a5bb7",
      "metadata": {
        "id": "ad6a5bb7"
      },
      "source": [
        "Write a program that accepts the age of the user and output which generation a user is coming from.\n",
        "\n",
        "<img src=\"https://www.edigitalagency.com.au/wp-content/uploads/generations-years-names-chart-list.png\">"
      ]
    },
    {
      "cell_type": "code",
      "execution_count": 26,
      "id": "09b22f57",
      "metadata": {
        "id": "09b22f57"
      },
      "outputs": [
        {
          "name": "stdout",
          "output_type": "stream",
          "text": [
            "Your generation is Baby Boomers\n"
          ]
        }
      ],
      "source": [
        "from datetime import datetime\n",
        "\n",
        "user_age = int(input(\"Enter Age: \"))\n",
        "birth_year = 2024 - user_age\n",
        "\n",
        "if 2040 >= birth_year >= 2026:\n",
        "    print(\"Your generation is Beta\")\n",
        "elif 2025 >= birth_year >= 2011:\n",
        "    print(\"Your generation is Alpha\")\n",
        "elif 2010 >= birth_year >= 1997:\n",
        "    print(\"Your generation is Gen Z\")\n",
        "elif 1996 >= birth_year >= 1981:\n",
        "    print(\"Your generation is Millenials\")\n",
        "elif 1980 >= birth_year >= 1965:\n",
        "    print(\"Your generation is Gen X\")\n",
        "elif 1964 >= birth_year >= 1946:\n",
        "    print(\"Your generation is Baby Boomers\")\n",
        "elif 1945 >= birth_year >= 1928:\n",
        "    print(\"Your generation is Silent\")"
      ]
    },
    {
      "cell_type": "markdown",
      "id": "60bcfc20",
      "metadata": {
        "id": "60bcfc20"
      },
      "source": [
        "Write a program to find the largest number out of three numbers gotten from the user."
      ]
    },
    {
      "cell_type": "code",
      "execution_count": 27,
      "id": "c3d3136a",
      "metadata": {
        "id": "c3d3136a"
      },
      "outputs": [
        {
          "name": "stdout",
          "output_type": "stream",
          "text": [
            "The largest number is 5.0\n"
          ]
        }
      ],
      "source": [
        "input1 = float(input(\"Enter a number:\"))\n",
        "input2 = float(input(\"Enter a number:\"))\n",
        "input3 = float(input(\"Enter a number:\"))\n",
        "\n",
        "largest_input = max(input1, input2, input3)\n",
        "\n",
        "print(f\"The largest number is {largest_input}\")"
      ]
    }
  ],
  "metadata": {
    "colab": {
      "provenance": []
    },
    "kernelspec": {
      "display_name": "Python 3",
      "language": "python",
      "name": "python3"
    },
    "language_info": {
      "codemirror_mode": {
        "name": "ipython",
        "version": 3
      },
      "file_extension": ".py",
      "mimetype": "text/x-python",
      "name": "python",
      "nbconvert_exporter": "python",
      "pygments_lexer": "ipython3",
      "version": "3.12.2"
    }
  },
  "nbformat": 4,
  "nbformat_minor": 5
}
