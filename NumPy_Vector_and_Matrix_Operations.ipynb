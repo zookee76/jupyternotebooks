{
  "cells": [
    {
      "cell_type": "markdown",
      "metadata": {
        "id": "-F_797ZaelDl"
      },
      "source": [
        "# Remember Vectors and Matrices?\n",
        "In your previous math courses, you learned the concept of vectors and matrices. In DATA100, we would also be using vectors and matrices. However, instead of using pen and paper, we are going to use Python to define vectors and matrices and perform operations on them. In this Notebook, we will see how we can represent vectors and matrices using NumPy, a useful package for Python for mathematical operations.\n",
        "\n",
        "Our Notebooks in DATA100 are designed to be guided learning activities. To use them, simply go through the cells from top to bottom, following the directions along the way. If you find any unclear parts or mistakes in the Notebooks, email your instructor."
      ]
    },
    {
      "cell_type": "markdown",
      "metadata": {
        "id": "1bX9MJJselDm"
      },
      "source": [
        "## NumPy\n",
        "**NumPy** is a library for the Python programming language. It contains a large collection of mathematical functions, as well as convenient data structures to represent vectors and matrices. To use NumPy, we first need to import it."
      ]
    },
    {
      "cell_type": "code",
      "execution_count": 3,
      "metadata": {
        "id": "uqmoz5cLelDn"
      },
      "outputs": [],
      "source": [
        "import numpy as np"
      ]
    },
    {
      "cell_type": "markdown",
      "metadata": {
        "id": "zIS_pcUWelDo"
      },
      "source": [
        "Now, we can access the functionalities of NumPy as `np`."
      ]
    },
    {
      "cell_type": "markdown",
      "metadata": {
        "id": "GrlCPFvgelDo"
      },
      "source": [
        "## Creating Vectors and Matrices\n",
        "\n",
        "A vector is a list of numbers, which could be in a row or in a column. To create vectors in NumPy, we simply use the `np.array()` function. To create this vector:\n",
        "\\begin{equation*}\n",
        "\\begin{bmatrix}\n",
        "2 & 4 & 6\n",
        "\\end{bmatrix}\n",
        "\\end{equation*}"
      ]
    },
    {
      "cell_type": "code",
      "execution_count": null,
      "metadata": {
        "id": "S_Qa6b7UelDo"
      },
      "outputs": [],
      "source": [
        "v = np.array([2, 4, 6])\n",
        "v"
      ]
    },
    {
      "cell_type": "markdown",
      "metadata": {
        "id": "pyFpRWYuelDo"
      },
      "source": [
        "The vector above is a 1-dimensional vector. However, sometimes, you would want to define a row vector or a column vector. In this case, you can use a 2-dimensional array to initialize the vector."
      ]
    },
    {
      "cell_type": "markdown",
      "metadata": {
        "id": "whHEWecselDo"
      },
      "source": [
        "To create this row vector:\n",
        "\\begin{equation*}\n",
        "\\begin{bmatrix}\n",
        "2 & 4 & 6\n",
        "\\end{bmatrix}\n",
        "\\end{equation*}"
      ]
    },
    {
      "cell_type": "code",
      "execution_count": null,
      "metadata": {
        "id": "hbQRA3cjelDo"
      },
      "outputs": [],
      "source": [
        "v = np.array([[2, 4, 6]])\n",
        "v"
      ]
    },
    {
      "cell_type": "markdown",
      "metadata": {
        "id": "yoj23mpfelDo"
      },
      "source": [
        "To create this column vector:\n",
        "\\begin{equation*}\n",
        "\\begin{bmatrix}\n",
        "2 \\\\\n",
        "4 \\\\\n",
        "6\n",
        "\\end{bmatrix}\n",
        "\\end{equation*}"
      ]
    },
    {
      "cell_type": "code",
      "execution_count": null,
      "metadata": {
        "id": "b4TbKd8pelDo",
        "scrolled": true
      },
      "outputs": [],
      "source": [
        "v = np.array([[2],\n",
        "              [4],\n",
        "              [6]])\n",
        "v"
      ]
    },
    {
      "cell_type": "markdown",
      "metadata": {
        "id": "Qe9v__9AelDp"
      },
      "source": [
        "A matrix is a rectangular array arranged in rows and columns. To create matrices in NumPy, we also use the `np.array()` function."
      ]
    },
    {
      "cell_type": "markdown",
      "metadata": {
        "id": "dodf_x3belDp"
      },
      "source": [
        "To create this matrix:\n",
        "\\begin{equation*}\n",
        "\\begin{bmatrix}\n",
        "1 & 2  & 3  & 4  \\\\\n",
        "5 & 6  & 7  & 8  \\\\\n",
        "9 & 10 & 11 & 12\n",
        "\\end{bmatrix}\n",
        "\\end{equation*}"
      ]
    },
    {
      "cell_type": "code",
      "execution_count": null,
      "metadata": {
        "id": "9zi-vc20elDp",
        "scrolled": false
      },
      "outputs": [],
      "source": [
        "A = np.array([[1,  2,  3,  4],\n",
        "              [5,  6,  7,  8],\n",
        "              [9, 10, 11, 12]])\n",
        "A"
      ]
    },
    {
      "cell_type": "markdown",
      "metadata": {
        "id": "XRIUt2qqelDp"
      },
      "source": [
        "To create this matrix:\n",
        "\\begin{equation*}\n",
        "\\begin{bmatrix}\n",
        "10 &  20 \\\\\n",
        "30 &  40 \\\\\n",
        "50 &  60 \\\\\n",
        "70 &  80 \\\\\n",
        "90 & 100\n",
        "\\end{bmatrix}\n",
        "\\end{equation*}"
      ]
    },
    {
      "cell_type": "code",
      "execution_count": null,
      "metadata": {
        "id": "mozMxwEWelDp",
        "scrolled": false
      },
      "outputs": [],
      "source": [
        "A = np.array([[10,  20],\n",
        "              [30,  40],\n",
        "              [50,  60],\n",
        "              [70,  80],\n",
        "              [90, 100]])\n",
        "A"
      ]
    },
    {
      "cell_type": "markdown",
      "metadata": {
        "id": "wSx4TgJbelDp"
      },
      "source": [
        "You can use `np.zeroes()` to create a vector or matrix full of 0s. Note that the parameter of this function is a tuple representing the shape of the vector or matrix. In NumPy, shape just refers to the dimensions of the array."
      ]
    },
    {
      "cell_type": "code",
      "execution_count": null,
      "metadata": {
        "id": "Nq_M5rSZelDp"
      },
      "outputs": [],
      "source": [
        "np.zeros((3, 6))"
      ]
    },
    {
      "cell_type": "markdown",
      "metadata": {
        "id": "7uWiMJEXelDp"
      },
      "source": [
        "You can also use `np.ones()` to create a vector or matrix full of 1s."
      ]
    },
    {
      "cell_type": "code",
      "execution_count": null,
      "metadata": {
        "id": "aY443H10elDp",
        "scrolled": false
      },
      "outputs": [],
      "source": [
        "np.ones((7, 5))"
      ]
    },
    {
      "cell_type": "markdown",
      "metadata": {
        "id": "bPnO9W7kelDp"
      },
      "source": [
        "## Indexing\n",
        "\n",
        "You can index a specific element from the vector using array-style indexing. Note the use of negative indices as discussed in the previous Notebook. You may play around the indices here to experiment."
      ]
    },
    {
      "cell_type": "markdown",
      "metadata": {
        "id": "2cwDza9nelDp"
      },
      "source": [
        "Initialize vector `v` and matrix `A`."
      ]
    },
    {
      "cell_type": "code",
      "execution_count": 4,
      "metadata": {
        "id": "MYF7o_thelDp"
      },
      "outputs": [],
      "source": [
        "v = np.array([10, 20, 30, 40, 50, 60, 70, 80])\n",
        "A = np.array([[ 2,  4,  6],\n",
        "              [ 8, 10, 12],\n",
        "              [14, 16, 18]])"
      ]
    },
    {
      "cell_type": "markdown",
      "metadata": {
        "id": "Skd0sD4xelDp"
      },
      "source": [
        "Get the element in index 2 of vector `v`."
      ]
    },
    {
      "cell_type": "code",
      "execution_count": 5,
      "metadata": {
        "id": "M06CWRYCelDq",
        "scrolled": true
      },
      "outputs": [
        {
          "data": {
            "text/plain": [
              "30"
            ]
          },
          "execution_count": 5,
          "metadata": {},
          "output_type": "execute_result"
        }
      ],
      "source": [
        "v[2]"
      ]
    },
    {
      "cell_type": "markdown",
      "metadata": {
        "id": "07eBR7DKelDq"
      },
      "source": [
        "Get the element in the second to the last index of vector `v`."
      ]
    },
    {
      "cell_type": "code",
      "execution_count": null,
      "metadata": {
        "id": "FbNHy8jmelDq"
      },
      "outputs": [],
      "source": [
        "v[-2]"
      ]
    },
    {
      "cell_type": "markdown",
      "metadata": {
        "id": "FffwPvyRelDq"
      },
      "source": [
        "Get the element in row index 1 and column index 2 of matrix `A`."
      ]
    },
    {
      "cell_type": "code",
      "execution_count": 6,
      "metadata": {
        "id": "JRAyb41selDq",
        "scrolled": true
      },
      "outputs": [
        {
          "data": {
            "text/plain": [
              "12"
            ]
          },
          "execution_count": 6,
          "metadata": {},
          "output_type": "execute_result"
        }
      ],
      "source": [
        "A[1, 2]"
      ]
    },
    {
      "cell_type": "markdown",
      "metadata": {
        "id": "wSVAtYKgelDq"
      },
      "source": [
        "Get the element in the last row and last column of matrix `A`."
      ]
    },
    {
      "cell_type": "code",
      "execution_count": 7,
      "metadata": {
        "id": "tI39FPMeelDq",
        "scrolled": true
      },
      "outputs": [
        {
          "data": {
            "text/plain": [
              "18"
            ]
          },
          "execution_count": 7,
          "metadata": {},
          "output_type": "execute_result"
        }
      ],
      "source": [
        "A[-1, -1]"
      ]
    },
    {
      "cell_type": "markdown",
      "metadata": {
        "id": "mOwiuoo0elDq"
      },
      "source": [
        "You can select an entire row or column of a matrix by using slicing techniques on either dimension."
      ]
    },
    {
      "cell_type": "markdown",
      "metadata": {
        "id": "X97hkr6CelDq"
      },
      "source": [
        "Initialize matrix `A`."
      ]
    },
    {
      "cell_type": "code",
      "execution_count": null,
      "metadata": {
        "id": "-rNczqiNelDq"
      },
      "outputs": [],
      "source": [
        "A = np.array([[ 2,  4,  6],\n",
        "              [ 8, 10, 12],\n",
        "              [14, 16, 18]])"
      ]
    },
    {
      "cell_type": "markdown",
      "metadata": {
        "id": "5aqWOIl6elDr"
      },
      "source": [
        "Select the first row of matrix `A`."
      ]
    },
    {
      "cell_type": "code",
      "execution_count": null,
      "metadata": {
        "id": "zbfhL6gaelDr"
      },
      "outputs": [],
      "source": [
        "A[0, :]"
      ]
    },
    {
      "cell_type": "markdown",
      "metadata": {
        "id": "RXI5lqWeelDr"
      },
      "source": [
        "Select the second column of matrix `A`."
      ]
    },
    {
      "cell_type": "code",
      "execution_count": null,
      "metadata": {
        "id": "0k7TOwaFelDr",
        "scrolled": true
      },
      "outputs": [],
      "source": [
        "A[:, 1]"
      ]
    },
    {
      "cell_type": "markdown",
      "metadata": {
        "id": "timuLuCzelDr"
      },
      "source": [
        "Select the last column of matrix `A`."
      ]
    },
    {
      "cell_type": "code",
      "execution_count": null,
      "metadata": {
        "id": "3kLuNJQeelDv"
      },
      "outputs": [],
      "source": [
        "A[:, -1]"
      ]
    },
    {
      "cell_type": "markdown",
      "metadata": {
        "id": "4Du1GTXXelDv"
      },
      "source": [
        "And by extension, you can select any subset of a matrix by using slicing operations. The cell below has no output, but be sure to execute it because the next cells use the variables created here."
      ]
    },
    {
      "cell_type": "code",
      "execution_count": null,
      "metadata": {
        "id": "E9KtNEWjelDv"
      },
      "outputs": [],
      "source": [
        "A = np.array([[ 2,  4,  6,  8, 10],\n",
        "              [12, 14, 16, 18, 20],\n",
        "              [22, 24, 26, 28, 30],\n",
        "              [32, 34, 36, 38, 40],\n",
        "              [42, 44, 46, 48, 50]])"
      ]
    },
    {
      "cell_type": "markdown",
      "metadata": {
        "id": "hryvZzl3elDv"
      },
      "source": [
        "Select the first 3 rows of matrix `A`."
      ]
    },
    {
      "cell_type": "code",
      "execution_count": null,
      "metadata": {
        "id": "CoG-tKtjelDv",
        "scrolled": true
      },
      "outputs": [],
      "source": [
        "A[:3, :]"
      ]
    },
    {
      "cell_type": "markdown",
      "metadata": {
        "id": "GMoIV5gYelDv"
      },
      "source": [
        "Select the last 2 rows of matrix `A`."
      ]
    },
    {
      "cell_type": "code",
      "execution_count": null,
      "metadata": {
        "id": "8fU5CdD2elDv",
        "scrolled": true
      },
      "outputs": [],
      "source": [
        "A[-2:, :]"
      ]
    },
    {
      "cell_type": "markdown",
      "metadata": {
        "id": "IGAQjh2ZelDw"
      },
      "source": [
        "Select the last 3 columns of matrix `A`."
      ]
    },
    {
      "cell_type": "code",
      "execution_count": null,
      "metadata": {
        "id": "--ZptYFbelDw",
        "scrolled": true
      },
      "outputs": [],
      "source": [
        "A[:, -3:]"
      ]
    },
    {
      "cell_type": "markdown",
      "metadata": {
        "id": "5WNDBz7XelDw"
      },
      "source": [
        "Select the $3\\times3$ sub-matrix from the top left corner of matrix `A`."
      ]
    },
    {
      "cell_type": "code",
      "execution_count": null,
      "metadata": {
        "id": "YPWgqLlIelDw"
      },
      "outputs": [],
      "source": [
        "A[0:3, 0:3]"
      ]
    },
    {
      "cell_type": "markdown",
      "metadata": {
        "id": "9AsPrqLtelDw"
      },
      "source": [
        "**Practice!** Select the number 14 from the matrix `X`."
      ]
    },
    {
      "cell_type": "code",
      "execution_count": 10,
      "metadata": {
        "id": "IgC1sDTFelDw"
      },
      "outputs": [
        {
          "data": {
            "text/plain": [
              "14"
            ]
          },
          "execution_count": 10,
          "metadata": {},
          "output_type": "execute_result"
        }
      ],
      "source": [
        "X = np.array([[ 2,  4,  6],\n",
        "              [ 8, 10, 12],\n",
        "              [14, 16, 18]])\n",
        "\n",
        "# Write your code here\n",
        "\n",
        "X[2, 0]\n"
      ]
    },
    {
      "cell_type": "markdown",
      "metadata": {
        "id": "-Mmx8CHLelDw"
      },
      "source": [
        "**Practice!** Select the third row from the matrix `Y` (the one with 1s)."
      ]
    },
    {
      "cell_type": "code",
      "execution_count": 12,
      "metadata": {
        "id": "dDiaS1yCelDx"
      },
      "outputs": [
        {
          "data": {
            "text/plain": [
              "array([1, 1, 1, 1])"
            ]
          },
          "execution_count": 12,
          "metadata": {},
          "output_type": "execute_result"
        }
      ],
      "source": [
        "Y = np.array([[0, 0, 0, 0],\n",
        "              [0, 0, 0, 0],\n",
        "              [1, 1, 1, 1],\n",
        "              [0, 0, 0, 0],\n",
        "              [0, 0, 0, 0],\n",
        "              [0, 0, 0, 0]])\n",
        "\n",
        "# Write your code here\n",
        "\n",
        "Y[2, :]"
      ]
    },
    {
      "cell_type": "markdown",
      "metadata": {
        "id": "j-Wibrb0elDx"
      },
      "source": [
        "**Practice!** Select the first three columns from matrix `C`, but exclude the last row which only contains zeroes."
      ]
    },
    {
      "cell_type": "code",
      "execution_count": 16,
      "metadata": {
        "id": "oNjvBT3NelDx"
      },
      "outputs": [
        {
          "data": {
            "text/plain": [
              "array([[ 1,  3,  5],\n",
              "       [11, 13, 15],\n",
              "       [21, 23, 25]])"
            ]
          },
          "execution_count": 16,
          "metadata": {},
          "output_type": "execute_result"
        }
      ],
      "source": [
        "C = np.array([[ 1,  3,  5,  7,  9],\n",
        "              [11, 13, 15, 17, 19],\n",
        "              [21, 23, 25, 27, 29],\n",
        "              [ 0,  0,  0,  0,  0]])\n",
        "\n",
        "C[:-1, :3]"
      ]
    },
    {
      "cell_type": "markdown",
      "metadata": {
        "id": "tUz3L0XyelDx"
      },
      "source": [
        "## Shape\n",
        "\n",
        "To check the dimensions of a NumPy array, use the `np.shape()` function. In NumPy, shape simply means the dimension of the array, and is represented as a tuple."
      ]
    },
    {
      "cell_type": "markdown",
      "metadata": {
        "id": "71L49QenelDx"
      },
      "source": [
        "Vector with one axis."
      ]
    },
    {
      "cell_type": "code",
      "execution_count": 17,
      "metadata": {
        "id": "IO_SNb_celDy"
      },
      "outputs": [
        {
          "data": {
            "text/plain": [
              "(5,)"
            ]
          },
          "execution_count": 17,
          "metadata": {},
          "output_type": "execute_result"
        }
      ],
      "source": [
        "v = np.array([1, 2, 3, 4, 5])\n",
        "np.shape(v)"
      ]
    },
    {
      "cell_type": "markdown",
      "metadata": {
        "id": "QMfJ4j1delDy"
      },
      "source": [
        "Vector with two axes."
      ]
    },
    {
      "cell_type": "code",
      "execution_count": 18,
      "metadata": {
        "id": "k1VI38d5elDy",
        "scrolled": false
      },
      "outputs": [
        {
          "data": {
            "text/plain": [
              "(1, 5)"
            ]
          },
          "execution_count": 18,
          "metadata": {},
          "output_type": "execute_result"
        }
      ],
      "source": [
        "v = np.array([[1, 2, 3, 4, 5]])\n",
        "np.shape(v)"
      ]
    },
    {
      "cell_type": "markdown",
      "metadata": {
        "id": "j5ebYTH7elDy"
      },
      "source": [
        "Vector with two axes."
      ]
    },
    {
      "cell_type": "code",
      "execution_count": 19,
      "metadata": {
        "id": "r17rpZ-VelDy",
        "scrolled": true
      },
      "outputs": [
        {
          "data": {
            "text/plain": [
              "(3, 1)"
            ]
          },
          "execution_count": 19,
          "metadata": {},
          "output_type": "execute_result"
        }
      ],
      "source": [
        "v = np.array([[1],\n",
        "              [2],\n",
        "              [3]])\n",
        "np.shape(v)"
      ]
    },
    {
      "cell_type": "markdown",
      "metadata": {
        "id": "57lYbYh_elDy"
      },
      "source": [
        "Matrix with 2 rows and 3 columns."
      ]
    },
    {
      "cell_type": "code",
      "execution_count": 20,
      "metadata": {
        "id": "iCF-K8L_elDz"
      },
      "outputs": [
        {
          "data": {
            "text/plain": [
              "(2, 3)"
            ]
          },
          "execution_count": 20,
          "metadata": {},
          "output_type": "execute_result"
        }
      ],
      "source": [
        "A = np.array([[1, 2, 3],\n",
        "              [1, 2, 3]])\n",
        "np.shape(A)"
      ]
    },
    {
      "cell_type": "markdown",
      "metadata": {
        "id": "NSZMiBcMelDz"
      },
      "source": [
        "Matrix with 6 rows and 4 columns."
      ]
    },
    {
      "cell_type": "code",
      "execution_count": 21,
      "metadata": {
        "id": "jKds-fcqelDz"
      },
      "outputs": [
        {
          "data": {
            "text/plain": [
              "(6, 4)"
            ]
          },
          "execution_count": 21,
          "metadata": {},
          "output_type": "execute_result"
        }
      ],
      "source": [
        "A = np.array([[1, 2, 3, 4],\n",
        "              [1, 2, 3, 4],\n",
        "              [1, 2, 3, 4],\n",
        "              [1, 2, 3, 4],\n",
        "              [1, 2, 3, 4],\n",
        "              [1, 2, 3, 4]])\n",
        "np.shape(A)"
      ]
    },
    {
      "cell_type": "markdown",
      "metadata": {
        "id": "u1p7DrkBelD0"
      },
      "source": [
        "## Reshape\n",
        "The `reshape()` function allows you to change the dimensions of an existing vector or matrix by passing a tuple representing the new shape."
      ]
    },
    {
      "cell_type": "markdown",
      "metadata": {
        "id": "qUONgfoSelD0"
      },
      "source": [
        "Initialize vector `original`."
      ]
    },
    {
      "cell_type": "code",
      "execution_count": 22,
      "metadata": {
        "id": "RP5GgEvAelD0"
      },
      "outputs": [],
      "source": [
        "original = np.array([[1, 2, 3, 4, 5, 6, 7, 8, 9, 10, 11, 12, 13, 14, 15, 16]])"
      ]
    },
    {
      "cell_type": "markdown",
      "metadata": {
        "id": "tV7Rbf5YelD0"
      },
      "source": [
        "Reshape vector `original` to a matrix with 4 rows and 4 columns."
      ]
    },
    {
      "cell_type": "code",
      "execution_count": null,
      "metadata": {
        "id": "ZTLFnVFEelD1",
        "scrolled": true
      },
      "outputs": [],
      "source": [
        "original.reshape((4, 4))"
      ]
    },
    {
      "cell_type": "markdown",
      "metadata": {
        "id": "s-OB-30NelD1"
      },
      "source": [
        "Reshape vector `original` to a matrix with 2 rows and 8 columns."
      ]
    },
    {
      "cell_type": "code",
      "execution_count": null,
      "metadata": {
        "id": "ltHNbFIuelD1"
      },
      "outputs": [],
      "source": [
        "original.reshape((2, 8))"
      ]
    },
    {
      "cell_type": "markdown",
      "metadata": {
        "id": "Wx-8HeXJelD1"
      },
      "source": [
        "The example below will yield an error because the new shape is not compatible with the original shape."
      ]
    },
    {
      "cell_type": "code",
      "execution_count": null,
      "metadata": {
        "id": "42JN4vkGelD1",
        "scrolled": false
      },
      "outputs": [],
      "source": [
        "original.reshape((5, 3))"
      ]
    },
    {
      "cell_type": "markdown",
      "metadata": {
        "id": "v3UbjuQNelD1"
      },
      "source": [
        "You can reshape not only vectors, but also matrices."
      ]
    },
    {
      "cell_type": "markdown",
      "metadata": {
        "id": "hnACHtWMelD1"
      },
      "source": [
        "Initialize matrix `original`."
      ]
    },
    {
      "cell_type": "code",
      "execution_count": null,
      "metadata": {
        "id": "gxF88nZPelD1"
      },
      "outputs": [],
      "source": [
        "original = np.array([[1, 2, 3, 4],\n",
        "                     [5, 6, 7, 8]])"
      ]
    },
    {
      "cell_type": "markdown",
      "metadata": {
        "id": "SZz0NSI5elD1"
      },
      "source": [
        "Reshape matrix `original` to a vector with two axes."
      ]
    },
    {
      "cell_type": "code",
      "execution_count": null,
      "metadata": {
        "id": "FPse9w1NelD2"
      },
      "outputs": [],
      "source": [
        "original.reshape((1, 8))"
      ]
    },
    {
      "cell_type": "markdown",
      "metadata": {
        "id": "0GDyH8t0elD2"
      },
      "source": [
        "Reshape matrix `original` to a matrix with 4 rows and 2 columns."
      ]
    },
    {
      "cell_type": "code",
      "execution_count": null,
      "metadata": {
        "id": "PPwYOmPDelD2",
        "scrolled": true
      },
      "outputs": [],
      "source": [
        "original.reshape((4, 2))"
      ]
    },
    {
      "cell_type": "markdown",
      "metadata": {
        "id": "zSBTc2y-elD2"
      },
      "source": [
        "**Practice!** Reshape the vector `v` to come up with a matrix where the first (leftmost) column contains only 1s."
      ]
    },
    {
      "cell_type": "code",
      "execution_count": 24,
      "metadata": {
        "id": "HQt_-Ot5elD2"
      },
      "outputs": [
        {
          "data": {
            "text/plain": [
              "array([[1, 0, 0, 0],\n",
              "       [1, 0, 0, 0],\n",
              "       [1, 0, 0, 0]])"
            ]
          },
          "execution_count": 24,
          "metadata": {},
          "output_type": "execute_result"
        }
      ],
      "source": [
        "v = np.array([1, 0, 0, 0, 1, 0, 0, 0, 1, 0, 0, 0])\n",
        "\n",
        "# Write your code here\n",
        "v.reshape((3, 4))"
      ]
    },
    {
      "cell_type": "markdown",
      "metadata": {
        "id": "RBnYlUSkelD2"
      },
      "source": [
        "## Concatenating Vectors and Matrices\n",
        "\n",
        "The `np.concatenate()` function is a flexible function that can be used to combine mutliple vectors and matrices together. This comes in handy when you need to add a row or a column to an existing matrix."
      ]
    },
    {
      "cell_type": "code",
      "execution_count": 26,
      "metadata": {
        "id": "6_rxBlxYelD2"
      },
      "outputs": [
        {
          "data": {
            "text/plain": [
              "array([[1, 2],\n",
              "       [3, 4],\n",
              "       [5, 6]])"
            ]
          },
          "execution_count": 26,
          "metadata": {},
          "output_type": "execute_result"
        }
      ],
      "source": [
        "A = np.array([[1, 2],\n",
        "              [3, 4]])\n",
        "B = np.array([[5, 6]])\n",
        "\n",
        "np.concatenate((A, B))"
      ]
    },
    {
      "cell_type": "markdown",
      "metadata": {
        "id": "NFmTGWirelD2"
      },
      "source": [
        "If you specify an `axis` parameter and set it to 1, the concatenation will be performed on the column instead of the row."
      ]
    },
    {
      "cell_type": "code",
      "execution_count": 25,
      "metadata": {
        "id": "3XWQ6K_GelD2"
      },
      "outputs": [
        {
          "data": {
            "text/plain": [
              "array([[1, 2, 5],\n",
              "       [3, 4, 6]])"
            ]
          },
          "execution_count": 25,
          "metadata": {},
          "output_type": "execute_result"
        }
      ],
      "source": [
        "A = np.array([[1, 2],\n",
        "              [3, 4]])\n",
        "B = np.array([[5],\n",
        "              [6]])\n",
        "\n",
        "np.concatenate((A, B), axis=1)"
      ]
    },
    {
      "cell_type": "markdown",
      "metadata": {
        "id": "vJCb2aRgelD2"
      },
      "source": [
        "Note that for the `np.concatenate()` function to work, the number of dimensions should be the same. That is, you cannot concatenate a 2-dimensional matrix with a 1-dimensional vector."
      ]
    },
    {
      "cell_type": "markdown",
      "metadata": {
        "id": "M3_PqaTielD3"
      },
      "source": [
        "## Copying Vectors and Matrices\n",
        "\n",
        "If you want to make a copy of an existing vector or matrix, you can use the `np.copy()` function. Note that simply assigning the vector or matrix to another variable will not copy it. Instead, both variables will hold a reference to the same vector or matrix."
      ]
    },
    {
      "cell_type": "markdown",
      "metadata": {
        "id": "L9QpbjFielD3"
      },
      "source": [
        "If you simply assign to another variable, the vector is not copied."
      ]
    },
    {
      "cell_type": "code",
      "execution_count": 27,
      "metadata": {
        "id": "k4_2QuCLelD3"
      },
      "outputs": [
        {
          "name": "stdout",
          "output_type": "stream",
          "text": [
            "[1 9 3 4]\n",
            "[1 9 3 4]\n"
          ]
        }
      ],
      "source": [
        "A = np.array([1, 2, 3, 4])\n",
        "B = A\n",
        "\n",
        "A[1] = 9\n",
        "\n",
        "print(A)\n",
        "print(B)"
      ]
    },
    {
      "cell_type": "markdown",
      "metadata": {
        "id": "bbYSjoHmelD3"
      },
      "source": [
        "If you use the `np.copy()` function, then a copy of the vector or matrix is assigned to the variable."
      ]
    },
    {
      "cell_type": "code",
      "execution_count": 28,
      "metadata": {
        "id": "S__Br8bwelD3"
      },
      "outputs": [
        {
          "name": "stdout",
          "output_type": "stream",
          "text": [
            "[1 9 3 4]\n",
            "[1 2 3 4]\n"
          ]
        }
      ],
      "source": [
        "A = np.array([1, 2, 3, 4])\n",
        "B = np.copy(A)\n",
        "\n",
        "A[1] = 9\n",
        "\n",
        "print(A)\n",
        "print(B)"
      ]
    },
    {
      "cell_type": "markdown",
      "metadata": {
        "id": "CV4wTr0ielD3"
      },
      "source": [
        "## Element-Wise Operations\n",
        "\n",
        "You can perform element-wise operations on a vector / matrix and a scalar. This means applying the operation to each element of the vector or matrix."
      ]
    },
    {
      "cell_type": "markdown",
      "metadata": {
        "id": "XX1WX5EpelD3"
      },
      "source": [
        "Check if the value of each element inside the vector `v` is greater than scalar 3."
      ]
    },
    {
      "cell_type": "code",
      "execution_count": 29,
      "metadata": {
        "id": "rMeOrleZelD3"
      },
      "outputs": [
        {
          "data": {
            "text/plain": [
              "array([ True, False,  True,  True, False,  True,  True, False, False])"
            ]
          },
          "execution_count": 29,
          "metadata": {},
          "output_type": "execute_result"
        }
      ],
      "source": [
        "v = np.array([5, 1, 4, 6, 3, 7, 5, 3, 2])\n",
        "v > 3"
      ]
    },
    {
      "cell_type": "markdown",
      "metadata": {
        "id": "UgteX094elD3"
      },
      "source": [
        "Multiply the value of each element inside matrix `A` with scalar 2."
      ]
    },
    {
      "cell_type": "code",
      "execution_count": 30,
      "metadata": {
        "id": "zHvF6CznelD3",
        "scrolled": true
      },
      "outputs": [
        {
          "data": {
            "text/plain": [
              "array([[2, 4, 6, 8],\n",
              "       [8, 6, 4, 2]])"
            ]
          },
          "execution_count": 30,
          "metadata": {},
          "output_type": "execute_result"
        }
      ],
      "source": [
        "A = np.array([[1, 2, 3, 4],\n",
        "              [4, 3, 2, 1]])\n",
        "A * 2"
      ]
    },
    {
      "cell_type": "markdown",
      "metadata": {
        "id": "ANlpz3kielD3"
      },
      "source": [
        "You can also perform element wise operations on two vectors / matrices of the same shape. This means applying the operations on the corresponding elements of the two operands."
      ]
    },
    {
      "cell_type": "markdown",
      "metadata": {
        "id": "WHFCTXzFelD3"
      },
      "source": [
        "Check if the value inside vector `v` is equal to the corresponding value inside vector `w`."
      ]
    },
    {
      "cell_type": "code",
      "execution_count": 31,
      "metadata": {
        "id": "rbz_4OFZelD4"
      },
      "outputs": [
        {
          "data": {
            "text/plain": [
              "array([False,  True, False, False,  True, False,  True, False])"
            ]
          },
          "execution_count": 31,
          "metadata": {},
          "output_type": "execute_result"
        }
      ],
      "source": [
        "v = np.array([1, 2, 3, 4, 5, 6, 7, 8])\n",
        "w = np.array([3, 2, 4, 1, 5, 8, 7, 6])\n",
        "v == w"
      ]
    },
    {
      "cell_type": "markdown",
      "metadata": {
        "id": "1xn8fKsaelD4"
      },
      "source": [
        "Raise the value inside matrix `A` to the corresponding value in matrix `B`."
      ]
    },
    {
      "cell_type": "code",
      "execution_count": 32,
      "metadata": {
        "id": "kCIK_WgSelD4",
        "scrolled": false
      },
      "outputs": [
        {
          "data": {
            "text/plain": [
              "array([[ 2,  4],\n",
              "       [ 8, 16]])"
            ]
          },
          "execution_count": 32,
          "metadata": {},
          "output_type": "execute_result"
        }
      ],
      "source": [
        "A = np.array([[2, 2],\n",
        "              [2, 2]])\n",
        "B = np.array([[1, 2],\n",
        "              [3, 4]])\n",
        "A ** B"
      ]
    },
    {
      "cell_type": "markdown",
      "metadata": {
        "id": "tMPXJx6YelD4"
      },
      "source": [
        "**Practice!** Complete the definition for the matrix `beta` such that the result of adding `alpha` and `beta` is a matrix containing only zeros."
      ]
    },
    {
      "cell_type": "code",
      "execution_count": 33,
      "metadata": {
        "id": "MJzj4Y5telD4"
      },
      "outputs": [
        {
          "data": {
            "text/plain": [
              "array([[0, 0, 0],\n",
              "       [0, 0, 0],\n",
              "       [0, 0, 0]])"
            ]
          },
          "execution_count": 33,
          "metadata": {},
          "output_type": "execute_result"
        }
      ],
      "source": [
        "alpha = np.array([[3, 2, 1],\n",
        "                  [6, 5, 4],\n",
        "                  [9, 8, 7]])\n",
        "beta = np.array([[-3, -2, -1],\n",
        "                 [-6, -5, -4],\n",
        "                 [-9, -8, -7]])  # define the beta matrix here\n",
        "\n",
        "\n",
        "\n",
        "alpha + beta"
      ]
    },
    {
      "cell_type": "markdown",
      "metadata": {
        "id": "OM1ELzcbelD4"
      },
      "source": [
        "## Matrix Multiplication and Transpose\n",
        "\n",
        "There is an important operation in linear algebra called [matrix multiplication](https://www.mathsisfun.com/algebra/matrix-multiplying.html) (also known as dot product). In NumPy, we can perform matrix multiplication using the `np.dot()` function. Note that despite the term \"multiplication\", do not use the `*` operator to perform matrix multiplication because this will result in element-wise multiplication."
      ]
    },
    {
      "cell_type": "markdown",
      "metadata": {
        "id": "v5eguQUkelD4"
      },
      "source": [
        "Perform matrix operation between matrix `A` and matrix `B`."
      ]
    },
    {
      "cell_type": "code",
      "execution_count": 34,
      "metadata": {
        "id": "lVx7654-elD4"
      },
      "outputs": [
        {
          "data": {
            "text/plain": [
              "array([[ 58,  64],\n",
              "       [139, 154]])"
            ]
          },
          "execution_count": 34,
          "metadata": {},
          "output_type": "execute_result"
        }
      ],
      "source": [
        "A = np.array([[1, 2, 3],\n",
        "              [4, 5, 6]])\n",
        "B = np.array([[ 7,  8],\n",
        "              [ 9, 10],\n",
        "              [11, 12]])\n",
        "np.dot(A, B)"
      ]
    },
    {
      "cell_type": "markdown",
      "metadata": {
        "id": "7SjfZZ1AelD4"
      },
      "source": [
        "Alternatively, since Python 3.5+ you can use the `@` operator."
      ]
    },
    {
      "cell_type": "code",
      "execution_count": 35,
      "metadata": {
        "id": "2sm5hoN8elD4"
      },
      "outputs": [
        {
          "data": {
            "text/plain": [
              "array([[ 58,  64],\n",
              "       [139, 154]])"
            ]
          },
          "execution_count": 35,
          "metadata": {},
          "output_type": "execute_result"
        }
      ],
      "source": [
        "A = np.array([[1, 2, 3],\n",
        "              [4, 5, 6]])\n",
        "B = np.array([[ 7,  8],\n",
        "              [ 9, 10],\n",
        "              [11, 12]])\n",
        "A @ B"
      ]
    },
    {
      "cell_type": "markdown",
      "metadata": {
        "id": "XEl_GaHGelD4"
      },
      "source": [
        "Please remember from your math classes that:\n",
        "\n",
        "- Matrix multiplication is not commutative. Thus, the order of the operands matter.\n",
        "- For the operation to be defined, the number of columns of the first operand should match the number of rows of the second operand."
      ]
    },
    {
      "cell_type": "markdown",
      "metadata": {
        "id": "zvfpXu_yelD4"
      },
      "source": [
        "To perform a [transpose](https://www.mathsisfun.com/definitions/transpose-matrix-.html) operation on a matrix, we can use the `np.transpose()` function."
      ]
    },
    {
      "cell_type": "code",
      "execution_count": 36,
      "metadata": {
        "id": "LBq3aG_jelD5",
        "scrolled": false
      },
      "outputs": [
        {
          "data": {
            "text/plain": [
              "array([[1, 4],\n",
              "       [2, 5],\n",
              "       [3, 6]])"
            ]
          },
          "execution_count": 36,
          "metadata": {},
          "output_type": "execute_result"
        }
      ],
      "source": [
        "A = np.array([[1, 2, 3],\n",
        "              [4, 5, 6]])\n",
        "np.transpose(A)"
      ]
    },
    {
      "cell_type": "markdown",
      "metadata": {
        "id": "OwdSj2BBelD5"
      },
      "source": [
        "Alternatively, you may also use the `T` property to get the transposed matrix."
      ]
    },
    {
      "cell_type": "code",
      "execution_count": 37,
      "metadata": {
        "id": "sSvktrbyelD5"
      },
      "outputs": [
        {
          "data": {
            "text/plain": [
              "array([[1, 4],\n",
              "       [2, 5],\n",
              "       [3, 6]])"
            ]
          },
          "execution_count": 37,
          "metadata": {},
          "output_type": "execute_result"
        }
      ],
      "source": [
        "A = np.array([[1, 2, 3],\n",
        "              [4, 5, 6]])\n",
        "A.T"
      ]
    },
    {
      "cell_type": "markdown",
      "metadata": {
        "id": "x8S0BRJTelD5"
      },
      "source": [
        "**Practice!** If you take a row vector and perform matrix multiplication with its transpose, you will get the sum of the squares of each element in the original vector. Verify this by performing this operation on the given vector `v`. This should result into $1^2 + 2^2 + 3^2 + 4^2 = 30$."
      ]
    },
    {
      "cell_type": "code",
      "execution_count": 40,
      "metadata": {
        "id": "JSPV-IXgelD5"
      },
      "outputs": [
        {
          "name": "stdout",
          "output_type": "stream",
          "text": [
            "[[30]]\n"
          ]
        }
      ],
      "source": [
        "v = np.array([[1, 2, 3, 4]])\n",
        "\n",
        "# Write your code here\n",
        "\n",
        "result = np.dot(v, v.T)\n",
        "print(result)"
      ]
    },
    {
      "cell_type": "markdown",
      "metadata": {
        "id": "yW0chJ2BelD5"
      },
      "source": [
        "## Vectorizing Functions\n",
        "\n",
        "If you have a function that normally operates on a single data point, you can vectorize it so that it will be applied to every element of a vector or matrix. For example, let's say we have this function which counts the number of factors of an integer:"
      ]
    },
    {
      "cell_type": "code",
      "execution_count": 41,
      "metadata": {
        "id": "9aAATwzwelD5"
      },
      "outputs": [],
      "source": [
        "def count_factors(n):\n",
        "    count = 0\n",
        "    for i in range(1, n + 1):\n",
        "        if n % i == 0:\n",
        "            count = count + 1\n",
        "    return count"
      ]
    },
    {
      "cell_type": "markdown",
      "metadata": {
        "id": "8vuZ2BU4elD5"
      },
      "source": [
        "Then, let's say we have a vector `v`:"
      ]
    },
    {
      "cell_type": "code",
      "execution_count": 42,
      "metadata": {
        "id": "1XrUw7_zelD6"
      },
      "outputs": [],
      "source": [
        "v = np.array([[1, 2, 3, 4, 5, 6, 7, 8, 9, 10, 11, 12, 13, 14, 15]])"
      ]
    },
    {
      "cell_type": "markdown",
      "metadata": {
        "id": "MuTAKXVOelD6"
      },
      "source": [
        "Let's say we want to count the number of factors of each element in `v`. To do this, we can first vectorize the `count_factors` function using the `np.vectorize()` function."
      ]
    },
    {
      "cell_type": "code",
      "execution_count": 43,
      "metadata": {
        "id": "bKc_UynMelD6"
      },
      "outputs": [],
      "source": [
        "count_factors_vectorized = np.vectorize(count_factors)"
      ]
    },
    {
      "cell_type": "markdown",
      "metadata": {
        "id": "utJpli2uelD6"
      },
      "source": [
        "Then, we can pass the vector instead of a single value."
      ]
    },
    {
      "cell_type": "code",
      "execution_count": 44,
      "metadata": {
        "id": "YaM3Gvz_elD6",
        "scrolled": true
      },
      "outputs": [
        {
          "data": {
            "text/plain": [
              "array([[1, 2, 2, 3, 2, 4, 2, 4, 3, 4, 2, 6, 2, 4, 4]])"
            ]
          },
          "execution_count": 44,
          "metadata": {},
          "output_type": "execute_result"
        }
      ],
      "source": [
        "count_factors_vectorized(v)"
      ]
    },
    {
      "cell_type": "markdown",
      "metadata": {
        "id": "1E1y5SzlelD6"
      },
      "source": [
        "This will also work on matrices."
      ]
    },
    {
      "cell_type": "code",
      "execution_count": null,
      "metadata": {
        "id": "3XU10RQUelD6",
        "scrolled": true
      },
      "outputs": [],
      "source": [
        "A = np.array([[10, 20],\n",
        "              [30, 40]])\n",
        "count_factors_vectorized(A)"
      ]
    },
    {
      "cell_type": "markdown",
      "metadata": {
        "id": "hvCa_XAHelD6"
      },
      "source": [
        "**Practice!** Create a function that returns `True` if the integer is even or `False` if the integer is odd. Vectorize this function so that it could be applied to the vector `list`."
      ]
    },
    {
      "cell_type": "code",
      "execution_count": 49,
      "metadata": {
        "id": "1TD5mI1ZelD7"
      },
      "outputs": [
        {
          "data": {
            "text/plain": [
              "array([[False,  True, False,  True, False,  True, False,  True, False,\n",
              "         True]])"
            ]
          },
          "execution_count": 49,
          "metadata": {},
          "output_type": "execute_result"
        }
      ],
      "source": [
        "list = np.array([[1, 2, 3, 4, 5, 6, 7, 8, 9, 10]])\n",
        "\n",
        "def is_even(n):\n",
        "    # Write your code here\n",
        "    for i in range(1, n+1):\n",
        "        if n % 2 == 0:\n",
        "            return True\n",
        "        else:\n",
        "            return False\n",
        "\n",
        "\n",
        "# Vectorize the function\n",
        "\n",
        "is_even_vectorized = np.vectorize(is_even)\n",
        "\n",
        "# Apply it to the list vector\n",
        "\n",
        "is_even_vectorized(list)\n"
      ]
    },
    {
      "cell_type": "markdown",
      "metadata": {
        "id": "kAgtjd4selD7"
      },
      "source": [
        "## Basic Mathematical Operations in NumPy\n",
        "\n",
        "NumPy provides some common functions for mathematical operations."
      ]
    },
    {
      "cell_type": "markdown",
      "metadata": {
        "id": "3qRKYe6felD7"
      },
      "source": [
        "Initialize vector `v`."
      ]
    },
    {
      "cell_type": "code",
      "execution_count": 50,
      "metadata": {
        "id": "G8t_CWrvelD7"
      },
      "outputs": [],
      "source": [
        "v = np.array([12, 8, 20, 4, 16])"
      ]
    },
    {
      "cell_type": "markdown",
      "metadata": {
        "id": "B4uDfNuWelD7"
      },
      "source": [
        "Get the maximum value in vector `v`."
      ]
    },
    {
      "cell_type": "code",
      "execution_count": 51,
      "metadata": {
        "id": "E5Xi2ItFelD7"
      },
      "outputs": [
        {
          "data": {
            "text/plain": [
              "20"
            ]
          },
          "execution_count": 51,
          "metadata": {},
          "output_type": "execute_result"
        }
      ],
      "source": [
        "np.max(v)"
      ]
    },
    {
      "cell_type": "markdown",
      "metadata": {
        "id": "ljY3X1IEelD7"
      },
      "source": [
        "Get the minimum value in vector `v`."
      ]
    },
    {
      "cell_type": "code",
      "execution_count": 52,
      "metadata": {
        "id": "M_pdpOJ5elD7"
      },
      "outputs": [
        {
          "data": {
            "text/plain": [
              "4"
            ]
          },
          "execution_count": 52,
          "metadata": {},
          "output_type": "execute_result"
        }
      ],
      "source": [
        "np.min(v)"
      ]
    },
    {
      "cell_type": "markdown",
      "metadata": {
        "id": "NO5p1M41elD7"
      },
      "source": [
        "Get the sum of all values in vector `v`."
      ]
    },
    {
      "cell_type": "code",
      "execution_count": 53,
      "metadata": {
        "id": "FHQgn36oelD7",
        "scrolled": true
      },
      "outputs": [
        {
          "data": {
            "text/plain": [
              "60"
            ]
          },
          "execution_count": 53,
          "metadata": {},
          "output_type": "execute_result"
        }
      ],
      "source": [
        "np.sum(v)"
      ]
    },
    {
      "cell_type": "markdown",
      "metadata": {
        "id": "Us32Yj5velD7"
      },
      "source": [
        "If you have a matrix, you can specify the `axis` parameter to specify if the operations are to be performed per column (0) or per row (1)."
      ]
    },
    {
      "cell_type": "markdown",
      "metadata": {
        "id": "AG-GixUSelD8"
      },
      "source": [
        "Initialize matrix `A`."
      ]
    },
    {
      "cell_type": "code",
      "execution_count": 54,
      "metadata": {
        "id": "cpOPrHjmelD8"
      },
      "outputs": [],
      "source": [
        "A = np.array([[1, 2, 3],\n",
        "              [4, 5, 6],\n",
        "              [7, 8, 9]])"
      ]
    },
    {
      "cell_type": "markdown",
      "metadata": {
        "id": "t4AGS_DkelD8"
      },
      "source": [
        "Get the sum per column in matrix `A`."
      ]
    },
    {
      "cell_type": "code",
      "execution_count": 55,
      "metadata": {
        "id": "5XrWAorOelD8"
      },
      "outputs": [
        {
          "data": {
            "text/plain": [
              "array([12, 15, 18])"
            ]
          },
          "execution_count": 55,
          "metadata": {},
          "output_type": "execute_result"
        }
      ],
      "source": [
        "np.sum(A, axis=0)"
      ]
    },
    {
      "cell_type": "markdown",
      "metadata": {
        "id": "qjyrTJiMelD8"
      },
      "source": [
        "Get the sum per row in matrix `A`."
      ]
    },
    {
      "cell_type": "code",
      "execution_count": 56,
      "metadata": {
        "id": "gOQve0pYelD8"
      },
      "outputs": [
        {
          "data": {
            "text/plain": [
              "array([ 6, 15, 24])"
            ]
          },
          "execution_count": 56,
          "metadata": {},
          "output_type": "execute_result"
        }
      ],
      "source": [
        "np.sum(A, axis=1)"
      ]
    },
    {
      "cell_type": "markdown",
      "metadata": {
        "id": "petAJrFzelD8"
      },
      "source": [
        "Get the sum of all elements in matrix `A`."
      ]
    },
    {
      "cell_type": "code",
      "execution_count": 57,
      "metadata": {
        "id": "bkb60syyelD8"
      },
      "outputs": [
        {
          "data": {
            "text/plain": [
              "45"
            ]
          },
          "execution_count": 57,
          "metadata": {},
          "output_type": "execute_result"
        }
      ],
      "source": [
        "np.sum(A)"
      ]
    },
    {
      "cell_type": "markdown",
      "metadata": {
        "id": "HH5J8LlQelD8"
      },
      "source": [
        "**Practice!** Write code that adds a row to the matrix `grid` containing the highest value in each column. For example, given the matrix:\n",
        "\\begin{equation*}\n",
        "\\begin{bmatrix}\n",
        "2 & 3 & 1 & 6 \\\\\n",
        "4 & 9 & 2 & 7 \\\\\n",
        "3 & 3 & 5 & 1\n",
        "\\end{bmatrix}\n",
        "\\end{equation*}\n",
        "The resulting matrix should be:\n",
        "\\begin{equation*}\n",
        "\\begin{bmatrix}\n",
        "2 & 3 & 1 & 6 \\\\\n",
        "4 & 9 & 2 & 7 \\\\\n",
        "3 & 3 & 5 & 1 \\\\\n",
        "4 & 9 & 5 & 7\n",
        "\\end{bmatrix}\n",
        "\\end{equation*}\n",
        "\n",
        "**Note**: `max` returns a 1-dimensional vector, so might need to reshape it to a 2-dimensional row vector before you can concatenate it to the original matrix."
      ]
    },
    {
      "cell_type": "code",
      "execution_count": 66,
      "metadata": {
        "id": "brM0g8ggelD8",
        "scrolled": true
      },
      "outputs": [
        {
          "name": "stdout",
          "output_type": "stream",
          "text": [
            "[[2 3 1 6]\n",
            " [4 9 2 7]\n",
            " [3 3 5 1]\n",
            " [4 9 5 7]]\n",
            "[[4 9 5 7]]\n"
          ]
        }
      ],
      "source": [
        "grid = np.array([[2, 3, 1, 6],\n",
        "                 [4, 9, 2, 7],\n",
        "                 [3, 3, 5, 1]])\n",
        "\n",
        "# Write your code here\n",
        "\n",
        "max_values = np.max(grid, axis=0).reshape(1, -1)\n",
        "grid_with_max = np.concatenate((grid, max_values), axis=0)\n",
        "print(grid_with_max)\n",
        "\n",
        "print(max_values)\n"
      ]
    },
    {
      "cell_type": "markdown",
      "metadata": {
        "id": "V4jmfNyAelD8"
      },
      "source": [
        "## What's Next?"
      ]
    },
    {
      "cell_type": "markdown",
      "metadata": {
        "id": "ejKnCeYyelD9"
      },
      "source": [
        "This is just the tip of the iceberg for things that you can accomplish with NumPy. As we go through the succeeeding activities in DATA100, we will be covering more techniques and functionalities in NumPy. Furthermore, we encourage you not to limit yourselves with the examples presented in this Notebook, but to explore and try out stuff on your own."
      ]
    }
  ],
  "metadata": {
    "colab": {
      "provenance": []
    },
    "kernelspec": {
      "display_name": "Python 3",
      "language": "python",
      "name": "python3"
    },
    "language_info": {
      "codemirror_mode": {
        "name": "ipython",
        "version": 3
      },
      "file_extension": ".py",
      "mimetype": "text/x-python",
      "name": "python",
      "nbconvert_exporter": "python",
      "pygments_lexer": "ipython3",
      "version": "3.12.4"
    }
  },
  "nbformat": 4,
  "nbformat_minor": 0
}
