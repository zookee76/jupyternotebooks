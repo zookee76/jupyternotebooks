{
  "cells": [
    {
      "cell_type": "markdown",
      "metadata": {
        "id": "UOuEhwbknHLN"
      },
      "source": [
        "## Data Cleaning\n",
        "\n",
        "In this Notebook, we will be using a revised version of the [Pokemon Dataset](https://www.kaggle.com/mariotormo/complete-pokemon-dataset-updated-090420), purposefully dirtied for the purpose of performing data cleaning. Additionally, some columns were also omitted for this notebook.\n",
        "\n",
        "Our Notebooks in DATA100 are designed to be guided learning activities. To use them, simply go through the cells from top to bottom, following the directions along the way. If you find any unclear parts or mistakes in the Notebooks, email your instructor."
      ]
    },
    {
      "cell_type": "markdown",
      "metadata": {
        "id": "WKywY_VbnHLR"
      },
      "source": [
        "## Instructions\n",
        "* Read each cell and implement the TODOs sequentially. The markdown/text cells also contain instructions which you need to follow to get the whole notebook working.\n",
        "* Do not change the variable names unless the instructor allows you to.\n",
        "* You are expected to search how to some functions work on the Internet or via the docs.\n",
        "* The notebooks will undergo a 'Restart and Run All' command, so make sure that your code is working properly.\n",
        "* You are expected to understand the dataset loading and processing separately from this class.\n",
        "* You may not reproduce this notebook or share them to anyone."
      ]
    },
    {
      "cell_type": "markdown",
      "metadata": {
        "id": "wSu0al0lnHLS"
      },
      "source": [
        "## Import\n",
        "Import **numpy** and **pandas**.\n",
        "\n",
        "[**`pandas`**](https://pandas.pydata.org/pandas-docs/stable/index.html) is a software library for Python which provides data structures and data analysis tools."
      ]
    },
    {
      "cell_type": "code",
      "execution_count": 1,
      "metadata": {
        "id": "A0EXE-6UnHLU"
      },
      "outputs": [],
      "source": [
        "import numpy as np\n",
        "import pandas as pd"
      ]
    },
    {
      "cell_type": "markdown",
      "metadata": {
        "id": "n7viTbWknHLV"
      },
      "source": [
        "## The Dataset\n",
        "\n",
        "The Pokemon dataset contains 890 known pokemon until 8th Generation and its varieties.\n",
        "\n",
        "The dataset is provided to you as a `.csv` file. `.csv` means comma-separated values. You can open the file in Notepad to see how it is exactly formatted"
      ]
    },
    {
      "cell_type": "markdown",
      "metadata": {
        "id": "5-2r2-DdnHLW"
      },
      "source": [
        "If you view the `.csv` file in Excel, you can see that our dataset contains many **observations** (rows) across 48 **variables** (columns). An observation corresponds to a Pokemon (or a variant of it), and the variables correspond to the attributes of that Pokemon. We will describe what some of the columns mean as we go through this notebook."
      ]
    },
    {
      "cell_type": "markdown",
      "metadata": {
        "id": "xCK9-R54nHLW"
      },
      "source": [
        "## Reading the Dataset\n",
        "Our first step is to load the dataset using pandas. This will load the dataset into a pandas `DataFrame`. To load the dataset, we use the [`read_csv`](https://pandas.pydata.org/pandas-docs/stable/reference/api/pandas.read_csv.html) function. Note that you may need to change the path depending on the location of the file in your machine."
      ]
    },
    {
      "cell_type": "code",
      "execution_count": 2,
      "metadata": {
        "id": "h7OlLxBknHLX"
      },
      "outputs": [],
      "source": [
        "pokemon_df = pd.read_csv(\"pokedex.csv\")"
      ]
    },
    {
      "cell_type": "markdown",
      "metadata": {
        "id": "01yOT0CznHLX"
      },
      "source": [
        "Whenever we load a new dataset, it is generally a good idea to call the [`info`](https://pandas.pydata.org/pandas-docs/stable/reference/api/pandas.DataFrame.info.html) function, which displays general information about the dataset."
      ]
    },
    {
      "cell_type": "code",
      "execution_count": 5,
      "metadata": {
        "id": "MWWbbxH2nHLX"
      },
      "outputs": [
        {
          "name": "stdout",
          "output_type": "stream",
          "text": [
            "<class 'pandas.core.frame.DataFrame'>\n",
            "RangeIndex: 1028 entries, 0 to 1027\n",
            "Data columns (total 20 columns):\n",
            " #   Column            Non-Null Count  Dtype  \n",
            "---  ------            --------------  -----  \n",
            " 0   Unnamed: 0        1028 non-null   int64  \n",
            " 1   pokedex_number    1028 non-null   int64  \n",
            " 2   name              1028 non-null   object \n",
            " 3   generation        1028 non-null   int64  \n",
            " 4   status            1028 non-null   object \n",
            " 5   species           1028 non-null   object \n",
            " 6   type_number       1028 non-null   int64  \n",
            " 7   type_1            1028 non-null   object \n",
            " 8   type_2            542 non-null    object \n",
            " 9   height_m          1028 non-null   float64\n",
            " 10  weight_kg         1027 non-null   float64\n",
            " 11  abilities_number  1028 non-null   int64  \n",
            " 12  ability_1         1025 non-null   object \n",
            " 13  total_points      1028 non-null   int64  \n",
            " 14  hp                921 non-null    float64\n",
            " 15  attack            1026 non-null   float64\n",
            " 16  defense           842 non-null    float64\n",
            " 17  sp_attack         1025 non-null   float64\n",
            " 18  sp_defense        1027 non-null   float64\n",
            " 19  speed             1026 non-null   float64\n",
            "dtypes: float64(8), int64(6), object(6)\n",
            "memory usage: 160.8+ KB\n"
          ]
        },
        {
          "data": {
            "text/html": [
              "<div>\n",
              "<style scoped>\n",
              "    .dataframe tbody tr th:only-of-type {\n",
              "        vertical-align: middle;\n",
              "    }\n",
              "\n",
              "    .dataframe tbody tr th {\n",
              "        vertical-align: top;\n",
              "    }\n",
              "\n",
              "    .dataframe thead th {\n",
              "        text-align: right;\n",
              "    }\n",
              "</style>\n",
              "<table border=\"1\" class=\"dataframe\">\n",
              "  <thead>\n",
              "    <tr style=\"text-align: right;\">\n",
              "      <th></th>\n",
              "      <th>Unnamed: 0</th>\n",
              "      <th>pokedex_number</th>\n",
              "      <th>name</th>\n",
              "      <th>generation</th>\n",
              "      <th>status</th>\n",
              "      <th>species</th>\n",
              "      <th>type_number</th>\n",
              "      <th>type_1</th>\n",
              "      <th>type_2</th>\n",
              "      <th>height_m</th>\n",
              "      <th>weight_kg</th>\n",
              "      <th>abilities_number</th>\n",
              "      <th>ability_1</th>\n",
              "      <th>total_points</th>\n",
              "      <th>hp</th>\n",
              "      <th>attack</th>\n",
              "      <th>defense</th>\n",
              "      <th>sp_attack</th>\n",
              "      <th>sp_defense</th>\n",
              "      <th>speed</th>\n",
              "    </tr>\n",
              "  </thead>\n",
              "  <tbody>\n",
              "    <tr>\n",
              "      <th>0</th>\n",
              "      <td>0</td>\n",
              "      <td>1</td>\n",
              "      <td>Bulbasaur</td>\n",
              "      <td>1</td>\n",
              "      <td>Normal</td>\n",
              "      <td>Seed Pokémon</td>\n",
              "      <td>2</td>\n",
              "      <td>Grass</td>\n",
              "      <td>Poison</td>\n",
              "      <td>0.7</td>\n",
              "      <td>6.9</td>\n",
              "      <td>2</td>\n",
              "      <td>Overgrow</td>\n",
              "      <td>318</td>\n",
              "      <td>45.0</td>\n",
              "      <td>49.0</td>\n",
              "      <td>49.0</td>\n",
              "      <td>65.0</td>\n",
              "      <td>65.0</td>\n",
              "      <td>45.0</td>\n",
              "    </tr>\n",
              "    <tr>\n",
              "      <th>1</th>\n",
              "      <td>1</td>\n",
              "      <td>2</td>\n",
              "      <td>Ivysaur</td>\n",
              "      <td>1</td>\n",
              "      <td>Normal</td>\n",
              "      <td>Seed Pokémon</td>\n",
              "      <td>2</td>\n",
              "      <td>Grass</td>\n",
              "      <td>Poison</td>\n",
              "      <td>1.0</td>\n",
              "      <td>13.0</td>\n",
              "      <td>2</td>\n",
              "      <td>Overgrow</td>\n",
              "      <td>405</td>\n",
              "      <td>60.0</td>\n",
              "      <td>62.0</td>\n",
              "      <td>63.0</td>\n",
              "      <td>80.0</td>\n",
              "      <td>80.0</td>\n",
              "      <td>60.0</td>\n",
              "    </tr>\n",
              "    <tr>\n",
              "      <th>2</th>\n",
              "      <td>2</td>\n",
              "      <td>3</td>\n",
              "      <td>Venusaur</td>\n",
              "      <td>1</td>\n",
              "      <td>Normal</td>\n",
              "      <td>Seed Pokémon</td>\n",
              "      <td>2</td>\n",
              "      <td>Grass</td>\n",
              "      <td>Poison</td>\n",
              "      <td>2.0</td>\n",
              "      <td>100.0</td>\n",
              "      <td>2</td>\n",
              "      <td>Overgrow</td>\n",
              "      <td>525</td>\n",
              "      <td>80.0</td>\n",
              "      <td>82.0</td>\n",
              "      <td>83.0</td>\n",
              "      <td>100.0</td>\n",
              "      <td>100.0</td>\n",
              "      <td>80.0</td>\n",
              "    </tr>\n",
              "    <tr>\n",
              "      <th>3</th>\n",
              "      <td>3</td>\n",
              "      <td>3</td>\n",
              "      <td>Mega Venusaur</td>\n",
              "      <td>1</td>\n",
              "      <td>Normal</td>\n",
              "      <td>Seed Pokémon</td>\n",
              "      <td>2</td>\n",
              "      <td>Grass</td>\n",
              "      <td>Poison</td>\n",
              "      <td>2.4</td>\n",
              "      <td>155.5</td>\n",
              "      <td>1</td>\n",
              "      <td>Thick Fat</td>\n",
              "      <td>625</td>\n",
              "      <td>80.0</td>\n",
              "      <td>100.0</td>\n",
              "      <td>123.0</td>\n",
              "      <td>122.0</td>\n",
              "      <td>120.0</td>\n",
              "      <td>80.0</td>\n",
              "    </tr>\n",
              "    <tr>\n",
              "      <th>4</th>\n",
              "      <td>4</td>\n",
              "      <td>4</td>\n",
              "      <td>Charmander</td>\n",
              "      <td>1</td>\n",
              "      <td>Normal</td>\n",
              "      <td>Lizard Pokémon</td>\n",
              "      <td>1</td>\n",
              "      <td>Fire</td>\n",
              "      <td>NaN</td>\n",
              "      <td>0.6</td>\n",
              "      <td>8.5</td>\n",
              "      <td>2</td>\n",
              "      <td>Blaze</td>\n",
              "      <td>309</td>\n",
              "      <td>39.0</td>\n",
              "      <td>52.0</td>\n",
              "      <td>43.0</td>\n",
              "      <td>60.0</td>\n",
              "      <td>50.0</td>\n",
              "      <td>65.0</td>\n",
              "    </tr>\n",
              "    <tr>\n",
              "      <th>...</th>\n",
              "      <td>...</td>\n",
              "      <td>...</td>\n",
              "      <td>...</td>\n",
              "      <td>...</td>\n",
              "      <td>...</td>\n",
              "      <td>...</td>\n",
              "      <td>...</td>\n",
              "      <td>...</td>\n",
              "      <td>...</td>\n",
              "      <td>...</td>\n",
              "      <td>...</td>\n",
              "      <td>...</td>\n",
              "      <td>...</td>\n",
              "      <td>...</td>\n",
              "      <td>...</td>\n",
              "      <td>...</td>\n",
              "      <td>...</td>\n",
              "      <td>...</td>\n",
              "      <td>...</td>\n",
              "      <td>...</td>\n",
              "    </tr>\n",
              "    <tr>\n",
              "      <th>1023</th>\n",
              "      <td>1023</td>\n",
              "      <td>888</td>\n",
              "      <td>Zacian Hero of Many Battles</td>\n",
              "      <td>8</td>\n",
              "      <td>Legendary</td>\n",
              "      <td>Warrior Pokémon</td>\n",
              "      <td>1</td>\n",
              "      <td>Fairy</td>\n",
              "      <td>NaN</td>\n",
              "      <td>2.8</td>\n",
              "      <td>110.0</td>\n",
              "      <td>1</td>\n",
              "      <td>Intrepid Sword</td>\n",
              "      <td>670</td>\n",
              "      <td>92.0</td>\n",
              "      <td>130.0</td>\n",
              "      <td>115.0</td>\n",
              "      <td>80.0</td>\n",
              "      <td>115.0</td>\n",
              "      <td>138.0</td>\n",
              "    </tr>\n",
              "    <tr>\n",
              "      <th>1024</th>\n",
              "      <td>1024</td>\n",
              "      <td>889</td>\n",
              "      <td>Zamazenta Crowned Shield</td>\n",
              "      <td>8</td>\n",
              "      <td>Legendary</td>\n",
              "      <td>Warrior Pokémon</td>\n",
              "      <td>2</td>\n",
              "      <td>Fighting</td>\n",
              "      <td>Steel</td>\n",
              "      <td>2.9</td>\n",
              "      <td>785.0</td>\n",
              "      <td>1</td>\n",
              "      <td>Dauntless Shield</td>\n",
              "      <td>720</td>\n",
              "      <td>92.0</td>\n",
              "      <td>130.0</td>\n",
              "      <td>145.0</td>\n",
              "      <td>80.0</td>\n",
              "      <td>145.0</td>\n",
              "      <td>128.0</td>\n",
              "    </tr>\n",
              "    <tr>\n",
              "      <th>1025</th>\n",
              "      <td>1025</td>\n",
              "      <td>889</td>\n",
              "      <td>Zamazenta Hero of Many Battles</td>\n",
              "      <td>8</td>\n",
              "      <td>Legendary</td>\n",
              "      <td>Warrior Pokémon</td>\n",
              "      <td>1</td>\n",
              "      <td>Fighting</td>\n",
              "      <td>NaN</td>\n",
              "      <td>2.9</td>\n",
              "      <td>210.0</td>\n",
              "      <td>1</td>\n",
              "      <td>Dauntless Shield</td>\n",
              "      <td>670</td>\n",
              "      <td>92.0</td>\n",
              "      <td>130.0</td>\n",
              "      <td>115.0</td>\n",
              "      <td>80.0</td>\n",
              "      <td>115.0</td>\n",
              "      <td>138.0</td>\n",
              "    </tr>\n",
              "    <tr>\n",
              "      <th>1026</th>\n",
              "      <td>1026</td>\n",
              "      <td>890</td>\n",
              "      <td>Eternatus</td>\n",
              "      <td>8</td>\n",
              "      <td>Legendary</td>\n",
              "      <td>Gigantic Pokémon</td>\n",
              "      <td>2</td>\n",
              "      <td>Poison</td>\n",
              "      <td>Dragon</td>\n",
              "      <td>20.0</td>\n",
              "      <td>950.0</td>\n",
              "      <td>1</td>\n",
              "      <td>Pressure</td>\n",
              "      <td>690</td>\n",
              "      <td>140.0</td>\n",
              "      <td>85.0</td>\n",
              "      <td>95.0</td>\n",
              "      <td>145.0</td>\n",
              "      <td>95.0</td>\n",
              "      <td>130.0</td>\n",
              "    </tr>\n",
              "    <tr>\n",
              "      <th>1027</th>\n",
              "      <td>1027</td>\n",
              "      <td>890</td>\n",
              "      <td>Eternatus Eternamax</td>\n",
              "      <td>8</td>\n",
              "      <td>Legendary</td>\n",
              "      <td>Gigantic Pokémon</td>\n",
              "      <td>2</td>\n",
              "      <td>Poison</td>\n",
              "      <td>Dragon</td>\n",
              "      <td>100.0</td>\n",
              "      <td>NaN</td>\n",
              "      <td>0</td>\n",
              "      <td>NaN</td>\n",
              "      <td>1125</td>\n",
              "      <td>255.0</td>\n",
              "      <td>115.0</td>\n",
              "      <td>250.0</td>\n",
              "      <td>125.0</td>\n",
              "      <td>250.0</td>\n",
              "      <td>130.0</td>\n",
              "    </tr>\n",
              "  </tbody>\n",
              "</table>\n",
              "<p>1028 rows × 20 columns</p>\n",
              "</div>"
            ],
            "text/plain": [
              "      Unnamed: 0  pokedex_number                            name  generation  \\\n",
              "0              0               1                       Bulbasaur           1   \n",
              "1              1               2                         Ivysaur           1   \n",
              "2              2               3                        Venusaur           1   \n",
              "3              3               3                   Mega Venusaur           1   \n",
              "4              4               4                      Charmander           1   \n",
              "...          ...             ...                             ...         ...   \n",
              "1023        1023             888     Zacian Hero of Many Battles           8   \n",
              "1024        1024             889        Zamazenta Crowned Shield           8   \n",
              "1025        1025             889  Zamazenta Hero of Many Battles           8   \n",
              "1026        1026             890                       Eternatus           8   \n",
              "1027        1027             890             Eternatus Eternamax           8   \n",
              "\n",
              "         status           species  type_number    type_1  type_2  height_m  \\\n",
              "0        Normal      Seed Pokémon            2     Grass  Poison       0.7   \n",
              "1        Normal      Seed Pokémon            2     Grass  Poison       1.0   \n",
              "2        Normal      Seed Pokémon            2     Grass  Poison       2.0   \n",
              "3        Normal      Seed Pokémon            2     Grass  Poison       2.4   \n",
              "4        Normal    Lizard Pokémon            1      Fire     NaN       0.6   \n",
              "...         ...               ...          ...       ...     ...       ...   \n",
              "1023  Legendary   Warrior Pokémon            1     Fairy     NaN       2.8   \n",
              "1024  Legendary   Warrior Pokémon            2  Fighting   Steel       2.9   \n",
              "1025  Legendary   Warrior Pokémon            1  Fighting     NaN       2.9   \n",
              "1026  Legendary  Gigantic Pokémon            2    Poison  Dragon      20.0   \n",
              "1027  Legendary  Gigantic Pokémon            2    Poison  Dragon     100.0   \n",
              "\n",
              "      weight_kg  abilities_number         ability_1  total_points     hp  \\\n",
              "0           6.9                 2          Overgrow           318   45.0   \n",
              "1          13.0                 2          Overgrow           405   60.0   \n",
              "2         100.0                 2          Overgrow           525   80.0   \n",
              "3         155.5                 1         Thick Fat           625   80.0   \n",
              "4           8.5                 2             Blaze           309   39.0   \n",
              "...         ...               ...               ...           ...    ...   \n",
              "1023      110.0                 1    Intrepid Sword           670   92.0   \n",
              "1024      785.0                 1  Dauntless Shield           720   92.0   \n",
              "1025      210.0                 1  Dauntless Shield           670   92.0   \n",
              "1026      950.0                 1          Pressure           690  140.0   \n",
              "1027        NaN                 0               NaN          1125  255.0   \n",
              "\n",
              "      attack  defense  sp_attack  sp_defense  speed  \n",
              "0       49.0     49.0       65.0        65.0   45.0  \n",
              "1       62.0     63.0       80.0        80.0   60.0  \n",
              "2       82.0     83.0      100.0       100.0   80.0  \n",
              "3      100.0    123.0      122.0       120.0   80.0  \n",
              "4       52.0     43.0       60.0        50.0   65.0  \n",
              "...      ...      ...        ...         ...    ...  \n",
              "1023   130.0    115.0       80.0       115.0  138.0  \n",
              "1024   130.0    145.0       80.0       145.0  128.0  \n",
              "1025   130.0    115.0       80.0       115.0  138.0  \n",
              "1026    85.0     95.0      145.0        95.0  130.0  \n",
              "1027   115.0    250.0      125.0       250.0  130.0  \n",
              "\n",
              "[1028 rows x 20 columns]"
            ]
          },
          "execution_count": 5,
          "metadata": {},
          "output_type": "execute_result"
        }
      ],
      "source": [
        "pokemon_df.info()\n",
        "\n",
        "pokemon_df"
      ]
    },
    {
      "cell_type": "markdown",
      "metadata": {
        "id": "-VMUoCb2nHLX"
      },
      "source": [
        "## Cleaning the Dataset\n",
        "Before we can start exploring our dataset, we have to clean it first in case there are inconsistencies that may incur problems in analysis.\n",
        "\n",
        "Throughout the notebook, we will look at certain scenarios and see whether we should clean the relevant variables or not.\n",
        "\n",
        "*We won't actually perform the analysis for this notebook. Exploratory Data Analysis will be discussed in the next notebook.*"
      ]
    },
    {
      "cell_type": "markdown",
      "metadata": {
        "id": "1RNw3d34nHLY"
      },
      "source": [
        "## Scenario:\n",
        "\n",
        "Let's say that we want to see **the distribution of the pokemons' statuses for a given generation**. For this, we would use the variables:\n",
        "- **`generation`**: numbered generation which the Pokemon was first introduced\n",
        "- **`status`**: denotes if the Pokemon is normal, sub legendary, legendary or mythical. (We can think of this as the Pokemon's group)\n",
        "\n",
        "Thus, we should inspect these columns and see if these need cleaning."
      ]
    },
    {
      "cell_type": "markdown",
      "metadata": {
        "id": "9dcCiNnBnHLY"
      },
      "source": [
        "### `generation` variable\n",
        "The pokemon series has 8 generations as of date, with the newest generation being Pokemon Sword and Shield. As such, we can expect that the possible values for the `generation` column are the whole numbers 1 to 8.\n",
        "Use the [`unique`](https://pandas.pydata.org/pandas-docs/stable/reference/api/pandas.Series.unique.html) function to list all unique values for this variable."
      ]
    },
    {
      "cell_type": "code",
      "execution_count": 6,
      "metadata": {
        "id": "lm1eZOO2nHLY"
      },
      "outputs": [
        {
          "data": {
            "text/plain": [
              "array([1, 2, 3, 4, 5, 6, 7, 8])"
            ]
          },
          "execution_count": 6,
          "metadata": {},
          "output_type": "execute_result"
        }
      ],
      "source": [
        "pokemon_df['generation'].unique()"
      ]
    },
    {
      "cell_type": "markdown",
      "metadata": {
        "id": "TQZjf75OnHLY"
      },
      "source": [
        "We can see here that the unique values for the `generation` variable are the numbers 1 to 8--all of which are valid."
      ]
    },
    {
      "cell_type": "markdown",
      "metadata": {
        "id": "LjJDBBWNnHLY"
      },
      "source": [
        "### `status` variable\n",
        "As described earlier, the valid values for the `status` variable are either 'Normal', 'Sub Legendary', 'Legendary', or 'Mythical'. List all the unique values for the `status` variable."
      ]
    },
    {
      "cell_type": "code",
      "execution_count": 7,
      "metadata": {
        "id": "MMxePmfznHLY"
      },
      "outputs": [
        {
          "data": {
            "text/plain": [
              "array(['Normal', 'Sub Legendary', 'Legendary', 'Mythical'], dtype=object)"
            ]
          },
          "execution_count": 7,
          "metadata": {},
          "output_type": "execute_result"
        }
      ],
      "source": [
        "# Write your code here\n",
        "pokemon_df.status.unique()"
      ]
    },
    {
      "cell_type": "markdown",
      "metadata": {
        "id": "oxdX2-ifnHLY"
      },
      "source": [
        "**Checkpoint #1:** Do we need to perform data cleaning for the `status` variable? Explain."
      ]
    },
    {
      "cell_type": "markdown",
      "metadata": {},
      "source": [
        "no because they are all unique values with their own label"
      ]
    },
    {
      "cell_type": "markdown",
      "metadata": {
        "id": "CywWzUkanHLZ"
      },
      "source": [
        "## Scenario:\n",
        "Let's say that we want to explore the different [types](https://bulbapedia.bulbagarden.net/wiki/Type) of Pokemon. You can think of 'types' as 'elements' in the Pokemon Universe. Generally, a pokemon can have up to two types: a primary type and an optional secondary type.\n",
        "\n",
        "For this, we would probably use the following columns:\n",
        "- **`type_1`**: primary type of the Pokemon\n",
        "- **`type_2`**: secondary type of the Pokemon (if any)\n",
        "\n",
        "Thus, we should inspect these and see if these columns need cleaning."
      ]
    },
    {
      "cell_type": "markdown",
      "metadata": {
        "id": "yx_DdDJTnHLZ"
      },
      "source": [
        "### `type_1` variable\n",
        "The `type_1` variable is the primary type of the Pokemon. Let's list all the unique values for the `type_1` variable."
      ]
    },
    {
      "cell_type": "code",
      "execution_count": 8,
      "metadata": {
        "id": "NdAtkWmRnHLZ"
      },
      "outputs": [
        {
          "data": {
            "text/plain": [
              "array(['Grass', 'Fire', 'water', 'Bug', 'normal', 'Dark', 'Normal',\n",
              "       'Poison', 'Electric', 'Grund', 'Ice', 'Fairy', 'Ground', 'Steel',\n",
              "       'Water', 'Fighting', 'Psychic', 'Rock', 'Ghost', 'Dragon', 'watr',\n",
              "       'Flying'], dtype=object)"
            ]
          },
          "execution_count": 8,
          "metadata": {},
          "output_type": "execute_result"
        }
      ],
      "source": [
        "pokemon_df['type_1'].unique()"
      ]
    },
    {
      "cell_type": "markdown",
      "metadata": {
        "id": "SBUkrUtwnHLZ"
      },
      "source": [
        "Currently, there are 18 unique types in the main Pokemon franchise. You may refer to this [page](https://bulbapedia.bulbagarden.net/wiki/Type) to see the valid list of types in the main pokemon franchise Looking at the results above, we can see that there are multiple representations of the same type (`Water`, `water` for the Water type; `normal`, `Normal` for the Normal type) and there are also some values that have spelling/encoding errors (`watr` - a typo of the Water type; `Grund` - a typo of the Ground type).\n",
        "\n",
        "Generally speaking, if you are unsure on what the correct representation is, or there isn't really a *correct* representation per se, we can use the most prevalent representation in the variable. To find out the number of observations per unique value, we use the [`value_counts`](https://pandas.pydata.org/pandas-docs/stable/reference/api/pandas.Series.value_counts.html) function. This function returns the count of each unique value in the Series."
      ]
    },
    {
      "cell_type": "code",
      "execution_count": 9,
      "metadata": {
        "id": "97eUIVjxnHLZ"
      },
      "outputs": [
        {
          "data": {
            "text/plain": [
              "type_1\n",
              "Water       112\n",
              "Grass        91\n",
              "Normal       89\n",
              "Bug          81\n",
              "Psychic      76\n",
              "Fire         65\n",
              "Electric     61\n",
              "Rock         60\n",
              "Dark         44\n",
              "Ghost        41\n",
              "Dragon       40\n",
              "Poison       39\n",
              "Fighting     38\n",
              "Ice          36\n",
              "Steel        36\n",
              "Ground       31\n",
              "normal       26\n",
              "Fairy        22\n",
              "water        15\n",
              "Grund        10\n",
              "Flying        8\n",
              "watr          7\n",
              "Name: count, dtype: int64"
            ]
          },
          "execution_count": 9,
          "metadata": {},
          "output_type": "execute_result"
        }
      ],
      "source": [
        "pokemon_df['type_1'].value_counts()"
      ]
    },
    {
      "cell_type": "markdown",
      "metadata": {
        "id": "LR9EpDm_nHLZ"
      },
      "source": [
        "From the results above, we can see that `water` and `normal` are less prevalent than `Water` and `Normal`. Thus, it might be more preferrable to use `Water` and `Normal` to represent the Water and Normal types, respectively."
      ]
    },
    {
      "cell_type": "markdown",
      "metadata": {
        "id": "2dyDCqu2nHLZ"
      },
      "source": [
        "The succeeding cells shows two ways we can use to address multiple representations and spelling errors. But before that, let's make two copies of `pokemon_df` by using the [`copy`](https://pandas.pydata.org/pandas-docs/stable/reference/api/pandas.DataFrame.copy.html) function, just to demonstrate that the two approaches will produce the same result."
      ]
    },
    {
      "cell_type": "code",
      "execution_count": 10,
      "metadata": {
        "id": "uMz-ruJnnHLa"
      },
      "outputs": [],
      "source": [
        "pokemon_df1 = pokemon_df.copy()\n",
        "pokemon_df2 = pokemon_df.copy()"
      ]
    },
    {
      "cell_type": "markdown",
      "metadata": {
        "id": "x60zO-A0nHLa"
      },
      "source": [
        "One way to address it is to use the [`map`](https://pandas.pydata.org/pandas-docs/stable/reference/api/pandas.Series.map.html) function to change the values of the other representations and spelling errors. **Note that values which are not mapped in the dictionary parameter will be mapped to [`NaN`](https://numpy.org/doc/stable/reference/constants.html#numpy.NAN) (Not a Number).** As such, we should still include the correct values in the dictionary."
      ]
    },
    {
      "cell_type": "code",
      "execution_count": 12,
      "metadata": {
        "id": "eWPZg7CAnHLa"
      },
      "outputs": [],
      "source": [
        "pokemon_df1['type_1'] = pokemon_df1['type_1'].map({'water': 'Water', 'normal': 'Normal',\n",
        "                                                   'watr': 'Water', 'Grund': 'Ground',\n",
        "                                                   'Water': 'Water', 'Grass': 'Grass', 'Normal': 'Normal', 'Bug': 'Bug', 'Psychic': 'Psychic', 'Fire': 'Fire',\n",
        "                                                   'Electric': 'Electric', 'Rock': 'Rock', 'Dark': 'Dark', 'Ground': 'Ground', 'Ghost': 'Ghost', 'Dragon': 'Dragon',\n",
        "                                                   'Poison': 'Poison', 'Fighting': 'Fighting', 'Steel': 'Steel', 'Ice': 'Ice', 'Fairy': 'Fairy', 'Flying': 'Flying'})"
      ]
    },
    {
      "cell_type": "markdown",
      "metadata": {
        "id": "lj9E4A-0nHLa"
      },
      "source": [
        "To check if the values were mapped correctly, we can confirm the counts through the `value_counts` function."
      ]
    },
    {
      "cell_type": "code",
      "execution_count": 13,
      "metadata": {
        "id": "ZUYXVOPEnHLa"
      },
      "outputs": [
        {
          "data": {
            "text/plain": [
              "type_1\n",
              "Water       134\n",
              "Normal      115\n",
              "Grass        91\n",
              "Bug          81\n",
              "Psychic      76\n",
              "Fire         65\n",
              "Electric     61\n",
              "Rock         60\n",
              "Dark         44\n",
              "Ground       41\n",
              "Ghost        41\n",
              "Dragon       40\n",
              "Poison       39\n",
              "Fighting     38\n",
              "Ice          36\n",
              "Steel        36\n",
              "Fairy        22\n",
              "Flying        8\n",
              "Name: count, dtype: int64"
            ]
          },
          "execution_count": 13,
          "metadata": {},
          "output_type": "execute_result"
        }
      ],
      "source": [
        "pokemon_df1['type_1'].value_counts()"
      ]
    },
    {
      "cell_type": "markdown",
      "metadata": {
        "id": "XxhkPyrOnHLa"
      },
      "source": [
        "Another way is to use the [`replace`](https://pandas.pydata.org/docs/reference/api/pandas.DataFrame.replace.html) function. In this approach, we don't have to indicate the values that we will not be changing.  "
      ]
    },
    {
      "cell_type": "code",
      "execution_count": 14,
      "metadata": {
        "id": "UQVoHQ_enHLa"
      },
      "outputs": [],
      "source": [
        "pokemon_df2['type_1'] = pokemon_df2['type_1'].replace({'water': 'Water', 'normal': 'Normal',\n",
        "                                                    'watr':'Water', 'Grund': 'Ground'})"
      ]
    },
    {
      "cell_type": "markdown",
      "metadata": {
        "id": "tF9RbnQQnHLb"
      },
      "source": [
        "Once again, to check if the values were mapped correctly, we can confirm the counts through the `value_counts` function."
      ]
    },
    {
      "cell_type": "code",
      "execution_count": 15,
      "metadata": {
        "id": "-sfpBoQwnHLb"
      },
      "outputs": [
        {
          "data": {
            "text/plain": [
              "type_1\n",
              "Water       134\n",
              "Normal      115\n",
              "Grass        91\n",
              "Bug          81\n",
              "Psychic      76\n",
              "Fire         65\n",
              "Electric     61\n",
              "Rock         60\n",
              "Dark         44\n",
              "Ground       41\n",
              "Ghost        41\n",
              "Dragon       40\n",
              "Poison       39\n",
              "Fighting     38\n",
              "Ice          36\n",
              "Steel        36\n",
              "Fairy        22\n",
              "Flying        8\n",
              "Name: count, dtype: int64"
            ]
          },
          "execution_count": 15,
          "metadata": {},
          "output_type": "execute_result"
        }
      ],
      "source": [
        "pokemon_df2['type_1'].value_counts()"
      ]
    },
    {
      "cell_type": "markdown",
      "metadata": {
        "id": "mMZrhZZNnHLb"
      },
      "source": [
        "**Checkpoint #2:** After cleaning, how many observations have the value `Water` for the `type_1` variable?"
      ]
    },
    {
      "cell_type": "markdown",
      "metadata": {},
      "source": [
        "134"
      ]
    },
    {
      "cell_type": "markdown",
      "metadata": {
        "id": "t8ehZzsenHLb"
      },
      "source": [
        "**Checkpoint #3:** After cleaning, how many observations have the value `Normal` for the `type_1` variable?"
      ]
    },
    {
      "cell_type": "markdown",
      "metadata": {},
      "source": [
        "115"
      ]
    },
    {
      "cell_type": "markdown",
      "metadata": {
        "id": "gctMjh1enHLb"
      },
      "source": [
        "**Checkpoint #4:** After cleaning, how many observations have the value `Grund` for the `type_1` variable?"
      ]
    },
    {
      "cell_type": "markdown",
      "metadata": {},
      "source": [
        "41"
      ]
    },
    {
      "cell_type": "markdown",
      "metadata": {
        "id": "oxuVrF4CnHLb"
      },
      "source": [
        "The code cell below is just to update `pokemon_df` with the cleaned `type_1` variable."
      ]
    },
    {
      "cell_type": "code",
      "execution_count": null,
      "metadata": {
        "id": "JLjtadmDnHLc"
      },
      "outputs": [],
      "source": [
        "pokemon_df['type_1'] = pokemon_df1['type_1']"
      ]
    },
    {
      "cell_type": "markdown",
      "metadata": {
        "id": "Ga7ELEC9nHLd"
      },
      "source": [
        "### `type_2` variable"
      ]
    },
    {
      "cell_type": "markdown",
      "metadata": {
        "id": "3JqDCI0PnHLd"
      },
      "source": [
        "The `type_2` variable is the secondary type of the Pokemon. Let's list all the unique values for the `type_2` variable. Note that the secondary type is optional, hence it is okay to have empty values (aka `nan`)."
      ]
    },
    {
      "cell_type": "code",
      "execution_count": 16,
      "metadata": {
        "id": "Ei8BVigInHLd"
      },
      "outputs": [
        {
          "data": {
            "text/plain": [
              "array(['Poison', nan, 'Flying', 'Dragon', 'Normal', 'normal', 'Psychic',\n",
              "       'Steel', 'Ground', 'Fairy', 'Grass', 'Fighting', 'Electric', 'Ice',\n",
              "       'Dark', 'Ghost', 'Rock', 'Water', 'Poson', 'Fire', 'Bug', 'grass'],\n",
              "      dtype=object)"
            ]
          },
          "execution_count": 16,
          "metadata": {},
          "output_type": "execute_result"
        }
      ],
      "source": [
        "pokemon_df['type_2'].unique()"
      ]
    },
    {
      "cell_type": "markdown",
      "metadata": {
        "id": "68xMeqrNnHLd"
      },
      "source": [
        "Let's check the number of observations per value in the `type_2` variable before cleaning it."
      ]
    },
    {
      "cell_type": "code",
      "execution_count": 17,
      "metadata": {
        "id": "xHrbY2bynHLd"
      },
      "outputs": [
        {
          "data": {
            "text/plain": [
              "type_2\n",
              "Flying      109\n",
              "Fairy        41\n",
              "Ground       39\n",
              "Psychic      38\n",
              "Steel        35\n",
              "Poison       32\n",
              "Fighting     32\n",
              "Dragon       32\n",
              "Dark         26\n",
              "Ghost        25\n",
              "Grass        23\n",
              "Ice          19\n",
              "Water        19\n",
              "Fire         17\n",
              "Rock         15\n",
              "Electric     11\n",
              "Bug           9\n",
              "Normal        8\n",
              "Poson         6\n",
              "normal        3\n",
              "grass         3\n",
              "Name: count, dtype: int64"
            ]
          },
          "execution_count": 17,
          "metadata": {},
          "output_type": "execute_result"
        }
      ],
      "source": [
        "# Write your code here\n",
        "pokemon_df['type_2'].value_counts()"
      ]
    },
    {
      "cell_type": "markdown",
      "metadata": {
        "id": "BXD_FfornHLd"
      },
      "source": [
        "Identify and address multiple representations and spelling errors then write your code in the cell below.\n",
        "\n",
        "*You may use either of the approaches presented earlier.*"
      ]
    },
    {
      "cell_type": "code",
      "execution_count": 20,
      "metadata": {
        "id": "bN2mKBxenHLd"
      },
      "outputs": [],
      "source": [
        "# Write your code here\n",
        "pokemon_df['type_2'] = pokemon_df['type_2'].replace({'Poson': 'Poison', 'normal': 'Normal', 'grass': 'Grass'})"
      ]
    },
    {
      "cell_type": "markdown",
      "metadata": {
        "id": "ez3LGuV7nHLe"
      },
      "source": [
        "After addressing multiple representation and spelling errors, let's check again the number of unique observations per value in the `type_2` variable."
      ]
    },
    {
      "cell_type": "code",
      "execution_count": 21,
      "metadata": {
        "id": "eQY3abvxnHLe"
      },
      "outputs": [
        {
          "data": {
            "text/plain": [
              "type_2\n",
              "Flying      109\n",
              "Fairy        41\n",
              "Ground       39\n",
              "Poison       38\n",
              "Psychic      38\n",
              "Steel        35\n",
              "Fighting     32\n",
              "Dragon       32\n",
              "Grass        26\n",
              "Dark         26\n",
              "Ghost        25\n",
              "Ice          19\n",
              "Water        19\n",
              "Fire         17\n",
              "Rock         15\n",
              "Normal       11\n",
              "Electric     11\n",
              "Bug           9\n",
              "Name: count, dtype: int64"
            ]
          },
          "execution_count": 21,
          "metadata": {},
          "output_type": "execute_result"
        }
      ],
      "source": [
        "# Write your code here\n",
        "\n",
        "pokemon_df.type_2.value_counts()"
      ]
    },
    {
      "cell_type": "markdown",
      "metadata": {
        "id": "RXfMbK4ZnHLe"
      },
      "source": [
        "**Checkpoint #5:** Before cleaning, how many observations have the value `Normal` for the `type_2` variable?"
      ]
    },
    {
      "cell_type": "markdown",
      "metadata": {},
      "source": [
        "8"
      ]
    },
    {
      "cell_type": "markdown",
      "metadata": {
        "id": "-bhXyFMjnHLe"
      },
      "source": [
        "**Checkpoint #6:** After cleaning, how many observations have the value `Normal` for the `type_2` variable?"
      ]
    },
    {
      "cell_type": "markdown",
      "metadata": {},
      "source": [
        "11"
      ]
    },
    {
      "cell_type": "markdown",
      "metadata": {
        "id": "BHPgk1_WnHLe"
      },
      "source": [
        "**Checkpoint #7:** Before cleaning, how many observations have the value `normal` for the `type_2` variable?"
      ]
    },
    {
      "cell_type": "markdown",
      "metadata": {},
      "source": [
        "3"
      ]
    },
    {
      "cell_type": "markdown",
      "metadata": {
        "id": "Hi5j9EoCnHLe"
      },
      "source": [
        "## Checking for `NaN`s\n",
        "We will now handle missing data in our dataset. Let us check each variable if it contains a `NaN` / `null` value. We'll use the [`isnull`](https://pandas.pydata.org/pandas-docs/stable/reference/api/pandas.DataFrame.isnull.html) and [`any`](https://pandas.pydata.org/pandas-docs/stable/reference/api/pandas.DataFrame.any.html) functions for this. This function call will list each variable with a boolean value indicating if the variable contains a `NaN` / `null` value."
      ]
    },
    {
      "cell_type": "code",
      "execution_count": 22,
      "metadata": {
        "id": "vHFFlMsanHLe"
      },
      "outputs": [
        {
          "data": {
            "text/plain": [
              "Unnamed: 0          False\n",
              "pokedex_number      False\n",
              "name                False\n",
              "generation          False\n",
              "status              False\n",
              "species             False\n",
              "type_number         False\n",
              "type_1              False\n",
              "type_2               True\n",
              "height_m            False\n",
              "weight_kg            True\n",
              "abilities_number    False\n",
              "ability_1            True\n",
              "total_points        False\n",
              "hp                   True\n",
              "attack               True\n",
              "defense              True\n",
              "sp_attack            True\n",
              "sp_defense           True\n",
              "speed                True\n",
              "dtype: bool"
            ]
          },
          "execution_count": 22,
          "metadata": {},
          "output_type": "execute_result"
        }
      ],
      "source": [
        "pokemon_df.isnull().any()"
      ]
    },
    {
      "cell_type": "markdown",
      "metadata": {
        "id": "i8qXPh-rnHLe"
      },
      "source": [
        "Let's get the list of columns with `NaN` / `null` values."
      ]
    },
    {
      "cell_type": "code",
      "execution_count": 23,
      "metadata": {
        "id": "VKLmbbREnHLe"
      },
      "outputs": [
        {
          "name": "stdout",
          "output_type": "stream",
          "text": [
            "['type_2', 'weight_kg', 'ability_1', 'hp', 'attack', 'defense', 'sp_attack', 'sp_defense', 'speed']\n"
          ]
        }
      ],
      "source": [
        "nan_variables = pokemon_df.columns[pokemon_df.isnull().any()].tolist()\n",
        "print(nan_variables)"
      ]
    },
    {
      "cell_type": "markdown",
      "metadata": {
        "id": "VFcOX24QnHLe"
      },
      "source": [
        "For each variable, show the total number of observation with `NaN` / `null` value. The [`sum`](https://pandas.pydata.org/docs/reference/api/pandas.DataFrame.sum.html) function is used to get the counts of null values per column. This works because the [`isnull`](https://pandas.pydata.org/pandas-docs/stable/reference/api/pandas.DataFrame.isnull.html) function converts the value of the cell to either `True` (if the value is `null` or `nan`) or `False` (if there is a value in the cell). Just like in most programming languages, `True` is equivalent to `1` when used in place of an integer."
      ]
    },
    {
      "cell_type": "code",
      "execution_count": 24,
      "metadata": {
        "id": "6ThOiN_qnHLe"
      },
      "outputs": [
        {
          "data": {
            "text/plain": [
              "type_2        486\n",
              "weight_kg       1\n",
              "ability_1       3\n",
              "hp            107\n",
              "attack          2\n",
              "defense       186\n",
              "sp_attack       3\n",
              "sp_defense      1\n",
              "speed           2\n",
              "dtype: int64"
            ]
          },
          "execution_count": 24,
          "metadata": {},
          "output_type": "execute_result"
        }
      ],
      "source": [
        "pokemon_df[nan_variables].isnull().sum()"
      ]
    },
    {
      "cell_type": "markdown",
      "metadata": {
        "id": "9posOZCDnHLf"
      },
      "source": [
        "**Checkpoint #8:** Before cleaning, how many observations have the `NaN` value for the `weight_kg` variable?"
      ]
    },
    {
      "cell_type": "markdown",
      "metadata": {},
      "source": [
        "1"
      ]
    },
    {
      "cell_type": "markdown",
      "metadata": {
        "id": "TIp4HT62nHLf"
      },
      "source": [
        "**Checkpoint #9:** Before cleaning, how many observations have the `NaN` value for the `ability_1` variable?"
      ]
    },
    {
      "cell_type": "markdown",
      "metadata": {},
      "source": [
        "3"
      ]
    },
    {
      "cell_type": "markdown",
      "metadata": {
        "id": "XVuf9bVCnHLf"
      },
      "source": [
        "**Checkpoint #10:** Before cleaning, how many observations have the `NaN` value for the `hp` variable?"
      ]
    },
    {
      "cell_type": "markdown",
      "metadata": {},
      "source": [
        "107"
      ]
    },
    {
      "cell_type": "code",
      "execution_count": 25,
      "metadata": {
        "id": "YbAGnAQdnHLf"
      },
      "outputs": [
        {
          "data": {
            "text/plain": [
              "(1028, 20)"
            ]
          },
          "execution_count": 25,
          "metadata": {},
          "output_type": "execute_result"
        }
      ],
      "source": [
        "pokemon_df.shape"
      ]
    },
    {
      "cell_type": "markdown",
      "metadata": {
        "id": "Il8_Zz9rnHLf"
      },
      "source": [
        "The [`shape`](https://pandas.pydata.org/docs/reference/api/pandas.DataFrame.shape.html) attribute returns the dimensions of the dataframe. Before cleaning, we can see here that there are a total of 1028 observations in our dataset."
      ]
    },
    {
      "cell_type": "markdown",
      "metadata": {
        "id": "Eb8kWY-unHLg"
      },
      "source": [
        "The`type_2` variable have several observations that are missing a value but it is alright in this context, as having a secondary type is optional for a Pokemon."
      ]
    },
    {
      "cell_type": "code",
      "execution_count": 26,
      "metadata": {
        "id": "stBaboo-nHLg"
      },
      "outputs": [
        {
          "name": "stdout",
          "output_type": "stream",
          "text": [
            "['attack', 'ability_1', 'speed', 'sp_defense', 'sp_attack', 'weight_kg']\n"
          ]
        }
      ],
      "source": [
        "exclude_variables = ['type_2', 'hp', 'defense']\n",
        "dropped_variables = list(set(nan_variables) - set(exclude_variables))\n",
        "print(dropped_variables)"
      ]
    },
    {
      "cell_type": "markdown",
      "metadata": {
        "id": "UEZc9yvunHLg"
      },
      "source": [
        "Since we see that there is a very small number of observation with `NaN` / `null` value for the `ability_1`, `weight_kg`, `sp_defense`, `sp_attack`, `attack`, and `speed` variables, we can decide to drop those observations from the dataset.\n",
        "\n",
        "However, remember that in this example, we're dropping these as an example for dropping `null` values. Depending on your research question, you may have to assess whether or not these variables are important.\n",
        "\n",
        "**Hint!** Use the [`dropna`](https://pandas.pydata.org/pandas-docs/stable/reference/api/pandas.DataFrame.dropna.html) function (and its subset parameter)."
      ]
    },
    {
      "cell_type": "code",
      "execution_count": 27,
      "metadata": {
        "id": "TnIiLH87nHLg"
      },
      "outputs": [],
      "source": [
        "# Write your code here\n",
        "\n",
        "pokemon_df.dropna(subset=dropped_variables, inplace=True)"
      ]
    },
    {
      "cell_type": "markdown",
      "metadata": {
        "id": "p2W2dgf9nHLg"
      },
      "source": [
        "Display the total number of observations left after removing observations."
      ]
    },
    {
      "cell_type": "code",
      "execution_count": 30,
      "metadata": {
        "id": "zAbTLhgHnHLh"
      },
      "outputs": [
        {
          "data": {
            "text/plain": [
              "(1020, 20)"
            ]
          },
          "execution_count": 30,
          "metadata": {},
          "output_type": "execute_result"
        }
      ],
      "source": [
        "# Write your code here\n",
        "\n",
        "pokemon_df.shape"
      ]
    },
    {
      "cell_type": "markdown",
      "metadata": {
        "id": "1hmdyF9DnHLh"
      },
      "source": [
        "**Checkpoint #11:** After dropping, how many observations are left in our `DataFrame`?"
      ]
    },
    {
      "cell_type": "markdown",
      "metadata": {},
      "source": [
        "1020"
      ]
    },
    {
      "cell_type": "markdown",
      "metadata": {
        "id": "jtxK8NL5nHLh"
      },
      "source": [
        "Check if the observations with `NaN` / `null` values for the `weight_kg` variable have been dropped from the dataset. Make sure that the `NaN` value is not included in the list of all values for the `weight_kg` variable."
      ]
    },
    {
      "cell_type": "code",
      "execution_count": 34,
      "metadata": {
        "id": "fIPkZtqsnHLh"
      },
      "outputs": [
        {
          "data": {
            "text/plain": [
              "False"
            ]
          },
          "execution_count": 34,
          "metadata": {},
          "output_type": "execute_result"
        }
      ],
      "source": [
        "# Write your code here\n",
        "\n",
        "pokemon_df['weight_kg'].isnull().any()"
      ]
    },
    {
      "cell_type": "markdown",
      "metadata": {
        "id": "WwgQPHk4nHLh"
      },
      "source": [
        "**Sanity Check!** Your code should return the output:\n",
        "\n",
        "```False```"
      ]
    },
    {
      "cell_type": "markdown",
      "metadata": {
        "id": "WNWDlLBLnHLh"
      },
      "source": [
        "We can also check the counts for all of our initial variables with missing values using the code below:"
      ]
    },
    {
      "cell_type": "code",
      "execution_count": 35,
      "metadata": {
        "id": "ZRFv5kg1nHLh"
      },
      "outputs": [
        {
          "data": {
            "text/plain": [
              "type_2        483\n",
              "weight_kg       0\n",
              "ability_1       0\n",
              "hp            106\n",
              "attack          0\n",
              "defense       184\n",
              "sp_attack       0\n",
              "sp_defense      0\n",
              "speed           0\n",
              "dtype: int64"
            ]
          },
          "execution_count": 35,
          "metadata": {},
          "output_type": "execute_result"
        }
      ],
      "source": [
        "pokemon_df[nan_variables].isnull().sum()"
      ]
    },
    {
      "cell_type": "markdown",
      "metadata": {
        "id": "dy392WZSnHLh"
      },
      "source": [
        "### `NaN`s in the `type_2` variable"
      ]
    },
    {
      "cell_type": "markdown",
      "metadata": {
        "id": "9N033G3MnHLh"
      },
      "source": [
        "There is a significant number of observations with `NaN` / `null` value for the `type_2` variable. However, we know that missing values for `type_2` are intended (as opposed to randomly missing), since having a secondary type is optional for a Pokemon. As such, instead of removing these observations from the dataset, we can just set a *sentinel value* to identify these observations. For this, we can just set the string `\"None\"` as our sentinel value. Use the [`loc`](https://pandas.pydata.org/pandas-docs/stable/reference/api/pandas.DataFrame.loc.html) function to select and assign `\"None\"` as value for these variables of these observations"
      ]
    },
    {
      "cell_type": "code",
      "execution_count": 36,
      "metadata": {
        "id": "QSjcFHuwnHLh"
      },
      "outputs": [],
      "source": [
        "pokemon_df.loc[pokemon_df['type_2'].isnull(),'type_2'] = \"None\""
      ]
    },
    {
      "cell_type": "markdown",
      "metadata": {
        "id": "RTaHHtvBnHLi"
      },
      "source": [
        "Let's count the number of observations with the sentinel value"
      ]
    },
    {
      "cell_type": "code",
      "execution_count": 39,
      "metadata": {
        "id": "ppN7k1aLnHLi"
      },
      "outputs": [
        {
          "data": {
            "text/plain": [
              "(483,)"
            ]
          },
          "execution_count": 39,
          "metadata": {},
          "output_type": "execute_result"
        }
      ],
      "source": [
        "pokemon_df.loc[pokemon_df['type_2'] == \"None\", 'type_2'].shape"
      ]
    },
    {
      "cell_type": "markdown",
      "metadata": {
        "id": "11r7S3zYnHLi"
      },
      "source": [
        "### `NaN`s in the `hp` variable\n",
        "There is also a significant number of observations with `NaN` / `null` value for the `hp` variable. Instead of removing these observations from the dataset, we can just set a *sentinel value* to identify these observations. Since Pokemon stats cannot be a negative number, let's represent observations with no value for these variables as -1. Use the [`loc`](https://pandas.pydata.org/pandas-docs/stable/reference/api/pandas.DataFrame.loc.html) function to select and assign -1 as value for the `hp` variable of these observations"
      ]
    },
    {
      "cell_type": "code",
      "execution_count": 40,
      "metadata": {
        "id": "PdmaF4_snHLi"
      },
      "outputs": [],
      "source": [
        "pokemon_df1 = pokemon_df.copy()\n",
        "pokemon_df2 = pokemon_df.copy()"
      ]
    },
    {
      "cell_type": "code",
      "execution_count": 41,
      "metadata": {
        "id": "QVu-78UdnHLi"
      },
      "outputs": [],
      "source": [
        "pokemon_df1.loc[pokemon_df1['hp'].isnull(),'hp'] = -1"
      ]
    },
    {
      "cell_type": "markdown",
      "metadata": {
        "id": "H7zhz-C2nHLi"
      },
      "source": [
        "Let's check if there are any `NaN` / `null` values remaining for the `hp` variable."
      ]
    },
    {
      "cell_type": "code",
      "execution_count": 42,
      "metadata": {
        "id": "pwyq_5j5nHLi"
      },
      "outputs": [
        {
          "data": {
            "text/plain": [
              "False"
            ]
          },
          "execution_count": 42,
          "metadata": {},
          "output_type": "execute_result"
        }
      ],
      "source": [
        "pokemon_df1['hp'].isnull().any()"
      ]
    },
    {
      "cell_type": "markdown",
      "metadata": {
        "id": "qA2jE92pnHLi"
      },
      "source": [
        "Alternatively, we can also use the [`fillna`](https://pandas.pydata.org/pandas-docs/stable/reference/api/pandas.DataFrame.fillna.html) function:"
      ]
    },
    {
      "cell_type": "code",
      "execution_count": 43,
      "metadata": {
        "id": "jzfkayqanHLk"
      },
      "outputs": [],
      "source": [
        "pokemon_df2['hp'] = pokemon_df2['hp'].fillna(-1)"
      ]
    },
    {
      "cell_type": "markdown",
      "metadata": {
        "id": "gIYZrsWFnHLk"
      },
      "source": [
        "Let's check if there are any `NaN` / `null` values remaining for the `hp` variable."
      ]
    },
    {
      "cell_type": "code",
      "execution_count": 46,
      "metadata": {
        "id": "3arYjm9RnHLk"
      },
      "outputs": [
        {
          "data": {
            "text/plain": [
              "False"
            ]
          },
          "execution_count": 46,
          "metadata": {},
          "output_type": "execute_result"
        }
      ],
      "source": [
        "# Write your code here\n",
        "\n",
        "pokemon_df2['hp'].isnull().any()"
      ]
    },
    {
      "cell_type": "markdown",
      "metadata": {
        "id": "XuhQTstfnHLl"
      },
      "source": [
        "Once again, let's update the main copy of the Pokemon dataframe with the cleaned hp variable."
      ]
    },
    {
      "cell_type": "code",
      "execution_count": 45,
      "metadata": {
        "id": "ejb64_jdnHLl"
      },
      "outputs": [],
      "source": [
        "pokemon_df['hp'] = pokemon_df1['hp']"
      ]
    },
    {
      "cell_type": "markdown",
      "metadata": {
        "id": "xeElmMo3nHLl"
      },
      "source": [
        "Let's count number of observations with the sentinel value."
      ]
    },
    {
      "cell_type": "code",
      "execution_count": 50,
      "metadata": {
        "id": "daFWsfv-nHLl"
      },
      "outputs": [
        {
          "data": {
            "text/plain": [
              "(106,)"
            ]
          },
          "execution_count": 50,
          "metadata": {},
          "output_type": "execute_result"
        }
      ],
      "source": [
        "# Write your code here\n",
        "pokemon_df.loc[pokemon_df['hp'] == -1, 'hp'].shape  "
      ]
    },
    {
      "cell_type": "markdown",
      "metadata": {
        "id": "Za2b1IvGnHLl"
      },
      "source": [
        "**Checkpoint #12:** After cleaning, how many observations have a value equal to the sentinel value `-1` for the `hp` variable?"
      ]
    },
    {
      "cell_type": "markdown",
      "metadata": {},
      "source": [
        "106"
      ]
    },
    {
      "cell_type": "markdown",
      "metadata": {
        "id": "Ezv_qMFGnHLl"
      },
      "source": [
        "### `NaN`s in the `defense` variable\n",
        "Write the code below to replace missing values for the `defense` variable with -1. You may use any of the approaches previously stated."
      ]
    },
    {
      "cell_type": "code",
      "execution_count": 51,
      "metadata": {
        "id": "w5w9jp6rnHLl"
      },
      "outputs": [],
      "source": [
        "# Write your code here\n",
        "pokemon_df['defense'] = pokemon_df['defense'].fillna(-1)"
      ]
    },
    {
      "cell_type": "markdown",
      "metadata": {
        "id": "lvTzETM7nHLl"
      },
      "source": [
        "Let's count number of observations with the sentinel value."
      ]
    },
    {
      "cell_type": "code",
      "execution_count": 52,
      "metadata": {
        "id": "4Y8WxW4enHLl"
      },
      "outputs": [
        {
          "data": {
            "text/plain": [
              "(184,)"
            ]
          },
          "execution_count": 52,
          "metadata": {},
          "output_type": "execute_result"
        }
      ],
      "source": [
        "# Write your code here\n",
        "pokemon_df.loc[pokemon_df['defense'] == -1, 'defense'].shape"
      ]
    },
    {
      "cell_type": "markdown",
      "metadata": {
        "id": "Pszl6UzHnHLl"
      },
      "source": [
        "**Checkpoint #13:** After cleaning, how many observations have a value equal to the sentinel value of -1 for the `defense` variable?"
      ]
    },
    {
      "cell_type": "markdown",
      "metadata": {},
      "source": [
        "184"
      ]
    },
    {
      "cell_type": "markdown",
      "metadata": {
        "id": "XYg0clianHLl"
      },
      "source": [
        "## Further reading\n",
        "**Motivation for setting a sentinel value (as opposed to leaving it as NaN)**\n",
        "- This [article](https://www.residentmar.io/2016/06/12/null-and-missing-data-python.html) goes through the motivation for setting a sentinel value in much detail as well as the alternative approaches we may use in Python."
      ]
    }
  ],
  "metadata": {
    "colab": {
      "provenance": []
    },
    "kernelspec": {
      "display_name": "Python 3 (ipykernel)",
      "language": "python",
      "name": "python3"
    },
    "language_info": {
      "codemirror_mode": {
        "name": "ipython",
        "version": 3
      },
      "file_extension": ".py",
      "mimetype": "text/x-python",
      "name": "python",
      "nbconvert_exporter": "python",
      "pygments_lexer": "ipython3",
      "version": "3.12.4"
    }
  },
  "nbformat": 4,
  "nbformat_minor": 0
}
