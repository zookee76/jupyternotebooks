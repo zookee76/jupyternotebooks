{
  "cells": [
    {
      "cell_type": "markdown",
      "id": "d88c9f6a",
      "metadata": {},
      "source": [
        "# Zomato Exercise"
      ]
    },
    {
      "cell_type": "markdown",
      "id": "0507cc30",
      "metadata": {},
      "source": [
        "DEL ROSARIO, JAVIER"
      ]
    },
    {
      "cell_type": "markdown",
      "id": "a2ddcdba",
      "metadata": {},
      "source": [
        "References: \n",
        "\n",
        "https://www.askpython.com/python-modules/pandas/combine-csv-files-using-python\n",
        "https://stackoverflow.com/questions/48590268/pandas-get-the-most-frequent-values-of-a-column/48590361\n",
        "https://www.geeksforgeeks.org/python-lambda-anonymous-functions-filter-map-reduce/"
      ]
    },
    {
      "cell_type": "markdown",
      "id": "2d84fdf3",
      "metadata": {
        "id": "2d84fdf3"
      },
      "source": [
        "Zomato is a restaurant aggregator website. The platform provides information, menus and user-reviews of restaurants as well as food delivery options from partner restaurants in select cities. You have been provided 3 datasets:\n",
        "\n",
        "- zomato.csv contains restaurant information like average_cost_for_two, cuisines\n",
        "- location.csv contains location of the restaurants like address, city, locality & etc\n",
        "- ratings.csv contains aggregate rating for each restaurant\n",
        "\n",
        "The different files are connected using the `id` columns which can be found in the different files. The id column is a unique identifier to represent a restaurant. You can use this to **merge** the different files."
      ]
    },
    {
      "cell_type": "code",
      "execution_count": 6,
      "id": "5337de5f",
      "metadata": {
        "id": "5337de5f"
      },
      "outputs": [
        {
          "name": "stderr",
          "output_type": "stream",
          "text": [
            "\n",
            "[notice] A new release of pip is available: 24.0 -> 24.2\n",
            "[notice] To update, run: python.exe -m pip install --upgrade pip\n"
          ]
        },
        {
          "name": "stdout",
          "output_type": "stream",
          "text": [
            "Collecting pandasNote: you may need to restart the kernel to use updated packages.\n",
            "\n",
            "  Using cached pandas-2.2.3-cp312-cp312-win_amd64.whl.metadata (19 kB)\n",
            "Requirement already satisfied: numpy>=1.26.0 in c:\\python312\\lib\\site-packages (from pandas) (2.1.1)\n",
            "Requirement already satisfied: python-dateutil>=2.8.2 in c:\\python312\\lib\\site-packages (from pandas) (2.9.0.post0)\n",
            "Requirement already satisfied: pytz>=2020.1 in c:\\python312\\lib\\site-packages (from pandas) (2024.2)\n",
            "Requirement already satisfied: tzdata>=2022.7 in c:\\python312\\lib\\site-packages (from pandas) (2024.1)\n",
            "Requirement already satisfied: six>=1.5 in c:\\python312\\lib\\site-packages (from python-dateutil>=2.8.2->pandas) (1.16.0)\n",
            "Using cached pandas-2.2.3-cp312-cp312-win_amd64.whl (11.5 MB)\n",
            "Installing collected packages: pandas\n",
            "Successfully installed pandas-2.2.3\n"
          ]
        }
      ],
      "source": [
        "%pip install pandas\n",
        "import pandas as pd\n",
        "import numpy as np"
      ]
    },
    {
      "cell_type": "markdown",
      "id": "77605fbc",
      "metadata": {
        "id": "77605fbc"
      },
      "source": [
        "1. Merge the zomato, location & ratings file into a signle dataframe and store it to the `merged_df` variable **(3pts)**"
      ]
    },
    {
      "cell_type": "code",
      "execution_count": 9,
      "id": "ddbd0bb1",
      "metadata": {
        "id": "ddbd0bb1"
      },
      "outputs": [],
      "source": [
        "zomato_df = pd.read_csv('zomato.csv')\n",
        "location_df = pd.read_csv('location.csv')\n",
        "ratings_df = pd.read_csv('ratings.csv')\n",
        "\n",
        "merged_df = zomato_df.merge(location_df, on='id', how='inner').merge(ratings_df, on='id', how='inner')"
      ]
    },
    {
      "cell_type": "code",
      "execution_count": 11,
      "id": "b2a86a44",
      "metadata": {
        "id": "b2a86a44"
      },
      "outputs": [],
      "source": [
        "assert (6830, 35)==merged_df.shape\n",
        "\n",
        "cols = ['id', 'address', 'city', 'city_id', 'country_id', 'latitude',\n",
        "       'locality', 'locality_verbose', 'longitude', 'zipcode',\n",
        "       'aggregate_rating', 'rating_color', 'rating_text', 'votes',\n",
        "       'average_cost_for_two', 'book_url', 'cuisines', 'currency', 'deeplink',\n",
        "       'events_url', 'featured_image', 'has_online_delivery',\n",
        "       'has_table_booking', 'include_bogo_offers', 'is_book_form_web_view',\n",
        "       'is_delivering_now', 'is_table_reservation_supported',\n",
        "       'is_zomato_book_res', 'menu_url', 'mezzo_provider', 'name',\n",
        "       'photos_url', 'price_range', 'thumb', 'url']\n",
        "\n",
        "assert sorted(merged_df.columns) == sorted(cols)"
      ]
    },
    {
      "cell_type": "markdown",
      "id": "02223abe",
      "metadata": {
        "id": "02223abe"
      },
      "source": [
        "2. Create a function that returns the average aggregate rating for each city. Expected returned value is a Series datatype which contains name of city as index and average aggregate rating as value. **(2pts)**"
      ]
    },
    {
      "cell_type": "code",
      "execution_count": 22,
      "id": "bd7d8f34",
      "metadata": {
        "id": "bd7d8f34"
      },
      "outputs": [],
      "source": [
        "def exercise_2(merged_df):\n",
        "    avg_rating = merged_df.groupby('city')['aggregate_rating'].mean()\n",
        "    print(avg_rating)\n",
        "    return avg_rating\n"
      ]
    },
    {
      "cell_type": "code",
      "execution_count": 23,
      "id": "10e5b4c1",
      "metadata": {
        "id": "10e5b4c1"
      },
      "outputs": [
        {
          "name": "stdout",
          "output_type": "stream",
          "text": [
            "city\n",
            "Caloocan City       1.953509\n",
            "Las Piñas City      2.855738\n",
            "Makati City         3.250512\n",
            "Malabon City        1.558333\n",
            "Mandaluyong City    2.951919\n",
            "Manila              2.842652\n",
            "Marikina City       2.672512\n",
            "Muntinlupa City     2.962682\n",
            "Parañaque City      3.130100\n",
            "Pasay City          3.302075\n",
            "Pasig City          2.916086\n",
            "Pateros City        1.740000\n",
            "Quezon City         2.887946\n",
            "San Juan City       3.098462\n",
            "Tagaytay City       2.959259\n",
            "Taguig City         3.234105\n",
            "Valenzuela City     1.890741\n",
            "Name: aggregate_rating, dtype: float64\n"
          ]
        }
      ],
      "source": [
        "res_series = exercise_2(merged_df)\n",
        "assert True == np.isclose(3.302075, res_series[res_series.index == 'Pasay City'],\n",
        "                          rtol=1e-05, atol=1e-08, equal_nan=False)[0]\n",
        "assert True == np.isclose(1.890741, res_series[res_series.index == 'Valenzuela City'],\n",
        "                          rtol=1e-05, atol=1e-08, equal_nan=False)[0]\n",
        "assert True == np.isclose(1.558333, res_series[res_series.index == 'Malabon City'],\n",
        "                          rtol=1e-05, atol=1e-08, equal_nan=False)[0]\n",
        "\n"
      ]
    },
    {
      "cell_type": "markdown",
      "id": "5db591ac",
      "metadata": {
        "id": "5db591ac"
      },
      "source": [
        "3. Using the apply function of pandas convert the rating_text to a numeric equivalent. You are to introduce a new column in merged_df called `rating_numeric` which is based on the value from rating_text: **(3pts)**\n",
        "\n",
        "Excellent = 5 <br>\n",
        "Very Good = 4 <br>\n",
        "Good = 3 <br>\n",
        "Average = 2 <br>\n",
        "Poor = 1 <br>\n",
        "Not rated = 0 <br>"
      ]
    },
    {
      "cell_type": "code",
      "execution_count": 25,
      "id": "41293771",
      "metadata": {
        "id": "41293771"
      },
      "outputs": [],
      "source": [
        "rating_map = {\n",
        "    'Excellent': 5,\n",
        "    'Very Good': 4,\n",
        "    'Good': 3,\n",
        "    'Average': 2,\n",
        "    'Poor': 1,\n",
        "    'Not rated': 0\n",
        "}\n",
        "\n",
        "rating_numeric = merged_df.apply(lambda x: rating_map[x.rating_text], axis=1)\n",
        "\n",
        "merged_df = merged_df.assign(rating_numeric=rating_numeric)"
      ]
    },
    {
      "cell_type": "code",
      "execution_count": 26,
      "id": "c62df922",
      "metadata": {
        "id": "c62df922"
      },
      "outputs": [],
      "source": [
        "assert 868 == merged_df[merged_df.rating_numeric == 0].shape[0]\n",
        "assert True == ('rating_numeric' in merged_df.columns)"
      ]
    },
    {
      "cell_type": "markdown",
      "id": "97ec4197",
      "metadata": {
        "id": "97ec4197"
      },
      "source": [
        "4. Create a function which filters the merged dataframe to only contain rows coming in from a specific city. Expected returned value is a dataframe **(2pts)**"
      ]
    },
    {
      "cell_type": "code",
      "execution_count": 33,
      "id": "9773b18e",
      "metadata": {
        "id": "9773b18e"
      },
      "outputs": [],
      "source": [
        "def exercise_4(merged_df, city):\n",
        "    filtered_df = merged_df[merged_df.city == city]\n",
        "    print(filtered_df)\n",
        "    return filtered_df"
      ]
    },
    {
      "cell_type": "code",
      "execution_count": 35,
      "id": "1ca29a81",
      "metadata": {
        "id": "1ca29a81"
      },
      "outputs": [
        {
          "name": "stdout",
          "output_type": "stream",
          "text": [
            "            id  average_cost_for_two book_url                   cuisines  \\\n",
            "0      6316125                  1000      NaN            Japanese, Ramen   \n",
            "1     18409457                  1300      NaN  Korean, Grill, Korean BBQ   \n",
            "2      6307689                  1600      NaN         American, Filipino   \n",
            "7      6304287                  1200      NaN                   Japanese   \n",
            "10     6304833                   700      NaN                   Filipino   \n",
            "...        ...                   ...      ...                        ...   \n",
            "6598  18303726                   700      NaN     Healthy Food, Japanese   \n",
            "6753   6301694                  1200      NaN                   Filipino   \n",
            "6758  18351649                  1100      NaN                Finger Food   \n",
            "6815   6317082                   500      NaN                 Vietnamese   \n",
            "6817  18340454                   500      NaN                 Vietnamese   \n",
            "\n",
            "     currency                      deeplink  \\\n",
            "0           P   zomato://restaurant/6316125   \n",
            "1           P  zomato://restaurant/18409457   \n",
            "2           P   zomato://restaurant/6307689   \n",
            "7           P   zomato://restaurant/6304287   \n",
            "10          P   zomato://restaurant/6304833   \n",
            "...       ...                           ...   \n",
            "6598        P  zomato://restaurant/18303726   \n",
            "6753        P   zomato://restaurant/6301694   \n",
            "6758        P  zomato://restaurant/18351649   \n",
            "6815        P   zomato://restaurant/6317082   \n",
            "6817        P  zomato://restaurant/18340454   \n",
            "\n",
            "                                             events_url  \\\n",
            "0     https://www.zomato.com/manila/mendokoro-ramenb...   \n",
            "1     https://www.zomato.com/manila/soban-k-town-gri...   \n",
            "2     https://www.zomato.com/manila/filling-station-...   \n",
            "7     https://www.zomato.com/manila/izakaya-kikufuji...   \n",
            "10    https://www.zomato.com/manila/manam-greenbelt-...   \n",
            "...                                                 ...   \n",
            "6598  https://www.zomato.com/manila/uniquease-valenz...   \n",
            "6753  https://www.zomato.com/manila/xo-46-new-visaya...   \n",
            "6758  https://www.zomato.com/manila/pappy-bistro-leg...   \n",
            "6815  https://www.zomato.com/manila/jam-viet-sandwic...   \n",
            "6817  https://www.zomato.com/manila/jam-viet-sandwic...   \n",
            "\n",
            "                                         featured_image  has_online_delivery  \\\n",
            "0     https://b.zmtcdn.com/data/reviews_photos/971/2...                    0   \n",
            "1     https://b.zmtcdn.com/data/res_imagery/18290970...                    0   \n",
            "2     https://b.zmtcdn.com/data/pictures/9/6307689/b...                    0   \n",
            "7     https://b.zmtcdn.com/data/res_imagery/6304287_...                    0   \n",
            "10    https://b.zmtcdn.com/data/pictures/chains/3/63...                    0   \n",
            "...                                                 ...                  ...   \n",
            "6598                                                NaN                    0   \n",
            "6753  https://b.zmtcdn.com/data/reviews_photos/a1d/f...                    0   \n",
            "6758  https://b.zmtcdn.com/data/res_imagery/18351649...                    0   \n",
            "6815  https://b.zmtcdn.com/data/reviews_photos/e9d/e...                    0   \n",
            "6817  https://b.zmtcdn.com/data/reviews_photos/e9d/e...                    0   \n",
            "\n",
            "      has_table_booking  ...   latitude  \\\n",
            "0                     0  ...  14.560313   \n",
            "1                     0  ...  14.552137   \n",
            "2                     0  ...  14.563144   \n",
            "7                     0  ...  14.553708   \n",
            "10                    0  ...  14.551920   \n",
            "...                 ...  ...        ...   \n",
            "6598                  0  ...  14.571504   \n",
            "6753                  0  ...  14.558378   \n",
            "6758                  0  ...  14.557238   \n",
            "6815                  0  ...  14.568501   \n",
            "6817                  0  ...  14.564902   \n",
            "\n",
            "                                        locality  \\\n",
            "0                                Salcedo Village   \n",
            "1          Greenbelt 3, San Lorenzo, Makati City   \n",
            "2                                      Poblacion   \n",
            "7     Little Tokyo, Legaspi Village, Makati City   \n",
            "10         Greenbelt 2, San Lorenzo, Makati City   \n",
            "...                                          ...   \n",
            "6598                                  Valenzuela   \n",
            "6753                             Salcedo Village   \n",
            "6758                             Legaspi Village   \n",
            "6815                                  Santa Cruz   \n",
            "6817                                     Palanan   \n",
            "\n",
            "                                       locality_verbose   longitude  zipcode  \\\n",
            "0                          Salcedo Village, Makati City  121.024638      NaN   \n",
            "1     Greenbelt 3, San Lorenzo, Makati City, Makati ...  121.021325      NaN   \n",
            "2                                Poblacion, Makati City  121.029800   1210.0   \n",
            "7     Little Tokyo, Legaspi Village, Makati City, Ma...  121.014101      NaN   \n",
            "10    Greenbelt 2, San Lorenzo, Makati City, Makati ...  121.020485      NaN   \n",
            "...                                                 ...         ...      ...   \n",
            "6598                            Valenzuela, Makati City  121.024976      NaN   \n",
            "6753                       Salcedo Village, Makati City  121.022078      NaN   \n",
            "6758                       Legaspi Village, Makati City  121.016854      NaN   \n",
            "6815                            Santa Cruz, Makati City  121.013978      NaN   \n",
            "6817                               Palanan, Makati City  121.002089      NaN   \n",
            "\n",
            "     aggregate_rating rating_color rating_text votes  rating_numeric  \n",
            "0                 4.9       3F7E00   Excellent  1394               5  \n",
            "1                 4.6       3F7E00   Excellent   602               5  \n",
            "2                 4.0       5BA829   Very Good   563               4  \n",
            "7                 4.5       3F7E00   Excellent  1031               5  \n",
            "10                4.5       3F7E00   Excellent   700               5  \n",
            "...               ...          ...         ...   ...             ...  \n",
            "6598              0.0       CBCBC8   Not rated     3               0  \n",
            "6753              3.2       CDD614     Average    15               2  \n",
            "6758              3.1       CDD614     Average    13               2  \n",
            "6815              3.5       9ACD32        Good    30               3  \n",
            "6817              3.4       CDD614     Average    16               2  \n",
            "\n",
            "[976 rows x 36 columns]\n",
            "            id  average_cost_for_two book_url                   cuisines  \\\n",
            "0      6316125                  1000      NaN            Japanese, Ramen   \n",
            "1     18409457                  1300      NaN  Korean, Grill, Korean BBQ   \n",
            "2      6307689                  1600      NaN         American, Filipino   \n",
            "7      6304287                  1200      NaN                   Japanese   \n",
            "10     6304833                   700      NaN                   Filipino   \n",
            "...        ...                   ...      ...                        ...   \n",
            "6598  18303726                   700      NaN     Healthy Food, Japanese   \n",
            "6753   6301694                  1200      NaN                   Filipino   \n",
            "6758  18351649                  1100      NaN                Finger Food   \n",
            "6815   6317082                   500      NaN                 Vietnamese   \n",
            "6817  18340454                   500      NaN                 Vietnamese   \n",
            "\n",
            "     currency                      deeplink  \\\n",
            "0           P   zomato://restaurant/6316125   \n",
            "1           P  zomato://restaurant/18409457   \n",
            "2           P   zomato://restaurant/6307689   \n",
            "7           P   zomato://restaurant/6304287   \n",
            "10          P   zomato://restaurant/6304833   \n",
            "...       ...                           ...   \n",
            "6598        P  zomato://restaurant/18303726   \n",
            "6753        P   zomato://restaurant/6301694   \n",
            "6758        P  zomato://restaurant/18351649   \n",
            "6815        P   zomato://restaurant/6317082   \n",
            "6817        P  zomato://restaurant/18340454   \n",
            "\n",
            "                                             events_url  \\\n",
            "0     https://www.zomato.com/manila/mendokoro-ramenb...   \n",
            "1     https://www.zomato.com/manila/soban-k-town-gri...   \n",
            "2     https://www.zomato.com/manila/filling-station-...   \n",
            "7     https://www.zomato.com/manila/izakaya-kikufuji...   \n",
            "10    https://www.zomato.com/manila/manam-greenbelt-...   \n",
            "...                                                 ...   \n",
            "6598  https://www.zomato.com/manila/uniquease-valenz...   \n",
            "6753  https://www.zomato.com/manila/xo-46-new-visaya...   \n",
            "6758  https://www.zomato.com/manila/pappy-bistro-leg...   \n",
            "6815  https://www.zomato.com/manila/jam-viet-sandwic...   \n",
            "6817  https://www.zomato.com/manila/jam-viet-sandwic...   \n",
            "\n",
            "                                         featured_image  has_online_delivery  \\\n",
            "0     https://b.zmtcdn.com/data/reviews_photos/971/2...                    0   \n",
            "1     https://b.zmtcdn.com/data/res_imagery/18290970...                    0   \n",
            "2     https://b.zmtcdn.com/data/pictures/9/6307689/b...                    0   \n",
            "7     https://b.zmtcdn.com/data/res_imagery/6304287_...                    0   \n",
            "10    https://b.zmtcdn.com/data/pictures/chains/3/63...                    0   \n",
            "...                                                 ...                  ...   \n",
            "6598                                                NaN                    0   \n",
            "6753  https://b.zmtcdn.com/data/reviews_photos/a1d/f...                    0   \n",
            "6758  https://b.zmtcdn.com/data/res_imagery/18351649...                    0   \n",
            "6815  https://b.zmtcdn.com/data/reviews_photos/e9d/e...                    0   \n",
            "6817  https://b.zmtcdn.com/data/reviews_photos/e9d/e...                    0   \n",
            "\n",
            "      has_table_booking  ...   latitude  \\\n",
            "0                     0  ...  14.560313   \n",
            "1                     0  ...  14.552137   \n",
            "2                     0  ...  14.563144   \n",
            "7                     0  ...  14.553708   \n",
            "10                    0  ...  14.551920   \n",
            "...                 ...  ...        ...   \n",
            "6598                  0  ...  14.571504   \n",
            "6753                  0  ...  14.558378   \n",
            "6758                  0  ...  14.557238   \n",
            "6815                  0  ...  14.568501   \n",
            "6817                  0  ...  14.564902   \n",
            "\n",
            "                                        locality  \\\n",
            "0                                Salcedo Village   \n",
            "1          Greenbelt 3, San Lorenzo, Makati City   \n",
            "2                                      Poblacion   \n",
            "7     Little Tokyo, Legaspi Village, Makati City   \n",
            "10         Greenbelt 2, San Lorenzo, Makati City   \n",
            "...                                          ...   \n",
            "6598                                  Valenzuela   \n",
            "6753                             Salcedo Village   \n",
            "6758                             Legaspi Village   \n",
            "6815                                  Santa Cruz   \n",
            "6817                                     Palanan   \n",
            "\n",
            "                                       locality_verbose   longitude  zipcode  \\\n",
            "0                          Salcedo Village, Makati City  121.024638      NaN   \n",
            "1     Greenbelt 3, San Lorenzo, Makati City, Makati ...  121.021325      NaN   \n",
            "2                                Poblacion, Makati City  121.029800   1210.0   \n",
            "7     Little Tokyo, Legaspi Village, Makati City, Ma...  121.014101      NaN   \n",
            "10    Greenbelt 2, San Lorenzo, Makati City, Makati ...  121.020485      NaN   \n",
            "...                                                 ...         ...      ...   \n",
            "6598                            Valenzuela, Makati City  121.024976      NaN   \n",
            "6753                       Salcedo Village, Makati City  121.022078      NaN   \n",
            "6758                       Legaspi Village, Makati City  121.016854      NaN   \n",
            "6815                            Santa Cruz, Makati City  121.013978      NaN   \n",
            "6817                               Palanan, Makati City  121.002089      NaN   \n",
            "\n",
            "     aggregate_rating rating_color rating_text votes  rating_numeric  \n",
            "0                 4.9       3F7E00   Excellent  1394               5  \n",
            "1                 4.6       3F7E00   Excellent   602               5  \n",
            "2                 4.0       5BA829   Very Good   563               4  \n",
            "7                 4.5       3F7E00   Excellent  1031               5  \n",
            "10                4.5       3F7E00   Excellent   700               5  \n",
            "...               ...          ...         ...   ...             ...  \n",
            "6598              0.0       CBCBC8   Not rated     3               0  \n",
            "6753              3.2       CDD614     Average    15               2  \n",
            "6758              3.1       CDD614     Average    13               2  \n",
            "6815              3.5       9ACD32        Good    30               3  \n",
            "6817              3.4       CDD614     Average    16               2  \n",
            "\n",
            "[976 rows x 36 columns]\n",
            "            id  average_cost_for_two book_url             cuisines currency  \\\n",
            "11     6318506                  1500      NaN      Japanese, Sushi        P   \n",
            "13     6314302                  1776      NaN     Japanese, Korean        P   \n",
            "15    18189371                  1000      NaN              Chinese        P   \n",
            "18     6314111                  1200      NaN      Japanese, Ramen        P   \n",
            "43     6315846                   800      NaN             American        P   \n",
            "...        ...                   ...      ...                  ...      ...   \n",
            "6193   6303082                   250      NaN  Desserts, Ice Cream        P   \n",
            "6194  18653131                   500      NaN         Healthy Food        P   \n",
            "6195  18518835                   200      NaN    Juices, Beverages        P   \n",
            "6196  18648009                   500      NaN               Coffee        P   \n",
            "6801  18541072                   850      NaN         Healthy Food        P   \n",
            "\n",
            "                          deeplink  \\\n",
            "11     zomato://restaurant/6318506   \n",
            "13     zomato://restaurant/6314302   \n",
            "15    zomato://restaurant/18189371   \n",
            "18     zomato://restaurant/6314111   \n",
            "43     zomato://restaurant/6315846   \n",
            "...                            ...   \n",
            "6193   zomato://restaurant/6303082   \n",
            "6194  zomato://restaurant/18653131   \n",
            "6195  zomato://restaurant/18518835   \n",
            "6196  zomato://restaurant/18648009   \n",
            "6801  zomato://restaurant/18541072   \n",
            "\n",
            "                                             events_url  \\\n",
            "11    https://www.zomato.com/manila/ooma-ortigas-man...   \n",
            "13    https://www.zomato.com/manila/sambo-kojin-orti...   \n",
            "15    https://www.zomato.com/manila/din-tai-fung-ort...   \n",
            "18    https://www.zomato.com/manila/ippudo-ortigas-m...   \n",
            "43    https://www.zomato.com/manila/frankie-s-new-yo...   \n",
            "...                                                 ...   \n",
            "6193  https://www.zomato.com/manila/dippin-dots-2-or...   \n",
            "6194  https://www.zomato.com/manila/bowld-ortigas-ma...   \n",
            "6195  https://www.zomato.com/manila/big-chill-2-orti...   \n",
            "6196  https://www.zomato.com/manila/coffee-bean-tea-...   \n",
            "6801  https://www.zomato.com/manila/saladstop-ortiga...   \n",
            "\n",
            "                                         featured_image  has_online_delivery  \\\n",
            "11    https://b.zmtcdn.com/data/res_imagery/6318506_...                    0   \n",
            "13    https://b.zmtcdn.com/data/pictures/chains/1/63...                    0   \n",
            "15    https://b.zmtcdn.com/data/res_imagery/18189371...                    0   \n",
            "18    https://b.zmtcdn.com/data/pictures/chains/1/63...                    0   \n",
            "43    https://b.zmtcdn.com/data/res_imagery/6315846_...                    0   \n",
            "...                                                 ...                  ...   \n",
            "6193  https://b.zmtcdn.com/data/pictures/chains/6/63...                    0   \n",
            "6194                                                NaN                    0   \n",
            "6195  https://b.zmtcdn.com/data/res_imagery/6300445_...                    0   \n",
            "6196  https://b.zmtcdn.com/data/pictures/chains/1/63...                    0   \n",
            "6801  https://b.zmtcdn.com/data/res_imagery/6316583_...                    0   \n",
            "\n",
            "      has_table_booking  ...   latitude  \\\n",
            "11                    0  ...  14.583873   \n",
            "13                    0  ...  14.584386   \n",
            "15                    0  ...  14.583723   \n",
            "18                    0  ...  14.583244   \n",
            "43                    0  ...  14.583243   \n",
            "...                 ...  ...        ...   \n",
            "6193                  0  ...  14.584815   \n",
            "6194                  0  ...  14.584346   \n",
            "6195                  0  ...  14.584778   \n",
            "6196                  0  ...  14.585845   \n",
            "6801                  0  ...  14.583800   \n",
            "\n",
            "                                    locality  \\\n",
            "11    SM Megamall, Ortigas, Mandaluyong City   \n",
            "13    SM Megamall, Ortigas, Mandaluyong City   \n",
            "15    SM Megamall, Ortigas, Mandaluyong City   \n",
            "18    SM Megamall, Ortigas, Mandaluyong City   \n",
            "43    SM Megamall, Ortigas, Mandaluyong City   \n",
            "...                                      ...   \n",
            "6193   The Podium, Ortigas, Mandaluyong City   \n",
            "6194   The Podium, Ortigas, Mandaluyong City   \n",
            "6195   The Podium, Ortigas, Mandaluyong City   \n",
            "6196   The Podium, Ortigas, Mandaluyong City   \n",
            "6801  SM Megamall, Ortigas, Mandaluyong City   \n",
            "\n",
            "                                       locality_verbose   longitude  zipcode  \\\n",
            "11    SM Megamall, Ortigas, Mandaluyong City, Mandal...  121.056168      NaN   \n",
            "13    SM Megamall, Ortigas, Mandaluyong City, Mandal...  121.056983      NaN   \n",
            "15    SM Megamall, Ortigas, Mandaluyong City, Mandal...  121.056161      NaN   \n",
            "18    SM Megamall, Ortigas, Mandaluyong City, Mandal...  121.055956      NaN   \n",
            "43    SM Megamall, Ortigas, Mandaluyong City, Mandal...  121.055954      NaN   \n",
            "...                                                 ...         ...      ...   \n",
            "6193  The Podium, Ortigas, Mandaluyong City, Mandalu...  121.058888      NaN   \n",
            "6194  The Podium, Ortigas, Mandaluyong City, Mandalu...  121.060204      NaN   \n",
            "6195  The Podium, Ortigas, Mandaluyong City, Mandalu...  121.058898      NaN   \n",
            "6196  The Podium, Ortigas, Mandaluyong City, Mandalu...  121.059284      NaN   \n",
            "6801  SM Megamall, Ortigas, Mandaluyong City, Mandal...  121.056113      NaN   \n",
            "\n",
            "     aggregate_rating rating_color rating_text votes  rating_numeric  \n",
            "11                4.8       3F7E00   Excellent   762               5  \n",
            "13                4.7       3F7E00   Excellent   570               5  \n",
            "15                4.6       3F7E00   Excellent   657               5  \n",
            "18                4.6       3F7E00   Excellent   939               5  \n",
            "43                4.4       5BA829   Very Good   575               4  \n",
            "...               ...          ...         ...   ...             ...  \n",
            "6193              3.2       CDD614     Average     8               2  \n",
            "6194              0.0       CBCBC8   Not rated     2               0  \n",
            "6195              3.1       CDD614     Average     4               2  \n",
            "6196              0.0       CBCBC8   Not rated     2               0  \n",
            "6801              3.7       9ACD32        Good    40               3  \n",
            "\n",
            "[443 rows x 36 columns]\n",
            "            id  average_cost_for_two book_url             cuisines currency  \\\n",
            "11     6318506                  1500      NaN      Japanese, Sushi        P   \n",
            "13     6314302                  1776      NaN     Japanese, Korean        P   \n",
            "15    18189371                  1000      NaN              Chinese        P   \n",
            "18     6314111                  1200      NaN      Japanese, Ramen        P   \n",
            "43     6315846                   800      NaN             American        P   \n",
            "...        ...                   ...      ...                  ...      ...   \n",
            "6193   6303082                   250      NaN  Desserts, Ice Cream        P   \n",
            "6194  18653131                   500      NaN         Healthy Food        P   \n",
            "6195  18518835                   200      NaN    Juices, Beverages        P   \n",
            "6196  18648009                   500      NaN               Coffee        P   \n",
            "6801  18541072                   850      NaN         Healthy Food        P   \n",
            "\n",
            "                          deeplink  \\\n",
            "11     zomato://restaurant/6318506   \n",
            "13     zomato://restaurant/6314302   \n",
            "15    zomato://restaurant/18189371   \n",
            "18     zomato://restaurant/6314111   \n",
            "43     zomato://restaurant/6315846   \n",
            "...                            ...   \n",
            "6193   zomato://restaurant/6303082   \n",
            "6194  zomato://restaurant/18653131   \n",
            "6195  zomato://restaurant/18518835   \n",
            "6196  zomato://restaurant/18648009   \n",
            "6801  zomato://restaurant/18541072   \n",
            "\n",
            "                                             events_url  \\\n",
            "11    https://www.zomato.com/manila/ooma-ortigas-man...   \n",
            "13    https://www.zomato.com/manila/sambo-kojin-orti...   \n",
            "15    https://www.zomato.com/manila/din-tai-fung-ort...   \n",
            "18    https://www.zomato.com/manila/ippudo-ortigas-m...   \n",
            "43    https://www.zomato.com/manila/frankie-s-new-yo...   \n",
            "...                                                 ...   \n",
            "6193  https://www.zomato.com/manila/dippin-dots-2-or...   \n",
            "6194  https://www.zomato.com/manila/bowld-ortigas-ma...   \n",
            "6195  https://www.zomato.com/manila/big-chill-2-orti...   \n",
            "6196  https://www.zomato.com/manila/coffee-bean-tea-...   \n",
            "6801  https://www.zomato.com/manila/saladstop-ortiga...   \n",
            "\n",
            "                                         featured_image  has_online_delivery  \\\n",
            "11    https://b.zmtcdn.com/data/res_imagery/6318506_...                    0   \n",
            "13    https://b.zmtcdn.com/data/pictures/chains/1/63...                    0   \n",
            "15    https://b.zmtcdn.com/data/res_imagery/18189371...                    0   \n",
            "18    https://b.zmtcdn.com/data/pictures/chains/1/63...                    0   \n",
            "43    https://b.zmtcdn.com/data/res_imagery/6315846_...                    0   \n",
            "...                                                 ...                  ...   \n",
            "6193  https://b.zmtcdn.com/data/pictures/chains/6/63...                    0   \n",
            "6194                                                NaN                    0   \n",
            "6195  https://b.zmtcdn.com/data/res_imagery/6300445_...                    0   \n",
            "6196  https://b.zmtcdn.com/data/pictures/chains/1/63...                    0   \n",
            "6801  https://b.zmtcdn.com/data/res_imagery/6316583_...                    0   \n",
            "\n",
            "      has_table_booking  ...   latitude  \\\n",
            "11                    0  ...  14.583873   \n",
            "13                    0  ...  14.584386   \n",
            "15                    0  ...  14.583723   \n",
            "18                    0  ...  14.583244   \n",
            "43                    0  ...  14.583243   \n",
            "...                 ...  ...        ...   \n",
            "6193                  0  ...  14.584815   \n",
            "6194                  0  ...  14.584346   \n",
            "6195                  0  ...  14.584778   \n",
            "6196                  0  ...  14.585845   \n",
            "6801                  0  ...  14.583800   \n",
            "\n",
            "                                    locality  \\\n",
            "11    SM Megamall, Ortigas, Mandaluyong City   \n",
            "13    SM Megamall, Ortigas, Mandaluyong City   \n",
            "15    SM Megamall, Ortigas, Mandaluyong City   \n",
            "18    SM Megamall, Ortigas, Mandaluyong City   \n",
            "43    SM Megamall, Ortigas, Mandaluyong City   \n",
            "...                                      ...   \n",
            "6193   The Podium, Ortigas, Mandaluyong City   \n",
            "6194   The Podium, Ortigas, Mandaluyong City   \n",
            "6195   The Podium, Ortigas, Mandaluyong City   \n",
            "6196   The Podium, Ortigas, Mandaluyong City   \n",
            "6801  SM Megamall, Ortigas, Mandaluyong City   \n",
            "\n",
            "                                       locality_verbose   longitude  zipcode  \\\n",
            "11    SM Megamall, Ortigas, Mandaluyong City, Mandal...  121.056168      NaN   \n",
            "13    SM Megamall, Ortigas, Mandaluyong City, Mandal...  121.056983      NaN   \n",
            "15    SM Megamall, Ortigas, Mandaluyong City, Mandal...  121.056161      NaN   \n",
            "18    SM Megamall, Ortigas, Mandaluyong City, Mandal...  121.055956      NaN   \n",
            "43    SM Megamall, Ortigas, Mandaluyong City, Mandal...  121.055954      NaN   \n",
            "...                                                 ...         ...      ...   \n",
            "6193  The Podium, Ortigas, Mandaluyong City, Mandalu...  121.058888      NaN   \n",
            "6194  The Podium, Ortigas, Mandaluyong City, Mandalu...  121.060204      NaN   \n",
            "6195  The Podium, Ortigas, Mandaluyong City, Mandalu...  121.058898      NaN   \n",
            "6196  The Podium, Ortigas, Mandaluyong City, Mandalu...  121.059284      NaN   \n",
            "6801  SM Megamall, Ortigas, Mandaluyong City, Mandal...  121.056113      NaN   \n",
            "\n",
            "     aggregate_rating rating_color rating_text votes  rating_numeric  \n",
            "11                4.8       3F7E00   Excellent   762               5  \n",
            "13                4.7       3F7E00   Excellent   570               5  \n",
            "15                4.6       3F7E00   Excellent   657               5  \n",
            "18                4.6       3F7E00   Excellent   939               5  \n",
            "43                4.4       5BA829   Very Good   575               4  \n",
            "...               ...          ...         ...   ...             ...  \n",
            "6193              3.2       CDD614     Average     8               2  \n",
            "6194              0.0       CBCBC8   Not rated     2               0  \n",
            "6195              3.1       CDD614     Average     4               2  \n",
            "6196              0.0       CBCBC8   Not rated     2               0  \n",
            "6801              3.7       9ACD32        Good    40               3  \n",
            "\n",
            "[443 rows x 36 columns]\n",
            "Empty DataFrame\n",
            "Columns: [id, average_cost_for_two, book_url, cuisines, currency, deeplink, events_url, featured_image, has_online_delivery, has_table_booking, include_bogo_offers, is_book_form_web_view, is_delivering_now, is_table_reservation_supported, is_zomato_book_res, menu_url, mezzo_provider, name, photos_url, price_range, thumb, url, address, city, city_id, country_id, latitude, locality, locality_verbose, longitude, zipcode, aggregate_rating, rating_color, rating_text, votes, rating_numeric]\n",
            "Index: []\n",
            "\n",
            "[0 rows x 36 columns]\n"
          ]
        }
      ],
      "source": [
        "\n",
        "assert 'Makati City' == exercise_4(merged_df, 'Makati City').city.unique()[0]\n",
        "assert (976, 36) == exercise_4(merged_df, 'Makati City').shape\n",
        "\n",
        "assert 'Mandaluyong City' == exercise_4(merged_df, 'Mandaluyong City').city.unique()[0]\n",
        "assert (443, 36) == exercise_4(merged_df, 'Mandaluyong City').shape\n",
        "\n",
        "assert (0, 36) == exercise_4(merged_df, 'Quezon  City').shape"
      ]
    },
    {
      "cell_type": "markdown",
      "id": "ca7bf3c1",
      "metadata": {
        "id": "ca7bf3c1"
      },
      "source": [
        "5. Create a function to filter the dataframe to only contain certain columns passed in the function. Expected returned value is a dataframe **(1pt)**"
      ]
    },
    {
      "cell_type": "code",
      "execution_count": 42,
      "id": "59787577",
      "metadata": {
        "id": "59787577"
      },
      "outputs": [],
      "source": [
        "def exercise_5(merged_df, cols_to_filter):\n",
        "    filtered_df = merged_df[cols_to_filter]\n",
        "    print(filtered_df)\n",
        "    return filtered_df"
      ]
    },
    {
      "cell_type": "code",
      "execution_count": 44,
      "id": "da27c054",
      "metadata": {
        "id": "da27c054"
      },
      "outputs": [
        {
          "name": "stdout",
          "output_type": "stream",
          "text": [
            "                           name                                    cuisines  \\\n",
            "0             Mendokoro Ramenba                             Japanese, Ramen   \n",
            "1            Soban K-Town Grill                   Korean, Grill, Korean BBQ   \n",
            "2               Filling Station                          American, Filipino   \n",
            "3                Romantic Baboy                                      Korean   \n",
            "4                NIU by Vikings  Seafood, American, Mediterranean, Japanese   \n",
            "...                         ...                                         ...   \n",
            "6825              Trader Juan's                              Deli, Filipino   \n",
            "6826                   Jollibee                                   Fast Food   \n",
            "6827                 Goldilocks                            Bakery, Filipino   \n",
            "6828  Red Buffalo Wings & Pizza                           American, Italian   \n",
            "6829                  Greenwich                            Pizza, Fast Food   \n",
            "\n",
            "                 city  aggregate_rating  \n",
            "0         Makati City               4.9  \n",
            "1         Makati City               4.6  \n",
            "2         Makati City               4.0  \n",
            "3         Quezon City               4.0  \n",
            "4         Taguig City               4.6  \n",
            "...               ...               ...  \n",
            "6825  Muntinlupa City               2.9  \n",
            "6826    Caloocan City               3.0  \n",
            "6827    Caloocan City               0.0  \n",
            "6828      Quezon City               3.7  \n",
            "6829    Caloocan City               0.0  \n",
            "\n",
            "[6830 rows x 4 columns]\n",
            "                           name                                    cuisines  \\\n",
            "0             Mendokoro Ramenba                             Japanese, Ramen   \n",
            "1            Soban K-Town Grill                   Korean, Grill, Korean BBQ   \n",
            "2               Filling Station                          American, Filipino   \n",
            "3                Romantic Baboy                                      Korean   \n",
            "4                NIU by Vikings  Seafood, American, Mediterranean, Japanese   \n",
            "...                         ...                                         ...   \n",
            "6825              Trader Juan's                              Deli, Filipino   \n",
            "6826                   Jollibee                                   Fast Food   \n",
            "6827                 Goldilocks                            Bakery, Filipino   \n",
            "6828  Red Buffalo Wings & Pizza                           American, Italian   \n",
            "6829                  Greenwich                            Pizza, Fast Food   \n",
            "\n",
            "                 city  aggregate_rating  \n",
            "0         Makati City               4.9  \n",
            "1         Makati City               4.6  \n",
            "2         Makati City               4.0  \n",
            "3         Quezon City               4.0  \n",
            "4         Taguig City               4.6  \n",
            "...               ...               ...  \n",
            "6825  Muntinlupa City               2.9  \n",
            "6826    Caloocan City               3.0  \n",
            "6827    Caloocan City               0.0  \n",
            "6828      Quezon City               3.7  \n",
            "6829    Caloocan City               0.0  \n",
            "\n",
            "[6830 rows x 4 columns]\n",
            "      average_cost_for_two book_url  \\\n",
            "0                     1000      NaN   \n",
            "1                     1300      NaN   \n",
            "2                     1600      NaN   \n",
            "3                     1000      NaN   \n",
            "4                     3000      NaN   \n",
            "...                    ...      ...   \n",
            "6825                  1000      NaN   \n",
            "6826                   400      NaN   \n",
            "6827                   450      NaN   \n",
            "6828                  1000      NaN   \n",
            "6829                   600      NaN   \n",
            "\n",
            "                                        cuisines currency  \\\n",
            "0                                Japanese, Ramen        P   \n",
            "1                      Korean, Grill, Korean BBQ        P   \n",
            "2                             American, Filipino        P   \n",
            "3                                         Korean        P   \n",
            "4     Seafood, American, Mediterranean, Japanese        P   \n",
            "...                                          ...      ...   \n",
            "6825                              Deli, Filipino        P   \n",
            "6826                                   Fast Food        P   \n",
            "6827                            Bakery, Filipino        P   \n",
            "6828                           American, Italian        P   \n",
            "6829                            Pizza, Fast Food        P   \n",
            "\n",
            "                          deeplink  \\\n",
            "0      zomato://restaurant/6316125   \n",
            "1     zomato://restaurant/18409457   \n",
            "2      zomato://restaurant/6307689   \n",
            "3     zomato://restaurant/18581637   \n",
            "4      zomato://restaurant/6315438   \n",
            "...                            ...   \n",
            "6825  zomato://restaurant/18635649   \n",
            "6826   zomato://restaurant/6318581   \n",
            "6827   zomato://restaurant/6318578   \n",
            "6828   zomato://restaurant/6309612   \n",
            "6829   zomato://restaurant/6318582   \n",
            "\n",
            "                                             events_url  \\\n",
            "0     https://www.zomato.com/manila/mendokoro-ramenb...   \n",
            "1     https://www.zomato.com/manila/soban-k-town-gri...   \n",
            "2     https://www.zomato.com/manila/filling-station-...   \n",
            "3     https://www.zomato.com/manila/romantic-baboy-t...   \n",
            "4     https://www.zomato.com/manila/niu-by-vikings-b...   \n",
            "...                                                 ...   \n",
            "6825  https://www.zomato.com/manila/trader-juans-fil...   \n",
            "6826  https://www.zomato.com/manila/jollibee-north-c...   \n",
            "6827  https://www.zomato.com/manila/goldilocks-north...   \n",
            "6828  https://www.zomato.com/manila/red-buffalo-wing...   \n",
            "6829  https://www.zomato.com/manila/greenwich-north-...   \n",
            "\n",
            "                                         featured_image  has_online_delivery  \\\n",
            "0     https://b.zmtcdn.com/data/reviews_photos/971/2...                    0   \n",
            "1     https://b.zmtcdn.com/data/res_imagery/18290970...                    0   \n",
            "2     https://b.zmtcdn.com/data/pictures/9/6307689/b...                    0   \n",
            "3     https://b.zmtcdn.com/data/reviews_photos/cc1/a...                    0   \n",
            "4     https://b.zmtcdn.com/data/pictures/chains/8/63...                    0   \n",
            "...                                                 ...                  ...   \n",
            "6825                                                NaN                    0   \n",
            "6826  http://b.zmtcdn.com/data/pictures/chains/0/630...                    0   \n",
            "6827  https://b.zmtcdn.com/data/res_imagery/6300003_...                    0   \n",
            "6828  https://b.zmtcdn.com/data/res_imagery/6309612_...                    0   \n",
            "6829  https://b.zmtcdn.com/data/pictures/chains/2/63...                    0   \n",
            "\n",
            "      has_table_booking  include_bogo_offers  is_book_form_web_view  \n",
            "0                     0                 True                    0.0  \n",
            "1                     0                 True                    0.0  \n",
            "2                     0                 True                    0.0  \n",
            "3                     0                 True                    0.0  \n",
            "4                     0                 True                    0.0  \n",
            "...                 ...                  ...                    ...  \n",
            "6825                  0                 True                    0.0  \n",
            "6826                  0                 True                    0.0  \n",
            "6827                  0                 True                    0.0  \n",
            "6828                  0                 True                    0.0  \n",
            "6829                  0                 True                    0.0  \n",
            "\n",
            "[6830 rows x 11 columns]\n",
            "      average_cost_for_two book_url  \\\n",
            "0                     1000      NaN   \n",
            "1                     1300      NaN   \n",
            "2                     1600      NaN   \n",
            "3                     1000      NaN   \n",
            "4                     3000      NaN   \n",
            "...                    ...      ...   \n",
            "6825                  1000      NaN   \n",
            "6826                   400      NaN   \n",
            "6827                   450      NaN   \n",
            "6828                  1000      NaN   \n",
            "6829                   600      NaN   \n",
            "\n",
            "                                        cuisines currency  \\\n",
            "0                                Japanese, Ramen        P   \n",
            "1                      Korean, Grill, Korean BBQ        P   \n",
            "2                             American, Filipino        P   \n",
            "3                                         Korean        P   \n",
            "4     Seafood, American, Mediterranean, Japanese        P   \n",
            "...                                          ...      ...   \n",
            "6825                              Deli, Filipino        P   \n",
            "6826                                   Fast Food        P   \n",
            "6827                            Bakery, Filipino        P   \n",
            "6828                           American, Italian        P   \n",
            "6829                            Pizza, Fast Food        P   \n",
            "\n",
            "                          deeplink  \\\n",
            "0      zomato://restaurant/6316125   \n",
            "1     zomato://restaurant/18409457   \n",
            "2      zomato://restaurant/6307689   \n",
            "3     zomato://restaurant/18581637   \n",
            "4      zomato://restaurant/6315438   \n",
            "...                            ...   \n",
            "6825  zomato://restaurant/18635649   \n",
            "6826   zomato://restaurant/6318581   \n",
            "6827   zomato://restaurant/6318578   \n",
            "6828   zomato://restaurant/6309612   \n",
            "6829   zomato://restaurant/6318582   \n",
            "\n",
            "                                             events_url  \\\n",
            "0     https://www.zomato.com/manila/mendokoro-ramenb...   \n",
            "1     https://www.zomato.com/manila/soban-k-town-gri...   \n",
            "2     https://www.zomato.com/manila/filling-station-...   \n",
            "3     https://www.zomato.com/manila/romantic-baboy-t...   \n",
            "4     https://www.zomato.com/manila/niu-by-vikings-b...   \n",
            "...                                                 ...   \n",
            "6825  https://www.zomato.com/manila/trader-juans-fil...   \n",
            "6826  https://www.zomato.com/manila/jollibee-north-c...   \n",
            "6827  https://www.zomato.com/manila/goldilocks-north...   \n",
            "6828  https://www.zomato.com/manila/red-buffalo-wing...   \n",
            "6829  https://www.zomato.com/manila/greenwich-north-...   \n",
            "\n",
            "                                         featured_image  has_online_delivery  \\\n",
            "0     https://b.zmtcdn.com/data/reviews_photos/971/2...                    0   \n",
            "1     https://b.zmtcdn.com/data/res_imagery/18290970...                    0   \n",
            "2     https://b.zmtcdn.com/data/pictures/9/6307689/b...                    0   \n",
            "3     https://b.zmtcdn.com/data/reviews_photos/cc1/a...                    0   \n",
            "4     https://b.zmtcdn.com/data/pictures/chains/8/63...                    0   \n",
            "...                                                 ...                  ...   \n",
            "6825                                                NaN                    0   \n",
            "6826  http://b.zmtcdn.com/data/pictures/chains/0/630...                    0   \n",
            "6827  https://b.zmtcdn.com/data/res_imagery/6300003_...                    0   \n",
            "6828  https://b.zmtcdn.com/data/res_imagery/6309612_...                    0   \n",
            "6829  https://b.zmtcdn.com/data/pictures/chains/2/63...                    0   \n",
            "\n",
            "      has_table_booking  include_bogo_offers  is_book_form_web_view  \n",
            "0                     0                 True                    0.0  \n",
            "1                     0                 True                    0.0  \n",
            "2                     0                 True                    0.0  \n",
            "3                     0                 True                    0.0  \n",
            "4                     0                 True                    0.0  \n",
            "...                 ...                  ...                    ...  \n",
            "6825                  0                 True                    0.0  \n",
            "6826                  0                 True                    0.0  \n",
            "6827                  0                 True                    0.0  \n",
            "6828                  0                 True                    0.0  \n",
            "6829                  0                 True                    0.0  \n",
            "\n",
            "[6830 rows x 11 columns]\n"
          ]
        }
      ],
      "source": [
        "cols = ['name', 'cuisines', 'city', 'aggregate_rating']\n",
        "assert sorted(cols) == sorted(exercise_5(merged_df, cols).columns)\n",
        "assert (6830, 4) == exercise_5(merged_df, cols).shape\n",
        "\n",
        "cols = ['average_cost_for_two', 'book_url', 'cuisines', 'currency', 'deeplink',\n",
        "       'events_url', 'featured_image', 'has_online_delivery',\n",
        "       'has_table_booking', 'include_bogo_offers', 'is_book_form_web_view']\n",
        "assert sorted(cols) == sorted(exercise_5(merged_df, cols).columns)\n",
        "assert (6830, 11) == exercise_5(merged_df, cols).shape\n"
      ]
    },
    {
      "cell_type": "markdown",
      "id": "d69c7e2e",
      "metadata": {
        "id": "d69c7e2e"
      },
      "source": [
        "6.  What is the most common restaurant name in the dataset? **(2pts)** Write down your answer and show code used to come up with the answer."
      ]
    },
    {
      "cell_type": "markdown",
      "id": "cf9cdab1",
      "metadata": {
        "id": "cf9cdab1"
      },
      "source": [
        "Starbucks"
      ]
    },
    {
      "cell_type": "code",
      "execution_count": 79,
      "id": "41dadbaa",
      "metadata": {},
      "outputs": [
        {
          "data": {
            "text/plain": [
              "'Starbucks'"
            ]
          },
          "execution_count": 79,
          "metadata": {},
          "output_type": "execute_result"
        }
      ],
      "source": [
        "merged_df.name.mode()[0]"
      ]
    },
    {
      "cell_type": "markdown",
      "id": "7675b4b1",
      "metadata": {
        "id": "7675b4b1"
      },
      "source": [
        "7. Which restaurant has the most expensive average cost for two? **(2pts)** Write down your answer and show code used to come up with the answer."
      ]
    },
    {
      "cell_type": "markdown",
      "id": "ed7a2d27",
      "metadata": {},
      "source": [
        "The Tasting Room"
      ]
    },
    {
      "cell_type": "code",
      "execution_count": 67,
      "id": "b447b440",
      "metadata": {
        "id": "b447b440"
      },
      "outputs": [
        {
          "data": {
            "text/plain": [
              "'The Tasting Room'"
            ]
          },
          "execution_count": 67,
          "metadata": {},
          "output_type": "execute_result"
        }
      ],
      "source": [
        "merged_df.loc[merged_df['average_cost_for_two'].idxmax(), 'name']"
      ]
    },
    {
      "cell_type": "markdown",
      "id": "af873fb7",
      "metadata": {
        "id": "af873fb7"
      },
      "source": [
        "8. How many restaurants do not have a zipcode? **(1pt)** Write down your answer and show code used to come up with the answer."
      ]
    },
    {
      "cell_type": "markdown",
      "id": "ae2ea5dc",
      "metadata": {},
      "source": [
        "6713"
      ]
    },
    {
      "cell_type": "code",
      "execution_count": 76,
      "id": "43f1234a",
      "metadata": {
        "id": "43f1234a"
      },
      "outputs": [
        {
          "name": "stdout",
          "output_type": "stream",
          "text": [
            "6713\n"
          ]
        }
      ],
      "source": [
        "\n",
        "nozip = len(merged_df) - merged_df['zipcode'].count()\n",
        "print(nozip)"
      ]
    },
    {
      "cell_type": "markdown",
      "id": "9347ac03",
      "metadata": {
        "id": "9347ac03"
      },
      "source": [
        "9. How many restaurants in the dataset allow online delivery? **(1pt)** Write down your answer and show code used to come up with the answer."
      ]
    },
    {
      "cell_type": "markdown",
      "id": "545ca16b",
      "metadata": {},
      "source": [
        "0"
      ]
    },
    {
      "cell_type": "code",
      "execution_count": 84,
      "id": "24b62212",
      "metadata": {
        "id": "24b62212"
      },
      "outputs": [
        {
          "name": "stdout",
          "output_type": "stream",
          "text": [
            "0\n"
          ]
        }
      ],
      "source": [
        "hasonlinedel = merged_df['has_online_delivery'].sum()\n",
        "print(hasonlinedel)"
      ]
    },
    {
      "cell_type": "markdown",
      "id": "7f2c7aa3",
      "metadata": {
        "id": "7f2c7aa3"
      },
      "source": [
        "10. Which locatlity has more expensive food? Poblacion or Salcedo Village? **(3pts)** Write down your answer and show code used to come up with the answer.\n"
      ]
    },
    {
      "cell_type": "markdown",
      "id": "58e5f261",
      "metadata": {},
      "source": [
        "Salcedo"
      ]
    },
    {
      "cell_type": "code",
      "execution_count": 86,
      "id": "8fb7ce16",
      "metadata": {
        "id": "8fb7ce16"
      },
      "outputs": [
        {
          "name": "stdout",
          "output_type": "stream",
          "text": [
            "Poblacion food cost: 898.2142857142857\n",
            "Salcedo food cost: 989.1025641025641\n"
          ]
        }
      ],
      "source": [
        "poblacion = merged_df[merged_df['locality'] == 'Poblacion']\n",
        "salcedo = merged_df[merged_df['locality'] == 'Salcedo Village']\n",
        "\n",
        "pob_cost = poblacion['average_cost_for_two'].mean()\n",
        "sal_cost = salcedo['average_cost_for_two'].mean()\n",
        "\n",
        "print(f'Poblacion food cost: {pob_cost}')\n",
        "print(f'Salcedo food cost: {sal_cost}')"
      ]
    }
  ],
  "metadata": {
    "colab": {
      "provenance": []
    },
    "kernelspec": {
      "display_name": "Python 3",
      "language": "python",
      "name": "python3"
    },
    "language_info": {
      "codemirror_mode": {
        "name": "ipython",
        "version": 3
      },
      "file_extension": ".py",
      "mimetype": "text/x-python",
      "name": "python",
      "nbconvert_exporter": "python",
      "pygments_lexer": "ipython3",
      "version": "3.12.2"
    }
  },
  "nbformat": 4,
  "nbformat_minor": 5
}
