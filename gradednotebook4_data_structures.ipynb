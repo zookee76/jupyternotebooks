{
  "cells": [
    {
      "cell_type": "markdown",
      "id": "Jse5S3OLifhn",
      "metadata": {
        "id": "Jse5S3OLifhn"
      },
      "source": [
        "## Data Structures in Python\n",
        "\n",
        "*Prepared by:*\n",
        "**Eduardo Valdez**  \n",
        "Faculty, Software Technology Department  \n",
        "College of Computer Studies - De La Salle University"
      ]
    },
    {
      "cell_type": "markdown",
      "id": "dc2e7bb6",
      "metadata": {
        "id": "dc2e7bb6"
      },
      "source": [
        "# List"
      ]
    },
    {
      "cell_type": "markdown",
      "id": "2e293071",
      "metadata": {
        "id": "2e293071"
      },
      "source": [
        "A list is a container of values for **any** data types."
      ]
    },
    {
      "cell_type": "code",
      "execution_count": 2,
      "id": "5ee4213f",
      "metadata": {
        "id": "5ee4213f"
      },
      "outputs": [],
      "source": [
        "my_list = ['Juan', 'Maria', 'Pedro', 1, True, 3.0]"
      ]
    },
    {
      "cell_type": "markdown",
      "id": "73ed6d66",
      "metadata": {
        "id": "73ed6d66"
      },
      "source": [
        "## Accessing items in list"
      ]
    },
    {
      "cell_type": "markdown",
      "id": "5b3577b2",
      "metadata": {
        "id": "5b3577b2"
      },
      "source": [
        "Take note that indexing in Python is 0-based. Meaning 0 index referst the first value in a list."
      ]
    },
    {
      "cell_type": "code",
      "execution_count": 3,
      "id": "35daba6d",
      "metadata": {
        "id": "35daba6d",
        "outputId": "e10b24a7-a9c7-4704-85ab-1eb4680d9924"
      },
      "outputs": [
        {
          "data": {
            "text/plain": [
              "'Juan'"
            ]
          },
          "execution_count": 3,
          "metadata": {},
          "output_type": "execute_result"
        }
      ],
      "source": [
        "my_list[0]"
      ]
    },
    {
      "cell_type": "code",
      "execution_count": 4,
      "id": "5e0f322a",
      "metadata": {
        "id": "5e0f322a",
        "outputId": "071e3769-8842-4b3b-fc4b-7e93db322696"
      },
      "outputs": [
        {
          "data": {
            "text/plain": [
              "['Juan', 'Maria', 'Pedro']"
            ]
          },
          "execution_count": 4,
          "metadata": {},
          "output_type": "execute_result"
        }
      ],
      "source": [
        "my_list[0:3]"
      ]
    },
    {
      "cell_type": "code",
      "execution_count": 15,
      "id": "031dbc03",
      "metadata": {
        "id": "031dbc03",
        "outputId": "d0717021-ed2c-484f-eed7-3a72cb1ded38"
      },
      "outputs": [
        {
          "data": {
            "text/plain": [
              "3.0"
            ]
          },
          "execution_count": 15,
          "metadata": {},
          "output_type": "execute_result"
        }
      ],
      "source": [
        "my_list[-1]"
      ]
    },
    {
      "cell_type": "code",
      "execution_count": 12,
      "id": "8d384db7",
      "metadata": {
        "id": "8d384db7",
        "outputId": "9ccc96e1-50f7-4d12-b7eb-07ed8e61c8f2"
      },
      "outputs": [
        {
          "data": {
            "text/plain": [
              "['Pedro', 1, True]"
            ]
          },
          "execution_count": 12,
          "metadata": {},
          "output_type": "execute_result"
        }
      ],
      "source": [
        "my_list[-4:-1]"
      ]
    },
    {
      "cell_type": "markdown",
      "id": "cf3ad978",
      "metadata": {
        "id": "cf3ad978"
      },
      "source": [
        "## List Operations"
      ]
    },
    {
      "cell_type": "markdown",
      "id": "67ed6a08",
      "metadata": {
        "id": "67ed6a08"
      },
      "source": [
        "Concatenating Lists"
      ]
    },
    {
      "cell_type": "code",
      "execution_count": 16,
      "id": "1f01db62",
      "metadata": {
        "id": "1f01db62",
        "outputId": "2e81394e-7945-4bd0-ffc2-e23104c58199"
      },
      "outputs": [
        {
          "data": {
            "text/plain": [
              "['Juan', 'Maria', 'Pedro', 1, True, 3.0]"
            ]
          },
          "execution_count": 16,
          "metadata": {},
          "output_type": "execute_result"
        }
      ],
      "source": [
        "list1 = ['Juan', 'Maria', 'Pedro']\n",
        "list2 = [1, True, 3.0]\n",
        "my_list = list1+list2\n",
        "my_list"
      ]
    },
    {
      "cell_type": "markdown",
      "id": "3c8a6c74",
      "metadata": {
        "id": "3c8a6c74"
      },
      "source": [
        "Updating items"
      ]
    },
    {
      "cell_type": "code",
      "execution_count": 18,
      "id": "9e5df4d1",
      "metadata": {
        "id": "9e5df4d1",
        "outputId": "b61ee87b-63a1-4a07-f9fc-2f385de0ba58"
      },
      "outputs": [
        {
          "data": {
            "text/plain": [
              "['Dela Cruz', 'Maria', 'Pedro', 1, True, 3.0]"
            ]
          },
          "execution_count": 18,
          "metadata": {},
          "output_type": "execute_result"
        }
      ],
      "source": [
        "my_list = ['Juan', 'Maria', 'Pedro', 1, True, 3.0]\n",
        "my_list[0] = 'Dela Cruz'\n",
        "\n",
        "my_list"
      ]
    },
    {
      "cell_type": "markdown",
      "id": "66a33b2f",
      "metadata": {
        "id": "66a33b2f"
      },
      "source": [
        "Appending items"
      ]
    },
    {
      "cell_type": "code",
      "execution_count": 19,
      "id": "bce75553",
      "metadata": {
        "id": "bce75553",
        "outputId": "443daa88-f753-42c9-9b66-3deb072143f0"
      },
      "outputs": [
        {
          "data": {
            "text/plain": [
              "['Juan', 'Maria', 'Pedro', 1, True, 3.0, 'Dela Cruz']"
            ]
          },
          "execution_count": 19,
          "metadata": {},
          "output_type": "execute_result"
        }
      ],
      "source": [
        "my_list = ['Juan', 'Maria', 'Pedro', 1, True, 3.0]\n",
        "my_list.append('Dela Cruz')\n",
        "\n",
        "my_list"
      ]
    },
    {
      "cell_type": "markdown",
      "id": "44d471c2",
      "metadata": {
        "id": "44d471c2"
      },
      "source": [
        "Insert"
      ]
    },
    {
      "cell_type": "code",
      "execution_count": 20,
      "id": "d14af74a",
      "metadata": {
        "id": "d14af74a",
        "outputId": "4b20ed55-4a18-4664-98f8-0e4dc37cb9d2"
      },
      "outputs": [
        {
          "data": {
            "text/plain": [
              "['Juan', 'Dela Cruz', 'Maria', 'Pedro', 1, True, 3.0]"
            ]
          },
          "execution_count": 20,
          "metadata": {},
          "output_type": "execute_result"
        }
      ],
      "source": [
        "my_list = ['Juan', 'Maria', 'Pedro', 1, True, 3.0]\n",
        "my_list.insert(1, 'Dela Cruz')\n",
        "\n",
        "my_list"
      ]
    },
    {
      "cell_type": "markdown",
      "id": "94ffc767",
      "metadata": {
        "id": "94ffc767"
      },
      "source": [
        "Removing an item from the list\n"
      ]
    },
    {
      "cell_type": "code",
      "execution_count": 21,
      "id": "210c15e4",
      "metadata": {
        "id": "210c15e4",
        "outputId": "4b3fb045-0ae4-4c72-cc7b-de133001444f"
      },
      "outputs": [
        {
          "data": {
            "text/plain": [
              "['Juan', 'Maria', 'Pedro', True, 3.0]"
            ]
          },
          "execution_count": 21,
          "metadata": {},
          "output_type": "execute_result"
        }
      ],
      "source": [
        "my_list = ['Juan', 'Maria', 'Pedro', 1, True, 3.0]\n",
        "my_list.pop(3)\n",
        "\n",
        "my_list\n"
      ]
    },
    {
      "cell_type": "markdown",
      "id": "979c07e9",
      "metadata": {
        "id": "979c07e9"
      },
      "source": [
        "Nested Lists"
      ]
    },
    {
      "cell_type": "code",
      "execution_count": 30,
      "id": "f03d1647",
      "metadata": {
        "id": "f03d1647",
        "outputId": "c8f209e3-095e-49e4-f7b5-16ee08c46dfd"
      },
      "outputs": [
        {
          "name": "stdout",
          "output_type": "stream",
          "text": [
            "[['Juan', 'Maria', 'Pedro'], [1, True, 3.0]]\n"
          ]
        }
      ],
      "source": [
        "list1 = ['Juan', 'Maria', 'Pedro']\n",
        "list2 = [1, True, 3.0]\n",
        "\n",
        "my_list = [list1, list2]\n",
        "my_list[1][1]\n",
        "print(my_list)"
      ]
    },
    {
      "cell_type": "markdown",
      "id": "95a41922",
      "metadata": {
        "id": "95a41922"
      },
      "source": [
        "## List Comprehension"
      ]
    },
    {
      "cell_type": "markdown",
      "id": "5b66cb20",
      "metadata": {
        "id": "5b66cb20"
      },
      "source": [
        "List comprehension is a more syntactic way of creating a list based on another list."
      ]
    },
    {
      "cell_type": "code",
      "execution_count": 29,
      "id": "94c7cc78",
      "metadata": {
        "id": "94c7cc78",
        "outputId": "699bb52b-84ec-4917-9a29-d964c65f7477"
      },
      "outputs": [
        {
          "name": "stdout",
          "output_type": "stream",
          "text": [
            "[2, 4]\n"
          ]
        }
      ],
      "source": [
        "list1 = [1, 2, 3, 4]\n",
        "list2 = []\n",
        "\n",
        "for x in list1:\n",
        "    if x % 2 == 0:\n",
        "        list2.append(x)\n",
        "print(list2)\n"
      ]
    },
    {
      "cell_type": "code",
      "execution_count": null,
      "id": "75505325",
      "metadata": {
        "id": "75505325",
        "outputId": "ed519f06-a0d1-4c6c-e202-ce0e2283b64f"
      },
      "outputs": [
        {
          "name": "stdout",
          "output_type": "stream",
          "text": [
            "[2, 4]\n"
          ]
        }
      ],
      "source": [
        "list1 = [1, 2, 3, 4]\n",
        "list2 = [elem for elem in list1 if elem % 2 == 0]\n",
        "print(list2)"
      ]
    },
    {
      "cell_type": "markdown",
      "id": "850920a2",
      "metadata": {
        "id": "850920a2"
      },
      "source": [
        "## Common List Functions"
      ]
    },
    {
      "cell_type": "code",
      "execution_count": null,
      "id": "dcfca535",
      "metadata": {
        "id": "dcfca535",
        "outputId": "823bc5c0-1d80-4030-e894-45906de44dda"
      },
      "outputs": [
        {
          "data": {
            "text/plain": [
              "[-1, 0, 1, 4, 7, 12, 45, 55]"
            ]
          },
          "execution_count": 35,
          "metadata": {},
          "output_type": "execute_result"
        }
      ],
      "source": [
        "unsorted_list = [1,45,7,12, 4, 0, -1, 55]\n",
        "sorted(unsorted_list)"
      ]
    },
    {
      "cell_type": "code",
      "execution_count": null,
      "id": "e93ac42f",
      "metadata": {
        "id": "e93ac42f",
        "outputId": "190e0b81-847b-44c9-d492-6047f7a8c3eb"
      },
      "outputs": [
        {
          "data": {
            "text/plain": [
              "[-1, 0, 1, 4, 7, 12, 45, 55]"
            ]
          },
          "execution_count": 37,
          "metadata": {},
          "output_type": "execute_result"
        }
      ],
      "source": [
        "unsorted_list.sort()\n",
        "unsorted_list"
      ]
    },
    {
      "cell_type": "code",
      "execution_count": null,
      "id": "3ecdb457",
      "metadata": {
        "id": "3ecdb457",
        "outputId": "0be77bee-0c33-4f9e-c550-25aee6dd048e"
      },
      "outputs": [
        {
          "data": {
            "text/plain": [
              "[55, 45, 12, 7, 4, 1, 0, -1]"
            ]
          },
          "execution_count": 41,
          "metadata": {},
          "output_type": "execute_result"
        }
      ],
      "source": [
        "unsorted_list.reverse()\n",
        "unsorted_list"
      ]
    },
    {
      "cell_type": "code",
      "execution_count": null,
      "id": "e648ca54",
      "metadata": {
        "id": "e648ca54",
        "outputId": "baf0b116-ac95-4352-c1ee-001870e59332"
      },
      "outputs": [
        {
          "data": {
            "text/plain": [
              "8"
            ]
          },
          "execution_count": 38,
          "metadata": {},
          "output_type": "execute_result"
        }
      ],
      "source": [
        "len(unsorted_list)"
      ]
    },
    {
      "cell_type": "markdown",
      "id": "6bdd797b",
      "metadata": {
        "id": "6bdd797b"
      },
      "source": [
        "# Set"
      ]
    },
    {
      "cell_type": "markdown",
      "id": "a453137b",
      "metadata": {
        "id": "a453137b"
      },
      "source": [
        "A set is a collection which is **unordered**, **immutable**, and **unindexed**. Sets cannot have duplicate items."
      ]
    },
    {
      "cell_type": "code",
      "execution_count": null,
      "id": "99d4f60b",
      "metadata": {
        "id": "99d4f60b"
      },
      "outputs": [],
      "source": [
        "my_set = {1, 2, 3, 4, 5, 6, 7}\n",
        "my_set"
      ]
    },
    {
      "cell_type": "code",
      "execution_count": null,
      "id": "f19b6489",
      "metadata": {
        "id": "f19b6489",
        "outputId": "ca619702-fec6-4da0-8e4c-fb6c7210dcad"
      },
      "outputs": [
        {
          "data": {
            "text/plain": [
              "{1, 2, 3, 4, 5, 6, 7}"
            ]
          },
          "execution_count": 21,
          "metadata": {},
          "output_type": "execute_result"
        }
      ],
      "source": [
        "my_set = set([1, 2, 3, 4, 5, 6, 7])\n",
        "my_set"
      ]
    },
    {
      "cell_type": "markdown",
      "id": "b728255f",
      "metadata": {
        "id": "b728255f"
      },
      "source": [
        "Add"
      ]
    },
    {
      "cell_type": "code",
      "execution_count": null,
      "id": "7c4d1f50",
      "metadata": {
        "id": "7c4d1f50",
        "outputId": "efbda571-aef0-4bec-e33b-bf27baf8df34"
      },
      "outputs": [
        {
          "data": {
            "text/plain": [
              "{1, 2, 3, 4, 5, 6, 7, 8}"
            ]
          },
          "execution_count": 29,
          "metadata": {},
          "output_type": "execute_result"
        }
      ],
      "source": [
        "my_set.add(8)\n",
        "my_set"
      ]
    },
    {
      "cell_type": "markdown",
      "id": "36a634b0",
      "metadata": {
        "id": "36a634b0"
      },
      "source": [
        "Remove"
      ]
    },
    {
      "cell_type": "code",
      "execution_count": null,
      "id": "00d01305",
      "metadata": {
        "id": "00d01305",
        "outputId": "3d92788e-adb7-45b9-f608-17dbc9ca3990"
      },
      "outputs": [
        {
          "data": {
            "text/plain": [
              "{1, 2, 3, 4, 5, 6, 7}"
            ]
          },
          "execution_count": 28,
          "metadata": {},
          "output_type": "execute_result"
        }
      ],
      "source": [
        "my_set.remove(8)\n",
        "my_set"
      ]
    },
    {
      "cell_type": "markdown",
      "id": "c10f5f4c",
      "metadata": {
        "id": "c10f5f4c"
      },
      "source": [
        "Join"
      ]
    },
    {
      "cell_type": "code",
      "execution_count": null,
      "id": "eaf24771",
      "metadata": {
        "id": "eaf24771",
        "outputId": "9060223a-1d4b-47b7-9795-a10f4f224e4f"
      },
      "outputs": [
        {
          "data": {
            "text/plain": [
              "{1, 2, 3, 4, 5}"
            ]
          },
          "execution_count": 30,
          "metadata": {},
          "output_type": "execute_result"
        }
      ],
      "source": [
        "set_1 = {1,2,3}\n",
        "set_2 = {3,4,5}\n",
        "set_1.union(set_2)"
      ]
    },
    {
      "cell_type": "markdown",
      "id": "7acafc07",
      "metadata": {
        "id": "7acafc07"
      },
      "source": [
        "There other additional functions that you can explore with sets https://www.w3schools.com/python/python_sets_methods.asp"
      ]
    },
    {
      "cell_type": "markdown",
      "id": "29013bd0",
      "metadata": {
        "id": "29013bd0"
      },
      "source": [
        "# Tuple"
      ]
    },
    {
      "cell_type": "markdown",
      "id": "3c4bccca",
      "metadata": {
        "id": "3c4bccca"
      },
      "source": [
        "Tuple is a collection of items which is ordered and **unchangeable**."
      ]
    },
    {
      "cell_type": "code",
      "execution_count": null,
      "id": "4130077f",
      "metadata": {
        "id": "4130077f",
        "outputId": "f5a4455a-268d-4f32-e919-dcfaa844f141"
      },
      "outputs": [
        {
          "data": {
            "text/plain": [
              "('Dela Cruz', 1, True, 3.0)"
            ]
          },
          "execution_count": 31,
          "metadata": {},
          "output_type": "execute_result"
        }
      ],
      "source": [
        "my_tuple = ('Dela Cruz', 1, True, 3.0)\n",
        "my_tuple"
      ]
    },
    {
      "cell_type": "markdown",
      "id": "deaedd88",
      "metadata": {
        "id": "deaedd88"
      },
      "source": [
        "Indexing"
      ]
    },
    {
      "cell_type": "code",
      "execution_count": null,
      "id": "be21c1a3",
      "metadata": {
        "id": "be21c1a3",
        "outputId": "1e78dce1-fad0-4131-86dd-c5c68dc65243"
      },
      "outputs": [
        {
          "data": {
            "text/plain": [
              "'Dela Cruz'"
            ]
          },
          "execution_count": 33,
          "metadata": {},
          "output_type": "execute_result"
        }
      ],
      "source": [
        "my_tuple[0]"
      ]
    },
    {
      "cell_type": "markdown",
      "id": "fc561e35",
      "metadata": {
        "id": "fc561e35"
      },
      "source": [
        "Join"
      ]
    },
    {
      "cell_type": "code",
      "execution_count": null,
      "id": "a9be1ff1",
      "metadata": {
        "id": "a9be1ff1",
        "outputId": "3f532e83-ce6f-4185-f34d-bcef47a0c596"
      },
      "outputs": [
        {
          "data": {
            "text/plain": [
              "('Dela Cruz', 1, True, 3.0)"
            ]
          },
          "execution_count": 34,
          "metadata": {},
          "output_type": "execute_result"
        }
      ],
      "source": [
        "tuple_1 = ('Dela Cruz', 1)\n",
        "tuple_2 = (True, 3.0)\n",
        "my_tuple = tuple_1 + tuple_2\n",
        "my_tuple"
      ]
    },
    {
      "cell_type": "markdown",
      "id": "990eee92",
      "metadata": {
        "id": "990eee92"
      },
      "source": [
        "# Dict"
      ]
    },
    {
      "cell_type": "markdown",
      "id": "92a9b9e6",
      "metadata": {
        "id": "92a9b9e6"
      },
      "source": [
        "Dictionaries (dict) are used to store data values in key and value pairs."
      ]
    },
    {
      "cell_type": "code",
      "execution_count": null,
      "id": "f29a55b2",
      "metadata": {
        "id": "f29a55b2"
      },
      "outputs": [],
      "source": [
        "student = {\n",
        "    \"fname\": \"Juan\",\n",
        "    \"lname\": \"Dela Cruz\",\n",
        "    \"age\": 21,\n",
        "    \"sex\": \"M\"\n",
        "}\n"
      ]
    },
    {
      "cell_type": "markdown",
      "id": "645e60c1",
      "metadata": {
        "id": "645e60c1"
      },
      "source": [
        "Accessing an item"
      ]
    },
    {
      "cell_type": "code",
      "execution_count": null,
      "id": "d4a4fc77",
      "metadata": {
        "id": "d4a4fc77",
        "outputId": "53904828-7e35-4762-910d-8c5d14894555"
      },
      "outputs": [
        {
          "name": "stdout",
          "output_type": "stream",
          "text": [
            "Juan\n",
            "21\n",
            "None\n"
          ]
        }
      ],
      "source": [
        "print(student[\"fname\"])\n",
        "print(student.get(\"age\"))\n",
        "print(student.get(\"occupation\"))\n"
      ]
    },
    {
      "cell_type": "markdown",
      "id": "a787ebb5",
      "metadata": {
        "id": "a787ebb5"
      },
      "source": [
        "Adding an item"
      ]
    },
    {
      "cell_type": "code",
      "execution_count": null,
      "id": "1afbf601",
      "metadata": {
        "id": "1afbf601",
        "outputId": "0da1f9b4-15b8-443f-b732-16522490a706"
      },
      "outputs": [
        {
          "name": "stdout",
          "output_type": "stream",
          "text": [
            "{'fname': 'Juan', 'lname': 'Dela Cruz', 'age': 21, 'sex': 'M', 'degree': 'BS CS'}\n"
          ]
        }
      ],
      "source": [
        "student[\"degree\"] = \"BS CS\"\n",
        "print(student)"
      ]
    },
    {
      "cell_type": "markdown",
      "id": "3a1f5796",
      "metadata": {
        "id": "3a1f5796"
      },
      "source": [
        "Common functions"
      ]
    },
    {
      "cell_type": "code",
      "execution_count": null,
      "id": "7a963a24",
      "metadata": {
        "id": "7a963a24",
        "outputId": "bf2779f4-d180-402b-fa26-11caebecd11b"
      },
      "outputs": [
        {
          "name": "stdout",
          "output_type": "stream",
          "text": [
            "dict_keys(['fname', 'lname', 'age', 'sex'])\n",
            "dict_values(['Juan', 'Dela Cruz', 21, 'M'])\n",
            "dict_items([('fname', 'Juan'), ('lname', 'Dela Cruz'), ('age', 21), ('sex', 'M')])\n"
          ]
        }
      ],
      "source": [
        "print(student.keys())\n",
        "print(student.values())\n",
        "print(student.items())"
      ]
    },
    {
      "cell_type": "code",
      "execution_count": null,
      "id": "7f59b90f",
      "metadata": {
        "id": "7f59b90f",
        "outputId": "82c9ead4-d560-4314-e3a5-4aca03b982fb"
      },
      "outputs": [
        {
          "name": "stdout",
          "output_type": "stream",
          "text": [
            "fname Juan\n",
            "lname Dela Cruz\n",
            "age 21\n",
            "sex M\n"
          ]
        }
      ],
      "source": [
        "for key, value in student.items():\n",
        "    print(key, value)"
      ]
    },
    {
      "cell_type": "code",
      "execution_count": null,
      "id": "a5971a18",
      "metadata": {
        "id": "a5971a18",
        "outputId": "a58d1a89-2048-424d-c5bd-865fb66ca918"
      },
      "outputs": [
        {
          "name": "stdout",
          "output_type": "stream",
          "text": [
            "fname Juan\n",
            "lname Dela Cruz\n",
            "age 21\n",
            "sex M\n"
          ]
        }
      ],
      "source": [
        "for key in student.keys():\n",
        "    print(key, student[key])"
      ]
    },
    {
      "cell_type": "markdown",
      "id": "12963faf",
      "metadata": {
        "id": "12963faf"
      },
      "source": [
        "# Graded Exercise"
      ]
    },
    {
      "cell_type": "markdown",
      "id": "4694e20b",
      "metadata": {
        "id": "4694e20b"
      },
      "source": [
        "[2.5 points] Write a Python program to find the second largest number in a list. <br>\n",
        "Sample Input: [10, 23, 5, 3, 1, 99] <br>\n",
        "Sample Output: 25"
      ]
    },
    {
      "cell_type": "code",
      "execution_count": 125,
      "id": "b93eee07",
      "metadata": {
        "id": "b93eee07"
      },
      "outputs": [
        {
          "name": "stdout",
          "output_type": "stream",
          "text": [
            "23\n"
          ]
        }
      ],
      "source": [
        "list1 = [10, 23, 5, 3, 1 ,99]\n",
        "\n",
        "list1.sort()\n",
        "\n",
        "print(list1[-2])"
      ]
    },
    {
      "cell_type": "markdown",
      "id": "094e2078",
      "metadata": {
        "id": "094e2078"
      },
      "source": [
        "Write a Python script to check whether a given key already exists in a dictionary. <br>\n",
        "Sample Input: d1 = {'a': 1, 'b':2, 'c': 3} key='b' <br>\n",
        "Sample Output: True <br>"
      ]
    },
    {
      "cell_type": "code",
      "execution_count": 124,
      "id": "d1428600",
      "metadata": {
        "id": "d1428600"
      },
      "outputs": [
        {
          "name": "stdout",
          "output_type": "stream",
          "text": [
            "True\n"
          ]
        }
      ],
      "source": [
        "d1 = {\n",
        "        'a' : 1,\n",
        "        'b' : 2,\n",
        "        'c' : 3,\n",
        "     }\n",
        "\n",
        "key = 'b'\n",
        "\n",
        "if [elem for elem in d1 if elem == key]:\n",
        "    print(True)\n",
        "else:\n",
        "    print(False)\n"
      ]
    },
    {
      "cell_type": "markdown",
      "id": "fee65940",
      "metadata": {
        "id": "fee65940"
      },
      "source": [
        "[2.5 points] Write a Python script that accepts a list of lists and flattens it afterwards.\n",
        "Sample Input: [[1,2,3], [a,b,c,1]] <br>\n",
        "Sample Output: [1,2,3,a,b,c,1] <br>"
      ]
    },
    {
      "cell_type": "code",
      "execution_count": 123,
      "id": "bcbc9b7c",
      "metadata": {
        "id": "bcbc9b7c"
      },
      "outputs": [
        {
          "name": "stdout",
          "output_type": "stream",
          "text": [
            "[1, 2, 3, 'a', 'b', 'c', 1]\n"
          ]
        }
      ],
      "source": [
        "list1 = [1,2,3]\n",
        "list2 = ['a','b','c',1]\n",
        "\n",
        "listlist = [list1, list2]\n",
        "\n",
        "flattenedlistlist = [item for sublist in listlist for item in sublist]\n",
        "\n",
        "print(flattenedlistlist)"
      ]
    },
    {
      "cell_type": "markdown",
      "id": "7337340f",
      "metadata": {
        "id": "7337340f"
      },
      "source": [
        "[2.5 points] Write a Python program to count the number of strings where the string length is 2 or more and the first and last character are same from a given list of strings. <br>\n",
        "Sample List : ['abc', 'xyz', 'aba', '1221'] <br>\n",
        "Expected Result : 2"
      ]
    },
    {
      "cell_type": "code",
      "execution_count": 122,
      "id": "5678b6b0",
      "metadata": {
        "id": "5678b6b0"
      },
      "outputs": [
        {
          "name": "stdout",
          "output_type": "stream",
          "text": [
            "2\n"
          ]
        }
      ],
      "source": [
        "stringlist = ['abc', 'xyz', 'aba', '1221']\n",
        "\n",
        "x = 0\n",
        "\n",
        "for string in stringlist:\n",
        "    if len(string) >= 2 and string[0] == string[-1]:\n",
        "        x+=1\n",
        "\n",
        "print(x)"
      ]
    },
    {
      "cell_type": "markdown",
      "id": "d54b023b",
      "metadata": {
        "id": "d54b023b"
      },
      "source": [
        "[2.5 points] Write a Python program to combine two dictionary adding values for common keys. <br>\n",
        "d1 = {'a': 100, 'b': 200, 'c':300} <br>\n",
        "d2 = {'a': 300, 'b': 200, 'd':400} <br>\n",
        "Sample output: Counter({'a': 400, 'b': 400, 'd': 400, 'c': 300})"
      ]
    },
    {
      "cell_type": "code",
      "execution_count": 121,
      "id": "851fcdc2",
      "metadata": {},
      "outputs": [
        {
          "name": "stdout",
          "output_type": "stream",
          "text": [
            "Counter({'a': 400, 'b': 400, 'd': 400, 'c': 300})\n"
          ]
        }
      ],
      "source": [
        "from collections import Counter\n",
        "\n",
        "d1 = {'a': 100, 'b': 200, 'c': 300}\n",
        "d2 = {'a': 300, 'b': 200, 'd': 400}\n",
        "\n",
        "result = Counter(d1) + Counter(d2)\n",
        "\n",
        "print(result)\n"
      ]
    }
  ],
  "metadata": {
    "colab": {
      "provenance": []
    },
    "kernelspec": {
      "display_name": "Python 3 (ipykernel)",
      "language": "python",
      "name": "python3"
    },
    "language_info": {
      "codemirror_mode": {
        "name": "ipython",
        "version": 3
      },
      "file_extension": ".py",
      "mimetype": "text/x-python",
      "name": "python",
      "nbconvert_exporter": "python",
      "pygments_lexer": "ipython3",
      "version": "3.12.4"
    }
  },
  "nbformat": 4,
  "nbformat_minor": 5
}
