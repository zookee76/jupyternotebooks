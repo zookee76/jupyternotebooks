{
 "cells": [
  {
   "cell_type": "markdown",
   "metadata": {},
   "source": [
    "# Ex2 - Getting and Knowing your Data"
   ]
  },
  {
   "cell_type": "markdown",
   "metadata": {},
   "source": [
    "This time we are going to pull data directly from the internet.\n",
    "Special thanks to: https://github.com/justmarkham for sharing the dataset and materials.\n",
    "\n",
    "### Step 1. Import the necessary libraries"
   ]
  },
  {
   "cell_type": "code",
   "execution_count": 4,
   "metadata": {
    "collapsed": false
   },
   "outputs": [],
   "source": [
    "import pandas as pd\n",
    "import numpy as np"
   ]
  },
  {
   "cell_type": "markdown",
   "metadata": {},
   "source": [
    "### Step 2. Import the dataset from this [address](https://raw.githubusercontent.com/justmarkham/DAT8/master/data/chipotle.tsv). "
   ]
  },
  {
   "cell_type": "markdown",
   "metadata": {},
   "source": [
    "### Step 3. Assign it to a variable called chipo."
   ]
  },
  {
   "cell_type": "code",
   "execution_count": 6,
   "metadata": {
    "collapsed": false
   },
   "outputs": [],
   "source": [
    "url = 'https://raw.githubusercontent.com/justmarkham/DAT8/master/data/chipotle.tsv'\n",
    "    \n",
    "chipo = pd.read_csv(url, sep = '\\t')"
   ]
  },
  {
   "cell_type": "markdown",
   "metadata": {},
   "source": [
    "### Step 4. See the first 10 entries"
   ]
  },
  {
   "cell_type": "code",
   "execution_count": 7,
   "metadata": {
    "collapsed": false,
    "scrolled": false
   },
   "outputs": [
    {
     "data": {
      "text/html": [
       "<div>\n",
       "<style scoped>\n",
       "    .dataframe tbody tr th:only-of-type {\n",
       "        vertical-align: middle;\n",
       "    }\n",
       "\n",
       "    .dataframe tbody tr th {\n",
       "        vertical-align: top;\n",
       "    }\n",
       "\n",
       "    .dataframe thead th {\n",
       "        text-align: right;\n",
       "    }\n",
       "</style>\n",
       "<table border=\"1\" class=\"dataframe\">\n",
       "  <thead>\n",
       "    <tr style=\"text-align: right;\">\n",
       "      <th></th>\n",
       "      <th>order_id</th>\n",
       "      <th>quantity</th>\n",
       "      <th>item_name</th>\n",
       "      <th>choice_description</th>\n",
       "      <th>item_price</th>\n",
       "    </tr>\n",
       "  </thead>\n",
       "  <tbody>\n",
       "    <tr>\n",
       "      <th>0</th>\n",
       "      <td>1</td>\n",
       "      <td>1</td>\n",
       "      <td>Chips and Fresh Tomato Salsa</td>\n",
       "      <td>NaN</td>\n",
       "      <td>$2.39</td>\n",
       "    </tr>\n",
       "    <tr>\n",
       "      <th>1</th>\n",
       "      <td>1</td>\n",
       "      <td>1</td>\n",
       "      <td>Izze</td>\n",
       "      <td>[Clementine]</td>\n",
       "      <td>$3.39</td>\n",
       "    </tr>\n",
       "    <tr>\n",
       "      <th>2</th>\n",
       "      <td>1</td>\n",
       "      <td>1</td>\n",
       "      <td>Nantucket Nectar</td>\n",
       "      <td>[Apple]</td>\n",
       "      <td>$3.39</td>\n",
       "    </tr>\n",
       "    <tr>\n",
       "      <th>3</th>\n",
       "      <td>1</td>\n",
       "      <td>1</td>\n",
       "      <td>Chips and Tomatillo-Green Chili Salsa</td>\n",
       "      <td>NaN</td>\n",
       "      <td>$2.39</td>\n",
       "    </tr>\n",
       "    <tr>\n",
       "      <th>4</th>\n",
       "      <td>2</td>\n",
       "      <td>2</td>\n",
       "      <td>Chicken Bowl</td>\n",
       "      <td>[Tomatillo-Red Chili Salsa (Hot), [Black Beans...</td>\n",
       "      <td>$16.98</td>\n",
       "    </tr>\n",
       "    <tr>\n",
       "      <th>5</th>\n",
       "      <td>3</td>\n",
       "      <td>1</td>\n",
       "      <td>Chicken Bowl</td>\n",
       "      <td>[Fresh Tomato Salsa (Mild), [Rice, Cheese, Sou...</td>\n",
       "      <td>$10.98</td>\n",
       "    </tr>\n",
       "    <tr>\n",
       "      <th>6</th>\n",
       "      <td>3</td>\n",
       "      <td>1</td>\n",
       "      <td>Side of Chips</td>\n",
       "      <td>NaN</td>\n",
       "      <td>$1.69</td>\n",
       "    </tr>\n",
       "    <tr>\n",
       "      <th>7</th>\n",
       "      <td>4</td>\n",
       "      <td>1</td>\n",
       "      <td>Steak Burrito</td>\n",
       "      <td>[Tomatillo Red Chili Salsa, [Fajita Vegetables...</td>\n",
       "      <td>$11.75</td>\n",
       "    </tr>\n",
       "    <tr>\n",
       "      <th>8</th>\n",
       "      <td>4</td>\n",
       "      <td>1</td>\n",
       "      <td>Steak Soft Tacos</td>\n",
       "      <td>[Tomatillo Green Chili Salsa, [Pinto Beans, Ch...</td>\n",
       "      <td>$9.25</td>\n",
       "    </tr>\n",
       "    <tr>\n",
       "      <th>9</th>\n",
       "      <td>5</td>\n",
       "      <td>1</td>\n",
       "      <td>Steak Burrito</td>\n",
       "      <td>[Fresh Tomato Salsa, [Rice, Black Beans, Pinto...</td>\n",
       "      <td>$9.25</td>\n",
       "    </tr>\n",
       "  </tbody>\n",
       "</table>\n",
       "</div>"
      ],
      "text/plain": [
       "   order_id  quantity                              item_name  \\\n",
       "0         1         1           Chips and Fresh Tomato Salsa   \n",
       "1         1         1                                   Izze   \n",
       "2         1         1                       Nantucket Nectar   \n",
       "3         1         1  Chips and Tomatillo-Green Chili Salsa   \n",
       "4         2         2                           Chicken Bowl   \n",
       "5         3         1                           Chicken Bowl   \n",
       "6         3         1                          Side of Chips   \n",
       "7         4         1                          Steak Burrito   \n",
       "8         4         1                       Steak Soft Tacos   \n",
       "9         5         1                          Steak Burrito   \n",
       "\n",
       "                                  choice_description item_price  \n",
       "0                                                NaN     $2.39   \n",
       "1                                       [Clementine]     $3.39   \n",
       "2                                            [Apple]     $3.39   \n",
       "3                                                NaN     $2.39   \n",
       "4  [Tomatillo-Red Chili Salsa (Hot), [Black Beans...    $16.98   \n",
       "5  [Fresh Tomato Salsa (Mild), [Rice, Cheese, Sou...    $10.98   \n",
       "6                                                NaN     $1.69   \n",
       "7  [Tomatillo Red Chili Salsa, [Fajita Vegetables...    $11.75   \n",
       "8  [Tomatillo Green Chili Salsa, [Pinto Beans, Ch...     $9.25   \n",
       "9  [Fresh Tomato Salsa, [Rice, Black Beans, Pinto...     $9.25   "
      ]
     },
     "execution_count": 7,
     "metadata": {},
     "output_type": "execute_result"
    }
   ],
   "source": [
    "chipo.head(10)"
   ]
  },
  {
   "cell_type": "markdown",
   "metadata": {},
   "source": [
    "### Step 5. What is the number of observations in the dataset?"
   ]
  },
  {
   "cell_type": "code",
   "execution_count": 9,
   "metadata": {
    "collapsed": false
   },
   "outputs": [
    {
     "data": {
      "text/plain": [
       "4622"
      ]
     },
     "execution_count": 9,
     "metadata": {},
     "output_type": "execute_result"
    }
   ],
   "source": [
    "# Solution 1\n",
    "\n",
    "'''\n",
    "Returns the number of rows in the DataFrame `chipo`.\n",
    "\n",
    "The `shape` attribute in pandas returns a tuple representing the dimensionality of the DataFrame. \n",
    "`shape[0]` gives the number of rows, while `shape[1]` gives the number of columns.\n",
    "\n",
    "Returns:\n",
    "    int: The number of rows in the DataFrame.\n",
    "'''\n",
    "\n",
    "chipo.shape[0]"
   ]
  },
  {
   "cell_type": "code",
   "execution_count": 10,
   "metadata": {
    "collapsed": false
   },
   "outputs": [
    {
     "name": "stdout",
     "output_type": "stream",
     "text": [
      "<class 'pandas.core.frame.DataFrame'>\n",
      "RangeIndex: 4622 entries, 0 to 4621\n",
      "Data columns (total 5 columns):\n",
      " #   Column              Non-Null Count  Dtype \n",
      "---  ------              --------------  ----- \n",
      " 0   order_id            4622 non-null   int64 \n",
      " 1   quantity            4622 non-null   int64 \n",
      " 2   item_name           4622 non-null   object\n",
      " 3   choice_description  3376 non-null   object\n",
      " 4   item_price          4622 non-null   object\n",
      "dtypes: int64(2), object(3)\n",
      "memory usage: 180.7+ KB\n"
     ]
    }
   ],
   "source": [
    "# Solution 2\n",
    "\n",
    "'''\n",
    ".info is better in this context as it provides a summary rather than the number of rows/columns\n",
    "'''\n",
    "\n",
    "chipo.info()"
   ]
  },
  {
   "cell_type": "markdown",
   "metadata": {},
   "source": [
    "### Step 6. What is the number of columns in the dataset?"
   ]
  },
  {
   "cell_type": "code",
   "execution_count": 12,
   "metadata": {
    "collapsed": false
   },
   "outputs": [
    {
     "data": {
      "text/plain": [
       "5"
      ]
     },
     "execution_count": 12,
     "metadata": {},
     "output_type": "execute_result"
    }
   ],
   "source": [
    "chipo.shape[1]"
   ]
  },
  {
   "cell_type": "markdown",
   "metadata": {},
   "source": [
    "### Step 7. Print the name of all the columns."
   ]
  },
  {
   "cell_type": "code",
   "execution_count": 13,
   "metadata": {
    "collapsed": false
   },
   "outputs": [
    {
     "data": {
      "text/plain": [
       "Index(['order_id', 'quantity', 'item_name', 'choice_description',\n",
       "       'item_price'],\n",
       "      dtype='object')"
      ]
     },
     "execution_count": 13,
     "metadata": {},
     "output_type": "execute_result"
    }
   ],
   "source": [
    "chipo.columns"
   ]
  },
  {
   "cell_type": "markdown",
   "metadata": {},
   "source": [
    "### Step 8. How is the dataset indexed?"
   ]
  },
  {
   "cell_type": "code",
   "execution_count": 14,
   "metadata": {
    "collapsed": false
   },
   "outputs": [
    {
     "data": {
      "text/plain": [
       "RangeIndex(start=0, stop=4622, step=1)"
      ]
     },
     "execution_count": 14,
     "metadata": {},
     "output_type": "execute_result"
    }
   ],
   "source": [
    "chipo.index"
   ]
  },
  {
   "cell_type": "markdown",
   "metadata": {},
   "source": [
    "### Step 9. Which was the most-ordered item? "
   ]
  },
  {
   "cell_type": "code",
   "execution_count": 20,
   "metadata": {
    "collapsed": false
   },
   "outputs": [
    {
     "data": {
      "text/plain": [
       "'Chicken Bowl'"
      ]
     },
     "execution_count": 20,
     "metadata": {},
     "output_type": "execute_result"
    }
   ],
   "source": [
    "chipo.item_name.mode()[0]"
   ]
  },
  {
   "cell_type": "markdown",
   "metadata": {},
   "source": [
    "### Step 10. For the most-ordered item, how many items were ordered?"
   ]
  },
  {
   "cell_type": "code",
   "execution_count": 45,
   "metadata": {
    "collapsed": false
   },
   "outputs": [
    {
     "data": {
      "text/plain": [
       "761"
      ]
     },
     "execution_count": 45,
     "metadata": {},
     "output_type": "execute_result"
    }
   ],
   "source": [
    "chipo[chipo[\"item_name\"] == \"Chicken Bowl\"].sum()['quantity']"
   ]
  },
  {
   "cell_type": "markdown",
   "metadata": {},
   "source": [
    "### Step 11. What was the most ordered item in the choice_description column?"
   ]
  },
  {
   "cell_type": "code",
   "execution_count": 79,
   "metadata": {
    "collapsed": false
   },
   "outputs": [
    {
     "data": {
      "text/html": [
       "<div>\n",
       "<style scoped>\n",
       "    .dataframe tbody tr th:only-of-type {\n",
       "        vertical-align: middle;\n",
       "    }\n",
       "\n",
       "    .dataframe tbody tr th {\n",
       "        vertical-align: top;\n",
       "    }\n",
       "\n",
       "    .dataframe thead th {\n",
       "        text-align: right;\n",
       "    }\n",
       "</style>\n",
       "<table border=\"1\" class=\"dataframe\">\n",
       "  <thead>\n",
       "    <tr style=\"text-align: right;\">\n",
       "      <th></th>\n",
       "      <th>order_id</th>\n",
       "      <th>quantity</th>\n",
       "      <th>item_name</th>\n",
       "      <th>item_price</th>\n",
       "    </tr>\n",
       "    <tr>\n",
       "      <th>choice_description</th>\n",
       "      <th></th>\n",
       "      <th></th>\n",
       "      <th></th>\n",
       "      <th></th>\n",
       "    </tr>\n",
       "  </thead>\n",
       "  <tbody>\n",
       "    <tr>\n",
       "      <th>[Diet Coke]</th>\n",
       "      <td>123455</td>\n",
       "      <td>159</td>\n",
       "      <td>Canned SodaCanned SodaCanned Soda6 Pack Soft D...</td>\n",
       "      <td>37.1</td>\n",
       "    </tr>\n",
       "    <tr>\n",
       "      <th>[Coke]</th>\n",
       "      <td>122752</td>\n",
       "      <td>143</td>\n",
       "      <td>Canned Soft DrinkCanned Soft DrinkCanned Soft ...</td>\n",
       "      <td>32.5</td>\n",
       "    </tr>\n",
       "    <tr>\n",
       "      <th>[Sprite]</th>\n",
       "      <td>80426</td>\n",
       "      <td>89</td>\n",
       "      <td>Canned SodaCanned SodaCanned Soft Drink6 Pack ...</td>\n",
       "      <td>14.4</td>\n",
       "    </tr>\n",
       "    <tr>\n",
       "      <th>[Fresh Tomato Salsa, [Rice, Black Beans, Cheese, Sour Cream, Lettuce]]</th>\n",
       "      <td>43088</td>\n",
       "      <td>49</td>\n",
       "      <td>Chicken BowlChicken BurritoChicken BowlChicken...</td>\n",
       "      <td>65.4</td>\n",
       "    </tr>\n",
       "    <tr>\n",
       "      <th>[Fresh Tomato Salsa, [Rice, Black Beans, Cheese, Sour Cream]]</th>\n",
       "      <td>36041</td>\n",
       "      <td>42</td>\n",
       "      <td>Chicken BowlChicken BowlChicken BurritoCarnita...</td>\n",
       "      <td>58.2</td>\n",
       "    </tr>\n",
       "    <tr>\n",
       "      <th>...</th>\n",
       "      <td>...</td>\n",
       "      <td>...</td>\n",
       "      <td>...</td>\n",
       "      <td>...</td>\n",
       "    </tr>\n",
       "    <tr>\n",
       "      <th>[Roasted Chili Corn Salsa, [Fajita Vegetables, Rice, Pinto Beans, Guacamole, Lettuce]]</th>\n",
       "      <td>577</td>\n",
       "      <td>1</td>\n",
       "      <td>Chicken Burrito</td>\n",
       "      <td>1.2</td>\n",
       "    </tr>\n",
       "    <tr>\n",
       "      <th>[Roasted Chili Corn Salsa, [Fajita Vegetables, Rice, Sour Cream, Lettuce]]</th>\n",
       "      <td>585</td>\n",
       "      <td>1</td>\n",
       "      <td>Chicken Bowl</td>\n",
       "      <td>0.7</td>\n",
       "    </tr>\n",
       "    <tr>\n",
       "      <th>[Roasted Chili Corn Salsa, [Fajita Vegetables, Sour Cream, Lettuce, Guacamole]]</th>\n",
       "      <td>235</td>\n",
       "      <td>1</td>\n",
       "      <td>Steak Burrito</td>\n",
       "      <td>1.7</td>\n",
       "    </tr>\n",
       "    <tr>\n",
       "      <th>[Roasted Chili Corn Salsa, [Guacamole, Sour Cream, Rice, Fajita Vegetables, Lettuce]]</th>\n",
       "      <td>987</td>\n",
       "      <td>1</td>\n",
       "      <td>Chicken Burrito</td>\n",
       "      <td>1.2</td>\n",
       "    </tr>\n",
       "    <tr>\n",
       "      <th>[[Tomatillo-Red Chili Salsa (Hot), Tomatillo-Green Chili Salsa (Medium)], [Rice, Pinto Beans, Fajita Veggies, Lettuce]]</th>\n",
       "      <td>1299</td>\n",
       "      <td>1</td>\n",
       "      <td>Barbacoa Bowl</td>\n",
       "      <td>0.9</td>\n",
       "    </tr>\n",
       "  </tbody>\n",
       "</table>\n",
       "<p>1043 rows × 4 columns</p>\n",
       "</div>"
      ],
      "text/plain": [
       "                                                    order_id  quantity  \\\n",
       "choice_description                                                       \n",
       "[Diet Coke]                                           123455       159   \n",
       "[Coke]                                                122752       143   \n",
       "[Sprite]                                               80426        89   \n",
       "[Fresh Tomato Salsa, [Rice, Black Beans, Cheese...     43088        49   \n",
       "[Fresh Tomato Salsa, [Rice, Black Beans, Cheese...     36041        42   \n",
       "...                                                      ...       ...   \n",
       "[Roasted Chili Corn Salsa, [Fajita Vegetables, ...       577         1   \n",
       "[Roasted Chili Corn Salsa, [Fajita Vegetables, ...       585         1   \n",
       "[Roasted Chili Corn Salsa, [Fajita Vegetables, ...       235         1   \n",
       "[Roasted Chili Corn Salsa, [Guacamole, Sour Cre...       987         1   \n",
       "[[Tomatillo-Red Chili Salsa (Hot), Tomatillo-Gr...      1299         1   \n",
       "\n",
       "                                                                                            item_name  \\\n",
       "choice_description                                                                                      \n",
       "[Diet Coke]                                         Canned SodaCanned SodaCanned Soda6 Pack Soft D...   \n",
       "[Coke]                                              Canned Soft DrinkCanned Soft DrinkCanned Soft ...   \n",
       "[Sprite]                                            Canned SodaCanned SodaCanned Soft Drink6 Pack ...   \n",
       "[Fresh Tomato Salsa, [Rice, Black Beans, Cheese...  Chicken BowlChicken BurritoChicken BowlChicken...   \n",
       "[Fresh Tomato Salsa, [Rice, Black Beans, Cheese...  Chicken BowlChicken BowlChicken BurritoCarnita...   \n",
       "...                                                                                               ...   \n",
       "[Roasted Chili Corn Salsa, [Fajita Vegetables, ...                                    Chicken Burrito   \n",
       "[Roasted Chili Corn Salsa, [Fajita Vegetables, ...                                       Chicken Bowl   \n",
       "[Roasted Chili Corn Salsa, [Fajita Vegetables, ...                                      Steak Burrito   \n",
       "[Roasted Chili Corn Salsa, [Guacamole, Sour Cre...                                    Chicken Burrito   \n",
       "[[Tomatillo-Red Chili Salsa (Hot), Tomatillo-Gr...                                      Barbacoa Bowl   \n",
       "\n",
       "                                                    item_price  \n",
       "choice_description                                              \n",
       "[Diet Coke]                                               37.1  \n",
       "[Coke]                                                    32.5  \n",
       "[Sprite]                                                  14.4  \n",
       "[Fresh Tomato Salsa, [Rice, Black Beans, Cheese...        65.4  \n",
       "[Fresh Tomato Salsa, [Rice, Black Beans, Cheese...        58.2  \n",
       "...                                                        ...  \n",
       "[Roasted Chili Corn Salsa, [Fajita Vegetables, ...         1.2  \n",
       "[Roasted Chili Corn Salsa, [Fajita Vegetables, ...         0.7  \n",
       "[Roasted Chili Corn Salsa, [Fajita Vegetables, ...         1.7  \n",
       "[Roasted Chili Corn Salsa, [Guacamole, Sour Cre...         1.2  \n",
       "[[Tomatillo-Red Chili Salsa (Hot), Tomatillo-Gr...         0.9  \n",
       "\n",
       "[1043 rows x 4 columns]"
      ]
     },
     "execution_count": 79,
     "metadata": {},
     "output_type": "execute_result"
    }
   ],
   "source": [
    "chipo.groupby('choice_description').sum().sort_values(['quantity'], ascending=False)"
   ]
  },
  {
   "cell_type": "markdown",
   "metadata": {},
   "source": [
    "### Step 12. How many items were orderd in total?"
   ]
  },
  {
   "cell_type": "code",
   "execution_count": 62,
   "metadata": {
    "collapsed": false
   },
   "outputs": [
    {
     "data": {
      "text/plain": [
       "4972"
      ]
     },
     "execution_count": 62,
     "metadata": {},
     "output_type": "execute_result"
    }
   ],
   "source": [
    "chipo.quantity.sum()"
   ]
  },
  {
   "cell_type": "markdown",
   "metadata": {},
   "source": [
    "### Step 13. Turn the item price into a float"
   ]
  },
  {
   "cell_type": "markdown",
   "metadata": {},
   "source": [
    "#### Step 13.a. Check the item price type"
   ]
  },
  {
   "cell_type": "code",
   "execution_count": 73,
   "metadata": {
    "collapsed": false
   },
   "outputs": [
    {
     "data": {
      "text/plain": [
       "dtype('float64')"
      ]
     },
     "execution_count": 73,
     "metadata": {},
     "output_type": "execute_result"
    }
   ],
   "source": [
    "chipo.item_price.dtype"
   ]
  },
  {
   "cell_type": "markdown",
   "metadata": {},
   "source": [
    "#### Step 13.b. Create a lambda function and change the type of item price"
   ]
  },
  {
   "cell_type": "code",
   "execution_count": 84,
   "metadata": {
    "collapsed": true
   },
   "outputs": [
    {
     "ename": "TypeError",
     "evalue": "'float' object is not subscriptable",
     "output_type": "error",
     "traceback": [
      "\u001b[0;31m---------------------------------------------------------------------------\u001b[0m",
      "\u001b[0;31mTypeError\u001b[0m                                 Traceback (most recent call last)",
      "Cell \u001b[0;32mIn[84], line 1\u001b[0m\n\u001b[0;32m----> 1\u001b[0m chipo\u001b[38;5;241m.\u001b[39mitem_price \u001b[38;5;241m=\u001b[39m chipo\u001b[38;5;241m.\u001b[39mitem_price\u001b[38;5;241m.\u001b[39mapply(\u001b[38;5;28;01mlambda\u001b[39;00m x: \u001b[38;5;28mfloat\u001b[39m(x[\u001b[38;5;241m1\u001b[39m:\u001b[38;5;241m-\u001b[39m\u001b[38;5;241m1\u001b[39m]))\n",
      "File \u001b[0;32m/opt/anaconda3/lib/python3.12/site-packages/pandas/core/series.py:4924\u001b[0m, in \u001b[0;36mSeries.apply\u001b[0;34m(self, func, convert_dtype, args, by_row, **kwargs)\u001b[0m\n\u001b[1;32m   4789\u001b[0m \u001b[38;5;28;01mdef\u001b[39;00m \u001b[38;5;21mapply\u001b[39m(\n\u001b[1;32m   4790\u001b[0m     \u001b[38;5;28mself\u001b[39m,\n\u001b[1;32m   4791\u001b[0m     func: AggFuncType,\n\u001b[0;32m   (...)\u001b[0m\n\u001b[1;32m   4796\u001b[0m     \u001b[38;5;241m*\u001b[39m\u001b[38;5;241m*\u001b[39mkwargs,\n\u001b[1;32m   4797\u001b[0m ) \u001b[38;5;241m-\u001b[39m\u001b[38;5;241m>\u001b[39m DataFrame \u001b[38;5;241m|\u001b[39m Series:\n\u001b[1;32m   4798\u001b[0m \u001b[38;5;250m    \u001b[39m\u001b[38;5;124;03m\"\"\"\u001b[39;00m\n\u001b[1;32m   4799\u001b[0m \u001b[38;5;124;03m    Invoke function on values of Series.\u001b[39;00m\n\u001b[1;32m   4800\u001b[0m \n\u001b[0;32m   (...)\u001b[0m\n\u001b[1;32m   4915\u001b[0m \u001b[38;5;124;03m    dtype: float64\u001b[39;00m\n\u001b[1;32m   4916\u001b[0m \u001b[38;5;124;03m    \"\"\"\u001b[39;00m\n\u001b[1;32m   4917\u001b[0m     \u001b[38;5;28;01mreturn\u001b[39;00m SeriesApply(\n\u001b[1;32m   4918\u001b[0m         \u001b[38;5;28mself\u001b[39m,\n\u001b[1;32m   4919\u001b[0m         func,\n\u001b[1;32m   4920\u001b[0m         convert_dtype\u001b[38;5;241m=\u001b[39mconvert_dtype,\n\u001b[1;32m   4921\u001b[0m         by_row\u001b[38;5;241m=\u001b[39mby_row,\n\u001b[1;32m   4922\u001b[0m         args\u001b[38;5;241m=\u001b[39margs,\n\u001b[1;32m   4923\u001b[0m         kwargs\u001b[38;5;241m=\u001b[39mkwargs,\n\u001b[0;32m-> 4924\u001b[0m     )\u001b[38;5;241m.\u001b[39mapply()\n",
      "File \u001b[0;32m/opt/anaconda3/lib/python3.12/site-packages/pandas/core/apply.py:1427\u001b[0m, in \u001b[0;36mSeriesApply.apply\u001b[0;34m(self)\u001b[0m\n\u001b[1;32m   1424\u001b[0m     \u001b[38;5;28;01mreturn\u001b[39;00m \u001b[38;5;28mself\u001b[39m\u001b[38;5;241m.\u001b[39mapply_compat()\n\u001b[1;32m   1426\u001b[0m \u001b[38;5;66;03m# self.func is Callable\u001b[39;00m\n\u001b[0;32m-> 1427\u001b[0m \u001b[38;5;28;01mreturn\u001b[39;00m \u001b[38;5;28mself\u001b[39m\u001b[38;5;241m.\u001b[39mapply_standard()\n",
      "File \u001b[0;32m/opt/anaconda3/lib/python3.12/site-packages/pandas/core/apply.py:1507\u001b[0m, in \u001b[0;36mSeriesApply.apply_standard\u001b[0;34m(self)\u001b[0m\n\u001b[1;32m   1501\u001b[0m \u001b[38;5;66;03m# row-wise access\u001b[39;00m\n\u001b[1;32m   1502\u001b[0m \u001b[38;5;66;03m# apply doesn't have a `na_action` keyword and for backward compat reasons\u001b[39;00m\n\u001b[1;32m   1503\u001b[0m \u001b[38;5;66;03m# we need to give `na_action=\"ignore\"` for categorical data.\u001b[39;00m\n\u001b[1;32m   1504\u001b[0m \u001b[38;5;66;03m# TODO: remove the `na_action=\"ignore\"` when that default has been changed in\u001b[39;00m\n\u001b[1;32m   1505\u001b[0m \u001b[38;5;66;03m#  Categorical (GH51645).\u001b[39;00m\n\u001b[1;32m   1506\u001b[0m action \u001b[38;5;241m=\u001b[39m \u001b[38;5;124m\"\u001b[39m\u001b[38;5;124mignore\u001b[39m\u001b[38;5;124m\"\u001b[39m \u001b[38;5;28;01mif\u001b[39;00m \u001b[38;5;28misinstance\u001b[39m(obj\u001b[38;5;241m.\u001b[39mdtype, CategoricalDtype) \u001b[38;5;28;01melse\u001b[39;00m \u001b[38;5;28;01mNone\u001b[39;00m\n\u001b[0;32m-> 1507\u001b[0m mapped \u001b[38;5;241m=\u001b[39m obj\u001b[38;5;241m.\u001b[39m_map_values(\n\u001b[1;32m   1508\u001b[0m     mapper\u001b[38;5;241m=\u001b[39mcurried, na_action\u001b[38;5;241m=\u001b[39maction, convert\u001b[38;5;241m=\u001b[39m\u001b[38;5;28mself\u001b[39m\u001b[38;5;241m.\u001b[39mconvert_dtype\n\u001b[1;32m   1509\u001b[0m )\n\u001b[1;32m   1511\u001b[0m \u001b[38;5;28;01mif\u001b[39;00m \u001b[38;5;28mlen\u001b[39m(mapped) \u001b[38;5;129;01mand\u001b[39;00m \u001b[38;5;28misinstance\u001b[39m(mapped[\u001b[38;5;241m0\u001b[39m], ABCSeries):\n\u001b[1;32m   1512\u001b[0m     \u001b[38;5;66;03m# GH#43986 Need to do list(mapped) in order to get treated as nested\u001b[39;00m\n\u001b[1;32m   1513\u001b[0m     \u001b[38;5;66;03m#  See also GH#25959 regarding EA support\u001b[39;00m\n\u001b[1;32m   1514\u001b[0m     \u001b[38;5;28;01mreturn\u001b[39;00m obj\u001b[38;5;241m.\u001b[39m_constructor_expanddim(\u001b[38;5;28mlist\u001b[39m(mapped), index\u001b[38;5;241m=\u001b[39mobj\u001b[38;5;241m.\u001b[39mindex)\n",
      "File \u001b[0;32m/opt/anaconda3/lib/python3.12/site-packages/pandas/core/base.py:921\u001b[0m, in \u001b[0;36mIndexOpsMixin._map_values\u001b[0;34m(self, mapper, na_action, convert)\u001b[0m\n\u001b[1;32m    918\u001b[0m \u001b[38;5;28;01mif\u001b[39;00m \u001b[38;5;28misinstance\u001b[39m(arr, ExtensionArray):\n\u001b[1;32m    919\u001b[0m     \u001b[38;5;28;01mreturn\u001b[39;00m arr\u001b[38;5;241m.\u001b[39mmap(mapper, na_action\u001b[38;5;241m=\u001b[39mna_action)\n\u001b[0;32m--> 921\u001b[0m \u001b[38;5;28;01mreturn\u001b[39;00m algorithms\u001b[38;5;241m.\u001b[39mmap_array(arr, mapper, na_action\u001b[38;5;241m=\u001b[39mna_action, convert\u001b[38;5;241m=\u001b[39mconvert)\n",
      "File \u001b[0;32m/opt/anaconda3/lib/python3.12/site-packages/pandas/core/algorithms.py:1743\u001b[0m, in \u001b[0;36mmap_array\u001b[0;34m(arr, mapper, na_action, convert)\u001b[0m\n\u001b[1;32m   1741\u001b[0m values \u001b[38;5;241m=\u001b[39m arr\u001b[38;5;241m.\u001b[39mastype(\u001b[38;5;28mobject\u001b[39m, copy\u001b[38;5;241m=\u001b[39m\u001b[38;5;28;01mFalse\u001b[39;00m)\n\u001b[1;32m   1742\u001b[0m \u001b[38;5;28;01mif\u001b[39;00m na_action \u001b[38;5;129;01mis\u001b[39;00m \u001b[38;5;28;01mNone\u001b[39;00m:\n\u001b[0;32m-> 1743\u001b[0m     \u001b[38;5;28;01mreturn\u001b[39;00m lib\u001b[38;5;241m.\u001b[39mmap_infer(values, mapper, convert\u001b[38;5;241m=\u001b[39mconvert)\n\u001b[1;32m   1744\u001b[0m \u001b[38;5;28;01melse\u001b[39;00m:\n\u001b[1;32m   1745\u001b[0m     \u001b[38;5;28;01mreturn\u001b[39;00m lib\u001b[38;5;241m.\u001b[39mmap_infer_mask(\n\u001b[1;32m   1746\u001b[0m         values, mapper, mask\u001b[38;5;241m=\u001b[39misna(values)\u001b[38;5;241m.\u001b[39mview(np\u001b[38;5;241m.\u001b[39muint8), convert\u001b[38;5;241m=\u001b[39mconvert\n\u001b[1;32m   1747\u001b[0m     )\n",
      "File \u001b[0;32mlib.pyx:2972\u001b[0m, in \u001b[0;36mpandas._libs.lib.map_infer\u001b[0;34m()\u001b[0m\n",
      "Cell \u001b[0;32mIn[84], line 1\u001b[0m, in \u001b[0;36m<lambda>\u001b[0;34m(x)\u001b[0m\n\u001b[0;32m----> 1\u001b[0m chipo\u001b[38;5;241m.\u001b[39mitem_price \u001b[38;5;241m=\u001b[39m chipo\u001b[38;5;241m.\u001b[39mitem_price\u001b[38;5;241m.\u001b[39mapply(\u001b[38;5;28;01mlambda\u001b[39;00m x: \u001b[38;5;28mfloat\u001b[39m(x[\u001b[38;5;241m1\u001b[39m:\u001b[38;5;241m-\u001b[39m\u001b[38;5;241m1\u001b[39m]))\n",
      "\u001b[0;31mTypeError\u001b[0m: 'float' object is not subscriptable"
     ]
    }
   ],
   "source": [
    "chipo.item_price = chipo.item_price.apply(lambda x: float(x[1:]))"
   ]
  },
  {
   "cell_type": "markdown",
   "metadata": {},
   "source": [
    "#### Step 13.c. Check the item price type"
   ]
  },
  {
   "cell_type": "code",
   "execution_count": 85,
   "metadata": {
    "collapsed": false
   },
   "outputs": [
    {
     "data": {
      "text/html": [
       "<div>\n",
       "<style scoped>\n",
       "    .dataframe tbody tr th:only-of-type {\n",
       "        vertical-align: middle;\n",
       "    }\n",
       "\n",
       "    .dataframe tbody tr th {\n",
       "        vertical-align: top;\n",
       "    }\n",
       "\n",
       "    .dataframe thead th {\n",
       "        text-align: right;\n",
       "    }\n",
       "</style>\n",
       "<table border=\"1\" class=\"dataframe\">\n",
       "  <thead>\n",
       "    <tr style=\"text-align: right;\">\n",
       "      <th></th>\n",
       "      <th>order_id</th>\n",
       "      <th>quantity</th>\n",
       "      <th>item_name</th>\n",
       "      <th>choice_description</th>\n",
       "      <th>item_price</th>\n",
       "    </tr>\n",
       "  </thead>\n",
       "  <tbody>\n",
       "    <tr>\n",
       "      <th>0</th>\n",
       "      <td>1</td>\n",
       "      <td>1</td>\n",
       "      <td>Chips and Fresh Tomato Salsa</td>\n",
       "      <td>NaN</td>\n",
       "      <td>0.3</td>\n",
       "    </tr>\n",
       "    <tr>\n",
       "      <th>1</th>\n",
       "      <td>1</td>\n",
       "      <td>1</td>\n",
       "      <td>Izze</td>\n",
       "      <td>[Clementine]</td>\n",
       "      <td>0.3</td>\n",
       "    </tr>\n",
       "    <tr>\n",
       "      <th>2</th>\n",
       "      <td>1</td>\n",
       "      <td>1</td>\n",
       "      <td>Nantucket Nectar</td>\n",
       "      <td>[Apple]</td>\n",
       "      <td>0.3</td>\n",
       "    </tr>\n",
       "    <tr>\n",
       "      <th>3</th>\n",
       "      <td>1</td>\n",
       "      <td>1</td>\n",
       "      <td>Chips and Tomatillo-Green Chili Salsa</td>\n",
       "      <td>NaN</td>\n",
       "      <td>0.3</td>\n",
       "    </tr>\n",
       "    <tr>\n",
       "      <th>4</th>\n",
       "      <td>2</td>\n",
       "      <td>2</td>\n",
       "      <td>Chicken Bowl</td>\n",
       "      <td>[Tomatillo-Red Chili Salsa (Hot), [Black Beans...</td>\n",
       "      <td>6.9</td>\n",
       "    </tr>\n",
       "  </tbody>\n",
       "</table>\n",
       "</div>"
      ],
      "text/plain": [
       "   order_id  quantity                              item_name  \\\n",
       "0         1         1           Chips and Fresh Tomato Salsa   \n",
       "1         1         1                                   Izze   \n",
       "2         1         1                       Nantucket Nectar   \n",
       "3         1         1  Chips and Tomatillo-Green Chili Salsa   \n",
       "4         2         2                           Chicken Bowl   \n",
       "\n",
       "                                  choice_description  item_price  \n",
       "0                                                NaN         0.3  \n",
       "1                                       [Clementine]         0.3  \n",
       "2                                            [Apple]         0.3  \n",
       "3                                                NaN         0.3  \n",
       "4  [Tomatillo-Red Chili Salsa (Hot), [Black Beans...         6.9  "
      ]
     },
     "execution_count": 85,
     "metadata": {},
     "output_type": "execute_result"
    }
   ],
   "source": [
    "chipo.head()"
   ]
  },
  {
   "cell_type": "markdown",
   "metadata": {},
   "source": [
    "### Step 14. How much was the revenue for the period in the dataset?"
   ]
  },
  {
   "cell_type": "code",
   "execution_count": 107,
   "metadata": {
    "collapsed": false
   },
   "outputs": [
    {
     "name": "stdout",
     "output_type": "stream",
     "text": [
      "4827.4\n"
     ]
    }
   ],
   "source": [
    "revenue = (chipo['quantity'] * chipo['item_price']).sum()\n",
    "print(revenue.round(2))"
   ]
  },
  {
   "cell_type": "markdown",
   "metadata": {},
   "source": [
    "### Step 15. How many orders were made in the period?"
   ]
  },
  {
   "cell_type": "code",
   "execution_count": 98,
   "metadata": {
    "collapsed": false
   },
   "outputs": [
    {
     "data": {
      "text/plain": [
       "1834"
      ]
     },
     "execution_count": 98,
     "metadata": {},
     "output_type": "execute_result"
    }
   ],
   "source": [
    "num_orders = chipo.order_id.value_counts().count()\n",
    "num_orders"
   ]
  },
  {
   "cell_type": "markdown",
   "metadata": {},
   "source": [
    "### Step 16. What is the average revenue amount per order?"
   ]
  },
  {
   "cell_type": "code",
   "execution_count": 116,
   "metadata": {
    "collapsed": false
   },
   "outputs": [
    {
     "ename": "TypeError",
     "evalue": "Could not convert ['Chips and Fresh Tomato SalsaIzzeNantucket NectarChips and Tomatillo-Green Chili SalsaChicken BowlChicken BowlSide of ChipsSteak BurritoSteak Soft TacosSteak BurritoChips and GuacamoleChicken Crispy TacosChicken Soft TacosChicken BowlChips and GuacamoleChips and Tomatillo-Green Chili SalsaChicken BurritoChicken BurritoCanned SodaChicken BowlChips and GuacamoleBarbacoa BurritoNantucket NectarChicken BurritoIzzeChips and Fresh Tomato SalsaChicken BowlCarnitas BurritoCanned SodaChicken BurritoChips and Tomatillo-Green Chili SalsaSteak BurritoSide of ChipsCarnitas BowlBottled WaterChicken Soft TacosChicken Soft TacosChips and GuacamoleChips and Tomatillo Green Chili SalsaBarbacoa BowlChipsChips and GuacamoleChicken BowlSteak BurritoChicken Salad BowlChicken BurritoSteak BurritoIzzeSteak BurritoChips and GuacamoleSteak BurritoCanned SodaChicken BurritoCanned SodaSteak BowlChips and Fresh Tomato SalsaBarbacoa Soft TacosVeggie BurritoBarbacoa BowlChipsChips and GuacamoleSteak Soft TacosVeggie BowlChicken BurritoSteak BurritoSteak Soft TacosIzzeSteak BurritoChicken BurritoSteak BurritoSide of ChipsSteak BurritoChips and GuacamoleChicken BurritoChips and GuacamoleChicken Soft TacosChicken BowlChipsChicken BowlChicken Soft TacosChipsBarbacoa BurritoChicken BurritoChicken BurritoSteak Soft TacosVeggie BowlSteak BowlBottled WaterCarnitas BurritoChips and Fresh Tomato SalsaSteak BowlSteak BowlSteak Crispy TacosCarnitas BurritoChips and GuacamoleBarbacoa BowlChips and GuacamoleCarnitas BowlChicken BurritoChicken BowlChips and GuacamoleSteak BurritoSteak BowlChips and GuacamoleVeggie BurritoNantucket NectarSteak BurritoCanned SodaSteak BurritoChips and GuacamoleChicken BowlChips and Tomatillo Red Chili SalsaChips and GuacamoleChips and Tomatillo-Green Chili SalsaChicken BurritoBarbacoa BowlChicken BurritoCanned SodaSteak Soft TacosChips and GuacamoleChicken BurritoBarbacoa BurritoChips and GuacamoleChicken BowlChips and GuacamoleSteak BurritoCanned SodaBarbacoa BowlChips and Tomatillo Red Chili SalsaChips and GuacamoleBarbacoa BurritoChips and GuacamoleChicken BurritoChips and Tomatillo-Green Chili SalsaChicken BurritoChicken Salad BowlBarbacoa BowlChips and GuacamoleChicken BowlChips and GuacamoleChicken BowlChips and GuacamoleChicken BowlVeggie BowlBarbacoa BurritoCarnitas BowlChips and GuacamoleSteak BurritoSteak BurritoSide of ChipsChicken BurritoChips and GuacamoleChicken BurritoChips and Tomatillo-Green Chili SalsaChicken BowlChips and GuacamoleChips and GuacamoleVeggie BowlSteak BurritoChicken BurritoChicken BowlChicken BurritoCanned SodaCarnitas BowlVeggie BowlChips and Tomatillo-Green Chili SalsaChips and GuacamoleChicken BurritoBarbacoa Crispy TacosChicken BurritoChicken BurritoCanned SodaChicken BurritoNantucket NectarChicken BurritoSteak Soft TacosChicken BowlSteak BurritoChicken BurritoCanned SodaCanned SodaBarbacoa Soft TacosChicken BowlChips and Fresh Tomato SalsaSteak Soft TacosChips and GuacamoleVeggie Salad BowlSteak BowlChicken BurritoChicken BurritoSteak BurritoChips and Roasted Chili-Corn SalsaVeggie BowlChicken BowlChips and Fresh Tomato SalsaCanned SodaSteak BurritoChicken BurritoChips and Tomatillo-Green Chili SalsaChicken BowlCanned SodaChips and GuacamoleChicken BurritoChicken BurritoChicken BurritoNantucket NectarChicken BowlSteak BowlChipsChicken BowlVeggie BowlChicken BowlChips and GuacamoleChicken Salad BowlChips and GuacamoleSteak BowlChicken BurritoChicken Crispy TacosChicken BowlBarbacoa BowlChicken BowlChipsBarbacoa BurritoChipsChicken BowlVeggie BurritoChipsSteak BurritoCanned SodaSteak BurritoChips and GuacamoleChicken BowlChips and Tomatillo Green Chili SalsaChips and Roasted Chili Corn SalsaSteak BurritoChips and Tomatillo Green Chili SalsaSteak BurritoCarnitas Soft TacosSteak BurritoCarnitas BurritoChips and Fresh Tomato SalsaChicken BurritoChicken BurritoSteak BowlChicken BurritoSteak BurritoCanned SodaCanned SodaCanned SodaBarbacoa BurritoChicken SaladCanned SodaChicken BowlVeggie BowlBarbacoa BowlBarbacoa Crispy TacosChicken Salad BowlChicken BowlSteak BurritoSteak BowlSteak BowlCanned SodaSteak BowlCanned Soft DrinkSteak BurritoChips and Fresh Tomato SalsaSteak Soft TacosChips and Fresh Tomato SalsaBarbacoa Soft TacosChips and GuacamoleChicken BurritoChips and Tomatillo-Green Chili SalsaChicken BurritoChicken BurritoChicken BurritoSide of ChipsChicken BurritoChips and GuacamoleSteak Soft TacosSide of ChipsCanned SodaSteak Salad BowlChicken BowlChipsChicken BowlSteak BowlSteak BowlVeggie BowlChips and GuacamoleChicken BurritoChicken BowlChicken BowlCanned Soft DrinkSteak Soft TacosChips and GuacamoleVeggie Salad BowlSteak BurritoSteak Burrito6 Pack Soft DrinkSteak Soft TacosChips and Tomatillo-Red Chili SalsaChicken BowlChips and Fresh Tomato SalsaChicken BowlChicken BowlChipsSteak BowlSide of ChipsChicken BurritoChicken BurritoChipsChips and GuacamoleChicken BowlChicken Soft TacosSteak BurritoChicken Salad BowlChicken BurritoCanned SodaBottled WaterChicken BowlCanned Soft DrinkChipsSteak BurritoChicken BurritoChicken Soft TacosSteak BurritoChips and Fresh Tomato SalsaChicken BowlChipsBottled WaterChicken BurritoChipsChicken Soft TacosChicken Soft TacosBarbacoa BurritoSteak BurritoSteak BowlCanned Soft DrinkChicken BurritoChicken BurritoChips and Guacamole6 Pack Soft DrinkSteak Soft TacosChips and Fresh Tomato SalsaChicken Soft TacosChips and GuacamoleCanned Soft DrinkCanned Soft DrinkChicken BowlChips and Tomatillo-Red Chili SalsaCanned SodaChicken BurritoCanned SodaSteak BurritoChicken Soft TacosChicken BurritoChips and Tomatillo Red Chili Salsa6 Pack Soft DrinkSteak BurritoIzzeIzzeSteak BurritoChicken BurritoChicken BurritoChipsChicken Crispy TacosChips and Tomatillo Green Chili SalsaChicken BurritoCanned Soft DrinkSteak BurritoCanned SodaChicken BowlChicken BurritoCarnitas BurritoChips and Fresh Tomato SalsaBarbacoa BurritoBottled WaterSteak BurritoCanned SodaChicken BowlCanned Soft DrinkCanned Soft DrinkChicken BurritoSteak BurritoChipsBarbacoa BurritoSide of ChipsSteak Bowl6 Pack Soft DrinkChicken BurritoSteak Soft TacosChicken BurritoChips and GuacamoleCanned Soft DrinkVeggie BurritoChips and GuacamoleChicken BurritoBarbacoa BurritoChicken BurritoCarnitas BowlChicken BurritoCanned Soft DrinkSteak BurritoCanned Soft DrinkSteak BurritoCarnitas Soft TacosChips and GuacamoleChicken BowlChipsChicken BowlCanned Soft DrinkChicken BowlSteak BowlSide of ChipsCanned SodaChicken BowlChips and Guacamole6 Pack Soft DrinkBarbacoa BowlChicken Soft TacosSteak BurritoCarnitas BurritoChicken BowlChicken BurritoChipsChips and Fresh Tomato SalsaChicken Soft TacosChicken Soft TacosSteak BowlBarbacoa Crispy TacosIzzeSteak BurritoSide of ChipsCarnitas BowlCanned SodaVeggie BurritoNantucket NectarSteak Crispy TacosCanned SodaSteak BurritoChicken Soft TacosChicken BurritoChips and GuacamoleChips and Tomatillo Red Chili SalsaSteak BowlBowlChicken BurritoSteak BurritoChicken BurritoChicken BowlBarbacoa BurritoChicken BurritoChicken BurritoCarnitas Soft TacosChicken BowlVeggie Salad BowlChicken BowlChicken BurritoChips and Fresh Tomato SalsaCanned Soft DrinkChicken BowlSide of ChipsCarnitas BurritoChicken BurritoChicken BowlChicken BowlChips and GuacamoleVeggie BurritoChips and GuacamoleVeggie BurritoChips and GuacamoleBarbacoa BowlSide of ChipsCanned SodaChicken Soft TacosBottled WaterChicken BurritoSide of ChipsCarnitas BurritoVeggie BurritoChicken BowlSteak BurritoChicken BurritoChicken BowlChicken BowlBarbacoa Crispy TacosChicken BurritoChicken BurritoChicken BowlChipsChicken BowlSteak BowlCanned Soft DrinkChips and GuacamoleSteak Soft TacosChips and GuacamoleVeggie Salad BowlVeggie BurritoChips and GuacamoleSteak BowlSteak BowlChicken BowlBarbacoa BurritoSteak BurritoChicken Soft TacosCanned Soft DrinkCarnitas BowlCanned Soft DrinkSteak BurritoChicken BowlBurritoBurritoVeggie BowlCanned Soft DrinkChips and GuacamoleVeggie BowlChipsChicken BurritoChips and GuacamoleBurritoCrispy TacosCrispy TacosSteak BurritoChips and GuacamoleSteak BowlSide of ChipsChicken Salad BowlChicken BowlChicken Salad BowlChicken Salad BowlVeggie BowlChicken BurritoChips and Fresh Tomato SalsaChicken BurritoSteak BurritoVeggie BurritoChips and GuacamoleChips and Tomatillo Green Chili SalsaCarnitas BowlSteak BurritoBottled WaterCanned Soft DrinkChicken BowlBarbacoa BurritoChips and GuacamoleChicken BowlChicken BowlChips and GuacamoleChicken BowlSteak BurritoChips and GuacamoleChicken BurritoSteak Burrito6 Pack Soft DrinkCarnitas Crispy TacosVeggie BowlChicken BowlBarbacoa BurritoChipsSteak BowlChips and GuacamoleBarbacoa BurritoChips and Roasted Chili Corn SalsaSteak BurritoChicken BurritoCarnitas Soft TacosCanned Soft DrinkCanned Soft DrinkChicken Salad BowlChicken BurritoSteak Soft TacosChips and GuacamoleSteak BurritoSteak BurritoBarbacoa BurritoBarbacoa BurritoSteak BurritoChicken Soft TacosChips and Tomatillo-Green Chili SalsaIzzeIzzeSteak Crispy TacosSteak BurritoChicken BowlChipsChicken Salad BowlBarbacoa BurritoChips and GuacamoleChicken BurritoChicken BurritoCarnitas Soft TacosChicken Salad BowlBarbacoa BowlChips and Tomatillo Red Chili SalsaBottled WaterSteak BowlChicken BowlSide of ChipsChicken Crispy TacosChicken BurritoChicken Crispy TacosNantucket NectarBarbacoa BurritoChips and GuacamoleChicken BowlChips and GuacamoleSteak Salad BowlSteak Salad BowlChicken BurritoChips and Fresh Tomato SalsaCanned Soft DrinkBarbacoa Soft TacosChicken BurritoSteak Salad BowlChicken BowlBarbacoa BurritoChipsChipsCanned Soft DrinkVeggie BowlChips and GuacamoleChicken BurritoCanned SodaVeggie BurritoChips and GuacamoleChicken BowlCarnitas BurritoChips and Tomatillo Green Chili SalsaChips and GuacamoleSteak BurritoChicken Soft TacosVeggie BurritoChips and GuacamoleChicken Salad BowlChicken BurritoCanned Soft DrinkChicken BurritoChicken BowlSteak Burrito6 Pack Soft DrinkChicken BurritoChicken Soft TacosChips and GuacamoleVeggie BowlChips and GuacamoleSteak BurritoCanned SodaChicken BowlChips and Roasted Chili-Corn SalsaSteak BurritoSide of ChipsCanned Soft DrinkCarnitas BurritoBottled WaterChicken BowlChips and Tomatillo Green Chili SalsaChicken BurritoChips and GuacamoleSteak BurritoChicken BurritoChicken BowlSide of ChipsVeggie BurritoChips and GuacamoleSteak SaladSteak BowlChips and GuacamoleCarnitas Soft TacosChicken BowlChips and GuacamoleCanned Soft DrinkChips and GuacamoleChicken BurritoBowlChips and Mild Fresh Tomato SalsaBurritoChips and GuacamoleVeggie BowlChips and GuacamoleSteak BowlChips and GuacamoleChicken BurritoCanned Soft DrinkSteak BurritoCanned Soft DrinkChicken BurritoChipsChicken BowlChips and GuacamoleCanned Soft DrinkSteak BowlCarnitas BurritoChips and Tomatillo-Red Chili SalsaChicken Salad BowlChips and GuacamoleCanned Soft DrinkSteak BurritoChicken Soft TacosCanned SodaChicken BurritoCanned SodaBottled WaterChicken Salad BowlChips and Tomatillo Green Chili SalsaCanned Soft DrinkBottled WaterChicken BowlSteak BurritoChips and Roasted Chili Corn SalsaCanned Soft DrinkVeggie BurritoChips and GuacamoleSteak BurritoChips and GuacamoleVeggie BurritoChicken BurritoCanned Soft DrinkBarbacoa BurritoSide of ChipsChicken BowlCanned Soft Drink6 Pack Soft DrinkChicken BowlBarbacoa BurritoChicken BurritoChips and Fresh Tomato SalsaChicken BurritoSteak BurritoSteak BurritoSteak Crispy TacosChips and Fresh Tomato SalsaChips and GuacamoleVeggie BurritoChicken BowlChicken BurritoCanned Soft DrinkSteak BurritoVeggie BowlVeggie Soft TacosChicken BurritoCanned Soft DrinkSteak BurritoBarbacoa Burrito6 Pack Soft DrinkChips and GuacamoleVeggie BurritoChicken BurritoChipsChicken BurritoSteak Salad BowlBarbacoa BowlSide of ChipsSteak SaladSteak BowlChips and GuacamoleCarnitas Soft TacosBarbacoa BurritoSteak BowlChipsBurritoBurritoVeggie BurritoChicken Salad BowlBarbacoa Crispy TacosChips and GuacamoleChicken BowlCanned Soft DrinkCarnitas BurritoChicken Crispy TacosCanned Soft DrinkChips and GuacamoleVeggie BurritoChicken BowlChicken BowlSteak Crispy TacosChicken BowlChipsCanned Soft DrinkChicken BurritoCanned SodaBottled WaterVeggie Soft TacosChips and Tomatillo Green Chili SalsaCanned Soft DrinkSteak BowlCanned Soft DrinkChipsChicken BurritoCanned Soft DrinkChips and GuacamoleChicken BurritoCanned Soft DrinkChips and GuacamoleChicken BurritoChicken BowlChicken BowlChicken BurritoVeggie BurritoChicken BowlChips and GuacamoleChicken BurritoChips and GuacamoleSide of ChipsBarbacoa BowlBarbacoa BowlChicken BowlSteak BurritoCanned SodaSteak BurritoChips and Tomatillo Green Chili SalsaChicken BurritoSteak BurritoChips and GuacamoleVeggie BurritoChicken BurritoChicken BowlChicken Salad BowlChicken BowlBottled WaterChips and GuacamoleCarnitas Soft TacosCanned SodaCarnitas BowlChicken BurritoChips and GuacamoleSteak BowlChips and GuacamoleVeggie BurritoChipsBarbacoa Crispy TacosChicken Crispy TacosVeggie BowlVeggie BowlCarnitas BowlChicken BurritoCarnitas BurritoChicken BurritoChicken BowlChips and Tomatillo Red Chili SalsaChips and GuacamoleBarbacoa BowlChips and Roasted Chili Corn SalsaSteak BowlVeggie BowlChicken BowlChips and GuacamoleVeggie BowlVeggie BurritoChips and Fresh Tomato SalsaChicken BowlCanned Soft DrinkCarnitas BowlChips and GuacamoleBarbacoa BurritoBarbacoa BurritoChips and GuacamoleChicken BurritoBarbacoa Soft TacosChicken BurritoBarbacoa BurritoSteak BurritoSteak BurritoSteak BurritoSteak BurritoChicken Salad BowlCarnitas BurritoChicken Crispy TacosCanned Soft DrinkChicken BowlChipsCanned Soft DrinkChicken BowlChicken Soft TacosCanned Soft DrinkVeggie BurritoBottled WaterChicken Soft TacosChicken BowlBarbacoa Burrito6 Pack Soft DrinkChips and GuacamoleChicken BowlChips and GuacamoleChicken Soft TacosCanned Soft DrinkChicken Crispy TacosSteak BurritoVeggie BowlBarbacoa BurritoBottled WaterChicken BowlVeggie BurritoChicken BowlSteak SaladChips and GuacamoleChicken BurritoChips and GuacamoleSteak BurritoSide of ChipsSteak BowlChicken BowlVeggie BowlChips and GuacamoleBarbacoa BurritoCanned Soft DrinkSteak BowlChips and Roasted Chili Corn SalsaSteak BurritoSteak BurritoCanned SodaSteak BowlSteak BurritoChicken BurritoSide of ChipsSteak BurritoChicken BowlChips and Tomatillo Green Chili SalsaCanned Soft DrinkSteak Crispy TacosBarbacoa BowlChicken BowlChipsBottled WaterChicken Soft TacosChicken Soft TacosNantucket NectarSteak BowlChips and GuacamoleChicken BowlChips and GuacamoleChicken BowlVeggie BurritoChipsChicken BowlChicken BowlSide of ChipsVeggie BowlChicken BowlCanned Soft DrinkChicken BurritoSteak BurritoSteak BurritoSteak BurritoBottled WaterChicken BowlChips and GuacamoleChicken Crispy TacosChips and Fresh Tomato SalsaChicken BowlChipsChips and GuacamoleChicken BurritoSteak BowlChips and GuacamoleChicken BurritoSide of ChipsCanned SodaSteak BurritoCanned SodaCarnitas BurritoVeggie Salad BowlSteak Soft TacosChips and Fresh Tomato SalsaCanned Soft DrinkCanned Soft DrinkChicken BurritoChicken Soft TacosSteak BurritoSteak Soft TacosChicken Soft TacosBottled WaterChips and GuacamoleVeggie BurritoVeggie BurritoCarnitas BurritoChicken BowlChicken BowlChicken BowlChips and GuacamoleChicken BowlChicken BowlBarbacoa BurritoChips and Tomatillo-Green Chili SalsaChicken BurritoCarnitas BowlChipsChicken BurritoCanned Soft DrinkBarbacoa Soft TacosCanned Soft DrinkChicken BurritoSteak BurritoCanned Soft DrinkChicken BowlChicken BowlChicken BowlChicken BowlChicken BurritoCanned Soft DrinkChicken Soft TacosChicken BowlChicken BowlBottled WaterBottled WaterChicken BowlChips and GuacamoleChicken Crispy TacosCanned Soft DrinkCarnitas Crispy TacosChicken BurritoChips and Tomatillo-Green Chili SalsaSteak BowlChips and GuacamoleSteak BurritoChicken BowlSteak BurritoSide of ChipsChicken BowlChips and Tomatillo-Green Chili SalsaBarbacoa Crispy TacosSteak Crispy TacosChicken BurritoChips and GuacamoleChicken BowlChips and GuacamoleSteak Burrito6 Pack Soft DrinkChicken Crispy TacosChicken BurritoChicken BurritoCanned SodaSide of ChipsBarbacoa BowlChips and GuacamoleChicken BowlCanned Soft DrinkChips and Fresh Tomato SalsaChips and GuacamoleVeggie BurritoSteak BowlSteak BowlChipsSteak BowlChicken BowlChipsCanned Soft DrinkChicken BurritoChipsCanned Soft DrinkChicken BurritoChicken Burrito6 Pack Soft DrinkSide of ChipsSteak BowlChicken BurritoBarbacoa BurritoChicken BurritoCanned SodaChicken BowlIzzeChicken BowlChipsCanned Soft DrinkCarnitas BurritoChicken BurritoChicken SaladChicken BowlChips and Roasted Chili Corn SalsaBarbacoa BowlSteak BurritoSteak BurritoChips and GuacamoleSteak BurritoChicken BowlVeggie BurritoChips and GuacamoleSide of ChipsSteak BowlChicken BowlChips and GuacamoleBottled WaterSteak BowlChipsSteak BurritoChips and Tomatillo-Green Chili SalsaChicken BurritoChips and Fresh Tomato SalsaCanned Soft DrinkChicken BowlChipsCanned Soft DrinkCanned SodaCanned SodaSteak BurritoChicken Soft TacosChips and Fresh Tomato SalsaSteak BowlCarnitas BurritoCanned Soft DrinkChicken BurritoBarbacoa BurritoChips and Tomatillo-Red Chili SalsaSteak BurritoChips and GuacamoleChicken BowlVeggie BurritoChicken BowlChicken BurritoChicken BowlChicken Salad BowlChicken Salad BowlSteak BowlChicken BowlChips and GuacamoleSteak BurritoCanned Soft DrinkChicken BurritoChicken BurritoChips and Fresh Tomato SalsaBarbacoa BurritoSide of ChipsChicken BurritoChips and GuacamoleChicken Bowl6 Pack Soft DrinkChicken BurritoChips and GuacamoleCarnitas BurritoChips and GuacamoleBarbacoa Soft TacosSteak BurritoChips and GuacamoleCarnitas Salad BowlSteak BowlChicken BowlChips and Fresh Tomato SalsaBottled WaterChips and GuacamoleChicken BurritoSteak BurritoBottled WaterSteak BurritoCanned SodaChips and GuacamoleSteak BurritoVeggie BurritoSteak BurritoChips and GuacamoleSteak BowlBarbacoa Soft TacosChips and Roasted Chili Corn SalsaBarbacoa BurritoChicken BurritoSteak BurritoSteak BurritoChicken BurritoChicken BowlChips and Tomatillo Green Chili SalsaChips and GuacamoleSteak Salad BowlChicken BurritoChicken BurritoSide of ChipsChicken BowlChipsCanned Soft DrinkChicken Burrito6 Pack Soft DrinkSteak Crispy TacosChipsChicken BurritoChips and GuacamoleChicken BowlCanned Soft DrinkBarbacoa BowlBarbacoa BowlSteak BowlBottled WaterChicken BowlBarbacoa BowlChips and Roasted Chili-Corn SalsaChips and Tomatillo-Red Chili SalsaBottled WaterChicken BowlChips and GuacamoleChicken BurritoCarnitas Soft TacosBarbacoa BurritoChicken BowlChicken Salad BowlChips and GuacamoleChips and Tomatillo Red Chili SalsaSteak BowlVeggie BurritoChicken Soft TacosCarnitas Crispy TacosSide of ChipsCarnitas BurritoChicken BowlSteak BurritoCarnitas BowlChicken BurritoBarbacoa BurritoChicken BurritoChicken BowlChicken BowlChicken BowlChicken BowlChicken BurritoChips and GuacamoleChicken BowlChicken BurritoCarnitas BowlIzzeChips and GuacamoleSteak BurritoCanned SodaCanned SodaChips and Tomatillo-Green Chili SalsaChicken BurritoChips and GuacamoleChicken BowlChicken BowlChips and GuacamoleSteak BowlChips and GuacamoleChicken BowlChipsCanned Soft DrinkBarbacoa Salad BowlChips and Fresh Tomato SalsaSteak BurritoCanned Soft DrinkChicken BurritoChips and GuacamoleBarbacoa BowlBarbacoa BowlChips and Fresh Tomato SalsaCarnitas BurritoChicken BurritoBarbacoa Soft TacosChips and Fresh Tomato SalsaVeggie BowlCanned Soft DrinkCarnitas BowlCanned Soft DrinkSteak BowlChips and Fresh Tomato SalsaCanned Soft DrinkChicken Soft TacosCanned Soft DrinkChicken BurritoVeggie BurritoChips and GuacamoleChicken BurritoSteak BurritoVeggie BurritoChips and Fresh Tomato SalsaChips and GuacamoleChips and Tomatillo Green Chili Salsa6 Pack Soft DrinkVeggie BurritoSteak BurritoChips and Tomatillo-Green Chili SalsaBarbacoa BowlChicken BowlChipsChicken Soft TacosChips and GuacamoleChicken BurritoSide of ChipsChicken BurritoSteak BurritoChicken BurritoChips and GuacamoleSteak BurritoSteak BurritoChips and GuacamoleChicken Soft Tacos6 Pack Soft DrinkChicken BurritoChicken BowlSteak BurritoCanned Soft DrinkChips and GuacamoleChicken BurritoSide of ChipsCarnitas BurritoChips and GuacamoleSteak BurritoCanned SodaChicken BowlChips and Roasted Chili Corn SalsaSteak BowlCarnitas BowlChips and GuacamoleChicken BowlVeggie BowlChicken BowlChicken BowlBarbacoa BurritoChipsChicken BowlChicken BowlChips and GuacamoleSide of ChipsSteak BowlChicken BowlSide of ChipsSteak BurritoChicken BurritoSteak Salad BowlSteak BowlChips and Tomatillo Red Chili SalsaSteak BowlChips and Fresh Tomato SalsaVeggie Salad BowlChips and GuacamoleChips and GuacamoleVeggie BowlChicken BurritoSteak BurritoChicken BurritoSteak BurritoChips and GuacamoleSteak BurritoBarbacoa Salad BowlSteak Crispy TacosChicken BurritoChicken BowlSteak BowlChicken BurritoChicken BowlSteak BurritoBarbacoa Soft TacosChips and GuacamoleChicken BurritoCarnitas BurritoCanned Soft DrinkSteak BurritoSide of ChipsCarnitas BowlChipsCanned Soft DrinkCarnitas BowlChicken Crispy TacosChips and GuacamoleBarbacoa BowlChips and Tomatillo Red Chili SalsaVeggie BurritoChicken BurritoChips and GuacamoleChicken Salad BowlSteak Soft TacosSteak BowlSide of ChipsNantucket NectarBarbacoa BowlChips and Roasted Chili Corn SalsaCarnitas BowlSide of ChipsChicken Soft TacosChicken BurritoVeggie BowlChips and Fresh Tomato SalsaSteak Soft TacosSide of ChipsChicken BowlChipsCanned Soft DrinkChicken BowlChips and Roasted Chili Corn SalsaSteak BurritoCanned Soft DrinkVeggie BowlCanned Soft DrinkCarnitas BowlCanned Soft DrinkChicken BowlBottled WaterChicken Soft TacosCanned Soft DrinkChips and Tomatillo Red Chili SalsaBarbacoa BowlSteak BurritoChicken BowlChicken BowlChipsSteak BurritoCanned Soft DrinkCarnitas Soft TacosBarbacoa Soft Tacos6 Pack Soft DrinkCarnitas BowlVeggie BurritoVeggie Soft TacosCanned SodaChicken BowlChicken BurritoCanned Soft DrinkChipsChicken BowlBottled WaterChicken BurritoVeggie BowlChicken BowlChicken BurritoChicken BowlBottled WaterCanned Soft DrinkBottled WaterChicken BowlCanned Soft DrinkChipsSaladSaladChips and GuacamoleBarbacoa BowlBarbacoa Salad BowlBarbacoa BowlBarbacoa BowlBarbacoa Salad BowlChicken Salad BowlChips and GuacamoleChicken BurritoBottled WaterChicken Soft TacosChicken BowlVeggie BowlChicken BowlCarnitas BowlCanned SodaChicken BowlVeggie BowlChicken BurritoChicken BurritoBottled WaterCarnitas Soft TacosChicken Soft TacosChips and GuacamoleVeggie BurritoVeggie BowlChicken BowlChicken BurritoChicken BurritoChicken BurritoSteak BowlBottled WaterChicken BurritoChicken BowlChips and Roasted Chili Corn SalsaSteak Crispy TacosChicken BurritoSteak BurritoVeggie BowlChips and GuacamoleChicken BowlCanned SodaChips and Roasted Chili-Corn SalsaVeggie BurritoChicken Salad BowlSteak BowlCarnitas BurritoChicken BurritoChicken BurritoChips and Fresh Tomato SalsaChicken BurritoChicken Soft TacosChips and GuacamoleSteak BurritoChips and GuacamoleChicken Salad BowlChipsCanned Soft DrinkChicken BowlSteak BowlChicken Soft TacosBottled WaterChicken BowlChipsCanned Soft DrinkChicken BurritoSteak BowlChicken Salad BowlChicken BowlBottled WaterChicken BurritoCanned Soft DrinkChips and GuacamoleChicken Soft TacosChicken BowlChips and Tomatillo Red Chili SalsaCanned Soft DrinkChicken BurritoChips and Fresh Tomato SalsaCanned Soft DrinkChicken Soft TacosVeggie BurritoChips and Fresh Tomato SalsaChicken BowlCanned Soft DrinkChicken BurritoChicken BurritoSteak BowlChicken BowlSteak Salad BowlCanned Soft DrinkChicken BowlChipsCanned Soft DrinkSteak BurritoCanned SodaChicken BowlChips and GuacamoleChicken BowlChicken BowlChips and GuacamoleSteak BurritoChips and Tomatillo Green Chili SalsaChicken BowlChicken BurritoSteak BurritoChicken BurritoChicken BowlChicken Salad BowlChicken BowlChips and GuacamoleCanned Soft DrinkChicken BowlChicken BowlChicken BowlBarbacoa BurritoBarbacoa BurritoChips and Tomatillo-Red Chili SalsaChips and Tomatillo-Red Chili SalsaChips and GuacamoleChicken BowlChips and GuacamoleChipsSteak BowlCanned Soft DrinkChicken BurritoSteak Soft TacosChicken BowlChips and GuacamoleChicken BowlChipsChicken Salad BowlChips and GuacamoleChicken BurritoChicken BurritoCanned Soft DrinkChicken BowlChipsChicken BowlChips and Roasted Chili Corn SalsaSteak BowlCanned Soft DrinkSteak BurritoCanned Soft DrinkChicken Soft TacosCanned Soft DrinkChips and GuacamoleSteak BowlChips and GuacamoleChicken BurritoSteak BowlChicken BurritoChips and Tomatillo Green Chili SalsaChicken BurritoChicken BowlSteak Salad BowlChips and GuacamoleChips and Tomatillo Green Chili SalsaCanned Soft DrinkChicken BowlChips and GuacamoleChips and Tomatillo Green Chili SalsaCanned Soft DrinkChicken BowlChipsCanned Soft DrinkSteak BurritoChips and Tomatillo Green Chili SalsaBarbacoa BurritoNantucket NectarSteak BurritoCarnitas Soft TacosChicken BowlChips and Tomatillo Green Chili SalsaSteak Salad BowlBottled WaterChicken BowlChips and Tomatillo Green Chili SalsaCarnitas BowlChicken BurritoChicken BowlChips and Roasted Chili Corn SalsaChicken BowlBarbacoa BurritoChipsChicken Salad BowlChicken BowlChicken BowlChicken BowlChipsChicken BurritoCanned Soft DrinkChipsChicken BowlChicken BowlIzzeIzzeChicken BurritoChicken Soft TacosChips and Tomatillo-Green Chili SalsaChicken BurritoSteak Soft TacosSteak BowlCanned Soft DrinkChips and Tomatillo Red Chili SalsaChicken Salad BowlVeggie BowlSteak BowlChips and GuacamoleBottled WaterNantucket NectarCarnitas BurritoChips and Roasted Chili-Corn SalsaChicken BowlChipsVeggie BurritoCarnitas Crispy TacosSteak BurritoChips and GuacamoleSteak BurritoChips and GuacamoleSteak BurritoChicken BowlChicken BurritoSteak BurritoChicken BurritoBarbacoa Soft TacosBarbacoa BowlVeggie BowlChicken BowlChips and GuacamoleChips and GuacamoleBarbacoa BurritoChicken BowlBarbacoa BowlChicken BowlVeggie BurritoVeggie Crispy TacosChicken BurritoChipsChicken BurritoChicken Soft TacosChips and Roasted Chili Corn SalsaChicken BurritoChicken BowlChicken BurritoCanned SodaChicken BurritoChipsChips and Tomatillo Red Chili SalsaCanned Soft DrinkChicken BurritoCarnitas Soft TacosBarbacoa Soft TacosBarbacoa BowlChips and Tomatillo Red Chili SalsaChicken BowlChipsCanned Soft DrinkSteak BurritoChips and GuacamoleCarnitas BurritoChipsCarnitas BowlIzzeSteak BurritoChicken Soft TacosChicken BowlChicken BowlChips and GuacamoleChicken BowlChipsCanned Soft DrinkSteak BurritoChips and GuacamoleSteak BurritoChips and Fresh Tomato SalsaChicken BowlVeggie SaladVeggie BurritoChicken Soft TacosChips and GuacamoleChicken BurritoVeggie Soft TacosChicken BurritoChicken BowlChips and GuacamoleChicken BowlSide of ChipsChicken BowlNantucket NectarChicken BurritoChicken Salad BowlSteak BurritoChicken BurritoChicken BowlChicken BurritoSteak BurritoChicken BurritoSteak BurritoChicken BowlSteak BurritoChicken BurritoChicken BowlSide of ChipsSteak Soft TacosSteak BowlChicken BurritoSide of ChipsSteak BowlChipsBottled WaterChicken BurritoBottled WaterChicken BowlChicken BowlChips and Tomatillo Red Chili SalsaChicken BowlSide of ChipsChicken BowlChips and Tomatillo Red Chili SalsaCanned Soft DrinkChicken Salad BowlChipsCarnitas BowlChicken BowlChicken BowlChicken BowlSteak BowlCanned Soft DrinkBarbacoa BowlChicken BurritoChicken BurritoVeggie BowlChips and GuacamoleChicken BurritoBottled WaterSteak BurritoBarbacoa Soft Tacos6 Pack Soft DrinkChicken Salad BowlChips and Guacamole6 Pack Soft DrinkChicken BowlCanned Soft DrinkChipsChicken BowlChips and Tomatillo-Red Chili SalsaChicken BurritoSteak BurritoChips and GuacamoleCarnitas BowlVeggie BurritoSteak BurritoChips and Fresh Tomato SalsaSteak BurritoCarnitas Soft TacosSteak BurritoChicken BurritoChicken BurritoChicken BurritoChicken BowlVeggie BurritoSteak BowlChicken BowlChicken Soft TacosChipsChicken BowlChipsChips and GuacamoleSteak BowlChicken BowlChips and Fresh Tomato SalsaCarnitas Soft TacosCanned Soft DrinkCanned Soft DrinkCanned Soft DrinkCanned Soft DrinkChicken BowlChipsChicken BowlSide of ChipsChicken BowlBottled WaterChicken BurritoChicken Soft TacosChicken BowlChips and GuacamoleBarbacoa BowlCanned SodaChicken Salad BowlCanned Soft DrinkChicken BurritoChips and Fresh Tomato SalsaChicken Soft TacosChicken BowlBarbacoa BurritoChicken Salad BowlChips and GuacamoleChicken Salad BowlSteak Salad BowlSteak BurritoChicken Soft TacosChicken BurritoChips and GuacamoleChicken BurritoSteak BowlSteak BowlChips and GuacamoleBarbacoa Salad BowlChips and Fresh Tomato SalsaChicken BurritoChips and GuacamoleChicken BowlChipsCanned Soft DrinkChicken BowlVeggie BowlSide of ChipsChicken BurritoChips and GuacamoleChicken Soft TacosCarnitas Crispy TacosChicken BowlChips and GuacamoleVeggie BowlChicken BurritoChips and Fresh Tomato SalsaChicken Crispy TacosChicken BurritoBarbacoa BurritoChips and Tomatillo Green Chili SalsaChicken Bowl6 Pack Soft DrinkChipsChicken BowlChicken BowlChipsBottled WaterChicken BowlChicken BowlChips and Tomatillo-Red Chili SalsaSteak BurritoChips and Guacamole6 Pack Soft DrinkSteak BurritoChips and GuacamoleVeggie BowlSide of ChipsCarnitas Salad BowlBarbacoa Crispy TacosSteak BowlChips and Fresh Tomato SalsaChicken BurritoChipsCanned Soft DrinkChicken BowlCarnitas BowlChicken Soft TacosVeggie BowlChicken BowlChicken BowlCanned Soft DrinkCanned Soft DrinkBottled WaterChips and GuacamoleChips and Fresh Tomato SalsaChicken Salad BowlVeggie Salad BowlChicken BurritoChicken BurritoChicken BowlChipsBottled WaterSteak BowlCanned Soft DrinkBottled WaterChipsCanned Soft DrinkChicken BowlChips and Tomatillo Red Chili SalsaChicken Soft TacosChips and GuacamoleChicken Salad BowlChipsSteak BowlChipsBarbacoa Crispy TacosChicken BowlChips and Fresh Tomato SalsaChicken BowlChips and GuacamoleCarnitas BowlCarnitas BurritoChips and GuacamoleSteak BurritoSteak Soft TacosBottled WaterChicken BowlChips and Tomatillo Red Chili Salsa6 Pack Soft DrinkCarnitas BowlChicken BurritoSteak BurritoChicken BowlChips and Guacamole6 Pack Soft DrinkChicken Salad BowlSteak BowlChips and Roasted Chili Corn SalsaChicken BowlSide of ChipsChicken BowlChicken BowlChips and GuacamoleChicken BowlChips and Tomatillo Red Chili SalsaSteak BowlChicken BowlChips and Tomatillo-Green Chili SalsaSteak Burrito6 Pack Soft DrinkChicken Soft TacosSteak BurritoChips and Fresh Tomato SalsaSteak BowlSide of ChipsSteak BowlCanned SodaCanned SodaSteak BurritoCarnitas BurritoCanned SodaSteak BurritoSteak BurritoChicken Soft TacosChicken BowlCanned SodaSteak BurritoSteak BowlChicken Salad BowlChicken BurritoChipsVeggie BurritoChicken Soft TacosChips and GuacamoleChips and Roasted Chili Corn SalsaCarnitas Soft TacosBottled WaterSteak BurritoChicken BowlChips and Tomatillo-Green Chili SalsaChicken BurritoChipsBarbacoa BowlBottled WaterChicken BowlChipsChips and GuacamoleSteak Bowl6 Pack Soft DrinkChicken Salad BowlChips and GuacamoleSteak Soft TacosChips and GuacamoleChicken BurritoVeggie BurritoCanned Soft DrinkChicken BowlBarbacoa Soft TacosChips and GuacamoleCanned Soft DrinkBottled WaterChicken BowlChips and GuacamoleChips and GuacamoleChips and Tomatillo Red Chili SalsaSteak BurritoChicken BowlChipsChicken BowlChicken BowlChips and GuacamoleChips and Tomatillo Red Chili SalsaCarnitas Soft TacosChicken BowlCanned Soft DrinkChicken BowlChips and Tomatillo Red Chili SalsaCanned Soft DrinkChicken BowlChips and GuacamoleSteak BurritoSteak BurritoChicken BowlChips and Tomatillo-Red Chili SalsaChicken BowlBarbacoa BowlChipsBottled WaterChipsChicken BowlChicken BowlChips and GuacamoleChicken BowlChicken BowlCanned Soft DrinkChips and GuacamoleSteak BurritoSteak Crispy TacosChicken BurritoCarnitas BowlVeggie BowlChicken BurritoSteak BowlChicken Salad BowlCarnitas BurritoCarnitas BowlVeggie BowlChicken BowlChips and GuacamoleChips and Fresh Tomato SalsaChicken BowlVeggie BowlChicken BurritoChicken BurritoSteak BowlSteak BowlSteak BurritoChicken BurritoSteak BowlChips and GuacamoleChicken Soft TacosChicken BowlSide of ChipsChicken BurritoSteak BurritoChips and Roasted Chili-Corn SalsaSteak BurritoChips and Fresh Tomato SalsaCanned Soft DrinkChicken BowlChips and Tomatillo Red Chili SalsaSteak BurritoChicken Soft TacosChicken BurritoChicken BowlVeggie BowlChips and Fresh Tomato SalsaChicken BowlBottled WaterVeggie BurritoBottled WaterCanned Soft DrinkChicken BowlChips and GuacamoleSteak BowlBarbacoa BowlChips and GuacamoleChicken BowlChicken Soft TacosChips and GuacamoleChicken Soft TacosChicken Soft TacosCarnitas Soft TacosSteak BurritoChips and Fresh Tomato SalsaBarbacoa Soft TacosVeggie BurritoChicken BurritoChicken Soft TacosChips and GuacamoleIzzeSteak BowlBottled WaterChips and GuacamoleCarnitas BurritoChicken BurritoCanned Soft DrinkSteak BowlVeggie BurritoBottled WaterChicken BurritoChicken BowlChipsBottled WaterChicken BurritoChips and Tomatillo Red Chili SalsaChicken BowlChicken BurritoChicken BowlChicken Burrito6 Pack Soft DrinkChips and GuacamoleChicken BurritoChicken Salad BowlChipsChicken Salad BowlChicken BowlChips and GuacamoleSteak BurritoChips and Fresh Tomato SalsaSteak BurritoCarnitas Soft TacosSteak BurritoChips and GuacamoleSteak BurritoVeggie BowlChips and Fresh Tomato SalsaChipsChicken BurritoChicken BurritoChicken BowlChipsBottled WaterBarbacoa BurritoChips and GuacamoleChicken BurritoSteak BurritoCanned SodaChicken BurritoChips and GuacamoleCanned Soft DrinkSteak Soft TacosChips and Roasted Chili-Corn SalsaChips and GuacamoleChicken BurritoChicken BurritoSteak Soft TacosBottled WaterChicken BowlSteak BowlChicken BowlChips and GuacamoleSteak BurritoChicken Soft TacosChips and GuacamoleChicken BurritoChicken BurritoSteak BurritoVeggie Salad BowlChicken BowlChicken BurritoChicken BurritoChicken BurritoChips and Tomatillo-Green Chili SalsaNantucket NectarChicken BowlCanned Soft DrinkChips and Fresh Tomato SalsaSteak BowlBottled WaterChicken BowlSide of ChipsChips and GuacamoleChicken BurritoChicken BowlChicken BowlChicken BowlChips and GuacamoleSteak BurritoVeggie BurritoChicken BowlChicken BowlChips and GuacamoleSteak BowlChicken BurritoChicken BowlChicken BurritoChicken BurritoChips and GuacamoleChicken BowlChips and GuacamoleCanned Soft DrinkChicken BowlChicken BowlBottled WaterChipsCarnitas BowlSteak BurritoSteak BowlSteak BowlSteak BowlBottled WaterChicken BurritoCarnitas Soft TacosCanned Soft DrinkChicken BurritoChipsSteak BurritoCanned SodaChips and GuacamoleChicken BurritoSteak BowlChipsChicken BowlChicken BurritoCanned Soft DrinkSteak BowlChipsSteak BurritoChicken BurritoVeggie BurritoVeggie BurritoChips and GuacamoleChicken BurritoSide of ChipsVeggie Salad BowlChicken Salad BowlSteak BurritoChicken Soft TacosSteak Crispy TacosChicken BowlChips and Tomatillo Red Chili SalsaChips and GuacamoleSteak Crispy Tacos6 Pack Soft DrinkCarnitas BowlSteak BowlCanned SodaSteak BurritoSteak BurritoChicken BurritoCarnitas BurritoChicken BowlChipsBottled WaterBarbacoa BurritoSide of ChipsChicken BowlCanned Soft DrinkCarnitas Soft TacosBarbacoa Soft TacosChicken Soft TacosSteak Soft TacosChips and GuacamoleChipsBarbacoa BowlChicken BurritoChicken BurritoChicken BowlBarbacoa BurritoChipsBarbacoa Soft TacosChicken BowlChicken BurritoChipsCanned Soft DrinkChicken BowlCanned Soft DrinkChicken BowlChips and Fresh Tomato SalsaCarnitas BowlVeggie Salad BowlCarnitas BurritoChips and GuacamoleSteak BowlSteak BowlCanned Soft DrinkSteak BowlChipsSteak BowlBottled WaterCanned Soft DrinkVeggie BurritoChips and Tomatillo Red Chili SalsaChicken BowlChicken Soft TacosChicken Soft TacosChicken BurritoChicken BurritoChicken Soft TacosChicken BurritoChipsCanned Soft DrinkChicken BurritoChicken BowlChipsBottled WaterChicken BowlChips and Tomatillo Green Chili SalsaCanned Soft DrinkCarnitas Soft TacosCarnitas Soft TacosChicken BurritoChips and Roasted Chili-Corn SalsaChicken BurritoChips and GuacamoleSteak BurritoChicken BowlChicken BowlChicken BowlSteak BowlChicken BowlSteak BurritoChicken BurritoChicken BowlChicken BowlChicken Salad BowlSteak BowlChicken BurritoSteak BowlChicken BowlSteak BowlChicken BurritoChicken BowlChicken BowlBarbacoa BurritoChicken BurritoSteak BowlVeggie BowlSteak BurritoSteak BurritoChicken BowlChips and Tomatillo Red Chili SalsaCanned Soft DrinkSteak BowlBottled WaterChicken BowlChicken BowlChicken BowlBottled WaterChipsChicken BowlSteak BowlBottled WaterChicken BowlChipsBottled WaterChicken BurritoChips and Roasted Chili Corn SalsaCanned Soft DrinkCanned Soft DrinkSteak BurritoChips and GuacamoleChicken BowlChicken BurritoChips and GuacamoleChicken BowlChipsCanned Soft DrinkChicken BowlSide of ChipsChicken BurritoCanned Soft DrinkChicken BowlCanned Soft DrinkChicken BowlChicken BurritoChicken BowlChicken BurritoSide of ChipsCarnitas BowlSteak BurritoChicken BowlChips and Roasted Chili-Corn SalsaBarbacoa BowlChips and Roasted Chili Corn Salsa6 Pack Soft DrinkChicken Crispy TacosVeggie BowlSteak BurritoChicken BowlNantucket NectarSteak BurritoNantucket NectarCarnitas BurritoChicken BowlVeggie Soft TacosChips and GuacamoleSteak BowlSteak BowlChicken Burrito6 Pack Soft DrinkSteak BurritoChips and Fresh Tomato SalsaVeggie BowlChicken BurritoSteak BurritoChips and GuacamoleChicken BowlChipsBarbacoa BurritoBarbacoa BowlBarbacoa BurritoSteak Salad BowlSteak BowlChicken Salad BowlCarnitas BowlSteak BurritoChicken BowlChicken BowlChicken BowlSide of ChipsBottled WaterChicken BowlBottled WaterChicken BurritoChicken BurritoSteak BowlBottled WaterChicken BurritoSteak Crispy TacosChicken Salad BowlChicken BurritoChipsChicken Crispy TacosChicken Salad BowlChipsVeggie BurritoChips and Tomatillo Red Chili SalsaChips and GuacamoleChicken BowlChicken BowlNantucket NectarChips and Fresh Tomato SalsaSteak BowlChipsBarbacoa Soft TacosSteak BurritoChips and Fresh Tomato SalsaChicken BowlSteak BurritoSteak Salad BowlCanned Soft DrinkBottled WaterBarbacoa Salad BowlCanned SodaVeggie BowlChips and Fresh Tomato SalsaChicken BowlChicken BurritoChicken BowlChicken BowlSteak Soft TacosChicken BowlChicken BowlChips and GuacamoleCarnitas BurritoChicken Soft TacosChicken BurritoSteak BowlBottled WaterBottled WaterChicken BowlSteak Crispy TacosBarbacoa BurritoChicken BurritoChips and GuacamoleChicken Soft TacosChipsSteak BurritoChicken BurritoChips and GuacamoleSide of ChipsVeggie BowlSteak BowlSteak BowlSteak BurritoChips and GuacamoleChicken BowlChips and GuacamoleChicken BowlCanned Soft DrinkSteak BurritoChips and GuacamoleVeggie BurritoChicken BowlChicken BowlSteak BurritoChicken BurritoChicken BowlCarnitas BowlChips and GuacamoleCanned Soft DrinkChicken BurritoSteak BurritoCanned SodaChips and Fresh Tomato SalsaChicken BowlChipsChicken BowlChips and GuacamoleChicken BurritoSide of ChipsChicken BurritoSide of ChipsSteak BurritoChips and GuacamoleChicken BowlChicken Soft TacosChicken Crispy TacosSteak BurritoChicken Soft TacosChicken BowlChicken BowlChips and Fresh Tomato SalsaCanned Soft DrinkChicken Soft TacosChicken Crispy TacosSteak BurritoBarbacoa BowlChicken BowlSteak BurritoCanned SodaBarbacoa BurritoSide of ChipsCarnitas BurritoCanned Soft DrinkChicken BowlChicken BurritoChipsCanned Soft DrinkChicken Soft TacosVeggie BowlSteak BowlChicken BurritoChicken BowlChicken BurritoChicken BurritoChipsCarnitas BowlCanned SodaSide of ChipsChicken BowlChipsCanned Soft DrinkChicken BowlCanned SodaBottled WaterSide of ChipsCarnitas BowlChicken BowlChicken Crispy TacosChips and Tomatillo-Red Chili SalsaCarnitas Soft TacosCanned Soft DrinkCanned Soft DrinkCanned Soft DrinkChicken BowlChicken Crispy TacosCarnitas BowlChips and GuacamoleChicken BowlChips and GuacamoleSteak BurritoCanned SodaChicken Salad BowlChipsVeggie BowlSteak BowlCarnitas BowlVeggie BowlChicken BowlSteak BowlChips and Fresh Tomato SalsaChicken BurritoChips and GuacamoleChicken BowlChips and Tomatillo Red Chili SalsaChips and Tomatillo Red Chili SalsaChicken BowlBottled WaterChicken BurritoChicken BowlCarnitas BurritoChicken BowlChips and GuacamoleCanned SodaBarbacoa BurritoCarnitas BurritoChicken BurritoChips and GuacamoleChicken BurritoChicken BowlChips and GuacamoleChicken BowlCanned Soft DrinkChips and GuacamoleSteak BurritoChicken BurritoChicken BowlChicken BurritoChips and GuacamoleSteak Salad BowlCanned Soft DrinkChips and Roasted Chili Corn SalsaChicken BowlChicken Crispy TacosVeggie BurritoChicken BowlChipsChips and GuacamoleChicken BowlCarnitas Salad BowlChicken BowlChicken BurritoChips and GuacamoleChicken BowlChicken Salad BowlChicken BowlChicken BurritoChicken BurritoIzzeBarbacoa BowlChicken BowlChips and Tomatillo Red Chili SalsaBottled WaterSteak Salad BowlSteak BurritoChips and Fresh Tomato SalsaBottled WaterChicken BowlSteak Crispy TacosChicken BowlChipsBottled WaterChicken BurritoIzzeSteak BowlCanned Soft DrinkChicken BurritoVeggie BurritoCanned Soft DrinkChicken BurritoChips and Tomatillo Green Chili SalsaCanned Soft DrinkChicken BurritoSteak BowlChips and GuacamoleChicken BowlCarnitas BowlChicken BurritoChicken BurritoChips and GuacamoleChicken Crispy TacosChicken BurritoNantucket NectarSteak Soft TacosChips and Tomatillo Green Chili SalsaChips and Tomatillo-Green Chili SalsaChips and Fresh Tomato SalsaChips and GuacamoleSteak BurritoBarbacoa BurritoChicken Soft TacosChicken Soft TacosChicken BowlChicken BowlChips and Tomatillo Red Chili SalsaChips and GuacamoleBarbacoa BowlChicken Crispy TacosChips and GuacamoleChicken BurritoChicken Soft TacosChicken BowlVeggie BowlChips and GuacamoleSteak BurritoChicken BurritoSteak BowlChips and GuacamoleBottled WaterCanned Soft DrinkChicken BurritoChicken BurritoVeggie Salad BowlChicken BowlVeggie BurritoCarnitas BurritoChicken BurritoChips and Fresh Tomato SalsaCanned Soft DrinkChicken BurritoBottled WaterChicken BurritoChips and GuacamoleSteak BurritoChicken Soft TacosChicken BurritoCarnitas BurritoChicken BurritoChips and GuacamoleBottled WaterChicken BowlChicken BowlChicken BurritoSide of ChipsChicken BowlChipsBarbacoa BurritoChipsBottled WaterChicken BowlSteak BowlChips6 Pack Soft DrinkSteak BurritoCarnitas Soft TacosChicken BowlChicken BowlBarbacoa BurritoCarnitas BowlSteak BurritoChicken BurritoChicken BurritoChipsCanned Soft DrinkCarnitas BowlSteak BowlChicken BurritoChicken Salad BowlChips and Fresh Tomato SalsaChicken BurritoChips and GuacamoleSteak Soft TacosCarnitas BowlChips and GuacamoleChicken BurritoChips and GuacamoleChicken BurritoChicken BowlChipsSteak Salad BowlChicken BowlChicken BowlChips and Tomatillo Red Chili SalsaBottled WaterChicken BurritoChipsChicken BowlChicken BowlBarbacoa BowlSteak BowlChipsChicken BurritoSteak BowlBottled WaterVeggie BurritoVeggie SaladChicken BurritoIzzeSteak BurritoChicken BowlChips and GuacamoleBarbacoa BowlChipsChicken Soft TacosChips and GuacamoleCanned Soft DrinkSteak BurritoCanned SodaChicken BurritoChicken BurritoChicken BowlChips and GuacamoleVeggie BowlCanned SodaChicken BurritoChips and Fresh Tomato SalsaChicken BowlChicken BurritoChips and Fresh Tomato SalsaBarbacoa Soft TacosChicken BowlChipsSteak BurritoChips and GuacamoleChips and GuacamoleBarbacoa BurritoBarbacoa Crispy TacosSteak BowlChipsCarnitas BurritoChicken BurritoChicken Burrito6 Pack Soft DrinkChicken BowlVeggie BowlChips and Fresh Tomato SalsaChicken BurritoChips and GuacamoleBottled WaterBarbacoa BowlChipsChicken Soft TacosVeggie BowlSteak Salad BowlChips and GuacamoleBottled WaterCanned Soft DrinkChicken BowlChicken BowlChips and GuacamoleChicken BowlSteak Crispy TacosChicken BowlCanned SodaBottled WaterSide of ChipsSteak BurritoNantucket NectarSteak BurritoSide of ChipsChicken BurritoSteak BurritoBottled WaterSteak BurritoSteak BurritoCanned SodaChicken BowlSide of ChipsChips and GuacamoleChicken Soft TacosCanned SodaChicken BurritoChicken BurritoSteak BurritoChicken BurritoSteak BurritoChicken BowlNantucket NectarSteak BurritoSteak Soft TacosChips and Fresh Tomato SalsaSteak Crispy TacosChicken BowlSteak Soft TacosSteak BurritoSteak BurritoChips and GuacamoleChips and Tomatillo-Green Chili SalsaVeggie BurritoCanned SodaVeggie Soft TacosSteak BurritoNantucket NectarChicken Soft TacosCanned Soft DrinkSteak BowlChips and GuacamoleChicken Salad BowlChips and Guacamole6 Pack Soft DrinkChicken BurritoSteak Crispy TacosChicken Salad BowlChicken BowlChicken BurritoCanned Soft DrinkChicken BowlSteak BowlChips and GuacamoleCanned Soft DrinkChicken BurritoCanned Soft DrinkChipsSteak Crispy TacosSteak BurritoChicken BowlChips and Tomatillo Red Chili SalsaCanned Soft DrinkSteak Soft TacosBottled WaterBottled WaterChicken BurritoChicken Salad BowlCarnitas BurritoSteak BurritoSide of ChipsCarnitas BowlSide of ChipsChicken BurritoChips and GuacamoleIzzeSteak BowlChipsSteak BurritoChips and Fresh Tomato SalsaChicken BowlChicken Salad BowlCarnitas Soft TacosChicken BowlSteak BurritoChicken BurritoChips and GuacamoleVeggie BowlCanned Soft DrinkCanned SodaCanned SodaChips and Roasted Chili-Corn SalsaChicken Crispy TacosSteak BurritoChips and Fresh Tomato SalsaVeggie BurritoChicken Crispy TacosCarnitas BowlCarnitas BowlChicken BowlChips and GuacamoleChipsChicken BowlChicken BowlChips and GuacamoleSteak BowlBottled WaterSteak BowlChicken BurritoBottled WaterCarnitas BowlChips and GuacamoleChips and GuacamoleSteak BowlChipsChicken BowlChicken Soft TacosChips and GuacamoleChicken BurritoBarbacoa BurritoChipsChicken BowlChicken Salad BowlVeggie BowlChicken BowlSteak BowlChicken BowlSteak BurritoSide of ChipsChicken BowlSteak BurritoChicken BurritoChips and GuacamoleNantucket NectarChicken BurritoCarnitas BurritoChicken BowlChicken BurritoSteak BurritoChicken BowlChicken BowlSteak Salad BowlChicken BowlChicken BowlSide of ChipsCanned SodaBarbacoa BurritoSteak Crispy TacosSteak BurritoChicken Crispy TacosBarbacoa BurritoChips and Roasted Chili Corn SalsaChicken SaladChips and GuacamoleSteak BowlChicken BowlChips and Tomatillo-Red Chili SalsaChicken BowlSteak BowlChicken BurritoSteak BowlSteak BowlChicken BurritoCanned Soft DrinkCarnitas BowlBottled WaterChicken BowlChips and GuacamoleChicken BowlChipsBarbacoa BurritoChicken BowlChicken Salad BowlChicken Salad BowlChicken BurritoChips and GuacamoleCanned Soft DrinkSteak BurritoSteak BurritoCanned Soft DrinkVeggie SaladSteak BurritoBottled WaterChicken BowlChips and GuacamoleChicken Salad BowlSteak BowlChicken BowlCarnitas BowlSide of ChipsCanned SodaSteak BowlBarbacoa BurritoChicken Bowl6 Pack Soft DrinkChicken BowlChicken BowlChips and GuacamoleSteak BurritoSide of ChipsSteak BowlBarbacoa BowlCanned Soft DrinkChicken BowlCanned SodaBottled WaterSide of ChipsChicken BowlChips and Roasted Chili-Corn SalsaBarbacoa BowlCanned Soft DrinkChicken BurritoSide of ChipsVeggie BurritoSide of ChipsBarbacoa BurritoChips and GuacamoleChicken Salad BowlChicken BowlChips and GuacamoleVeggie BurritoVeggie BurritoChicken BowlChicken BowlChips and GuacamoleChicken Crispy TacosBottled WaterChicken Soft TacosChips and GuacamoleChicken SaladChips and GuacamoleSteak BowlChips and GuacamoleChicken BurritoChips and GuacamoleChicken BowlChips and Tomatillo-Red Chili SalsaChicken BowlChips and Roasted Chili-Corn SalsaChips and GuacamoleVeggie BurritoCanned Soft DrinkChicken BowlChips and GuacamoleBarbacoa BurritoChips and GuacamoleCanned SodaSteak BurritoChips and GuacamoleChicken BowlChips and GuacamoleCarnitas Soft TacosChicken BowlChicken Salad BowlChicken BowlChicken Soft TacosChicken Crispy TacosChicken BowlChicken BowlSteak Crispy TacosChicken BowlChicken Crispy TacosChicken Crispy TacosChips and GuacamoleChicken BowlSteak BowlVeggie BowlSteak BowlChips and GuacamoleSteak Crispy TacosChips and Fresh Tomato SalsaChicken BowlSide of ChipsCanned Soft DrinkChips and GuacamoleSteak BowlBottled WaterChicken BowlSteak BurritoVeggie BowlChipsChicken BurritoSteak Salad BowlChicken Crispy TacosChips and GuacamoleChicken BowlChips and Fresh Tomato SalsaCarnitas BowlSide of ChipsSteak Soft TacosChips and GuacamoleChicken BowlSide of ChipsSteak BurritoChips and Fresh Tomato SalsaChicken BurritoSide of ChipsVeggie BurritoChips and GuacamoleCarnitas Salad BowlSteak BurritoChicken Salad BowlChicken BurritoChips and GuacamoleSteak Salad BowlChips and GuacamoleChips and GuacamoleChicken BurritoChicken BowlChicken BurritoChipsChicken BurritoCanned Soft DrinkSteak BurritoChicken BurritoChips and Guacamole6 Pack Soft DrinkChicken BowlSteak BurritoCanned Soft DrinkChips and Tomatillo Red Chili SalsaChips and GuacamoleChicken BurritoChicken BurritoSteak Burrito6 Pack Soft DrinkSteak BowlChips and Tomatillo-Green Chili SalsaSteak BowlCanned SodaVeggie BowlChips and GuacamoleVeggie BowlBarbacoa BurritoSide of ChipsChicken BowlCanned SodaSteak BurritoSteak BowlChips and Fresh Tomato SalsaBarbacoa BurritoSide of ChipsChips and GuacamoleCanned Soft DrinkChicken Soft TacosSteak BurritoCanned SodaVeggie SaladVeggie BurritoVeggie BowlChips and GuacamoleChicken Salad BowlChicken BurritoSteak BurritoChicken BurritoChips and Tomatillo-Red Chili SalsaChicken BowlChips and GuacamoleChicken BowlChicken Salad BowlSteak BurritoChicken BowlChicken BowlChicken BowlChicken BowlSteak BurritoChicken BowlChips and GuacamoleBarbacoa Soft TacosChicken BowlCanned Soft DrinkChipsSteak BurritoChips and GuacamoleSteak BowlChipsChicken Crispy TacosSteak BurritoChips and Roasted Chili-Corn SalsaBarbacoa BowlSteak BowlSteak BurritoChips and Fresh Tomato SalsaSteak BurritoBottled WaterSteak BowlChips and GuacamoleBottled WaterSteak BurritoSteak Soft TacosChips and Roasted Chili-Corn SalsaChicken BowlBarbacoa Salad BowlChipsCanned Soft DrinkBarbacoa Soft TacosChips and GuacamoleChicken BowlChicken BowlChicken BowlChips and GuacamoleChicken BowlChipsChips and GuacamoleChicken BowlCanned SodaChips and GuacamoleVeggie Salad BowlChicken BowlChicken BowlChips and Fresh Tomato SalsaSteak BurritoChips and Fresh Tomato SalsaChicken BowlChipsChicken BurritoChips and Fresh Tomato SalsaCanned Soft DrinkVeggie BurritoVeggie BurritoChicken BurritoSteak BurritoSteak BowlChicken BowlChicken Crispy TacosChips and GuacamoleCanned Soft DrinkChicken Soft TacosCarnitas BowlBarbacoa BowlSide of ChipsSteak BurritoSide of ChipsChicken BowlCanned Soft DrinkSteak BurritoCarnitas BurritoBarbacoa BowlCanned SodaChicken BurritoChicken BurritoChips and Tomatillo Green Chili SalsaCanned Soft DrinkChicken Salad BowlCanned Soft DrinkChicken Salad BowlChicken BowlChipsCanned Soft DrinkChicken BowlChips and GuacamoleChicken BurritoChips and Roasted Chili-Corn SalsaChicken BowlChips and Tomatillo-Red Chili SalsaChicken BurritoChips and GuacamoleSteak BurritoVeggie BurritoVeggie BowlBarbacoa BurritoChicken BowlSteak BowlChicken Soft TacosChips and GuacamoleBottled WaterChicken BowlChicken BowlChicken BowlChicken BowlChips and GuacamoleSteak BowlChips and GuacamoleChicken BurritoChicken Soft TacosChipsChips and Tomatillo Red Chili SalsaVeggie Salad BowlBottled WaterSteak BurritoChicken BurritoChips and GuacamoleChicken BowlChicken BowlChicken BurritoBarbacoa BurritoChicken BowlChipsCanned Soft DrinkChicken BowlChipsCanned Soft DrinkCarnitas Soft TacosChicken Crispy TacosChicken Salad BowlChicken BowlCanned Soft DrinkSteak BurritoBottled WaterChicken Salad BowlChicken BurritoChips and GuacamoleNantucket NectarChicken BurritoChips and Tomatillo-Green Chili SalsaBarbacoa Crispy TacosBottled WaterChicken BowlChicken Crispy TacosChicken BowlChicken BowlChipsChicken BowlChipsCanned Soft DrinkChicken BurritoChicken BurritoSide of ChipsSteak BowlSteak BowlBottled WaterSteak BowlCarnitas BowlSteak BurritoCarnitas Soft TacosCarnitas Soft TacosChicken BurritoChicken BowlChicken BurritoBarbacoa BurritoChicken BowlChicken BurritoChipsCanned Soft DrinkSteak Salad BowlVeggie BurritoSteak BurritoChips and GuacamoleSteak BowlSteak BowlBarbacoa Salad BowlChicken BowlChips and Tomatillo-Red Chili SalsaChicken BowlSide of ChipsBottled WaterSteak BurritoChicken SaladCanned SodaChicken BowlCanned Soft DrinkVeggie BurritoNantucket NectarChicken BurritoChips and GuacamoleChicken BurritoChicken Crispy TacosChicken BurritoSide of ChipsChicken BurritoBarbacoa BowlSteak BurritoSteak BurritoCanned Soft DrinkChicken Salad BowlChicken Salad BowlChicken BurritoChicken BowlChicken BowlCanned Soft DrinkCanned Soft DrinkCanned Soft DrinkChicken Burrito6 Pack Soft DrinkSteak BurritoBarbacoa BurritoChips and GuacamoleChicken BowlBarbacoa BowlChicken BowlChicken BowlVeggie BowlChips and Roasted Chili-Corn SalsaSteak BurritoChicken BurritoChicken BurritoChips and Tomatillo Green Chili SalsaBottled WaterVeggie BurritoChips and Fresh Tomato SalsaSteak Crispy TacosChips and Fresh Tomato SalsaSteak BowlChicken BowlChicken Salad BowlChicken Salad BowlVeggie BowlChips and GuacamoleChicken BurritoCanned Soft DrinkChicken BurritoChips and Fresh Tomato SalsaCanned Soft DrinkSteak BurritoBarbacoa BurritoCarnitas Burrito6 Pack Soft DrinkChicken BowlChicken BowlSide of ChipsChicken BurritoChips and GuacamoleChicken BowlChips and Tomatillo Red Chili SalsaChips and Tomatillo Red Chili SalsaChicken BurritoSteak BowlSteak BurritoCanned SodaChicken BurritoChips and GuacamoleCanned Soft DrinkChicken BowlSteak Crispy TacosChicken BowlCarnitas BurritoChicken Salad BowlBottled WaterChicken BowlChipsChicken BurritoChicken BurritoSteak BowlChips and Roasted Chili Corn SalsaChicken BurritoChicken BowlSteak Soft TacosChicken BurritoSteak BurritoChicken Soft TacosChicken BowlChicken BowlCanned Soft DrinkChicken BowlBottled WaterChipsChicken BurritoChicken BurritoChicken BowlChicken BurritoChicken BurritoChicken BowlChips and GuacamoleVeggie BurritoVeggie BurritoVeggie SaladChicken Crispy TacosSteak Soft TacosSide of ChipsChips and Fresh Tomato SalsaCanned SodaCanned SodaVeggie BurritoChips and Tomatillo Green Chili SalsaCarnitas BowlChicken BowlChips and Tomatillo Red Chili SalsaCanned Soft DrinkChicken BowlChipsSteak BowlChips and GuacamoleChicken BurritoChicken BowlChicken BurritoChips and GuacamoleCanned Soft DrinkSteak Salad BowlChicken BowlChipsCanned Soft DrinkChicken BowlCanned SodaBottled WaterSide of ChipsSteak BurritoSteak SaladSteak Crispy TacosChips and Fresh Tomato SalsaChicken BowlChips and Fresh Tomato SalsaChicken Salad BowlChicken BowlChicken BowlChicken BowlSide of ChipsBarbacoa BurritoChips and Tomatillo Green Chili SalsaChicken BowlChicken BowlChicken BurritoSteak BurritoChicken Soft TacosChicken BurritoChicken BurritoChicken BurritoChips and Tomatillo Green Chili SalsaBottled WaterCanned Soft DrinkCarnitas BowlChips and GuacamoleSteak BurritoChicken BurritoCarnitas BurritoSteak BurritoChips and GuacamoleSteak BurritoSide of ChipsChips and GuacamoleSteak BurritoChicken BowlChips and GuacamoleChipsChicken BurritoSteak BurritoChips and GuacamoleVeggie BurritoCanned Soft DrinkChicken BurritoChicken BowlBarbacoa Salad BowlBarbacoa BowlBarbacoa Soft TacosBarbacoa BowlChicken BowlChipsBottled WaterSteak BurritoChips and GuacamoleChips and GuacamoleSteak BurritoChicken BurritoChips and Tomatillo-Red Chili SalsaCanned Soft DrinkChips and Tomatillo Green Chili SalsaChicken BowlChips and Tomatillo Green Chili SalsaSteak BurritoSteak BurritoSteak BurritoChicken BurritoChipsSteak BurritoSteak Soft TacosNantucket NectarChicken BurritoChicken Soft TacosChips and Tomatillo-Green Chili SalsaChicken BurritoCanned SodaCanned SodaChicken BurritoChicken Salad BowlCanned Soft DrinkSteak BowlBottled WaterChicken BowlChipsBottled WaterChips and GuacamoleChicken BowlChicken BowlChipsBottled WaterChicken BurritoChicken BowlCanned SodaChicken Crispy TacosChipsBottled WaterChips and GuacamoleSteak Soft TacosChips and Fresh Tomato SalsaBottled Water6 Pack Soft DrinkVeggie BurritoChicken BurritoSteak BurritoBottled WaterChicken BowlSteak Crispy TacosChicken BowlChips and Fresh Tomato SalsaCanned Soft DrinkChicken Soft TacosChips and GuacamoleChicken BowlChicken Burrito6 Pack Soft DrinkChicken BurritoSteak BurritoVeggie BowlChicken BowlCarnitas BurritoCarnitas Soft TacosChicken Soft TacosSteak BurritoChicken Salad BowlChips and Tomatillo Green Chili SalsaSteak Soft TacosChips and Tomatillo-Green Chili SalsaSteak BurritoChips and Roasted Chili-Corn SalsaChicken BurritoChips and GuacamoleChicken Crispy TacosBarbacoa Burrito6 Pack Soft DrinkChicken BurritoChicken Soft TacosChicken BurritoChicken Soft TacosChicken Crispy TacosChicken BowlChicken Salad BowlChipsCanned Soft DrinkSteak BurritoChicken BurritoChipsBottled WaterChicken BowlChipsSteak BurritoChips and Tomatillo-Red Chili SalsaChicken BowlChicken BowlChipsChicken BowlChicken BowlChicken Salad BowlChips and Tomatillo-Green Chili SalsaChicken Soft TacosVeggie BowlChips and Tomatillo-Red Chili SalsaSteak BurritoChips and Fresh Tomato SalsaChicken BowlChicken BowlChips and GuacamoleSteak BowlBottled WaterSteak BurritoIzzeSteak BurritoChips and GuacamoleChicken BowlChicken BowlChicken BurritoChicken BowlCanned Soft DrinkVeggie BowlSteak BurritoChips and GuacamoleChicken BowlChicken Salad BowlSteak BurritoCanned SodaChicken BowlChicken BowlSide of ChipsChicken Salad BowlCarnitas Soft TacosChicken BurritoChicken BowlChips and GuacamoleChicken Burrito6 Pack Soft DrinkSteak Crispy TacosCarnitas Soft TacosBarbacoa BurritoChicken BurritoChips and GuacamoleCanned Soft DrinkChicken BowlSteak BowlChicken BurritoSteak BowlSteak BurritoSteak Soft TacosChicken Salad BowlSteak BowlChicken BowlChicken BowlSteak Soft TacosCarnitas BowlChicken Salad BowlSteak BowlChicken BurritoCanned SodaCanned SodaChicken BowlCanned SodaSide of ChipsChicken BowlCanned Soft DrinkChicken BowlChipsBottled WaterChicken BowlSide of ChipsCanned Soft DrinkChicken BowlChips and Tomatillo Red Chili SalsaChicken SaladChips and GuacamoleChicken BurritoChicken SaladChicken BurritoVeggie BowlChipsBottled WaterSteak BowlSteak BurritoCanned SodaChicken BowlChicken BowlChicken BowlCanned Soft DrinkVeggie BowlChips and GuacamoleChips and GuacamoleCanned Soft DrinkCarnitas Salad BowlCarnitas SaladSteak BurritoChicken BurritoChips and GuacamoleSteak BowlVeggie BurritoChips and GuacamoleCarnitas BurritoChips and GuacamoleChips and GuacamoleSteak BurritoChicken BurritoChips and GuacamoleChicken BurritoChicken BurritoSteak Burrito6 Pack Soft DrinkChicken BurritoChips and GuacamoleChicken BurritoChips and Fresh Tomato SalsaBottled WaterChicken BurritoChicken BowlChicken BurritoChips and GuacamoleVeggie BurritoChicken BowlSteak Crispy TacosChicken BurritoChips and Roasted Chili Corn SalsaChicken BowlChips and GuacamoleBottled WaterCanned Soft DrinkChips and Fresh Tomato SalsaBarbacoa BurritoSteak BowlChips and Tomatillo-Green Chili Salsa6 Pack Soft DrinkChicken Salad BowlChips and GuacamoleCarnitas BowlCanned SodaChicken BurritoBarbacoa BurritoSteak Soft TacosChicken Salad BowlChicken Salad BowlSteak BurritoChicken Salad BowlChicken BowlCanned Soft DrinkCarnitas BurritoChips and GuacamoleSteak Burrito6 Pack Soft DrinkSteak BurritoSteak BowlBarbacoa BurritoChips and Tomatillo-Green Chili SalsaChicken BowlChicken BowlBarbacoa BurritoCarnitas Soft TacosCanned Soft DrinkChicken Crispy TacosChips and Tomatillo Green Chili SalsaSteak BurritoChipsVeggie BowlVeggie BurritoBarbacoa BowlChicken BurritoChicken BurritoChips and GuacamoleChips and Fresh Tomato SalsaBarbacoa BurritoChicken BurritoChicken BurritoChicken BowlChips and GuacamoleChicken BurritoChicken Soft TacosSteak BurritoChicken Burrito6 Pack Soft DrinkChips and Fresh Tomato SalsaChicken BowlChicken BowlChipsSteak BurritoSteak BurritoChicken BowlChicken BurritoNantucket NectarSide of ChipsVeggie BurritoChicken BowlChips and GuacamoleChicken BowlChips and GuacamoleChicken BurritoChicken BowlChicken BurritoChipsSteak BowlChips and GuacamoleChicken BurritoSteak BurritoChicken Soft TacosSteak BurritoBottled WaterChicken BowlChipsSteak BowlCanned SodaChips and GuacamoleChicken BowlBottled WaterSteak Soft TacosChips and Tomatillo-Green Chili SalsaSteak BurritoBottled WaterChicken Bowl6 Pack Soft DrinkChips and GuacamoleVeggie BowlChicken BurritoChips and GuacamoleCanned Soft DrinkChicken BurritoCarnitas BurritoChips and GuacamoleSteak BurritoChicken Bowl6 Pack Soft DrinkSide of ChipsChicken Soft TacosVeggie Soft TacosCarnitas Crispy TacosChicken Crispy TacosChicken BowlChicken BowlChicken BowlChicken BowlChicken BurritoCanned SodaSide of ChipsCanned Soft DrinkSteak Soft TacosChips and Tomatillo Green Chili SalsaBarbacoa BurritoChicken BurritoChicken BurritoChips and Roasted Chili-Corn SalsaChicken BurritoChips and Fresh Tomato SalsaChicken BowlSteak BurritoSteak Soft TacosSide of ChipsVeggie BurritoChicken BowlChicken BurritoChicken BowlChips and GuacamoleChips and GuacamoleChicken BurritoChicken BurritoChips and GuacamoleChicken BowlChipsBottled WaterBottled WaterSteak BowlCanned SodaChicken BowlChips and GuacamoleChicken BowlChicken BowlChicken BowlChipsChicken BowlSide of ChipsBottled WaterCanned SodaChicken BowlChipsBottled WaterCarnitas Soft TacosChicken BurritoChips and GuacamoleChicken BowlChipsCanned Soft DrinkSteak Crispy TacosChips and Fresh Tomato SalsaChicken BurritoChips and GuacamoleSteak Crispy TacosChips and Fresh Tomato SalsaChips and GuacamoleSteak BurritoVeggie BurritoChicken BurritoChicken BurritoChicken BurritoSteak BurritoChicken BurritoChips and GuacamoleChicken BurritoCanned Soft DrinkSteak BurritoChicken BurritoChips and GuacamoleChips and Fresh Tomato SalsaChicken BurritoChicken BowlChicken BurritoSteak BurritoSteak BowlSteak BurritoCanned Soft DrinkChicken Salad BowlChips and Tomatillo Green Chili SalsaChicken BowlChicken BowlChips and Fresh Tomato SalsaChicken BowlChipsBottled WaterChicken SaladChips and Fresh Tomato SalsaSteak BowlChipsCanned Soft DrinkChicken BurritoSteak BurritoChicken SaladChicken BurritoChicken BurritoChips and Tomatillo Green Chili SalsaCanned Soft DrinkSteak Crispy TacosChips and Tomatillo Green Chili SalsaChicken BowlChicken Salad BowlChicken BowlChicken BowlSteak BurritoBottled WaterBarbacoa BurritoSteak BurritoChips and GuacamoleChicken BowlChips and GuacamoleChips and Tomatillo-Green Chili SalsaCanned SodaSteak BurritoChicken BowlChicken BowlChicken Salad BowlChicken BowlSteak Crispy TacosChips and GuacamoleCanned Soft DrinkChicken Soft TacosVeggie BurritoNantucket NectarChicken BurritoSteak BowlChips and GuacamoleCanned Soft DrinkChicken BowlChipsChips and GuacamoleCanned Soft DrinkSteak BowlChips and GuacamoleChicken Soft TacosChipsSteak BowlSteak BurritoCanned Soft DrinkChicken Salad BowlSteak Salad BowlChicken BurritoSteak Soft TacosBarbacoa BurritoChips and Tomatillo Red Chili SalsaCarnitas BurritoChips and GuacamoleCanned Soft DrinkCarnitas BowlChicken BowlBarbacoa BowlBottled WaterChicken BowlChips and GuacamoleSteak BowlCanned SodaSteak Soft TacosChips and Fresh Tomato SalsaSteak BowlSide of ChipsBarbacoa BowlSide of ChipsChicken BowlChips and GuacamoleChicken BowlChicken BurritoChips and GuacamoleChicken BowlChicken Salad BowlChips and Fresh Tomato SalsaBottled WaterChicken BurritoSteak BurritoBottled WaterSide of ChipsChicken BowlChicken BurritoChips and Fresh Tomato SalsaCanned Soft DrinkChicken BowlChips and GuacamoleChicken BowlNantucket NectarChicken Salad BowlVeggie BowlChipsSteak BowlVeggie BurritoVeggie SaladChicken Salad BowlBottled WaterChicken BowlChips and Tomatillo-Red Chili SalsaSteak BurritoChips and Fresh Tomato SalsaSteak BurritoChips and GuacamoleChicken BurritoSteak BurritoCarnitas Soft TacosChicken BowlChips and GuacamoleCanned Soft DrinkChicken BowlChips and GuacamoleSteak BurritoChips and Fresh Tomato SalsaCanned Soft DrinkChips and GuacamoleChicken BowlCanned Soft DrinkBottled WaterSteak BurritoVeggie Salad BowlChicken BowlChicken BowlChicken BowlSteak BurritoChicken BurritoChips and GuacamoleChicken Crispy TacosSteak BurritoChicken Soft TacosChicken Soft TacosChips and GuacamoleChicken BowlCanned Soft DrinkChipsChicken BowlChicken BurritoChipsChicken BowlCanned Soft DrinkChips and Tomatillo Green Chili SalsaSteak Soft TacosChips and Tomatillo Red Chili SalsaChips and GuacamoleChicken BowlVeggie BurritoBarbacoa BowlCarnitas Soft TacosBottled WaterSteak BurritoCanned Soft DrinkBarbacoa BowlCarnitas BurritoCanned Soft DrinkCanned Soft DrinkSteak BowlChips and GuacamoleChicken BurritoCarnitas Soft TacosChicken BurritoChipsCanned Soft DrinkChicken BowlBottled WaterVeggie BowlChips and GuacamoleChips and GuacamoleChips and Tomatillo Red Chili SalsaChicken BowlChipsCanned Soft DrinkBottled WaterChicken BurritoChicken Soft TacosChips and Fresh Tomato SalsaChicken BurritoCanned Soft DrinkChipsChicken BowlCarnitas Bowl6 Pack Soft DrinkCanned Soft DrinkChicken BurritoChipsChicken Bowl6 Pack Soft DrinkChicken BurritoBottled WaterVeggie BowlChips and GuacamoleChicken BurritoChips and GuacamoleSteak Soft TacosBarbacoa Soft TacosCanned Soft DrinkCanned Soft DrinkChicken BowlBottled WaterChicken BowlCanned Soft DrinkBottled WaterSteak BowlChipsChicken BowlChips and GuacamoleChicken BowlChips and GuacamoleChicken BowlChips and GuacamoleSteak BurritoChips and GuacamoleCanned Soft DrinkVeggie Salad BowlChips and GuacamoleChicken BowlChips and GuacamoleChicken Salad BowlChipsChicken Salad BowlChips and GuacamoleChicken BowlSteak BowlBottled WaterChicken BurritoChips and GuacamoleChicken BowlChipsBottled WaterChicken BowlChips and GuacamoleChicken BurritoSteak BowlChicken BowlChicken BurritoChicken Salad BowlVeggie BowlBottled WaterChicken BowlChipsSteak BowlChipsSteak Soft TacosChips and Fresh Tomato SalsaSteak BowlCanned Soft DrinkChips and GuacamoleChicken BowlChicken BowlChips and GuacamoleChicken Salad BowlCarnitas Salad BowlCanned Soft DrinkSteak Salad BowlChips and GuacamoleChicken BowlChipsBottled WaterSteak BurritoChicken Soft TacosSteak BurritoCarnitas BurritoChips and GuacamoleCanned Soft DrinkChicken BurritoSteak BowlChips and Tomatillo Green Chili SalsaChicken BowlChicken BurritoChipsChicken BurritoChicken BowlChicken BowlVeggie Salad BowlSteak BurritoChicken BurritoChipsVeggie BowlChipsSteak BowlSteak BurritoChicken BurritoSteak BurritoBarbacoa Soft TacosChicken BurritoChicken BowlChips and GuacamoleChicken BurritoCanned Soft DrinkChips and GuacamoleVeggie BurritoCanned Soft DrinkChicken BurritoChicken BurritoVeggie BowlChicken BowlCanned Soft DrinkCanned Soft DrinkCanned Soft DrinkSteak Soft TacosBarbacoa BurritoChipsChicken Soft TacosChips and GuacamoleChicken BowlChips and GuacamoleChicken BowlSteak BowlChicken BurritoSteak Soft TacosChips and GuacamoleSteak BurritoChips and GuacamoleCanned Soft DrinkChips and GuacamoleSteak BowlSteak BowlChicken BowlChipsSteak BowlSteak BowlChipsSteak BurritoChicken Soft TacosChips and Tomatillo Red Chili SalsaSteak Salad BowlChips and GuacamoleVeggie BowlChips and GuacamoleSteak BurritoChips and Fresh Tomato SalsaVeggie BurritoChips and Tomatillo Red Chili SalsaChicken BurritoChicken Crispy TacosChicken BowlChips and Fresh Tomato SalsaSteak BurritoCarnitas Soft TacosSteak BurritoChips and Tomatillo Green Chili SalsaChicken BowlChipsSteak BurritoChips and GuacamoleChicken Salad BowlChicken BurritoChicken Salad BowlVeggie BowlChicken BowlChipsCanned Soft DrinkChicken BowlCanned Soft DrinkChicken BowlChips and GuacamoleCanned Soft DrinkChicken BowlChicken Crispy TacosBarbacoa BurritoCanned Soft DrinkChicken Salad BowlChicken BurritoChicken BowlChicken Salad BowlChicken BurritoSteak Soft TacosBarbacoa BurritoCanned Soft DrinkChips and GuacamoleBarbacoa Burrito6 Pack Soft DrinkChips and GuacamoleChicken BurritoChicken Bowl6 Pack Soft DrinkSteak BowlChicken BurritoSteak BowlChicken BowlChipsChicken BowlChips and GuacamoleChicken Crispy TacosChips and GuacamoleChicken BurritoCarnitas BowlChips and GuacamoleCanned Soft DrinkCanned Soft DrinkChicken BowlChicken BurritoBarbacoa BowlChipsSteak BurritoChips and GuacamoleSteak BurritoCanned Soft DrinkCarnitas BurritoSteak BowlChicken Salad BowlChipsBarbacoa Salad BowlSteak Salad BowlChicken BowlCanned Soft DrinkSteak BurritoChips and GuacamoleChicken BowlCanned Soft DrinkChicken BowlCanned Soft DrinkChips and Tomatillo Green Chili SalsaChicken BowlChips and GuacamoleChicken BurritoBottled WaterChips and GuacamoleChips and GuacamoleSteak BurritoChicken BowlChips and Tomatillo Red Chili SalsaCanned Soft DrinkChicken BowlChips and Tomatillo Red Chili SalsaChicken BowlChicken BurritoChicken BurritoChicken BurritoChipsSteak BurritoSteak Salad BowlChips and GuacamoleCarnitas BurritoCanned Soft DrinkChicken BowlChips and GuacamoleChips and Fresh Tomato SalsaChipsSteak BowlCarnitas BowlChipsCanned Soft DrinkSteak BurritoChips and GuacamoleChicken BowlSteak BurritoChicken BowlChicken BowlCarnitas BurritoChicken Soft TacosChicken Salad BowlChips and GuacamoleBarbacoa BowlBottled WaterChicken BowlChicken BowlSteak BurritoSteak BurritoChicken BurritoChips and GuacamoleSteak BowlCarnitas Crispy TacosChips and GuacamoleVeggie BowlChicken Crispy TacosChicken BurritoChipsBottled WaterChicken BurritoChips and GuacamoleSteak BowlChicken BurritoBottled WaterCanned Soft DrinkCanned Soft DrinkCanned Soft DrinkChicken BowlChips and Tomatillo Red Chili SalsaChicken Salad BowlVeggie BowlBottled WaterSteak BowlVeggie BurritoChipsSteak BurritoChicken Soft TacosCarnitas BowlChips and Tomatillo Green Chili SalsaBottled WaterChicken BurritoBottled WaterCanned Soft DrinkChicken BowlCarnitas BurritoChicken BowlChicken BowlBarbacoa BowlChicken BowlCarnitas BurritoChicken BowlChips and GuacamoleCanned Soft DrinkCanned Soft DrinkChicken BurritoChips and Tomatillo Green Chili SalsaCanned Soft DrinkChicken BowlCanned Soft DrinkChipsChicken BowlCanned Soft DrinkCarnitas BowlCanned Soft DrinkChicken Soft TacosChips and Fresh Tomato SalsaCarnitas BowlChipsChicken BowlBottled WaterSteak BurritoChipsBarbacoa BowlChicken BowlChips and GuacamoleCanned Soft DrinkChicken Soft TacosChips and GuacamoleCanned Soft DrinkBottled WaterSteak BowlVeggie BurritoChicken Salad BowlChicken Burrito6 Pack Soft DrinkSteak Crispy TacosChicken BurritoChipsCanned Soft Drink6 Pack Soft DrinkChicken BurritoChips and GuacamoleChicken BurritoChips and GuacamoleChicken BowlChicken BurritoChips and Guacamole6 Pack Soft DrinkSteak BurritoChicken BowlCanned Soft DrinkChips and GuacamoleChicken BowlVeggie Salad BowlBottled WaterChicken BurritoBottled WaterCanned Soft DrinkSteak BurritoSteak Salad BowlChips and GuacamoleSteak Soft TacosChicken Soft TacosChips and GuacamoleCanned Soft DrinkChicken BowlSteak Crispy TacosChicken BowlChicken BurritoCarnitas Soft TacosChicken BurritoChicken BurritoCanned Soft DrinkChicken Salad BowlCarnitas BowlChips and GuacamoleChicken BowlCanned Soft DrinkChicken BurritoChips and GuacamoleBottled WaterChicken BurritoBottled WaterCanned Soft DrinkSteak Salad BowlVeggie Salad BowlChicken BowlChips and GuacamoleChicken BowlCanned Soft DrinkCarnitas BurritoChips and GuacamoleChicken Salad BowlChicken BowlBottled WaterChicken BowlChipsCanned Soft DrinkChicken BowlChicken BowlChips and GuacamoleChicken BowlChicken BowlChicken BowlBarbacoa BurritoCarnitas BowlBarbacoa BowlChicken BowlChips and GuacamoleCanned Soft DrinkBottled WaterChicken BowlChips and GuacamoleCanned Soft DrinkBarbacoa BurritoBarbacoa BurritoChicken BowlChips and GuacamoleCanned Soft DrinkSteak BurritoVeggie BurritoCanned Soft DrinkSteak BurritoVeggie BurritoCarnitas BowlChipsBottled WaterChicken Soft TacosChips and GuacamoleSteak BurritoSteak BurritoChicken Salad BowlChicken Salad BowlChicken Salad Bowl'] to numeric",
     "output_type": "error",
     "traceback": [
      "\u001b[0;31m---------------------------------------------------------------------------\u001b[0m",
      "\u001b[0;31mTypeError\u001b[0m                                 Traceback (most recent call last)",
      "Cell \u001b[0;32mIn[116], line 2\u001b[0m\n\u001b[1;32m      1\u001b[0m chipo[\u001b[38;5;124m'\u001b[39m\u001b[38;5;124mrevenue\u001b[39m\u001b[38;5;124m'\u001b[39m] \u001b[38;5;241m=\u001b[39m pd\u001b[38;5;241m.\u001b[39mto_numeric(chipo[\u001b[38;5;124m'\u001b[39m\u001b[38;5;124mrevenue\u001b[39m\u001b[38;5;124m'\u001b[39m], errors\u001b[38;5;241m=\u001b[39m\u001b[38;5;124m'\u001b[39m\u001b[38;5;124mcoerce\u001b[39m\u001b[38;5;124m'\u001b[39m)\n\u001b[0;32m----> 2\u001b[0m chipo\u001b[38;5;241m.\u001b[39mgroupby(\u001b[38;5;124m'\u001b[39m\u001b[38;5;124morder_id\u001b[39m\u001b[38;5;124m'\u001b[39m)\u001b[38;5;241m.\u001b[39msum()\u001b[38;5;241m.\u001b[39mmean()[\u001b[38;5;124m'\u001b[39m\u001b[38;5;124mrevenue\u001b[39m\u001b[38;5;124m'\u001b[39m]\n",
      "File \u001b[0;32m/opt/anaconda3/lib/python3.12/site-packages/pandas/core/frame.py:11693\u001b[0m, in \u001b[0;36mDataFrame.mean\u001b[0;34m(self, axis, skipna, numeric_only, **kwargs)\u001b[0m\n\u001b[1;32m  11685\u001b[0m \u001b[38;5;129m@doc\u001b[39m(make_doc(\u001b[38;5;124m\"\u001b[39m\u001b[38;5;124mmean\u001b[39m\u001b[38;5;124m\"\u001b[39m, ndim\u001b[38;5;241m=\u001b[39m\u001b[38;5;241m2\u001b[39m))\n\u001b[1;32m  11686\u001b[0m \u001b[38;5;28;01mdef\u001b[39;00m \u001b[38;5;21mmean\u001b[39m(\n\u001b[1;32m  11687\u001b[0m     \u001b[38;5;28mself\u001b[39m,\n\u001b[0;32m   (...)\u001b[0m\n\u001b[1;32m  11691\u001b[0m     \u001b[38;5;241m*\u001b[39m\u001b[38;5;241m*\u001b[39mkwargs,\n\u001b[1;32m  11692\u001b[0m ):\n\u001b[0;32m> 11693\u001b[0m     result \u001b[38;5;241m=\u001b[39m \u001b[38;5;28msuper\u001b[39m()\u001b[38;5;241m.\u001b[39mmean(axis, skipna, numeric_only, \u001b[38;5;241m*\u001b[39m\u001b[38;5;241m*\u001b[39mkwargs)\n\u001b[1;32m  11694\u001b[0m     \u001b[38;5;28;01mif\u001b[39;00m \u001b[38;5;28misinstance\u001b[39m(result, Series):\n\u001b[1;32m  11695\u001b[0m         result \u001b[38;5;241m=\u001b[39m result\u001b[38;5;241m.\u001b[39m__finalize__(\u001b[38;5;28mself\u001b[39m, method\u001b[38;5;241m=\u001b[39m\u001b[38;5;124m\"\u001b[39m\u001b[38;5;124mmean\u001b[39m\u001b[38;5;124m\"\u001b[39m)\n",
      "File \u001b[0;32m/opt/anaconda3/lib/python3.12/site-packages/pandas/core/generic.py:12420\u001b[0m, in \u001b[0;36mNDFrame.mean\u001b[0;34m(self, axis, skipna, numeric_only, **kwargs)\u001b[0m\n\u001b[1;32m  12413\u001b[0m \u001b[38;5;28;01mdef\u001b[39;00m \u001b[38;5;21mmean\u001b[39m(\n\u001b[1;32m  12414\u001b[0m     \u001b[38;5;28mself\u001b[39m,\n\u001b[1;32m  12415\u001b[0m     axis: Axis \u001b[38;5;241m|\u001b[39m \u001b[38;5;28;01mNone\u001b[39;00m \u001b[38;5;241m=\u001b[39m \u001b[38;5;241m0\u001b[39m,\n\u001b[0;32m   (...)\u001b[0m\n\u001b[1;32m  12418\u001b[0m     \u001b[38;5;241m*\u001b[39m\u001b[38;5;241m*\u001b[39mkwargs,\n\u001b[1;32m  12419\u001b[0m ) \u001b[38;5;241m-\u001b[39m\u001b[38;5;241m>\u001b[39m Series \u001b[38;5;241m|\u001b[39m \u001b[38;5;28mfloat\u001b[39m:\n\u001b[0;32m> 12420\u001b[0m     \u001b[38;5;28;01mreturn\u001b[39;00m \u001b[38;5;28mself\u001b[39m\u001b[38;5;241m.\u001b[39m_stat_function(\n\u001b[1;32m  12421\u001b[0m         \u001b[38;5;124m\"\u001b[39m\u001b[38;5;124mmean\u001b[39m\u001b[38;5;124m\"\u001b[39m, nanops\u001b[38;5;241m.\u001b[39mnanmean, axis, skipna, numeric_only, \u001b[38;5;241m*\u001b[39m\u001b[38;5;241m*\u001b[39mkwargs\n\u001b[1;32m  12422\u001b[0m     )\n",
      "File \u001b[0;32m/opt/anaconda3/lib/python3.12/site-packages/pandas/core/generic.py:12377\u001b[0m, in \u001b[0;36mNDFrame._stat_function\u001b[0;34m(self, name, func, axis, skipna, numeric_only, **kwargs)\u001b[0m\n\u001b[1;32m  12373\u001b[0m nv\u001b[38;5;241m.\u001b[39mvalidate_func(name, (), kwargs)\n\u001b[1;32m  12375\u001b[0m validate_bool_kwarg(skipna, \u001b[38;5;124m\"\u001b[39m\u001b[38;5;124mskipna\u001b[39m\u001b[38;5;124m\"\u001b[39m, none_allowed\u001b[38;5;241m=\u001b[39m\u001b[38;5;28;01mFalse\u001b[39;00m)\n\u001b[0;32m> 12377\u001b[0m \u001b[38;5;28;01mreturn\u001b[39;00m \u001b[38;5;28mself\u001b[39m\u001b[38;5;241m.\u001b[39m_reduce(\n\u001b[1;32m  12378\u001b[0m     func, name\u001b[38;5;241m=\u001b[39mname, axis\u001b[38;5;241m=\u001b[39maxis, skipna\u001b[38;5;241m=\u001b[39mskipna, numeric_only\u001b[38;5;241m=\u001b[39mnumeric_only\n\u001b[1;32m  12379\u001b[0m )\n",
      "File \u001b[0;32m/opt/anaconda3/lib/python3.12/site-packages/pandas/core/frame.py:11562\u001b[0m, in \u001b[0;36mDataFrame._reduce\u001b[0;34m(self, op, name, axis, skipna, numeric_only, filter_type, **kwds)\u001b[0m\n\u001b[1;32m  11558\u001b[0m     df \u001b[38;5;241m=\u001b[39m df\u001b[38;5;241m.\u001b[39mT\n\u001b[1;32m  11560\u001b[0m \u001b[38;5;66;03m# After possibly _get_data and transposing, we are now in the\u001b[39;00m\n\u001b[1;32m  11561\u001b[0m \u001b[38;5;66;03m#  simple case where we can use BlockManager.reduce\u001b[39;00m\n\u001b[0;32m> 11562\u001b[0m res \u001b[38;5;241m=\u001b[39m df\u001b[38;5;241m.\u001b[39m_mgr\u001b[38;5;241m.\u001b[39mreduce(blk_func)\n\u001b[1;32m  11563\u001b[0m out \u001b[38;5;241m=\u001b[39m df\u001b[38;5;241m.\u001b[39m_constructor_from_mgr(res, axes\u001b[38;5;241m=\u001b[39mres\u001b[38;5;241m.\u001b[39maxes)\u001b[38;5;241m.\u001b[39miloc[\u001b[38;5;241m0\u001b[39m]\n\u001b[1;32m  11564\u001b[0m \u001b[38;5;28;01mif\u001b[39;00m out_dtype \u001b[38;5;129;01mis\u001b[39;00m \u001b[38;5;129;01mnot\u001b[39;00m \u001b[38;5;28;01mNone\u001b[39;00m \u001b[38;5;129;01mand\u001b[39;00m out\u001b[38;5;241m.\u001b[39mdtype \u001b[38;5;241m!=\u001b[39m \u001b[38;5;124m\"\u001b[39m\u001b[38;5;124mboolean\u001b[39m\u001b[38;5;124m\"\u001b[39m:\n",
      "File \u001b[0;32m/opt/anaconda3/lib/python3.12/site-packages/pandas/core/internals/managers.py:1500\u001b[0m, in \u001b[0;36mBlockManager.reduce\u001b[0;34m(self, func)\u001b[0m\n\u001b[1;32m   1498\u001b[0m res_blocks: \u001b[38;5;28mlist\u001b[39m[Block] \u001b[38;5;241m=\u001b[39m []\n\u001b[1;32m   1499\u001b[0m \u001b[38;5;28;01mfor\u001b[39;00m blk \u001b[38;5;129;01min\u001b[39;00m \u001b[38;5;28mself\u001b[39m\u001b[38;5;241m.\u001b[39mblocks:\n\u001b[0;32m-> 1500\u001b[0m     nbs \u001b[38;5;241m=\u001b[39m blk\u001b[38;5;241m.\u001b[39mreduce(func)\n\u001b[1;32m   1501\u001b[0m     res_blocks\u001b[38;5;241m.\u001b[39mextend(nbs)\n\u001b[1;32m   1503\u001b[0m index \u001b[38;5;241m=\u001b[39m Index([\u001b[38;5;28;01mNone\u001b[39;00m])  \u001b[38;5;66;03m# placeholder\u001b[39;00m\n",
      "File \u001b[0;32m/opt/anaconda3/lib/python3.12/site-packages/pandas/core/internals/blocks.py:404\u001b[0m, in \u001b[0;36mBlock.reduce\u001b[0;34m(self, func)\u001b[0m\n\u001b[1;32m    398\u001b[0m \u001b[38;5;129m@final\u001b[39m\n\u001b[1;32m    399\u001b[0m \u001b[38;5;28;01mdef\u001b[39;00m \u001b[38;5;21mreduce\u001b[39m(\u001b[38;5;28mself\u001b[39m, func) \u001b[38;5;241m-\u001b[39m\u001b[38;5;241m>\u001b[39m \u001b[38;5;28mlist\u001b[39m[Block]:\n\u001b[1;32m    400\u001b[0m     \u001b[38;5;66;03m# We will apply the function and reshape the result into a single-row\u001b[39;00m\n\u001b[1;32m    401\u001b[0m     \u001b[38;5;66;03m#  Block with the same mgr_locs; squeezing will be done at a higher level\u001b[39;00m\n\u001b[1;32m    402\u001b[0m     \u001b[38;5;28;01massert\u001b[39;00m \u001b[38;5;28mself\u001b[39m\u001b[38;5;241m.\u001b[39mndim \u001b[38;5;241m==\u001b[39m \u001b[38;5;241m2\u001b[39m\n\u001b[0;32m--> 404\u001b[0m     result \u001b[38;5;241m=\u001b[39m func(\u001b[38;5;28mself\u001b[39m\u001b[38;5;241m.\u001b[39mvalues)\n\u001b[1;32m    406\u001b[0m     \u001b[38;5;28;01mif\u001b[39;00m \u001b[38;5;28mself\u001b[39m\u001b[38;5;241m.\u001b[39mvalues\u001b[38;5;241m.\u001b[39mndim \u001b[38;5;241m==\u001b[39m \u001b[38;5;241m1\u001b[39m:\n\u001b[1;32m    407\u001b[0m         res_values \u001b[38;5;241m=\u001b[39m result\n",
      "File \u001b[0;32m/opt/anaconda3/lib/python3.12/site-packages/pandas/core/frame.py:11481\u001b[0m, in \u001b[0;36mDataFrame._reduce.<locals>.blk_func\u001b[0;34m(values, axis)\u001b[0m\n\u001b[1;32m  11479\u001b[0m         \u001b[38;5;28;01mreturn\u001b[39;00m np\u001b[38;5;241m.\u001b[39marray([result])\n\u001b[1;32m  11480\u001b[0m \u001b[38;5;28;01melse\u001b[39;00m:\n\u001b[0;32m> 11481\u001b[0m     \u001b[38;5;28;01mreturn\u001b[39;00m op(values, axis\u001b[38;5;241m=\u001b[39maxis, skipna\u001b[38;5;241m=\u001b[39mskipna, \u001b[38;5;241m*\u001b[39m\u001b[38;5;241m*\u001b[39mkwds)\n",
      "File \u001b[0;32m/opt/anaconda3/lib/python3.12/site-packages/pandas/core/nanops.py:147\u001b[0m, in \u001b[0;36mbottleneck_switch.__call__.<locals>.f\u001b[0;34m(values, axis, skipna, **kwds)\u001b[0m\n\u001b[1;32m    145\u001b[0m         result \u001b[38;5;241m=\u001b[39m alt(values, axis\u001b[38;5;241m=\u001b[39maxis, skipna\u001b[38;5;241m=\u001b[39mskipna, \u001b[38;5;241m*\u001b[39m\u001b[38;5;241m*\u001b[39mkwds)\n\u001b[1;32m    146\u001b[0m \u001b[38;5;28;01melse\u001b[39;00m:\n\u001b[0;32m--> 147\u001b[0m     result \u001b[38;5;241m=\u001b[39m alt(values, axis\u001b[38;5;241m=\u001b[39maxis, skipna\u001b[38;5;241m=\u001b[39mskipna, \u001b[38;5;241m*\u001b[39m\u001b[38;5;241m*\u001b[39mkwds)\n\u001b[1;32m    149\u001b[0m \u001b[38;5;28;01mreturn\u001b[39;00m result\n",
      "File \u001b[0;32m/opt/anaconda3/lib/python3.12/site-packages/pandas/core/nanops.py:404\u001b[0m, in \u001b[0;36m_datetimelike_compat.<locals>.new_func\u001b[0;34m(values, axis, skipna, mask, **kwargs)\u001b[0m\n\u001b[1;32m    401\u001b[0m \u001b[38;5;28;01mif\u001b[39;00m datetimelike \u001b[38;5;129;01mand\u001b[39;00m mask \u001b[38;5;129;01mis\u001b[39;00m \u001b[38;5;28;01mNone\u001b[39;00m:\n\u001b[1;32m    402\u001b[0m     mask \u001b[38;5;241m=\u001b[39m isna(values)\n\u001b[0;32m--> 404\u001b[0m result \u001b[38;5;241m=\u001b[39m func(values, axis\u001b[38;5;241m=\u001b[39maxis, skipna\u001b[38;5;241m=\u001b[39mskipna, mask\u001b[38;5;241m=\u001b[39mmask, \u001b[38;5;241m*\u001b[39m\u001b[38;5;241m*\u001b[39mkwargs)\n\u001b[1;32m    406\u001b[0m \u001b[38;5;28;01mif\u001b[39;00m datetimelike:\n\u001b[1;32m    407\u001b[0m     result \u001b[38;5;241m=\u001b[39m _wrap_results(result, orig_values\u001b[38;5;241m.\u001b[39mdtype, fill_value\u001b[38;5;241m=\u001b[39miNaT)\n",
      "File \u001b[0;32m/opt/anaconda3/lib/python3.12/site-packages/pandas/core/nanops.py:720\u001b[0m, in \u001b[0;36mnanmean\u001b[0;34m(values, axis, skipna, mask)\u001b[0m\n\u001b[1;32m    718\u001b[0m count \u001b[38;5;241m=\u001b[39m _get_counts(values\u001b[38;5;241m.\u001b[39mshape, mask, axis, dtype\u001b[38;5;241m=\u001b[39mdtype_count)\n\u001b[1;32m    719\u001b[0m the_sum \u001b[38;5;241m=\u001b[39m values\u001b[38;5;241m.\u001b[39msum(axis, dtype\u001b[38;5;241m=\u001b[39mdtype_sum)\n\u001b[0;32m--> 720\u001b[0m the_sum \u001b[38;5;241m=\u001b[39m _ensure_numeric(the_sum)\n\u001b[1;32m    722\u001b[0m \u001b[38;5;28;01mif\u001b[39;00m axis \u001b[38;5;129;01mis\u001b[39;00m \u001b[38;5;129;01mnot\u001b[39;00m \u001b[38;5;28;01mNone\u001b[39;00m \u001b[38;5;129;01mand\u001b[39;00m \u001b[38;5;28mgetattr\u001b[39m(the_sum, \u001b[38;5;124m\"\u001b[39m\u001b[38;5;124mndim\u001b[39m\u001b[38;5;124m\"\u001b[39m, \u001b[38;5;28;01mFalse\u001b[39;00m):\n\u001b[1;32m    723\u001b[0m     count \u001b[38;5;241m=\u001b[39m cast(np\u001b[38;5;241m.\u001b[39mndarray, count)\n",
      "File \u001b[0;32m/opt/anaconda3/lib/python3.12/site-packages/pandas/core/nanops.py:1686\u001b[0m, in \u001b[0;36m_ensure_numeric\u001b[0;34m(x)\u001b[0m\n\u001b[1;32m   1683\u001b[0m inferred \u001b[38;5;241m=\u001b[39m lib\u001b[38;5;241m.\u001b[39minfer_dtype(x)\n\u001b[1;32m   1684\u001b[0m \u001b[38;5;28;01mif\u001b[39;00m inferred \u001b[38;5;129;01min\u001b[39;00m [\u001b[38;5;124m\"\u001b[39m\u001b[38;5;124mstring\u001b[39m\u001b[38;5;124m\"\u001b[39m, \u001b[38;5;124m\"\u001b[39m\u001b[38;5;124mmixed\u001b[39m\u001b[38;5;124m\"\u001b[39m]:\n\u001b[1;32m   1685\u001b[0m     \u001b[38;5;66;03m# GH#44008, GH#36703 avoid casting e.g. strings to numeric\u001b[39;00m\n\u001b[0;32m-> 1686\u001b[0m     \u001b[38;5;28;01mraise\u001b[39;00m \u001b[38;5;167;01mTypeError\u001b[39;00m(\u001b[38;5;124mf\u001b[39m\u001b[38;5;124m\"\u001b[39m\u001b[38;5;124mCould not convert \u001b[39m\u001b[38;5;132;01m{\u001b[39;00mx\u001b[38;5;132;01m}\u001b[39;00m\u001b[38;5;124m to numeric\u001b[39m\u001b[38;5;124m\"\u001b[39m)\n\u001b[1;32m   1687\u001b[0m \u001b[38;5;28;01mtry\u001b[39;00m:\n\u001b[1;32m   1688\u001b[0m     x \u001b[38;5;241m=\u001b[39m x\u001b[38;5;241m.\u001b[39mastype(np\u001b[38;5;241m.\u001b[39mcomplex128)\n",
      "\u001b[0;31mTypeError\u001b[0m: Could not convert ['Chips and Fresh Tomato SalsaIzzeNantucket NectarChips and Tomatillo-Green Chili SalsaChicken BowlChicken BowlSide of ChipsSteak BurritoSteak Soft TacosSteak BurritoChips and GuacamoleChicken Crispy TacosChicken Soft TacosChicken BowlChips and GuacamoleChips and Tomatillo-Green Chili SalsaChicken BurritoChicken BurritoCanned SodaChicken BowlChips and GuacamoleBarbacoa BurritoNantucket NectarChicken BurritoIzzeChips and Fresh Tomato SalsaChicken BowlCarnitas BurritoCanned SodaChicken BurritoChips and Tomatillo-Green Chili SalsaSteak BurritoSide of ChipsCarnitas BowlBottled WaterChicken Soft TacosChicken Soft TacosChips and GuacamoleChips and Tomatillo Green Chili SalsaBarbacoa BowlChipsChips and GuacamoleChicken BowlSteak BurritoChicken Salad BowlChicken BurritoSteak BurritoIzzeSteak BurritoChips and GuacamoleSteak BurritoCanned SodaChicken BurritoCanned SodaSteak BowlChips and Fresh Tomato SalsaBarbacoa Soft TacosVeggie BurritoBarbacoa BowlChipsChips and GuacamoleSteak Soft TacosVeggie BowlChicken BurritoSteak BurritoSteak Soft TacosIzzeSteak BurritoChicken BurritoSteak BurritoSide of ChipsSteak BurritoChips and GuacamoleChicken BurritoChips and GuacamoleChicken Soft TacosChicken BowlChipsChicken BowlChicken Soft TacosChipsBarbacoa BurritoChicken BurritoChicken BurritoSteak Soft TacosVeggie BowlSteak BowlBottled WaterCarnitas BurritoChips and Fresh Tomato SalsaSteak BowlSteak BowlSteak Crispy TacosCarnitas BurritoChips and GuacamoleBarbacoa BowlChips and GuacamoleCarnitas BowlChicken BurritoChicken BowlChips and GuacamoleSteak BurritoSteak BowlChips and GuacamoleVeggie BurritoNantucket NectarSteak BurritoCanned SodaSteak BurritoChips and GuacamoleChicken BowlChips and Tomatillo Red Chili SalsaChips and GuacamoleChips and Tomatillo-Green Chili SalsaChicken BurritoBarbacoa BowlChicken BurritoCanned SodaSteak Soft TacosChips and GuacamoleChicken BurritoBarbacoa BurritoChips and GuacamoleChicken BowlChips and GuacamoleSteak BurritoCanned SodaBarbacoa BowlChips and Tomatillo Red Chili SalsaChips and GuacamoleBarbacoa BurritoChips and GuacamoleChicken BurritoChips and Tomatillo-Green Chili SalsaChicken BurritoChicken Salad BowlBarbacoa BowlChips and GuacamoleChicken BowlChips and GuacamoleChicken BowlChips and GuacamoleChicken BowlVeggie BowlBarbacoa BurritoCarnitas BowlChips and GuacamoleSteak BurritoSteak BurritoSide of ChipsChicken BurritoChips and GuacamoleChicken BurritoChips and Tomatillo-Green Chili SalsaChicken BowlChips and GuacamoleChips and GuacamoleVeggie BowlSteak BurritoChicken BurritoChicken BowlChicken BurritoCanned SodaCarnitas BowlVeggie BowlChips and Tomatillo-Green Chili SalsaChips and GuacamoleChicken BurritoBarbacoa Crispy TacosChicken BurritoChicken BurritoCanned SodaChicken BurritoNantucket NectarChicken BurritoSteak Soft TacosChicken BowlSteak BurritoChicken BurritoCanned SodaCanned SodaBarbacoa Soft TacosChicken BowlChips and Fresh Tomato SalsaSteak Soft TacosChips and GuacamoleVeggie Salad BowlSteak BowlChicken BurritoChicken BurritoSteak BurritoChips and Roasted Chili-Corn SalsaVeggie BowlChicken BowlChips and Fresh Tomato SalsaCanned SodaSteak BurritoChicken BurritoChips and Tomatillo-Green Chili SalsaChicken BowlCanned SodaChips and GuacamoleChicken BurritoChicken BurritoChicken BurritoNantucket NectarChicken BowlSteak BowlChipsChicken BowlVeggie BowlChicken BowlChips and GuacamoleChicken Salad BowlChips and GuacamoleSteak BowlChicken BurritoChicken Crispy TacosChicken BowlBarbacoa BowlChicken BowlChipsBarbacoa BurritoChipsChicken BowlVeggie BurritoChipsSteak BurritoCanned SodaSteak BurritoChips and GuacamoleChicken BowlChips and Tomatillo Green Chili SalsaChips and Roasted Chili Corn SalsaSteak BurritoChips and Tomatillo Green Chili SalsaSteak BurritoCarnitas Soft TacosSteak BurritoCarnitas BurritoChips and Fresh Tomato SalsaChicken BurritoChicken BurritoSteak BowlChicken BurritoSteak BurritoCanned SodaCanned SodaCanned SodaBarbacoa BurritoChicken SaladCanned SodaChicken BowlVeggie BowlBarbacoa BowlBarbacoa Crispy TacosChicken Salad BowlChicken BowlSteak BurritoSteak BowlSteak BowlCanned SodaSteak BowlCanned Soft DrinkSteak BurritoChips and Fresh Tomato SalsaSteak Soft TacosChips and Fresh Tomato SalsaBarbacoa Soft TacosChips and GuacamoleChicken BurritoChips and Tomatillo-Green Chili SalsaChicken BurritoChicken BurritoChicken BurritoSide of ChipsChicken BurritoChips and GuacamoleSteak Soft TacosSide of ChipsCanned SodaSteak Salad BowlChicken BowlChipsChicken BowlSteak BowlSteak BowlVeggie BowlChips and GuacamoleChicken BurritoChicken BowlChicken BowlCanned Soft DrinkSteak Soft TacosChips and GuacamoleVeggie Salad BowlSteak BurritoSteak Burrito6 Pack Soft DrinkSteak Soft TacosChips and Tomatillo-Red Chili SalsaChicken BowlChips and Fresh Tomato SalsaChicken BowlChicken BowlChipsSteak BowlSide of ChipsChicken BurritoChicken BurritoChipsChips and GuacamoleChicken BowlChicken Soft TacosSteak BurritoChicken Salad BowlChicken BurritoCanned SodaBottled WaterChicken BowlCanned Soft DrinkChipsSteak BurritoChicken BurritoChicken Soft TacosSteak BurritoChips and Fresh Tomato SalsaChicken BowlChipsBottled WaterChicken BurritoChipsChicken Soft TacosChicken Soft TacosBarbacoa BurritoSteak BurritoSteak BowlCanned Soft DrinkChicken BurritoChicken BurritoChips and Guacamole6 Pack Soft DrinkSteak Soft TacosChips and Fresh Tomato SalsaChicken Soft TacosChips and GuacamoleCanned Soft DrinkCanned Soft DrinkChicken BowlChips and Tomatillo-Red Chili SalsaCanned SodaChicken BurritoCanned SodaSteak BurritoChicken Soft TacosChicken BurritoChips and Tomatillo Red Chili Salsa6 Pack Soft DrinkSteak BurritoIzzeIzzeSteak BurritoChicken BurritoChicken BurritoChipsChicken Crispy TacosChips and Tomatillo Green Chili SalsaChicken BurritoCanned Soft DrinkSteak BurritoCanned SodaChicken BowlChicken BurritoCarnitas BurritoChips and Fresh Tomato SalsaBarbacoa BurritoBottled WaterSteak BurritoCanned SodaChicken BowlCanned Soft DrinkCanned Soft DrinkChicken BurritoSteak BurritoChipsBarbacoa BurritoSide of ChipsSteak Bowl6 Pack Soft DrinkChicken BurritoSteak Soft TacosChicken BurritoChips and GuacamoleCanned Soft DrinkVeggie BurritoChips and GuacamoleChicken BurritoBarbacoa BurritoChicken BurritoCarnitas BowlChicken BurritoCanned Soft DrinkSteak BurritoCanned Soft DrinkSteak BurritoCarnitas Soft TacosChips and GuacamoleChicken BowlChipsChicken BowlCanned Soft DrinkChicken BowlSteak BowlSide of ChipsCanned SodaChicken BowlChips and Guacamole6 Pack Soft DrinkBarbacoa BowlChicken Soft TacosSteak BurritoCarnitas BurritoChicken BowlChicken BurritoChipsChips and Fresh Tomato SalsaChicken Soft TacosChicken Soft TacosSteak BowlBarbacoa Crispy TacosIzzeSteak BurritoSide of ChipsCarnitas BowlCanned SodaVeggie BurritoNantucket NectarSteak Crispy TacosCanned SodaSteak BurritoChicken Soft TacosChicken BurritoChips and GuacamoleChips and Tomatillo Red Chili SalsaSteak BowlBowlChicken BurritoSteak BurritoChicken BurritoChicken BowlBarbacoa BurritoChicken BurritoChicken BurritoCarnitas Soft TacosChicken BowlVeggie Salad BowlChicken BowlChicken BurritoChips and Fresh Tomato SalsaCanned Soft DrinkChicken BowlSide of ChipsCarnitas BurritoChicken BurritoChicken BowlChicken BowlChips and GuacamoleVeggie BurritoChips and GuacamoleVeggie BurritoChips and GuacamoleBarbacoa BowlSide of ChipsCanned SodaChicken Soft TacosBottled WaterChicken BurritoSide of ChipsCarnitas BurritoVeggie BurritoChicken BowlSteak BurritoChicken BurritoChicken BowlChicken BowlBarbacoa Crispy TacosChicken BurritoChicken BurritoChicken BowlChipsChicken BowlSteak BowlCanned Soft DrinkChips and GuacamoleSteak Soft TacosChips and GuacamoleVeggie Salad BowlVeggie BurritoChips and GuacamoleSteak BowlSteak BowlChicken BowlBarbacoa BurritoSteak BurritoChicken Soft TacosCanned Soft DrinkCarnitas BowlCanned Soft DrinkSteak BurritoChicken BowlBurritoBurritoVeggie BowlCanned Soft DrinkChips and GuacamoleVeggie BowlChipsChicken BurritoChips and GuacamoleBurritoCrispy TacosCrispy TacosSteak BurritoChips and GuacamoleSteak BowlSide of ChipsChicken Salad BowlChicken BowlChicken Salad BowlChicken Salad BowlVeggie BowlChicken BurritoChips and Fresh Tomato SalsaChicken BurritoSteak BurritoVeggie BurritoChips and GuacamoleChips and Tomatillo Green Chili SalsaCarnitas BowlSteak BurritoBottled WaterCanned Soft DrinkChicken BowlBarbacoa BurritoChips and GuacamoleChicken BowlChicken BowlChips and GuacamoleChicken BowlSteak BurritoChips and GuacamoleChicken BurritoSteak Burrito6 Pack Soft DrinkCarnitas Crispy TacosVeggie BowlChicken BowlBarbacoa BurritoChipsSteak BowlChips and GuacamoleBarbacoa BurritoChips and Roasted Chili Corn SalsaSteak BurritoChicken BurritoCarnitas Soft TacosCanned Soft DrinkCanned Soft DrinkChicken Salad BowlChicken BurritoSteak Soft TacosChips and GuacamoleSteak BurritoSteak BurritoBarbacoa BurritoBarbacoa BurritoSteak BurritoChicken Soft TacosChips and Tomatillo-Green Chili SalsaIzzeIzzeSteak Crispy TacosSteak BurritoChicken BowlChipsChicken Salad BowlBarbacoa BurritoChips and GuacamoleChicken BurritoChicken BurritoCarnitas Soft TacosChicken Salad BowlBarbacoa BowlChips and Tomatillo Red Chili SalsaBottled WaterSteak BowlChicken BowlSide of ChipsChicken Crispy TacosChicken BurritoChicken Crispy TacosNantucket NectarBarbacoa BurritoChips and GuacamoleChicken BowlChips and GuacamoleSteak Salad BowlSteak Salad BowlChicken BurritoChips and Fresh Tomato SalsaCanned Soft DrinkBarbacoa Soft TacosChicken BurritoSteak Salad BowlChicken BowlBarbacoa BurritoChipsChipsCanned Soft DrinkVeggie BowlChips and GuacamoleChicken BurritoCanned SodaVeggie BurritoChips and GuacamoleChicken BowlCarnitas BurritoChips and Tomatillo Green Chili SalsaChips and GuacamoleSteak BurritoChicken Soft TacosVeggie BurritoChips and GuacamoleChicken Salad BowlChicken BurritoCanned Soft DrinkChicken BurritoChicken BowlSteak Burrito6 Pack Soft DrinkChicken BurritoChicken Soft TacosChips and GuacamoleVeggie BowlChips and GuacamoleSteak BurritoCanned SodaChicken BowlChips and Roasted Chili-Corn SalsaSteak BurritoSide of ChipsCanned Soft DrinkCarnitas BurritoBottled WaterChicken BowlChips and Tomatillo Green Chili SalsaChicken BurritoChips and GuacamoleSteak BurritoChicken BurritoChicken BowlSide of ChipsVeggie BurritoChips and GuacamoleSteak SaladSteak BowlChips and GuacamoleCarnitas Soft TacosChicken BowlChips and GuacamoleCanned Soft DrinkChips and GuacamoleChicken BurritoBowlChips and Mild Fresh Tomato SalsaBurritoChips and GuacamoleVeggie BowlChips and GuacamoleSteak BowlChips and GuacamoleChicken BurritoCanned Soft DrinkSteak BurritoCanned Soft DrinkChicken BurritoChipsChicken BowlChips and GuacamoleCanned Soft DrinkSteak BowlCarnitas BurritoChips and Tomatillo-Red Chili SalsaChicken Salad BowlChips and GuacamoleCanned Soft DrinkSteak BurritoChicken Soft TacosCanned SodaChicken BurritoCanned SodaBottled WaterChicken Salad BowlChips and Tomatillo Green Chili SalsaCanned Soft DrinkBottled WaterChicken BowlSteak BurritoChips and Roasted Chili Corn SalsaCanned Soft DrinkVeggie BurritoChips and GuacamoleSteak BurritoChips and GuacamoleVeggie BurritoChicken BurritoCanned Soft DrinkBarbacoa BurritoSide of ChipsChicken BowlCanned Soft Drink6 Pack Soft DrinkChicken BowlBarbacoa BurritoChicken BurritoChips and Fresh Tomato SalsaChicken BurritoSteak BurritoSteak BurritoSteak Crispy TacosChips and Fresh Tomato SalsaChips and GuacamoleVeggie BurritoChicken BowlChicken BurritoCanned Soft DrinkSteak BurritoVeggie BowlVeggie Soft TacosChicken BurritoCanned Soft DrinkSteak BurritoBarbacoa Burrito6 Pack Soft DrinkChips and GuacamoleVeggie BurritoChicken BurritoChipsChicken BurritoSteak Salad BowlBarbacoa BowlSide of ChipsSteak SaladSteak BowlChips and GuacamoleCarnitas Soft TacosBarbacoa BurritoSteak BowlChipsBurritoBurritoVeggie BurritoChicken Salad BowlBarbacoa Crispy TacosChips and GuacamoleChicken BowlCanned Soft DrinkCarnitas BurritoChicken Crispy TacosCanned Soft DrinkChips and GuacamoleVeggie BurritoChicken BowlChicken BowlSteak Crispy TacosChicken BowlChipsCanned Soft DrinkChicken BurritoCanned SodaBottled WaterVeggie Soft TacosChips and Tomatillo Green Chili SalsaCanned Soft DrinkSteak BowlCanned Soft DrinkChipsChicken BurritoCanned Soft DrinkChips and GuacamoleChicken BurritoCanned Soft DrinkChips and GuacamoleChicken BurritoChicken BowlChicken BowlChicken BurritoVeggie BurritoChicken BowlChips and GuacamoleChicken BurritoChips and GuacamoleSide of ChipsBarbacoa BowlBarbacoa BowlChicken BowlSteak BurritoCanned SodaSteak BurritoChips and Tomatillo Green Chili SalsaChicken BurritoSteak BurritoChips and GuacamoleVeggie BurritoChicken BurritoChicken BowlChicken Salad BowlChicken BowlBottled WaterChips and GuacamoleCarnitas Soft TacosCanned SodaCarnitas BowlChicken BurritoChips and GuacamoleSteak BowlChips and GuacamoleVeggie BurritoChipsBarbacoa Crispy TacosChicken Crispy TacosVeggie BowlVeggie BowlCarnitas BowlChicken BurritoCarnitas BurritoChicken BurritoChicken BowlChips and Tomatillo Red Chili SalsaChips and GuacamoleBarbacoa BowlChips and Roasted Chili Corn SalsaSteak BowlVeggie BowlChicken BowlChips and GuacamoleVeggie BowlVeggie BurritoChips and Fresh Tomato SalsaChicken BowlCanned Soft DrinkCarnitas BowlChips and GuacamoleBarbacoa BurritoBarbacoa BurritoChips and GuacamoleChicken BurritoBarbacoa Soft TacosChicken BurritoBarbacoa BurritoSteak BurritoSteak BurritoSteak BurritoSteak BurritoChicken Salad BowlCarnitas BurritoChicken Crispy TacosCanned Soft DrinkChicken BowlChipsCanned Soft DrinkChicken BowlChicken Soft TacosCanned Soft DrinkVeggie BurritoBottled WaterChicken Soft TacosChicken BowlBarbacoa Burrito6 Pack Soft DrinkChips and GuacamoleChicken BowlChips and GuacamoleChicken Soft TacosCanned Soft DrinkChicken Crispy TacosSteak BurritoVeggie BowlBarbacoa BurritoBottled WaterChicken BowlVeggie BurritoChicken BowlSteak SaladChips and GuacamoleChicken BurritoChips and GuacamoleSteak BurritoSide of ChipsSteak BowlChicken BowlVeggie BowlChips and GuacamoleBarbacoa BurritoCanned Soft DrinkSteak BowlChips and Roasted Chili Corn SalsaSteak BurritoSteak BurritoCanned SodaSteak BowlSteak BurritoChicken BurritoSide of ChipsSteak BurritoChicken BowlChips and Tomatillo Green Chili SalsaCanned Soft DrinkSteak Crispy TacosBarbacoa BowlChicken BowlChipsBottled WaterChicken Soft TacosChicken Soft TacosNantucket NectarSteak BowlChips and GuacamoleChicken BowlChips and GuacamoleChicken BowlVeggie BurritoChipsChicken BowlChicken BowlSide of ChipsVeggie BowlChicken BowlCanned Soft DrinkChicken BurritoSteak BurritoSteak BurritoSteak BurritoBottled WaterChicken BowlChips and GuacamoleChicken Crispy TacosChips and Fresh Tomato SalsaChicken BowlChipsChips and GuacamoleChicken BurritoSteak BowlChips and GuacamoleChicken BurritoSide of ChipsCanned SodaSteak BurritoCanned SodaCarnitas BurritoVeggie Salad BowlSteak Soft TacosChips and Fresh Tomato SalsaCanned Soft DrinkCanned Soft DrinkChicken BurritoChicken Soft TacosSteak BurritoSteak Soft TacosChicken Soft TacosBottled WaterChips and GuacamoleVeggie BurritoVeggie BurritoCarnitas BurritoChicken BowlChicken BowlChicken BowlChips and GuacamoleChicken BowlChicken BowlBarbacoa BurritoChips and Tomatillo-Green Chili SalsaChicken BurritoCarnitas BowlChipsChicken BurritoCanned Soft DrinkBarbacoa Soft TacosCanned Soft DrinkChicken BurritoSteak BurritoCanned Soft DrinkChicken BowlChicken BowlChicken BowlChicken BowlChicken BurritoCanned Soft DrinkChicken Soft TacosChicken BowlChicken BowlBottled WaterBottled WaterChicken BowlChips and GuacamoleChicken Crispy TacosCanned Soft DrinkCarnitas Crispy TacosChicken BurritoChips and Tomatillo-Green Chili SalsaSteak BowlChips and GuacamoleSteak BurritoChicken BowlSteak BurritoSide of ChipsChicken BowlChips and Tomatillo-Green Chili SalsaBarbacoa Crispy TacosSteak Crispy TacosChicken BurritoChips and GuacamoleChicken BowlChips and GuacamoleSteak Burrito6 Pack Soft DrinkChicken Crispy TacosChicken BurritoChicken BurritoCanned SodaSide of ChipsBarbacoa BowlChips and GuacamoleChicken BowlCanned Soft DrinkChips and Fresh Tomato SalsaChips and GuacamoleVeggie BurritoSteak BowlSteak BowlChipsSteak BowlChicken BowlChipsCanned Soft DrinkChicken BurritoChipsCanned Soft DrinkChicken BurritoChicken Burrito6 Pack Soft DrinkSide of ChipsSteak BowlChicken BurritoBarbacoa BurritoChicken BurritoCanned SodaChicken BowlIzzeChicken BowlChipsCanned Soft DrinkCarnitas BurritoChicken BurritoChicken SaladChicken BowlChips and Roasted Chili Corn SalsaBarbacoa BowlSteak BurritoSteak BurritoChips and GuacamoleSteak BurritoChicken BowlVeggie BurritoChips and GuacamoleSide of ChipsSteak BowlChicken BowlChips and GuacamoleBottled WaterSteak BowlChipsSteak BurritoChips and Tomatillo-Green Chili SalsaChicken BurritoChips and Fresh Tomato SalsaCanned Soft DrinkChicken BowlChipsCanned Soft DrinkCanned SodaCanned SodaSteak BurritoChicken Soft TacosChips and Fresh Tomato SalsaSteak BowlCarnitas BurritoCanned Soft DrinkChicken BurritoBarbacoa BurritoChips and Tomatillo-Red Chili SalsaSteak BurritoChips and GuacamoleChicken BowlVeggie BurritoChicken BowlChicken BurritoChicken BowlChicken Salad BowlChicken Salad BowlSteak BowlChicken BowlChips and GuacamoleSteak BurritoCanned Soft DrinkChicken BurritoChicken BurritoChips and Fresh Tomato SalsaBarbacoa BurritoSide of ChipsChicken BurritoChips and GuacamoleChicken Bowl6 Pack Soft DrinkChicken BurritoChips and GuacamoleCarnitas BurritoChips and GuacamoleBarbacoa Soft TacosSteak BurritoChips and GuacamoleCarnitas Salad BowlSteak BowlChicken BowlChips and Fresh Tomato SalsaBottled WaterChips and GuacamoleChicken BurritoSteak BurritoBottled WaterSteak BurritoCanned SodaChips and GuacamoleSteak BurritoVeggie BurritoSteak BurritoChips and GuacamoleSteak BowlBarbacoa Soft TacosChips and Roasted Chili Corn SalsaBarbacoa BurritoChicken BurritoSteak BurritoSteak BurritoChicken BurritoChicken BowlChips and Tomatillo Green Chili SalsaChips and GuacamoleSteak Salad BowlChicken BurritoChicken BurritoSide of ChipsChicken BowlChipsCanned Soft DrinkChicken Burrito6 Pack Soft DrinkSteak Crispy TacosChipsChicken BurritoChips and GuacamoleChicken BowlCanned Soft DrinkBarbacoa BowlBarbacoa BowlSteak BowlBottled WaterChicken BowlBarbacoa BowlChips and Roasted Chili-Corn SalsaChips and Tomatillo-Red Chili SalsaBottled WaterChicken BowlChips and GuacamoleChicken BurritoCarnitas Soft TacosBarbacoa BurritoChicken BowlChicken Salad BowlChips and GuacamoleChips and Tomatillo Red Chili SalsaSteak BowlVeggie BurritoChicken Soft TacosCarnitas Crispy TacosSide of ChipsCarnitas BurritoChicken BowlSteak BurritoCarnitas BowlChicken BurritoBarbacoa BurritoChicken BurritoChicken BowlChicken BowlChicken BowlChicken BowlChicken BurritoChips and GuacamoleChicken BowlChicken BurritoCarnitas BowlIzzeChips and GuacamoleSteak BurritoCanned SodaCanned SodaChips and Tomatillo-Green Chili SalsaChicken BurritoChips and GuacamoleChicken BowlChicken BowlChips and GuacamoleSteak BowlChips and GuacamoleChicken BowlChipsCanned Soft DrinkBarbacoa Salad BowlChips and Fresh Tomato SalsaSteak BurritoCanned Soft DrinkChicken BurritoChips and GuacamoleBarbacoa BowlBarbacoa BowlChips and Fresh Tomato SalsaCarnitas BurritoChicken BurritoBarbacoa Soft TacosChips and Fresh Tomato SalsaVeggie BowlCanned Soft DrinkCarnitas BowlCanned Soft DrinkSteak BowlChips and Fresh Tomato SalsaCanned Soft DrinkChicken Soft TacosCanned Soft DrinkChicken BurritoVeggie BurritoChips and GuacamoleChicken BurritoSteak BurritoVeggie BurritoChips and Fresh Tomato SalsaChips and GuacamoleChips and Tomatillo Green Chili Salsa6 Pack Soft DrinkVeggie BurritoSteak BurritoChips and Tomatillo-Green Chili SalsaBarbacoa BowlChicken BowlChipsChicken Soft TacosChips and GuacamoleChicken BurritoSide of ChipsChicken BurritoSteak BurritoChicken BurritoChips and GuacamoleSteak BurritoSteak BurritoChips and GuacamoleChicken Soft Tacos6 Pack Soft DrinkChicken BurritoChicken BowlSteak BurritoCanned Soft DrinkChips and GuacamoleChicken BurritoSide of ChipsCarnitas BurritoChips and GuacamoleSteak BurritoCanned SodaChicken BowlChips and Roasted Chili Corn SalsaSteak BowlCarnitas BowlChips and GuacamoleChicken BowlVeggie BowlChicken BowlChicken BowlBarbacoa BurritoChipsChicken BowlChicken BowlChips and GuacamoleSide of ChipsSteak BowlChicken BowlSide of ChipsSteak BurritoChicken BurritoSteak Salad BowlSteak BowlChips and Tomatillo Red Chili SalsaSteak BowlChips and Fresh Tomato SalsaVeggie Salad BowlChips and GuacamoleChips and GuacamoleVeggie BowlChicken BurritoSteak BurritoChicken BurritoSteak BurritoChips and GuacamoleSteak BurritoBarbacoa Salad BowlSteak Crispy TacosChicken BurritoChicken BowlSteak BowlChicken BurritoChicken BowlSteak BurritoBarbacoa Soft TacosChips and GuacamoleChicken BurritoCarnitas BurritoCanned Soft DrinkSteak BurritoSide of ChipsCarnitas BowlChipsCanned Soft DrinkCarnitas BowlChicken Crispy TacosChips and GuacamoleBarbacoa BowlChips and Tomatillo Red Chili SalsaVeggie BurritoChicken BurritoChips and GuacamoleChicken Salad BowlSteak Soft TacosSteak BowlSide of ChipsNantucket NectarBarbacoa BowlChips and Roasted Chili Corn SalsaCarnitas BowlSide of ChipsChicken Soft TacosChicken BurritoVeggie BowlChips and Fresh Tomato SalsaSteak Soft TacosSide of ChipsChicken BowlChipsCanned Soft DrinkChicken BowlChips and Roasted Chili Corn SalsaSteak BurritoCanned Soft DrinkVeggie BowlCanned Soft DrinkCarnitas BowlCanned Soft DrinkChicken BowlBottled WaterChicken Soft TacosCanned Soft DrinkChips and Tomatillo Red Chili SalsaBarbacoa BowlSteak BurritoChicken BowlChicken BowlChipsSteak BurritoCanned Soft DrinkCarnitas Soft TacosBarbacoa Soft Tacos6 Pack Soft DrinkCarnitas BowlVeggie BurritoVeggie Soft TacosCanned SodaChicken BowlChicken BurritoCanned Soft DrinkChipsChicken BowlBottled WaterChicken BurritoVeggie BowlChicken BowlChicken BurritoChicken BowlBottled WaterCanned Soft DrinkBottled WaterChicken BowlCanned Soft DrinkChipsSaladSaladChips and GuacamoleBarbacoa BowlBarbacoa Salad BowlBarbacoa BowlBarbacoa BowlBarbacoa Salad BowlChicken Salad BowlChips and GuacamoleChicken BurritoBottled WaterChicken Soft TacosChicken BowlVeggie BowlChicken BowlCarnitas BowlCanned SodaChicken BowlVeggie BowlChicken BurritoChicken BurritoBottled WaterCarnitas Soft TacosChicken Soft TacosChips and GuacamoleVeggie BurritoVeggie BowlChicken BowlChicken BurritoChicken BurritoChicken BurritoSteak BowlBottled WaterChicken BurritoChicken BowlChips and Roasted Chili Corn SalsaSteak Crispy TacosChicken BurritoSteak BurritoVeggie BowlChips and GuacamoleChicken BowlCanned SodaChips and Roasted Chili-Corn SalsaVeggie BurritoChicken Salad BowlSteak BowlCarnitas BurritoChicken BurritoChicken BurritoChips and Fresh Tomato SalsaChicken BurritoChicken Soft TacosChips and GuacamoleSteak BurritoChips and GuacamoleChicken Salad BowlChipsCanned Soft DrinkChicken BowlSteak BowlChicken Soft TacosBottled WaterChicken BowlChipsCanned Soft DrinkChicken BurritoSteak BowlChicken Salad BowlChicken BowlBottled WaterChicken BurritoCanned Soft DrinkChips and GuacamoleChicken Soft TacosChicken BowlChips and Tomatillo Red Chili SalsaCanned Soft DrinkChicken BurritoChips and Fresh Tomato SalsaCanned Soft DrinkChicken Soft TacosVeggie BurritoChips and Fresh Tomato SalsaChicken BowlCanned Soft DrinkChicken BurritoChicken BurritoSteak BowlChicken BowlSteak Salad BowlCanned Soft DrinkChicken BowlChipsCanned Soft DrinkSteak BurritoCanned SodaChicken BowlChips and GuacamoleChicken BowlChicken BowlChips and GuacamoleSteak BurritoChips and Tomatillo Green Chili SalsaChicken BowlChicken BurritoSteak BurritoChicken BurritoChicken BowlChicken Salad BowlChicken BowlChips and GuacamoleCanned Soft DrinkChicken BowlChicken BowlChicken BowlBarbacoa BurritoBarbacoa BurritoChips and Tomatillo-Red Chili SalsaChips and Tomatillo-Red Chili SalsaChips and GuacamoleChicken BowlChips and GuacamoleChipsSteak BowlCanned Soft DrinkChicken BurritoSteak Soft TacosChicken BowlChips and GuacamoleChicken BowlChipsChicken Salad BowlChips and GuacamoleChicken BurritoChicken BurritoCanned Soft DrinkChicken BowlChipsChicken BowlChips and Roasted Chili Corn SalsaSteak BowlCanned Soft DrinkSteak BurritoCanned Soft DrinkChicken Soft TacosCanned Soft DrinkChips and GuacamoleSteak BowlChips and GuacamoleChicken BurritoSteak BowlChicken BurritoChips and Tomatillo Green Chili SalsaChicken BurritoChicken BowlSteak Salad BowlChips and GuacamoleChips and Tomatillo Green Chili SalsaCanned Soft DrinkChicken BowlChips and GuacamoleChips and Tomatillo Green Chili SalsaCanned Soft DrinkChicken BowlChipsCanned Soft DrinkSteak BurritoChips and Tomatillo Green Chili SalsaBarbacoa BurritoNantucket NectarSteak BurritoCarnitas Soft TacosChicken BowlChips and Tomatillo Green Chili SalsaSteak Salad BowlBottled WaterChicken BowlChips and Tomatillo Green Chili SalsaCarnitas BowlChicken BurritoChicken BowlChips and Roasted Chili Corn SalsaChicken BowlBarbacoa BurritoChipsChicken Salad BowlChicken BowlChicken BowlChicken BowlChipsChicken BurritoCanned Soft DrinkChipsChicken BowlChicken BowlIzzeIzzeChicken BurritoChicken Soft TacosChips and Tomatillo-Green Chili SalsaChicken BurritoSteak Soft TacosSteak BowlCanned Soft DrinkChips and Tomatillo Red Chili SalsaChicken Salad BowlVeggie BowlSteak BowlChips and GuacamoleBottled WaterNantucket NectarCarnitas BurritoChips and Roasted Chili-Corn SalsaChicken BowlChipsVeggie BurritoCarnitas Crispy TacosSteak BurritoChips and GuacamoleSteak BurritoChips and GuacamoleSteak BurritoChicken BowlChicken BurritoSteak BurritoChicken BurritoBarbacoa Soft TacosBarbacoa BowlVeggie BowlChicken BowlChips and GuacamoleChips and GuacamoleBarbacoa BurritoChicken BowlBarbacoa BowlChicken BowlVeggie BurritoVeggie Crispy TacosChicken BurritoChipsChicken BurritoChicken Soft TacosChips and Roasted Chili Corn SalsaChicken BurritoChicken BowlChicken BurritoCanned SodaChicken BurritoChipsChips and Tomatillo Red Chili SalsaCanned Soft DrinkChicken BurritoCarnitas Soft TacosBarbacoa Soft TacosBarbacoa BowlChips and Tomatillo Red Chili SalsaChicken BowlChipsCanned Soft DrinkSteak BurritoChips and GuacamoleCarnitas BurritoChipsCarnitas BowlIzzeSteak BurritoChicken Soft TacosChicken BowlChicken BowlChips and GuacamoleChicken BowlChipsCanned Soft DrinkSteak BurritoChips and GuacamoleSteak BurritoChips and Fresh Tomato SalsaChicken BowlVeggie SaladVeggie BurritoChicken Soft TacosChips and GuacamoleChicken BurritoVeggie Soft TacosChicken BurritoChicken BowlChips and GuacamoleChicken BowlSide of ChipsChicken BowlNantucket NectarChicken BurritoChicken Salad BowlSteak BurritoChicken BurritoChicken BowlChicken BurritoSteak BurritoChicken BurritoSteak BurritoChicken BowlSteak BurritoChicken BurritoChicken BowlSide of ChipsSteak Soft TacosSteak BowlChicken BurritoSide of ChipsSteak BowlChipsBottled WaterChicken BurritoBottled WaterChicken BowlChicken BowlChips and Tomatillo Red Chili SalsaChicken BowlSide of ChipsChicken BowlChips and Tomatillo Red Chili SalsaCanned Soft DrinkChicken Salad BowlChipsCarnitas BowlChicken BowlChicken BowlChicken BowlSteak BowlCanned Soft DrinkBarbacoa BowlChicken BurritoChicken BurritoVeggie BowlChips and GuacamoleChicken BurritoBottled WaterSteak BurritoBarbacoa Soft Tacos6 Pack Soft DrinkChicken Salad BowlChips and Guacamole6 Pack Soft DrinkChicken BowlCanned Soft DrinkChipsChicken BowlChips and Tomatillo-Red Chili SalsaChicken BurritoSteak BurritoChips and GuacamoleCarnitas BowlVeggie BurritoSteak BurritoChips and Fresh Tomato SalsaSteak BurritoCarnitas Soft TacosSteak BurritoChicken BurritoChicken BurritoChicken BurritoChicken BowlVeggie BurritoSteak BowlChicken BowlChicken Soft TacosChipsChicken BowlChipsChips and GuacamoleSteak BowlChicken BowlChips and Fresh Tomato SalsaCarnitas Soft TacosCanned Soft DrinkCanned Soft DrinkCanned Soft DrinkCanned Soft DrinkChicken BowlChipsChicken BowlSide of ChipsChicken BowlBottled WaterChicken BurritoChicken Soft TacosChicken BowlChips and GuacamoleBarbacoa BowlCanned SodaChicken Salad BowlCanned Soft DrinkChicken BurritoChips and Fresh Tomato SalsaChicken Soft TacosChicken BowlBarbacoa BurritoChicken Salad BowlChips and GuacamoleChicken Salad BowlSteak Salad BowlSteak BurritoChicken Soft TacosChicken BurritoChips and GuacamoleChicken BurritoSteak BowlSteak BowlChips and GuacamoleBarbacoa Salad BowlChips and Fresh Tomato SalsaChicken BurritoChips and GuacamoleChicken BowlChipsCanned Soft DrinkChicken BowlVeggie BowlSide of ChipsChicken BurritoChips and GuacamoleChicken Soft TacosCarnitas Crispy TacosChicken BowlChips and GuacamoleVeggie BowlChicken BurritoChips and Fresh Tomato SalsaChicken Crispy TacosChicken BurritoBarbacoa BurritoChips and Tomatillo Green Chili SalsaChicken Bowl6 Pack Soft DrinkChipsChicken BowlChicken BowlChipsBottled WaterChicken BowlChicken BowlChips and Tomatillo-Red Chili SalsaSteak BurritoChips and Guacamole6 Pack Soft DrinkSteak BurritoChips and GuacamoleVeggie BowlSide of ChipsCarnitas Salad BowlBarbacoa Crispy TacosSteak BowlChips and Fresh Tomato SalsaChicken BurritoChipsCanned Soft DrinkChicken BowlCarnitas BowlChicken Soft TacosVeggie BowlChicken BowlChicken BowlCanned Soft DrinkCanned Soft DrinkBottled WaterChips and GuacamoleChips and Fresh Tomato SalsaChicken Salad BowlVeggie Salad BowlChicken BurritoChicken BurritoChicken BowlChipsBottled WaterSteak BowlCanned Soft DrinkBottled WaterChipsCanned Soft DrinkChicken BowlChips and Tomatillo Red Chili SalsaChicken Soft TacosChips and GuacamoleChicken Salad BowlChipsSteak BowlChipsBarbacoa Crispy TacosChicken BowlChips and Fresh Tomato SalsaChicken BowlChips and GuacamoleCarnitas BowlCarnitas BurritoChips and GuacamoleSteak BurritoSteak Soft TacosBottled WaterChicken BowlChips and Tomatillo Red Chili Salsa6 Pack Soft DrinkCarnitas BowlChicken BurritoSteak BurritoChicken BowlChips and Guacamole6 Pack Soft DrinkChicken Salad BowlSteak BowlChips and Roasted Chili Corn SalsaChicken BowlSide of ChipsChicken BowlChicken BowlChips and GuacamoleChicken BowlChips and Tomatillo Red Chili SalsaSteak BowlChicken BowlChips and Tomatillo-Green Chili SalsaSteak Burrito6 Pack Soft DrinkChicken Soft TacosSteak BurritoChips and Fresh Tomato SalsaSteak BowlSide of ChipsSteak BowlCanned SodaCanned SodaSteak BurritoCarnitas BurritoCanned SodaSteak BurritoSteak BurritoChicken Soft TacosChicken BowlCanned SodaSteak BurritoSteak BowlChicken Salad BowlChicken BurritoChipsVeggie BurritoChicken Soft TacosChips and GuacamoleChips and Roasted Chili Corn SalsaCarnitas Soft TacosBottled WaterSteak BurritoChicken BowlChips and Tomatillo-Green Chili SalsaChicken BurritoChipsBarbacoa BowlBottled WaterChicken BowlChipsChips and GuacamoleSteak Bowl6 Pack Soft DrinkChicken Salad BowlChips and GuacamoleSteak Soft TacosChips and GuacamoleChicken BurritoVeggie BurritoCanned Soft DrinkChicken BowlBarbacoa Soft TacosChips and GuacamoleCanned Soft DrinkBottled WaterChicken BowlChips and GuacamoleChips and GuacamoleChips and Tomatillo Red Chili SalsaSteak BurritoChicken BowlChipsChicken BowlChicken BowlChips and GuacamoleChips and Tomatillo Red Chili SalsaCarnitas Soft TacosChicken BowlCanned Soft DrinkChicken BowlChips and Tomatillo Red Chili SalsaCanned Soft DrinkChicken BowlChips and GuacamoleSteak BurritoSteak BurritoChicken BowlChips and Tomatillo-Red Chili SalsaChicken BowlBarbacoa BowlChipsBottled WaterChipsChicken BowlChicken BowlChips and GuacamoleChicken BowlChicken BowlCanned Soft DrinkChips and GuacamoleSteak BurritoSteak Crispy TacosChicken BurritoCarnitas BowlVeggie BowlChicken BurritoSteak BowlChicken Salad BowlCarnitas BurritoCarnitas BowlVeggie BowlChicken BowlChips and GuacamoleChips and Fresh Tomato SalsaChicken BowlVeggie BowlChicken BurritoChicken BurritoSteak BowlSteak BowlSteak BurritoChicken BurritoSteak BowlChips and GuacamoleChicken Soft TacosChicken BowlSide of ChipsChicken BurritoSteak BurritoChips and Roasted Chili-Corn SalsaSteak BurritoChips and Fresh Tomato SalsaCanned Soft DrinkChicken BowlChips and Tomatillo Red Chili SalsaSteak BurritoChicken Soft TacosChicken BurritoChicken BowlVeggie BowlChips and Fresh Tomato SalsaChicken BowlBottled WaterVeggie BurritoBottled WaterCanned Soft DrinkChicken BowlChips and GuacamoleSteak BowlBarbacoa BowlChips and GuacamoleChicken BowlChicken Soft TacosChips and GuacamoleChicken Soft TacosChicken Soft TacosCarnitas Soft TacosSteak BurritoChips and Fresh Tomato SalsaBarbacoa Soft TacosVeggie BurritoChicken BurritoChicken Soft TacosChips and GuacamoleIzzeSteak BowlBottled WaterChips and GuacamoleCarnitas BurritoChicken BurritoCanned Soft DrinkSteak BowlVeggie BurritoBottled WaterChicken BurritoChicken BowlChipsBottled WaterChicken BurritoChips and Tomatillo Red Chili SalsaChicken BowlChicken BurritoChicken BowlChicken Burrito6 Pack Soft DrinkChips and GuacamoleChicken BurritoChicken Salad BowlChipsChicken Salad BowlChicken BowlChips and GuacamoleSteak BurritoChips and Fresh Tomato SalsaSteak BurritoCarnitas Soft TacosSteak BurritoChips and GuacamoleSteak BurritoVeggie BowlChips and Fresh Tomato SalsaChipsChicken BurritoChicken BurritoChicken BowlChipsBottled WaterBarbacoa BurritoChips and GuacamoleChicken BurritoSteak BurritoCanned SodaChicken BurritoChips and GuacamoleCanned Soft DrinkSteak Soft TacosChips and Roasted Chili-Corn SalsaChips and GuacamoleChicken BurritoChicken BurritoSteak Soft TacosBottled WaterChicken BowlSteak BowlChicken BowlChips and GuacamoleSteak BurritoChicken Soft TacosChips and GuacamoleChicken BurritoChicken BurritoSteak BurritoVeggie Salad BowlChicken BowlChicken BurritoChicken BurritoChicken BurritoChips and Tomatillo-Green Chili SalsaNantucket NectarChicken BowlCanned Soft DrinkChips and Fresh Tomato SalsaSteak BowlBottled WaterChicken BowlSide of ChipsChips and GuacamoleChicken BurritoChicken BowlChicken BowlChicken BowlChips and GuacamoleSteak BurritoVeggie BurritoChicken BowlChicken BowlChips and GuacamoleSteak BowlChicken BurritoChicken BowlChicken BurritoChicken BurritoChips and GuacamoleChicken BowlChips and GuacamoleCanned Soft DrinkChicken BowlChicken BowlBottled WaterChipsCarnitas BowlSteak BurritoSteak BowlSteak BowlSteak BowlBottled WaterChicken BurritoCarnitas Soft TacosCanned Soft DrinkChicken BurritoChipsSteak BurritoCanned SodaChips and GuacamoleChicken BurritoSteak BowlChipsChicken BowlChicken BurritoCanned Soft DrinkSteak BowlChipsSteak BurritoChicken BurritoVeggie BurritoVeggie BurritoChips and GuacamoleChicken BurritoSide of ChipsVeggie Salad BowlChicken Salad BowlSteak BurritoChicken Soft TacosSteak Crispy TacosChicken BowlChips and Tomatillo Red Chili SalsaChips and GuacamoleSteak Crispy Tacos6 Pack Soft DrinkCarnitas BowlSteak BowlCanned SodaSteak BurritoSteak BurritoChicken BurritoCarnitas BurritoChicken BowlChipsBottled WaterBarbacoa BurritoSide of ChipsChicken BowlCanned Soft DrinkCarnitas Soft TacosBarbacoa Soft TacosChicken Soft TacosSteak Soft TacosChips and GuacamoleChipsBarbacoa BowlChicken BurritoChicken BurritoChicken BowlBarbacoa BurritoChipsBarbacoa Soft TacosChicken BowlChicken BurritoChipsCanned Soft DrinkChicken BowlCanned Soft DrinkChicken BowlChips and Fresh Tomato SalsaCarnitas BowlVeggie Salad BowlCarnitas BurritoChips and GuacamoleSteak BowlSteak BowlCanned Soft DrinkSteak BowlChipsSteak BowlBottled WaterCanned Soft DrinkVeggie BurritoChips and Tomatillo Red Chili SalsaChicken BowlChicken Soft TacosChicken Soft TacosChicken BurritoChicken BurritoChicken Soft TacosChicken BurritoChipsCanned Soft DrinkChicken BurritoChicken BowlChipsBottled WaterChicken BowlChips and Tomatillo Green Chili SalsaCanned Soft DrinkCarnitas Soft TacosCarnitas Soft TacosChicken BurritoChips and Roasted Chili-Corn SalsaChicken BurritoChips and GuacamoleSteak BurritoChicken BowlChicken BowlChicken BowlSteak BowlChicken BowlSteak BurritoChicken BurritoChicken BowlChicken BowlChicken Salad BowlSteak BowlChicken BurritoSteak BowlChicken BowlSteak BowlChicken BurritoChicken BowlChicken BowlBarbacoa BurritoChicken BurritoSteak BowlVeggie BowlSteak BurritoSteak BurritoChicken BowlChips and Tomatillo Red Chili SalsaCanned Soft DrinkSteak BowlBottled WaterChicken BowlChicken BowlChicken BowlBottled WaterChipsChicken BowlSteak BowlBottled WaterChicken BowlChipsBottled WaterChicken BurritoChips and Roasted Chili Corn SalsaCanned Soft DrinkCanned Soft DrinkSteak BurritoChips and GuacamoleChicken BowlChicken BurritoChips and GuacamoleChicken BowlChipsCanned Soft DrinkChicken BowlSide of ChipsChicken BurritoCanned Soft DrinkChicken BowlCanned Soft DrinkChicken BowlChicken BurritoChicken BowlChicken BurritoSide of ChipsCarnitas BowlSteak BurritoChicken BowlChips and Roasted Chili-Corn SalsaBarbacoa BowlChips and Roasted Chili Corn Salsa6 Pack Soft DrinkChicken Crispy TacosVeggie BowlSteak BurritoChicken BowlNantucket NectarSteak BurritoNantucket NectarCarnitas BurritoChicken BowlVeggie Soft TacosChips and GuacamoleSteak BowlSteak BowlChicken Burrito6 Pack Soft DrinkSteak BurritoChips and Fresh Tomato SalsaVeggie BowlChicken BurritoSteak BurritoChips and GuacamoleChicken BowlChipsBarbacoa BurritoBarbacoa BowlBarbacoa BurritoSteak Salad BowlSteak BowlChicken Salad BowlCarnitas BowlSteak BurritoChicken BowlChicken BowlChicken BowlSide of ChipsBottled WaterChicken BowlBottled WaterChicken BurritoChicken BurritoSteak BowlBottled WaterChicken BurritoSteak Crispy TacosChicken Salad BowlChicken BurritoChipsChicken Crispy TacosChicken Salad BowlChipsVeggie BurritoChips and Tomatillo Red Chili SalsaChips and GuacamoleChicken BowlChicken BowlNantucket NectarChips and Fresh Tomato SalsaSteak BowlChipsBarbacoa Soft TacosSteak BurritoChips and Fresh Tomato SalsaChicken BowlSteak BurritoSteak Salad BowlCanned Soft DrinkBottled WaterBarbacoa Salad BowlCanned SodaVeggie BowlChips and Fresh Tomato SalsaChicken BowlChicken BurritoChicken BowlChicken BowlSteak Soft TacosChicken BowlChicken BowlChips and GuacamoleCarnitas BurritoChicken Soft TacosChicken BurritoSteak BowlBottled WaterBottled WaterChicken BowlSteak Crispy TacosBarbacoa BurritoChicken BurritoChips and GuacamoleChicken Soft TacosChipsSteak BurritoChicken BurritoChips and GuacamoleSide of ChipsVeggie BowlSteak BowlSteak BowlSteak BurritoChips and GuacamoleChicken BowlChips and GuacamoleChicken BowlCanned Soft DrinkSteak BurritoChips and GuacamoleVeggie BurritoChicken BowlChicken BowlSteak BurritoChicken BurritoChicken BowlCarnitas BowlChips and GuacamoleCanned Soft DrinkChicken BurritoSteak BurritoCanned SodaChips and Fresh Tomato SalsaChicken BowlChipsChicken BowlChips and GuacamoleChicken BurritoSide of ChipsChicken BurritoSide of ChipsSteak BurritoChips and GuacamoleChicken BowlChicken Soft TacosChicken Crispy TacosSteak BurritoChicken Soft TacosChicken BowlChicken BowlChips and Fresh Tomato SalsaCanned Soft DrinkChicken Soft TacosChicken Crispy TacosSteak BurritoBarbacoa BowlChicken BowlSteak BurritoCanned SodaBarbacoa BurritoSide of ChipsCarnitas BurritoCanned Soft DrinkChicken BowlChicken BurritoChipsCanned Soft DrinkChicken Soft TacosVeggie BowlSteak BowlChicken BurritoChicken BowlChicken BurritoChicken BurritoChipsCarnitas BowlCanned SodaSide of ChipsChicken BowlChipsCanned Soft DrinkChicken BowlCanned SodaBottled WaterSide of ChipsCarnitas BowlChicken BowlChicken Crispy TacosChips and Tomatillo-Red Chili SalsaCarnitas Soft TacosCanned Soft DrinkCanned Soft DrinkCanned Soft DrinkChicken BowlChicken Crispy TacosCarnitas BowlChips and GuacamoleChicken BowlChips and GuacamoleSteak BurritoCanned SodaChicken Salad BowlChipsVeggie BowlSteak BowlCarnitas BowlVeggie BowlChicken BowlSteak BowlChips and Fresh Tomato SalsaChicken BurritoChips and GuacamoleChicken BowlChips and Tomatillo Red Chili SalsaChips and Tomatillo Red Chili SalsaChicken BowlBottled WaterChicken BurritoChicken BowlCarnitas BurritoChicken BowlChips and GuacamoleCanned SodaBarbacoa BurritoCarnitas BurritoChicken BurritoChips and GuacamoleChicken BurritoChicken BowlChips and GuacamoleChicken BowlCanned Soft DrinkChips and GuacamoleSteak BurritoChicken BurritoChicken BowlChicken BurritoChips and GuacamoleSteak Salad BowlCanned Soft DrinkChips and Roasted Chili Corn SalsaChicken BowlChicken Crispy TacosVeggie BurritoChicken BowlChipsChips and GuacamoleChicken BowlCarnitas Salad BowlChicken BowlChicken BurritoChips and GuacamoleChicken BowlChicken Salad BowlChicken BowlChicken BurritoChicken BurritoIzzeBarbacoa BowlChicken BowlChips and Tomatillo Red Chili SalsaBottled WaterSteak Salad BowlSteak BurritoChips and Fresh Tomato SalsaBottled WaterChicken BowlSteak Crispy TacosChicken BowlChipsBottled WaterChicken BurritoIzzeSteak BowlCanned Soft DrinkChicken BurritoVeggie BurritoCanned Soft DrinkChicken BurritoChips and Tomatillo Green Chili SalsaCanned Soft DrinkChicken BurritoSteak BowlChips and GuacamoleChicken BowlCarnitas BowlChicken BurritoChicken BurritoChips and GuacamoleChicken Crispy TacosChicken BurritoNantucket NectarSteak Soft TacosChips and Tomatillo Green Chili SalsaChips and Tomatillo-Green Chili SalsaChips and Fresh Tomato SalsaChips and GuacamoleSteak BurritoBarbacoa BurritoChicken Soft TacosChicken Soft TacosChicken BowlChicken BowlChips and Tomatillo Red Chili SalsaChips and GuacamoleBarbacoa BowlChicken Crispy TacosChips and GuacamoleChicken BurritoChicken Soft TacosChicken BowlVeggie BowlChips and GuacamoleSteak BurritoChicken BurritoSteak BowlChips and GuacamoleBottled WaterCanned Soft DrinkChicken BurritoChicken BurritoVeggie Salad BowlChicken BowlVeggie BurritoCarnitas BurritoChicken BurritoChips and Fresh Tomato SalsaCanned Soft DrinkChicken BurritoBottled WaterChicken BurritoChips and GuacamoleSteak BurritoChicken Soft TacosChicken BurritoCarnitas BurritoChicken BurritoChips and GuacamoleBottled WaterChicken BowlChicken BowlChicken BurritoSide of ChipsChicken BowlChipsBarbacoa BurritoChipsBottled WaterChicken BowlSteak BowlChips6 Pack Soft DrinkSteak BurritoCarnitas Soft TacosChicken BowlChicken BowlBarbacoa BurritoCarnitas BowlSteak BurritoChicken BurritoChicken BurritoChipsCanned Soft DrinkCarnitas BowlSteak BowlChicken BurritoChicken Salad BowlChips and Fresh Tomato SalsaChicken BurritoChips and GuacamoleSteak Soft TacosCarnitas BowlChips and GuacamoleChicken BurritoChips and GuacamoleChicken BurritoChicken BowlChipsSteak Salad BowlChicken BowlChicken BowlChips and Tomatillo Red Chili SalsaBottled WaterChicken BurritoChipsChicken BowlChicken BowlBarbacoa BowlSteak BowlChipsChicken BurritoSteak BowlBottled WaterVeggie BurritoVeggie SaladChicken BurritoIzzeSteak BurritoChicken BowlChips and GuacamoleBarbacoa BowlChipsChicken Soft TacosChips and GuacamoleCanned Soft DrinkSteak BurritoCanned SodaChicken BurritoChicken BurritoChicken BowlChips and GuacamoleVeggie BowlCanned SodaChicken BurritoChips and Fresh Tomato SalsaChicken BowlChicken BurritoChips and Fresh Tomato SalsaBarbacoa Soft TacosChicken BowlChipsSteak BurritoChips and GuacamoleChips and GuacamoleBarbacoa BurritoBarbacoa Crispy TacosSteak BowlChipsCarnitas BurritoChicken BurritoChicken Burrito6 Pack Soft DrinkChicken BowlVeggie BowlChips and Fresh Tomato SalsaChicken BurritoChips and GuacamoleBottled WaterBarbacoa BowlChipsChicken Soft TacosVeggie BowlSteak Salad BowlChips and GuacamoleBottled WaterCanned Soft DrinkChicken BowlChicken BowlChips and GuacamoleChicken BowlSteak Crispy TacosChicken BowlCanned SodaBottled WaterSide of ChipsSteak BurritoNantucket NectarSteak BurritoSide of ChipsChicken BurritoSteak BurritoBottled WaterSteak BurritoSteak BurritoCanned SodaChicken BowlSide of ChipsChips and GuacamoleChicken Soft TacosCanned SodaChicken BurritoChicken BurritoSteak BurritoChicken BurritoSteak BurritoChicken BowlNantucket NectarSteak BurritoSteak Soft TacosChips and Fresh Tomato SalsaSteak Crispy TacosChicken BowlSteak Soft TacosSteak BurritoSteak BurritoChips and GuacamoleChips and Tomatillo-Green Chili SalsaVeggie BurritoCanned SodaVeggie Soft TacosSteak BurritoNantucket NectarChicken Soft TacosCanned Soft DrinkSteak BowlChips and GuacamoleChicken Salad BowlChips and Guacamole6 Pack Soft DrinkChicken BurritoSteak Crispy TacosChicken Salad BowlChicken BowlChicken BurritoCanned Soft DrinkChicken BowlSteak BowlChips and GuacamoleCanned Soft DrinkChicken BurritoCanned Soft DrinkChipsSteak Crispy TacosSteak BurritoChicken BowlChips and Tomatillo Red Chili SalsaCanned Soft DrinkSteak Soft TacosBottled WaterBottled WaterChicken BurritoChicken Salad BowlCarnitas BurritoSteak BurritoSide of ChipsCarnitas BowlSide of ChipsChicken BurritoChips and GuacamoleIzzeSteak BowlChipsSteak BurritoChips and Fresh Tomato SalsaChicken BowlChicken Salad BowlCarnitas Soft TacosChicken BowlSteak BurritoChicken BurritoChips and GuacamoleVeggie BowlCanned Soft DrinkCanned SodaCanned SodaChips and Roasted Chili-Corn SalsaChicken Crispy TacosSteak BurritoChips and Fresh Tomato SalsaVeggie BurritoChicken Crispy TacosCarnitas BowlCarnitas BowlChicken BowlChips and GuacamoleChipsChicken BowlChicken BowlChips and GuacamoleSteak BowlBottled WaterSteak BowlChicken BurritoBottled WaterCarnitas BowlChips and GuacamoleChips and GuacamoleSteak BowlChipsChicken BowlChicken Soft TacosChips and GuacamoleChicken BurritoBarbacoa BurritoChipsChicken BowlChicken Salad BowlVeggie BowlChicken BowlSteak BowlChicken BowlSteak BurritoSide of ChipsChicken BowlSteak BurritoChicken BurritoChips and GuacamoleNantucket NectarChicken BurritoCarnitas BurritoChicken BowlChicken BurritoSteak BurritoChicken BowlChicken BowlSteak Salad BowlChicken BowlChicken BowlSide of ChipsCanned SodaBarbacoa BurritoSteak Crispy TacosSteak BurritoChicken Crispy TacosBarbacoa BurritoChips and Roasted Chili Corn SalsaChicken SaladChips and GuacamoleSteak BowlChicken BowlChips and Tomatillo-Red Chili SalsaChicken BowlSteak BowlChicken BurritoSteak BowlSteak BowlChicken BurritoCanned Soft DrinkCarnitas BowlBottled WaterChicken BowlChips and GuacamoleChicken BowlChipsBarbacoa BurritoChicken BowlChicken Salad BowlChicken Salad BowlChicken BurritoChips and GuacamoleCanned Soft DrinkSteak BurritoSteak BurritoCanned Soft DrinkVeggie SaladSteak BurritoBottled WaterChicken BowlChips and GuacamoleChicken Salad BowlSteak BowlChicken BowlCarnitas BowlSide of ChipsCanned SodaSteak BowlBarbacoa BurritoChicken Bowl6 Pack Soft DrinkChicken BowlChicken BowlChips and GuacamoleSteak BurritoSide of ChipsSteak BowlBarbacoa BowlCanned Soft DrinkChicken BowlCanned SodaBottled WaterSide of ChipsChicken BowlChips and Roasted Chili-Corn SalsaBarbacoa BowlCanned Soft DrinkChicken BurritoSide of ChipsVeggie BurritoSide of ChipsBarbacoa BurritoChips and GuacamoleChicken Salad BowlChicken BowlChips and GuacamoleVeggie BurritoVeggie BurritoChicken BowlChicken BowlChips and GuacamoleChicken Crispy TacosBottled WaterChicken Soft TacosChips and GuacamoleChicken SaladChips and GuacamoleSteak BowlChips and GuacamoleChicken BurritoChips and GuacamoleChicken BowlChips and Tomatillo-Red Chili SalsaChicken BowlChips and Roasted Chili-Corn SalsaChips and GuacamoleVeggie BurritoCanned Soft DrinkChicken BowlChips and GuacamoleBarbacoa BurritoChips and GuacamoleCanned SodaSteak BurritoChips and GuacamoleChicken BowlChips and GuacamoleCarnitas Soft TacosChicken BowlChicken Salad BowlChicken BowlChicken Soft TacosChicken Crispy TacosChicken BowlChicken BowlSteak Crispy TacosChicken BowlChicken Crispy TacosChicken Crispy TacosChips and GuacamoleChicken BowlSteak BowlVeggie BowlSteak BowlChips and GuacamoleSteak Crispy TacosChips and Fresh Tomato SalsaChicken BowlSide of ChipsCanned Soft DrinkChips and GuacamoleSteak BowlBottled WaterChicken BowlSteak BurritoVeggie BowlChipsChicken BurritoSteak Salad BowlChicken Crispy TacosChips and GuacamoleChicken BowlChips and Fresh Tomato SalsaCarnitas BowlSide of ChipsSteak Soft TacosChips and GuacamoleChicken BowlSide of ChipsSteak BurritoChips and Fresh Tomato SalsaChicken BurritoSide of ChipsVeggie BurritoChips and GuacamoleCarnitas Salad BowlSteak BurritoChicken Salad BowlChicken BurritoChips and GuacamoleSteak Salad BowlChips and GuacamoleChips and GuacamoleChicken BurritoChicken BowlChicken BurritoChipsChicken BurritoCanned Soft DrinkSteak BurritoChicken BurritoChips and Guacamole6 Pack Soft DrinkChicken BowlSteak BurritoCanned Soft DrinkChips and Tomatillo Red Chili SalsaChips and GuacamoleChicken BurritoChicken BurritoSteak Burrito6 Pack Soft DrinkSteak BowlChips and Tomatillo-Green Chili SalsaSteak BowlCanned SodaVeggie BowlChips and GuacamoleVeggie BowlBarbacoa BurritoSide of ChipsChicken BowlCanned SodaSteak BurritoSteak BowlChips and Fresh Tomato SalsaBarbacoa BurritoSide of ChipsChips and GuacamoleCanned Soft DrinkChicken Soft TacosSteak BurritoCanned SodaVeggie SaladVeggie BurritoVeggie BowlChips and GuacamoleChicken Salad BowlChicken BurritoSteak BurritoChicken BurritoChips and Tomatillo-Red Chili SalsaChicken BowlChips and GuacamoleChicken BowlChicken Salad BowlSteak BurritoChicken BowlChicken BowlChicken BowlChicken BowlSteak BurritoChicken BowlChips and GuacamoleBarbacoa Soft TacosChicken BowlCanned Soft DrinkChipsSteak BurritoChips and GuacamoleSteak BowlChipsChicken Crispy TacosSteak BurritoChips and Roasted Chili-Corn SalsaBarbacoa BowlSteak BowlSteak BurritoChips and Fresh Tomato SalsaSteak BurritoBottled WaterSteak BowlChips and GuacamoleBottled WaterSteak BurritoSteak Soft TacosChips and Roasted Chili-Corn SalsaChicken BowlBarbacoa Salad BowlChipsCanned Soft DrinkBarbacoa Soft TacosChips and GuacamoleChicken BowlChicken BowlChicken BowlChips and GuacamoleChicken BowlChipsChips and GuacamoleChicken BowlCanned SodaChips and GuacamoleVeggie Salad BowlChicken BowlChicken BowlChips and Fresh Tomato SalsaSteak BurritoChips and Fresh Tomato SalsaChicken BowlChipsChicken BurritoChips and Fresh Tomato SalsaCanned Soft DrinkVeggie BurritoVeggie BurritoChicken BurritoSteak BurritoSteak BowlChicken BowlChicken Crispy TacosChips and GuacamoleCanned Soft DrinkChicken Soft TacosCarnitas BowlBarbacoa BowlSide of ChipsSteak BurritoSide of ChipsChicken BowlCanned Soft DrinkSteak BurritoCarnitas BurritoBarbacoa BowlCanned SodaChicken BurritoChicken BurritoChips and Tomatillo Green Chili SalsaCanned Soft DrinkChicken Salad BowlCanned Soft DrinkChicken Salad BowlChicken BowlChipsCanned Soft DrinkChicken BowlChips and GuacamoleChicken BurritoChips and Roasted Chili-Corn SalsaChicken BowlChips and Tomatillo-Red Chili SalsaChicken BurritoChips and GuacamoleSteak BurritoVeggie BurritoVeggie BowlBarbacoa BurritoChicken BowlSteak BowlChicken Soft TacosChips and GuacamoleBottled WaterChicken BowlChicken BowlChicken BowlChicken BowlChips and GuacamoleSteak BowlChips and GuacamoleChicken BurritoChicken Soft TacosChipsChips and Tomatillo Red Chili SalsaVeggie Salad BowlBottled WaterSteak BurritoChicken BurritoChips and GuacamoleChicken BowlChicken BowlChicken BurritoBarbacoa BurritoChicken BowlChipsCanned Soft DrinkChicken BowlChipsCanned Soft DrinkCarnitas Soft TacosChicken Crispy TacosChicken Salad BowlChicken BowlCanned Soft DrinkSteak BurritoBottled WaterChicken Salad BowlChicken BurritoChips and GuacamoleNantucket NectarChicken BurritoChips and Tomatillo-Green Chili SalsaBarbacoa Crispy TacosBottled WaterChicken BowlChicken Crispy TacosChicken BowlChicken BowlChipsChicken BowlChipsCanned Soft DrinkChicken BurritoChicken BurritoSide of ChipsSteak BowlSteak BowlBottled WaterSteak BowlCarnitas BowlSteak BurritoCarnitas Soft TacosCarnitas Soft TacosChicken BurritoChicken BowlChicken BurritoBarbacoa BurritoChicken BowlChicken BurritoChipsCanned Soft DrinkSteak Salad BowlVeggie BurritoSteak BurritoChips and GuacamoleSteak BowlSteak BowlBarbacoa Salad BowlChicken BowlChips and Tomatillo-Red Chili SalsaChicken BowlSide of ChipsBottled WaterSteak BurritoChicken SaladCanned SodaChicken BowlCanned Soft DrinkVeggie BurritoNantucket NectarChicken BurritoChips and GuacamoleChicken BurritoChicken Crispy TacosChicken BurritoSide of ChipsChicken BurritoBarbacoa BowlSteak BurritoSteak BurritoCanned Soft DrinkChicken Salad BowlChicken Salad BowlChicken BurritoChicken BowlChicken BowlCanned Soft DrinkCanned Soft DrinkCanned Soft DrinkChicken Burrito6 Pack Soft DrinkSteak BurritoBarbacoa BurritoChips and GuacamoleChicken BowlBarbacoa BowlChicken BowlChicken BowlVeggie BowlChips and Roasted Chili-Corn SalsaSteak BurritoChicken BurritoChicken BurritoChips and Tomatillo Green Chili SalsaBottled WaterVeggie BurritoChips and Fresh Tomato SalsaSteak Crispy TacosChips and Fresh Tomato SalsaSteak BowlChicken BowlChicken Salad BowlChicken Salad BowlVeggie BowlChips and GuacamoleChicken BurritoCanned Soft DrinkChicken BurritoChips and Fresh Tomato SalsaCanned Soft DrinkSteak BurritoBarbacoa BurritoCarnitas Burrito6 Pack Soft DrinkChicken BowlChicken BowlSide of ChipsChicken BurritoChips and GuacamoleChicken BowlChips and Tomatillo Red Chili SalsaChips and Tomatillo Red Chili SalsaChicken BurritoSteak BowlSteak BurritoCanned SodaChicken BurritoChips and GuacamoleCanned Soft DrinkChicken BowlSteak Crispy TacosChicken BowlCarnitas BurritoChicken Salad BowlBottled WaterChicken BowlChipsChicken BurritoChicken BurritoSteak BowlChips and Roasted Chili Corn SalsaChicken BurritoChicken BowlSteak Soft TacosChicken BurritoSteak BurritoChicken Soft TacosChicken BowlChicken BowlCanned Soft DrinkChicken BowlBottled WaterChipsChicken BurritoChicken BurritoChicken BowlChicken BurritoChicken BurritoChicken BowlChips and GuacamoleVeggie BurritoVeggie BurritoVeggie SaladChicken Crispy TacosSteak Soft TacosSide of ChipsChips and Fresh Tomato SalsaCanned SodaCanned SodaVeggie BurritoChips and Tomatillo Green Chili SalsaCarnitas BowlChicken BowlChips and Tomatillo Red Chili SalsaCanned Soft DrinkChicken BowlChipsSteak BowlChips and GuacamoleChicken BurritoChicken BowlChicken BurritoChips and GuacamoleCanned Soft DrinkSteak Salad BowlChicken BowlChipsCanned Soft DrinkChicken BowlCanned SodaBottled WaterSide of ChipsSteak BurritoSteak SaladSteak Crispy TacosChips and Fresh Tomato SalsaChicken BowlChips and Fresh Tomato SalsaChicken Salad BowlChicken BowlChicken BowlChicken BowlSide of ChipsBarbacoa BurritoChips and Tomatillo Green Chili SalsaChicken BowlChicken BowlChicken BurritoSteak BurritoChicken Soft TacosChicken BurritoChicken BurritoChicken BurritoChips and Tomatillo Green Chili SalsaBottled WaterCanned Soft DrinkCarnitas BowlChips and GuacamoleSteak BurritoChicken BurritoCarnitas BurritoSteak BurritoChips and GuacamoleSteak BurritoSide of ChipsChips and GuacamoleSteak BurritoChicken BowlChips and GuacamoleChipsChicken BurritoSteak BurritoChips and GuacamoleVeggie BurritoCanned Soft DrinkChicken BurritoChicken BowlBarbacoa Salad BowlBarbacoa BowlBarbacoa Soft TacosBarbacoa BowlChicken BowlChipsBottled WaterSteak BurritoChips and GuacamoleChips and GuacamoleSteak BurritoChicken BurritoChips and Tomatillo-Red Chili SalsaCanned Soft DrinkChips and Tomatillo Green Chili SalsaChicken BowlChips and Tomatillo Green Chili SalsaSteak BurritoSteak BurritoSteak BurritoChicken BurritoChipsSteak BurritoSteak Soft TacosNantucket NectarChicken BurritoChicken Soft TacosChips and Tomatillo-Green Chili SalsaChicken BurritoCanned SodaCanned SodaChicken BurritoChicken Salad BowlCanned Soft DrinkSteak BowlBottled WaterChicken BowlChipsBottled WaterChips and GuacamoleChicken BowlChicken BowlChipsBottled WaterChicken BurritoChicken BowlCanned SodaChicken Crispy TacosChipsBottled WaterChips and GuacamoleSteak Soft TacosChips and Fresh Tomato SalsaBottled Water6 Pack Soft DrinkVeggie BurritoChicken BurritoSteak BurritoBottled WaterChicken BowlSteak Crispy TacosChicken BowlChips and Fresh Tomato SalsaCanned Soft DrinkChicken Soft TacosChips and GuacamoleChicken BowlChicken Burrito6 Pack Soft DrinkChicken BurritoSteak BurritoVeggie BowlChicken BowlCarnitas BurritoCarnitas Soft TacosChicken Soft TacosSteak BurritoChicken Salad BowlChips and Tomatillo Green Chili SalsaSteak Soft TacosChips and Tomatillo-Green Chili SalsaSteak BurritoChips and Roasted Chili-Corn SalsaChicken BurritoChips and GuacamoleChicken Crispy TacosBarbacoa Burrito6 Pack Soft DrinkChicken BurritoChicken Soft TacosChicken BurritoChicken Soft TacosChicken Crispy TacosChicken BowlChicken Salad BowlChipsCanned Soft DrinkSteak BurritoChicken BurritoChipsBottled WaterChicken BowlChipsSteak BurritoChips and Tomatillo-Red Chili SalsaChicken BowlChicken BowlChipsChicken BowlChicken BowlChicken Salad BowlChips and Tomatillo-Green Chili SalsaChicken Soft TacosVeggie BowlChips and Tomatillo-Red Chili SalsaSteak BurritoChips and Fresh Tomato SalsaChicken BowlChicken BowlChips and GuacamoleSteak BowlBottled WaterSteak BurritoIzzeSteak BurritoChips and GuacamoleChicken BowlChicken BowlChicken BurritoChicken BowlCanned Soft DrinkVeggie BowlSteak BurritoChips and GuacamoleChicken BowlChicken Salad BowlSteak BurritoCanned SodaChicken BowlChicken BowlSide of ChipsChicken Salad BowlCarnitas Soft TacosChicken BurritoChicken BowlChips and GuacamoleChicken Burrito6 Pack Soft DrinkSteak Crispy TacosCarnitas Soft TacosBarbacoa BurritoChicken BurritoChips and GuacamoleCanned Soft DrinkChicken BowlSteak BowlChicken BurritoSteak BowlSteak BurritoSteak Soft TacosChicken Salad BowlSteak BowlChicken BowlChicken BowlSteak Soft TacosCarnitas BowlChicken Salad BowlSteak BowlChicken BurritoCanned SodaCanned SodaChicken BowlCanned SodaSide of ChipsChicken BowlCanned Soft DrinkChicken BowlChipsBottled WaterChicken BowlSide of ChipsCanned Soft DrinkChicken BowlChips and Tomatillo Red Chili SalsaChicken SaladChips and GuacamoleChicken BurritoChicken SaladChicken BurritoVeggie BowlChipsBottled WaterSteak BowlSteak BurritoCanned SodaChicken BowlChicken BowlChicken BowlCanned Soft DrinkVeggie BowlChips and GuacamoleChips and GuacamoleCanned Soft DrinkCarnitas Salad BowlCarnitas SaladSteak BurritoChicken BurritoChips and GuacamoleSteak BowlVeggie BurritoChips and GuacamoleCarnitas BurritoChips and GuacamoleChips and GuacamoleSteak BurritoChicken BurritoChips and GuacamoleChicken BurritoChicken BurritoSteak Burrito6 Pack Soft DrinkChicken BurritoChips and GuacamoleChicken BurritoChips and Fresh Tomato SalsaBottled WaterChicken BurritoChicken BowlChicken BurritoChips and GuacamoleVeggie BurritoChicken BowlSteak Crispy TacosChicken BurritoChips and Roasted Chili Corn SalsaChicken BowlChips and GuacamoleBottled WaterCanned Soft DrinkChips and Fresh Tomato SalsaBarbacoa BurritoSteak BowlChips and Tomatillo-Green Chili Salsa6 Pack Soft DrinkChicken Salad BowlChips and GuacamoleCarnitas BowlCanned SodaChicken BurritoBarbacoa BurritoSteak Soft TacosChicken Salad BowlChicken Salad BowlSteak BurritoChicken Salad BowlChicken BowlCanned Soft DrinkCarnitas BurritoChips and GuacamoleSteak Burrito6 Pack Soft DrinkSteak BurritoSteak BowlBarbacoa BurritoChips and Tomatillo-Green Chili SalsaChicken BowlChicken BowlBarbacoa BurritoCarnitas Soft TacosCanned Soft DrinkChicken Crispy TacosChips and Tomatillo Green Chili SalsaSteak BurritoChipsVeggie BowlVeggie BurritoBarbacoa BowlChicken BurritoChicken BurritoChips and GuacamoleChips and Fresh Tomato SalsaBarbacoa BurritoChicken BurritoChicken BurritoChicken BowlChips and GuacamoleChicken BurritoChicken Soft TacosSteak BurritoChicken Burrito6 Pack Soft DrinkChips and Fresh Tomato SalsaChicken BowlChicken BowlChipsSteak BurritoSteak BurritoChicken BowlChicken BurritoNantucket NectarSide of ChipsVeggie BurritoChicken BowlChips and GuacamoleChicken BowlChips and GuacamoleChicken BurritoChicken BowlChicken BurritoChipsSteak BowlChips and GuacamoleChicken BurritoSteak BurritoChicken Soft TacosSteak BurritoBottled WaterChicken BowlChipsSteak BowlCanned SodaChips and GuacamoleChicken BowlBottled WaterSteak Soft TacosChips and Tomatillo-Green Chili SalsaSteak BurritoBottled WaterChicken Bowl6 Pack Soft DrinkChips and GuacamoleVeggie BowlChicken BurritoChips and GuacamoleCanned Soft DrinkChicken BurritoCarnitas BurritoChips and GuacamoleSteak BurritoChicken Bowl6 Pack Soft DrinkSide of ChipsChicken Soft TacosVeggie Soft TacosCarnitas Crispy TacosChicken Crispy TacosChicken BowlChicken BowlChicken BowlChicken BowlChicken BurritoCanned SodaSide of ChipsCanned Soft DrinkSteak Soft TacosChips and Tomatillo Green Chili SalsaBarbacoa BurritoChicken BurritoChicken BurritoChips and Roasted Chili-Corn SalsaChicken BurritoChips and Fresh Tomato SalsaChicken BowlSteak BurritoSteak Soft TacosSide of ChipsVeggie BurritoChicken BowlChicken BurritoChicken BowlChips and GuacamoleChips and GuacamoleChicken BurritoChicken BurritoChips and GuacamoleChicken BowlChipsBottled WaterBottled WaterSteak BowlCanned SodaChicken BowlChips and GuacamoleChicken BowlChicken BowlChicken BowlChipsChicken BowlSide of ChipsBottled WaterCanned SodaChicken BowlChipsBottled WaterCarnitas Soft TacosChicken BurritoChips and GuacamoleChicken BowlChipsCanned Soft DrinkSteak Crispy TacosChips and Fresh Tomato SalsaChicken BurritoChips and GuacamoleSteak Crispy TacosChips and Fresh Tomato SalsaChips and GuacamoleSteak BurritoVeggie BurritoChicken BurritoChicken BurritoChicken BurritoSteak BurritoChicken BurritoChips and GuacamoleChicken BurritoCanned Soft DrinkSteak BurritoChicken BurritoChips and GuacamoleChips and Fresh Tomato SalsaChicken BurritoChicken BowlChicken BurritoSteak BurritoSteak BowlSteak BurritoCanned Soft DrinkChicken Salad BowlChips and Tomatillo Green Chili SalsaChicken BowlChicken BowlChips and Fresh Tomato SalsaChicken BowlChipsBottled WaterChicken SaladChips and Fresh Tomato SalsaSteak BowlChipsCanned Soft DrinkChicken BurritoSteak BurritoChicken SaladChicken BurritoChicken BurritoChips and Tomatillo Green Chili SalsaCanned Soft DrinkSteak Crispy TacosChips and Tomatillo Green Chili SalsaChicken BowlChicken Salad BowlChicken BowlChicken BowlSteak BurritoBottled WaterBarbacoa BurritoSteak BurritoChips and GuacamoleChicken BowlChips and GuacamoleChips and Tomatillo-Green Chili SalsaCanned SodaSteak BurritoChicken BowlChicken BowlChicken Salad BowlChicken BowlSteak Crispy TacosChips and GuacamoleCanned Soft DrinkChicken Soft TacosVeggie BurritoNantucket NectarChicken BurritoSteak BowlChips and GuacamoleCanned Soft DrinkChicken BowlChipsChips and GuacamoleCanned Soft DrinkSteak BowlChips and GuacamoleChicken Soft TacosChipsSteak BowlSteak BurritoCanned Soft DrinkChicken Salad BowlSteak Salad BowlChicken BurritoSteak Soft TacosBarbacoa BurritoChips and Tomatillo Red Chili SalsaCarnitas BurritoChips and GuacamoleCanned Soft DrinkCarnitas BowlChicken BowlBarbacoa BowlBottled WaterChicken BowlChips and GuacamoleSteak BowlCanned SodaSteak Soft TacosChips and Fresh Tomato SalsaSteak BowlSide of ChipsBarbacoa BowlSide of ChipsChicken BowlChips and GuacamoleChicken BowlChicken BurritoChips and GuacamoleChicken BowlChicken Salad BowlChips and Fresh Tomato SalsaBottled WaterChicken BurritoSteak BurritoBottled WaterSide of ChipsChicken BowlChicken BurritoChips and Fresh Tomato SalsaCanned Soft DrinkChicken BowlChips and GuacamoleChicken BowlNantucket NectarChicken Salad BowlVeggie BowlChipsSteak BowlVeggie BurritoVeggie SaladChicken Salad BowlBottled WaterChicken BowlChips and Tomatillo-Red Chili SalsaSteak BurritoChips and Fresh Tomato SalsaSteak BurritoChips and GuacamoleChicken BurritoSteak BurritoCarnitas Soft TacosChicken BowlChips and GuacamoleCanned Soft DrinkChicken BowlChips and GuacamoleSteak BurritoChips and Fresh Tomato SalsaCanned Soft DrinkChips and GuacamoleChicken BowlCanned Soft DrinkBottled WaterSteak BurritoVeggie Salad BowlChicken BowlChicken BowlChicken BowlSteak BurritoChicken BurritoChips and GuacamoleChicken Crispy TacosSteak BurritoChicken Soft TacosChicken Soft TacosChips and GuacamoleChicken BowlCanned Soft DrinkChipsChicken BowlChicken BurritoChipsChicken BowlCanned Soft DrinkChips and Tomatillo Green Chili SalsaSteak Soft TacosChips and Tomatillo Red Chili SalsaChips and GuacamoleChicken BowlVeggie BurritoBarbacoa BowlCarnitas Soft TacosBottled WaterSteak BurritoCanned Soft DrinkBarbacoa BowlCarnitas BurritoCanned Soft DrinkCanned Soft DrinkSteak BowlChips and GuacamoleChicken BurritoCarnitas Soft TacosChicken BurritoChipsCanned Soft DrinkChicken BowlBottled WaterVeggie BowlChips and GuacamoleChips and GuacamoleChips and Tomatillo Red Chili SalsaChicken BowlChipsCanned Soft DrinkBottled WaterChicken BurritoChicken Soft TacosChips and Fresh Tomato SalsaChicken BurritoCanned Soft DrinkChipsChicken BowlCarnitas Bowl6 Pack Soft DrinkCanned Soft DrinkChicken BurritoChipsChicken Bowl6 Pack Soft DrinkChicken BurritoBottled WaterVeggie BowlChips and GuacamoleChicken BurritoChips and GuacamoleSteak Soft TacosBarbacoa Soft TacosCanned Soft DrinkCanned Soft DrinkChicken BowlBottled WaterChicken BowlCanned Soft DrinkBottled WaterSteak BowlChipsChicken BowlChips and GuacamoleChicken BowlChips and GuacamoleChicken BowlChips and GuacamoleSteak BurritoChips and GuacamoleCanned Soft DrinkVeggie Salad BowlChips and GuacamoleChicken BowlChips and GuacamoleChicken Salad BowlChipsChicken Salad BowlChips and GuacamoleChicken BowlSteak BowlBottled WaterChicken BurritoChips and GuacamoleChicken BowlChipsBottled WaterChicken BowlChips and GuacamoleChicken BurritoSteak BowlChicken BowlChicken BurritoChicken Salad BowlVeggie BowlBottled WaterChicken BowlChipsSteak BowlChipsSteak Soft TacosChips and Fresh Tomato SalsaSteak BowlCanned Soft DrinkChips and GuacamoleChicken BowlChicken BowlChips and GuacamoleChicken Salad BowlCarnitas Salad BowlCanned Soft DrinkSteak Salad BowlChips and GuacamoleChicken BowlChipsBottled WaterSteak BurritoChicken Soft TacosSteak BurritoCarnitas BurritoChips and GuacamoleCanned Soft DrinkChicken BurritoSteak BowlChips and Tomatillo Green Chili SalsaChicken BowlChicken BurritoChipsChicken BurritoChicken BowlChicken BowlVeggie Salad BowlSteak BurritoChicken BurritoChipsVeggie BowlChipsSteak BowlSteak BurritoChicken BurritoSteak BurritoBarbacoa Soft TacosChicken BurritoChicken BowlChips and GuacamoleChicken BurritoCanned Soft DrinkChips and GuacamoleVeggie BurritoCanned Soft DrinkChicken BurritoChicken BurritoVeggie BowlChicken BowlCanned Soft DrinkCanned Soft DrinkCanned Soft DrinkSteak Soft TacosBarbacoa BurritoChipsChicken Soft TacosChips and GuacamoleChicken BowlChips and GuacamoleChicken BowlSteak BowlChicken BurritoSteak Soft TacosChips and GuacamoleSteak BurritoChips and GuacamoleCanned Soft DrinkChips and GuacamoleSteak BowlSteak BowlChicken BowlChipsSteak BowlSteak BowlChipsSteak BurritoChicken Soft TacosChips and Tomatillo Red Chili SalsaSteak Salad BowlChips and GuacamoleVeggie BowlChips and GuacamoleSteak BurritoChips and Fresh Tomato SalsaVeggie BurritoChips and Tomatillo Red Chili SalsaChicken BurritoChicken Crispy TacosChicken BowlChips and Fresh Tomato SalsaSteak BurritoCarnitas Soft TacosSteak BurritoChips and Tomatillo Green Chili SalsaChicken BowlChipsSteak BurritoChips and GuacamoleChicken Salad BowlChicken BurritoChicken Salad BowlVeggie BowlChicken BowlChipsCanned Soft DrinkChicken BowlCanned Soft DrinkChicken BowlChips and GuacamoleCanned Soft DrinkChicken BowlChicken Crispy TacosBarbacoa BurritoCanned Soft DrinkChicken Salad BowlChicken BurritoChicken BowlChicken Salad BowlChicken BurritoSteak Soft TacosBarbacoa BurritoCanned Soft DrinkChips and GuacamoleBarbacoa Burrito6 Pack Soft DrinkChips and GuacamoleChicken BurritoChicken Bowl6 Pack Soft DrinkSteak BowlChicken BurritoSteak BowlChicken BowlChipsChicken BowlChips and GuacamoleChicken Crispy TacosChips and GuacamoleChicken BurritoCarnitas BowlChips and GuacamoleCanned Soft DrinkCanned Soft DrinkChicken BowlChicken BurritoBarbacoa BowlChipsSteak BurritoChips and GuacamoleSteak BurritoCanned Soft DrinkCarnitas BurritoSteak BowlChicken Salad BowlChipsBarbacoa Salad BowlSteak Salad BowlChicken BowlCanned Soft DrinkSteak BurritoChips and GuacamoleChicken BowlCanned Soft DrinkChicken BowlCanned Soft DrinkChips and Tomatillo Green Chili SalsaChicken BowlChips and GuacamoleChicken BurritoBottled WaterChips and GuacamoleChips and GuacamoleSteak BurritoChicken BowlChips and Tomatillo Red Chili SalsaCanned Soft DrinkChicken BowlChips and Tomatillo Red Chili SalsaChicken BowlChicken BurritoChicken BurritoChicken BurritoChipsSteak BurritoSteak Salad BowlChips and GuacamoleCarnitas BurritoCanned Soft DrinkChicken BowlChips and GuacamoleChips and Fresh Tomato SalsaChipsSteak BowlCarnitas BowlChipsCanned Soft DrinkSteak BurritoChips and GuacamoleChicken BowlSteak BurritoChicken BowlChicken BowlCarnitas BurritoChicken Soft TacosChicken Salad BowlChips and GuacamoleBarbacoa BowlBottled WaterChicken BowlChicken BowlSteak BurritoSteak BurritoChicken BurritoChips and GuacamoleSteak BowlCarnitas Crispy TacosChips and GuacamoleVeggie BowlChicken Crispy TacosChicken BurritoChipsBottled WaterChicken BurritoChips and GuacamoleSteak BowlChicken BurritoBottled WaterCanned Soft DrinkCanned Soft DrinkCanned Soft DrinkChicken BowlChips and Tomatillo Red Chili SalsaChicken Salad BowlVeggie BowlBottled WaterSteak BowlVeggie BurritoChipsSteak BurritoChicken Soft TacosCarnitas BowlChips and Tomatillo Green Chili SalsaBottled WaterChicken BurritoBottled WaterCanned Soft DrinkChicken BowlCarnitas BurritoChicken BowlChicken BowlBarbacoa BowlChicken BowlCarnitas BurritoChicken BowlChips and GuacamoleCanned Soft DrinkCanned Soft DrinkChicken BurritoChips and Tomatillo Green Chili SalsaCanned Soft DrinkChicken BowlCanned Soft DrinkChipsChicken BowlCanned Soft DrinkCarnitas BowlCanned Soft DrinkChicken Soft TacosChips and Fresh Tomato SalsaCarnitas BowlChipsChicken BowlBottled WaterSteak BurritoChipsBarbacoa BowlChicken BowlChips and GuacamoleCanned Soft DrinkChicken Soft TacosChips and GuacamoleCanned Soft DrinkBottled WaterSteak BowlVeggie BurritoChicken Salad BowlChicken Burrito6 Pack Soft DrinkSteak Crispy TacosChicken BurritoChipsCanned Soft Drink6 Pack Soft DrinkChicken BurritoChips and GuacamoleChicken BurritoChips and GuacamoleChicken BowlChicken BurritoChips and Guacamole6 Pack Soft DrinkSteak BurritoChicken BowlCanned Soft DrinkChips and GuacamoleChicken BowlVeggie Salad BowlBottled WaterChicken BurritoBottled WaterCanned Soft DrinkSteak BurritoSteak Salad BowlChips and GuacamoleSteak Soft TacosChicken Soft TacosChips and GuacamoleCanned Soft DrinkChicken BowlSteak Crispy TacosChicken BowlChicken BurritoCarnitas Soft TacosChicken BurritoChicken BurritoCanned Soft DrinkChicken Salad BowlCarnitas BowlChips and GuacamoleChicken BowlCanned Soft DrinkChicken BurritoChips and GuacamoleBottled WaterChicken BurritoBottled WaterCanned Soft DrinkSteak Salad BowlVeggie Salad BowlChicken BowlChips and GuacamoleChicken BowlCanned Soft DrinkCarnitas BurritoChips and GuacamoleChicken Salad BowlChicken BowlBottled WaterChicken BowlChipsCanned Soft DrinkChicken BowlChicken BowlChips and GuacamoleChicken BowlChicken BowlChicken BowlBarbacoa BurritoCarnitas BowlBarbacoa BowlChicken BowlChips and GuacamoleCanned Soft DrinkBottled WaterChicken BowlChips and GuacamoleCanned Soft DrinkBarbacoa BurritoBarbacoa BurritoChicken BowlChips and GuacamoleCanned Soft DrinkSteak BurritoVeggie BurritoCanned Soft DrinkSteak BurritoVeggie BurritoCarnitas BowlChipsBottled WaterChicken Soft TacosChips and GuacamoleSteak BurritoSteak BurritoChicken Salad BowlChicken Salad BowlChicken Salad Bowl'] to numeric"
     ]
    }
   ],
   "source": [
    "# Solution 1\n",
    "\n",
    "chipo['revenue'] = chipo['quantity'] * chipo['item_price']\n",
    "\n",
    "chipo.groupby('order_id').sum().mean\n"
   ]
  },
  {
   "cell_type": "code",
   "execution_count": 4,
   "metadata": {
    "collapsed": false
   },
   "outputs": [],
   "source": [
    "# Solution 2\n",
    "\n"
   ]
  },
  {
   "cell_type": "markdown",
   "metadata": {},
   "source": [
    "### Step 17. How many different items are sold?"
   ]
  },
  {
   "cell_type": "code",
   "execution_count": 121,
   "metadata": {
    "collapsed": false
   },
   "outputs": [
    {
     "data": {
      "text/plain": [
       "50"
      ]
     },
     "execution_count": 121,
     "metadata": {},
     "output_type": "execute_result"
    }
   ],
   "source": [
    "chipocount = chipo.item_name.value_counts()\n",
    "\n",
    "chipocount.count()"
   ]
  }
 ],
 "metadata": {
  "anaconda-cloud": {},
  "kernelspec": {
   "display_name": "base",
   "language": "python",
   "name": "python3"
  },
  "language_info": {
   "codemirror_mode": {
    "name": "ipython",
    "version": 3
   },
   "file_extension": ".py",
   "mimetype": "text/x-python",
   "name": "python",
   "nbconvert_exporter": "python",
   "pygments_lexer": "ipython3",
   "version": "3.12.4"
  }
 },
 "nbformat": 4,
 "nbformat_minor": 0
}
