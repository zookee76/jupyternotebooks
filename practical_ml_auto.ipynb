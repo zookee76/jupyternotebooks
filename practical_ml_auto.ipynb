{
  "cells": [
    {
      "cell_type": "markdown",
      "metadata": {
        "id": "PS-ImkSjc5et"
      },
      "source": [
        "## Machine Learning: Practical Machine Learning - Automated\n",
        "\n",
        "*Prepared by:*  \n",
        "**Eduardo Valdez**  \n",
        "Faculty, Software Technology Department  \n",
        "College of Computer Studies - De La Salle University"
      ]
    },
    {
      "cell_type": "markdown",
      "metadata": {
        "id": "QSb4atc6BYaw"
      },
      "source": [
        "## Preliminaries\n",
        "\n",
        "### Import Libraries"
      ]
    },
    {
      "cell_type": "code",
      "execution_count": 1,
      "metadata": {
        "colab": {
          "base_uri": "https://localhost:8080/",
          "height": 76
        },
        "id": "LnBab3qOBPqM",
        "outputId": "60d3a135-87ea-4c94-89fb-4ab27a96943e"
      },
      "outputs": [
        {
          "data": {
            "text/html": [
              "<svg  width=\"440\" height=\"55\"><rect x=\"0\" y=\"0\" width=\"55\" height=\"55\" style=\"fill:#66c2a5;stroke-width:2;stroke:rgb(255,255,255)\"/><rect x=\"55\" y=\"0\" width=\"55\" height=\"55\" style=\"fill:#fc8d62;stroke-width:2;stroke:rgb(255,255,255)\"/><rect x=\"110\" y=\"0\" width=\"55\" height=\"55\" style=\"fill:#8da0cb;stroke-width:2;stroke:rgb(255,255,255)\"/><rect x=\"165\" y=\"0\" width=\"55\" height=\"55\" style=\"fill:#e78ac3;stroke-width:2;stroke:rgb(255,255,255)\"/><rect x=\"220\" y=\"0\" width=\"55\" height=\"55\" style=\"fill:#a6d854;stroke-width:2;stroke:rgb(255,255,255)\"/><rect x=\"275\" y=\"0\" width=\"55\" height=\"55\" style=\"fill:#ffd92f;stroke-width:2;stroke:rgb(255,255,255)\"/><rect x=\"330\" y=\"0\" width=\"55\" height=\"55\" style=\"fill:#e5c494;stroke-width:2;stroke:rgb(255,255,255)\"/><rect x=\"385\" y=\"0\" width=\"55\" height=\"55\" style=\"fill:#b3b3b3;stroke-width:2;stroke:rgb(255,255,255)\"/></svg>"
            ],
            "text/plain": [
              "[(0.4, 0.7607843137254902, 0.6470588235294118),\n",
              " (0.9882352941176471, 0.5529411764705883, 0.3843137254901961),\n",
              " (0.5529411764705883, 0.6274509803921569, 0.796078431372549),\n",
              " (0.9058823529411765, 0.5411764705882353, 0.7647058823529411),\n",
              " (0.6509803921568628, 0.8470588235294118, 0.32941176470588235),\n",
              " (1.0, 0.8509803921568627, 0.1843137254901961),\n",
              " (0.8980392156862745, 0.7686274509803922, 0.5803921568627451),\n",
              " (0.7019607843137254, 0.7019607843137254, 0.7019607843137254)]"
            ]
          },
          "execution_count": 1,
          "metadata": {},
          "output_type": "execute_result"
        }
      ],
      "source": [
        "import numpy as np\n",
        "import pandas as pd\n",
        "import matplotlib.pyplot as plt\n",
        "\n",
        "import seaborn as sns\n",
        "\n",
        "sns.set_style('darkgrid')\n",
        "# sns.color_palette('tab10')\n",
        "sns.set_palette('Set2')\n",
        "sns.color_palette('Set2')"
      ]
    },
    {
      "cell_type": "code",
      "execution_count": 77,
      "metadata": {
        "colab": {
          "base_uri": "https://localhost:8080/"
        },
        "id": "30NUeWsPi2b5",
        "outputId": "2b360420-b159-477b-a509-1a0a6ce98233"
      },
      "outputs": [
        {
          "name": "stdout",
          "output_type": "stream",
          "text": [
            "Requirement already satisfied: lazypredict in /opt/anaconda3/lib/python3.12/site-packages (0.2.12)\n",
            "Requirement already satisfied: click in /opt/anaconda3/lib/python3.12/site-packages (from lazypredict) (8.1.7)\n",
            "Requirement already satisfied: scikit-learn in /opt/anaconda3/lib/python3.12/site-packages (from lazypredict) (1.5.2)\n",
            "Requirement already satisfied: pandas in /opt/anaconda3/lib/python3.12/site-packages (from lazypredict) (2.2.2)\n",
            "Requirement already satisfied: tqdm in /opt/anaconda3/lib/python3.12/site-packages (from lazypredict) (4.66.4)\n",
            "Requirement already satisfied: joblib in /opt/anaconda3/lib/python3.12/site-packages (from lazypredict) (1.4.2)\n",
            "Requirement already satisfied: lightgbm in /opt/anaconda3/lib/python3.12/site-packages (from lazypredict) (4.5.0)\n",
            "Requirement already satisfied: xgboost in /opt/anaconda3/lib/python3.12/site-packages (from lazypredict) (2.1.1)\n",
            "Requirement already satisfied: numpy>=1.17.0 in /opt/anaconda3/lib/python3.12/site-packages (from lightgbm->lazypredict) (1.26.4)\n",
            "Requirement already satisfied: scipy in /opt/anaconda3/lib/python3.12/site-packages (from lightgbm->lazypredict) (1.13.1)\n",
            "Requirement already satisfied: python-dateutil>=2.8.2 in /opt/anaconda3/lib/python3.12/site-packages (from pandas->lazypredict) (2.9.0.post0)\n",
            "Requirement already satisfied: pytz>=2020.1 in /opt/anaconda3/lib/python3.12/site-packages (from pandas->lazypredict) (2024.1)\n",
            "Requirement already satisfied: tzdata>=2022.7 in /opt/anaconda3/lib/python3.12/site-packages (from pandas->lazypredict) (2023.3)\n",
            "Requirement already satisfied: threadpoolctl>=3.1.0 in /opt/anaconda3/lib/python3.12/site-packages (from scikit-learn->lazypredict) (3.5.0)\n",
            "Requirement already satisfied: six>=1.5 in /opt/anaconda3/lib/python3.12/site-packages (from python-dateutil>=2.8.2->pandas->lazypredict) (1.16.0)\n"
          ]
        }
      ],
      "source": [
        "! pip install lazypredict"
      ]
    },
    {
      "cell_type": "code",
      "execution_count": 3,
      "metadata": {
        "id": "T2RKdUkpUEKI"
      },
      "outputs": [],
      "source": [
        "import warnings\n",
        "warnings.filterwarnings(\"ignore\")"
      ]
    },
    {
      "cell_type": "markdown",
      "metadata": {
        "id": "_GZYlhrgizBg"
      },
      "source": [
        "## Data Loading"
      ]
    },
    {
      "cell_type": "code",
      "execution_count": 105,
      "metadata": {
        "colab": {
          "base_uri": "https://localhost:8080/",
          "height": 447
        },
        "id": "rMdcqOJZizBh",
        "outputId": "a290eea2-4d59-4478-9e7d-af778247e712"
      },
      "outputs": [
        {
          "data": {
            "image/png": "[encoded data removed]",
            "text/plain": [
              "<Figure size 640x480 with 1 Axes>"
            ]
          },
          "metadata": {},
          "output_type": "display_data"
        }
      ],
      "source": [
        "from sklearn.datasets import load_breast_cancer\n",
        "\n",
        "data = load_breast_cancer()\n",
        "\n",
        "\n",
        "X = data.data\n",
        "y = data.target\n",
        "\n",
        "pd.Series(y).value_counts().plot(kind='bar')\n",
        "plt.title('Class Distribution')\n",
        "plt.ylabel('Count')'\n",
        "plt.xlabel('Class')\n",
        "plt.show()"
      ]
    },
    {
      "cell_type": "code",
      "execution_count": 103,
      "metadata": {},
      "outputs": [
        {
          "name": "stdout",
          "output_type": "stream",
          "text": [
            "dict_keys(['data', 'target', 'frame', 'target_names', 'DESCR', 'feature_names', 'filename', 'data_module'])\n"
          ]
        }
      ],
      "source": [
        "print(data.keys())"
      ]
    },
    {
      "cell_type": "markdown",
      "metadata": {
        "id": "H2korvzVizBh"
      },
      "source": [
        "## Data Preprocessing"
      ]
    },
    {
      "cell_type": "code",
      "execution_count": 108,
      "metadata": {
        "id": "Sa1w5al8izBh"
      },
      "outputs": [
        {
          "name": "stdout",
          "output_type": "stream",
          "text": [
            "(455, 30) (114, 30)\n",
            "(455,) (114,)\n"
          ]
        }
      ],
      "source": [
        "from sklearn.model_selection import train_test_split\n",
        "\n",
        "X_train, X_test, y_train, y_test = train_test_split(X, y, test_size=.2, random_state=42)\n",
        "\n",
        "print(X_train.shape, X_test.shape)\n",
        "print(y_train.shape, y_test.shape)"
      ]
    },
    {
      "cell_type": "markdown",
      "metadata": {
        "id": "1tO0t5GjizBi"
      },
      "source": [
        "## Modeling"
      ]
    },
    {
      "cell_type": "code",
      "execution_count": 95,
      "metadata": {},
      "outputs": [
        {
          "name": "stdout",
          "output_type": "stream",
          "text": [
            "1.4.2\n"
          ]
        }
      ],
      "source": [
        "import sklearn\n",
        "from sklearn.preprocessing import OneHotEncoder\n",
        "\n",
        "print(sklearn.__version__)\n",
        "OH_encoder = OneHotEncoder(handle_unknown='ignore', sparse_output=False)"
      ]
    },
    {
      "cell_type": "code",
      "execution_count": 96,
      "metadata": {
        "colab": {
          "base_uri": "https://localhost:8080/",
          "height": 1000
        },
        "id": "3DfU-cLpizBi",
        "outputId": "01236641-6dc8-4c1d-d1a6-90d0cd7ba538"
      },
      "outputs": [
        {
          "name": "stderr",
          "output_type": "stream",
          "text": [
            "100%|██████████| 29/29 [00:01<00:00, 25.77it/s]"
          ]
        },
        {
          "name": "stdout",
          "output_type": "stream",
          "text": [
            "[LightGBM] [Info] Number of positive: 286, number of negative: 169\n",
            "[LightGBM] [Info] Auto-choosing col-wise multi-threading, the overhead of testing was 0.000340 seconds.\n",
            "You can set `force_col_wise=true` to remove the overhead.\n",
            "[LightGBM] [Info] Total Bins 4540\n",
            "[LightGBM] [Info] Number of data points in the train set: 455, number of used features: 30\n",
            "[LightGBM] [Info] [binary:BoostFromScore]: pavg=0.628571 -> initscore=0.526093\n",
            "[LightGBM] [Info] Start training from score 0.526093\n",
            "[LightGBM] [Warning] No further splits with positive gain, best gain: -inf\n",
            "[LightGBM] [Warning] No further splits with positive gain, best gain: -inf\n",
            "[LightGBM] [Warning] No further splits with positive gain, best gain: -inf\n",
            "[LightGBM] [Warning] No further splits with positive gain, best gain: -inf\n",
            "[LightGBM] [Warning] No further splits with positive gain, best gain: -inf\n",
            "[LightGBM] [Warning] No further splits with positive gain, best gain: -inf\n",
            "[LightGBM] [Warning] No further splits with positive gain, best gain: -inf\n",
            "[LightGBM] [Warning] No further splits with positive gain, best gain: -inf\n",
            "[LightGBM] [Warning] No further splits with positive gain, best gain: -inf\n",
            "[LightGBM] [Warning] No further splits with positive gain, best gain: -inf\n",
            "[LightGBM] [Warning] No further splits with positive gain, best gain: -inf\n",
            "[LightGBM] [Warning] No further splits with positive gain, best gain: -inf\n",
            "[LightGBM] [Warning] No further splits with positive gain, best gain: -inf\n",
            "[LightGBM] [Warning] No further splits with positive gain, best gain: -inf\n",
            "[LightGBM] [Warning] No further splits with positive gain, best gain: -inf\n",
            "[LightGBM] [Warning] No further splits with positive gain, best gain: -inf\n",
            "[LightGBM] [Warning] No further splits with positive gain, best gain: -inf\n",
            "[LightGBM] [Warning] No further splits with positive gain, best gain: -inf\n",
            "[LightGBM] [Warning] No further splits with positive gain, best gain: -inf\n",
            "[LightGBM] [Warning] No further splits with positive gain, best gain: -inf\n",
            "[LightGBM] [Warning] No further splits with positive gain, best gain: -inf\n",
            "[LightGBM] [Warning] No further splits with positive gain, best gain: -inf\n",
            "[LightGBM] [Warning] No further splits with positive gain, best gain: -inf\n",
            "[LightGBM] [Warning] No further splits with positive gain, best gain: -inf\n",
            "[LightGBM] [Warning] No further splits with positive gain, best gain: -inf\n",
            "[LightGBM] [Warning] No further splits with positive gain, best gain: -inf\n",
            "[LightGBM] [Warning] No further splits with positive gain, best gain: -inf\n",
            "[LightGBM] [Warning] No further splits with positive gain, best gain: -inf\n",
            "[LightGBM] [Warning] No further splits with positive gain, best gain: -inf\n",
            "[LightGBM] [Warning] No further splits with positive gain, best gain: -inf\n",
            "[LightGBM] [Warning] No further splits with positive gain, best gain: -inf\n",
            "[LightGBM] [Warning] No further splits with positive gain, best gain: -inf\n",
            "[LightGBM] [Warning] No further splits with positive gain, best gain: -inf\n",
            "[LightGBM] [Warning] No further splits with positive gain, best gain: -inf\n",
            "[LightGBM] [Warning] No further splits with positive gain, best gain: -inf\n",
            "[LightGBM] [Warning] No further splits with positive gain, best gain: -inf\n",
            "[LightGBM] [Warning] No further splits with positive gain, best gain: -inf\n",
            "[LightGBM] [Warning] No further splits with positive gain, best gain: -inf\n",
            "[LightGBM] [Warning] No further splits with positive gain, best gain: -inf\n",
            "[LightGBM] [Warning] No further splits with positive gain, best gain: -inf\n",
            "[LightGBM] [Warning] No further splits with positive gain, best gain: -inf\n",
            "[LightGBM] [Warning] No further splits with positive gain, best gain: -inf\n",
            "[LightGBM] [Warning] No further splits with positive gain, best gain: -inf\n",
            "[LightGBM] [Warning] No further splits with positive gain, best gain: -inf\n",
            "[LightGBM] [Warning] No further splits with positive gain, best gain: -inf\n",
            "[LightGBM] [Warning] No further splits with positive gain, best gain: -inf\n",
            "[LightGBM] [Warning] No further splits with positive gain, best gain: -inf\n",
            "[LightGBM] [Warning] No further splits with positive gain, best gain: -inf\n",
            "[LightGBM] [Warning] No further splits with positive gain, best gain: -inf\n",
            "[LightGBM] [Warning] No further splits with positive gain, best gain: -inf\n",
            "[LightGBM] [Warning] No further splits with positive gain, best gain: -inf\n",
            "[LightGBM] [Warning] No further splits with positive gain, best gain: -inf\n",
            "[LightGBM] [Warning] No further splits with positive gain, best gain: -inf\n",
            "[LightGBM] [Warning] No further splits with positive gain, best gain: -inf\n",
            "[LightGBM] [Warning] No further splits with positive gain, best gain: -inf\n",
            "[LightGBM] [Warning] No further splits with positive gain, best gain: -inf\n",
            "[LightGBM] [Warning] No further splits with positive gain, best gain: -inf\n",
            "[LightGBM] [Warning] No further splits with positive gain, best gain: -inf\n",
            "[LightGBM] [Warning] No further splits with positive gain, best gain: -inf\n",
            "[LightGBM] [Warning] No further splits with positive gain, best gain: -inf\n",
            "[LightGBM] [Warning] No further splits with positive gain, best gain: -inf\n",
            "[LightGBM] [Warning] No further splits with positive gain, best gain: -inf\n",
            "[LightGBM] [Warning] No further splits with positive gain, best gain: -inf\n",
            "[LightGBM] [Warning] No further splits with positive gain, best gain: -inf\n",
            "[LightGBM] [Warning] No further splits with positive gain, best gain: -inf\n",
            "[LightGBM] [Warning] No further splits with positive gain, best gain: -inf\n",
            "[LightGBM] [Warning] No further splits with positive gain, best gain: -inf\n",
            "[LightGBM] [Warning] No further splits with positive gain, best gain: -inf\n",
            "[LightGBM] [Warning] No further splits with positive gain, best gain: -inf\n",
            "[LightGBM] [Warning] No further splits with positive gain, best gain: -inf\n",
            "[LightGBM] [Warning] No further splits with positive gain, best gain: -inf\n",
            "[LightGBM] [Warning] No further splits with positive gain, best gain: -inf\n",
            "[LightGBM] [Warning] No further splits with positive gain, best gain: -inf\n",
            "[LightGBM] [Warning] No further splits with positive gain, best gain: -inf\n",
            "[LightGBM] [Warning] No further splits with positive gain, best gain: -inf\n",
            "[LightGBM] [Warning] No further splits with positive gain, best gain: -inf\n",
            "[LightGBM] [Warning] No further splits with positive gain, best gain: -inf\n",
            "[LightGBM] [Warning] No further splits with positive gain, best gain: -inf\n",
            "[LightGBM] [Warning] No further splits with positive gain, best gain: -inf\n",
            "[LightGBM] [Warning] No further splits with positive gain, best gain: -inf\n",
            "[LightGBM] [Warning] No further splits with positive gain, best gain: -inf\n",
            "[LightGBM] [Warning] No further splits with positive gain, best gain: -inf\n",
            "[LightGBM] [Warning] No further splits with positive gain, best gain: -inf\n",
            "[LightGBM] [Warning] No further splits with positive gain, best gain: -inf\n",
            "[LightGBM] [Warning] No further splits with positive gain, best gain: -inf\n",
            "[LightGBM] [Warning] No further splits with positive gain, best gain: -inf\n",
            "[LightGBM] [Warning] No further splits with positive gain, best gain: -inf\n",
            "[LightGBM] [Warning] No further splits with positive gain, best gain: -inf\n",
            "[LightGBM] [Warning] No further splits with positive gain, best gain: -inf\n",
            "[LightGBM] [Warning] No further splits with positive gain, best gain: -inf\n",
            "[LightGBM] [Warning] No further splits with positive gain, best gain: -inf\n",
            "[LightGBM] [Warning] No further splits with positive gain, best gain: -inf\n",
            "[LightGBM] [Warning] No further splits with positive gain, best gain: -inf\n",
            "[LightGBM] [Warning] No further splits with positive gain, best gain: -inf\n",
            "[LightGBM] [Warning] No further splits with positive gain, best gain: -inf\n",
            "[LightGBM] [Warning] No further splits with positive gain, best gain: -inf\n",
            "[LightGBM] [Warning] No further splits with positive gain, best gain: -inf\n",
            "[LightGBM] [Warning] No further splits with positive gain, best gain: -inf\n",
            "[LightGBM] [Warning] No further splits with positive gain, best gain: -inf\n",
            "[LightGBM] [Warning] No further splits with positive gain, best gain: -inf\n"
          ]
        },
        {
          "name": "stderr",
          "output_type": "stream",
          "text": [
            "\n"
          ]
        },
        {
          "data": {
            "text/html": [
              "<div>\n",
              "<style scoped>\n",
              "    .dataframe tbody tr th:only-of-type {\n",
              "        vertical-align: middle;\n",
              "    }\n",
              "\n",
              "    .dataframe tbody tr th {\n",
              "        vertical-align: top;\n",
              "    }\n",
              "\n",
              "    .dataframe thead th {\n",
              "        text-align: right;\n",
              "    }\n",
              "</style>\n",
              "<table border=\"1\" class=\"dataframe\">\n",
              "  <thead>\n",
              "    <tr style=\"text-align: right;\">\n",
              "      <th></th>\n",
              "      <th>Accuracy</th>\n",
              "      <th>Balanced Accuracy</th>\n",
              "      <th>ROC AUC</th>\n",
              "      <th>F1 Score</th>\n",
              "      <th>Time Taken</th>\n",
              "    </tr>\n",
              "    <tr>\n",
              "      <th>Model</th>\n",
              "      <th></th>\n",
              "      <th></th>\n",
              "      <th></th>\n",
              "      <th></th>\n",
              "      <th></th>\n",
              "    </tr>\n",
              "  </thead>\n",
              "  <tbody>\n",
              "    <tr>\n",
              "      <th>BernoulliNB</th>\n",
              "      <td>0.98</td>\n",
              "      <td>0.98</td>\n",
              "      <td>0.98</td>\n",
              "      <td>0.98</td>\n",
              "      <td>0.01</td>\n",
              "    </tr>\n",
              "    <tr>\n",
              "      <th>PassiveAggressiveClassifier</th>\n",
              "      <td>0.98</td>\n",
              "      <td>0.98</td>\n",
              "      <td>0.98</td>\n",
              "      <td>0.98</td>\n",
              "      <td>0.01</td>\n",
              "    </tr>\n",
              "    <tr>\n",
              "      <th>SVC</th>\n",
              "      <td>0.98</td>\n",
              "      <td>0.98</td>\n",
              "      <td>0.98</td>\n",
              "      <td>0.98</td>\n",
              "      <td>0.01</td>\n",
              "    </tr>\n",
              "    <tr>\n",
              "      <th>Perceptron</th>\n",
              "      <td>0.97</td>\n",
              "      <td>0.97</td>\n",
              "      <td>0.97</td>\n",
              "      <td>0.97</td>\n",
              "      <td>0.01</td>\n",
              "    </tr>\n",
              "    <tr>\n",
              "      <th>AdaBoostClassifier</th>\n",
              "      <td>0.97</td>\n",
              "      <td>0.97</td>\n",
              "      <td>0.97</td>\n",
              "      <td>0.97</td>\n",
              "      <td>0.15</td>\n",
              "    </tr>\n",
              "    <tr>\n",
              "      <th>LogisticRegression</th>\n",
              "      <td>0.97</td>\n",
              "      <td>0.97</td>\n",
              "      <td>0.97</td>\n",
              "      <td>0.97</td>\n",
              "      <td>0.02</td>\n",
              "    </tr>\n",
              "    <tr>\n",
              "      <th>SGDClassifier</th>\n",
              "      <td>0.96</td>\n",
              "      <td>0.97</td>\n",
              "      <td>0.97</td>\n",
              "      <td>0.97</td>\n",
              "      <td>0.01</td>\n",
              "    </tr>\n",
              "    <tr>\n",
              "      <th>ExtraTreeClassifier</th>\n",
              "      <td>0.96</td>\n",
              "      <td>0.97</td>\n",
              "      <td>0.97</td>\n",
              "      <td>0.97</td>\n",
              "      <td>0.01</td>\n",
              "    </tr>\n",
              "    <tr>\n",
              "      <th>CalibratedClassifierCV</th>\n",
              "      <td>0.97</td>\n",
              "      <td>0.97</td>\n",
              "      <td>0.97</td>\n",
              "      <td>0.97</td>\n",
              "      <td>0.03</td>\n",
              "    </tr>\n",
              "    <tr>\n",
              "      <th>RandomForestClassifier</th>\n",
              "      <td>0.96</td>\n",
              "      <td>0.96</td>\n",
              "      <td>0.96</td>\n",
              "      <td>0.96</td>\n",
              "      <td>0.18</td>\n",
              "    </tr>\n",
              "    <tr>\n",
              "      <th>LGBMClassifier</th>\n",
              "      <td>0.96</td>\n",
              "      <td>0.96</td>\n",
              "      <td>0.96</td>\n",
              "      <td>0.96</td>\n",
              "      <td>0.08</td>\n",
              "    </tr>\n",
              "    <tr>\n",
              "      <th>GaussianNB</th>\n",
              "      <td>0.96</td>\n",
              "      <td>0.96</td>\n",
              "      <td>0.96</td>\n",
              "      <td>0.96</td>\n",
              "      <td>0.01</td>\n",
              "    </tr>\n",
              "    <tr>\n",
              "      <th>ExtraTreesClassifier</th>\n",
              "      <td>0.96</td>\n",
              "      <td>0.96</td>\n",
              "      <td>0.96</td>\n",
              "      <td>0.96</td>\n",
              "      <td>0.07</td>\n",
              "    </tr>\n",
              "    <tr>\n",
              "      <th>QuadraticDiscriminantAnalysis</th>\n",
              "      <td>0.96</td>\n",
              "      <td>0.96</td>\n",
              "      <td>0.96</td>\n",
              "      <td>0.96</td>\n",
              "      <td>0.01</td>\n",
              "    </tr>\n",
              "    <tr>\n",
              "      <th>LinearSVC</th>\n",
              "      <td>0.96</td>\n",
              "      <td>0.96</td>\n",
              "      <td>0.96</td>\n",
              "      <td>0.96</td>\n",
              "      <td>0.02</td>\n",
              "    </tr>\n",
              "    <tr>\n",
              "      <th>BaggingClassifier</th>\n",
              "      <td>0.96</td>\n",
              "      <td>0.95</td>\n",
              "      <td>0.95</td>\n",
              "      <td>0.96</td>\n",
              "      <td>0.06</td>\n",
              "    </tr>\n",
              "    <tr>\n",
              "      <th>XGBClassifier</th>\n",
              "      <td>0.96</td>\n",
              "      <td>0.95</td>\n",
              "      <td>0.95</td>\n",
              "      <td>0.96</td>\n",
              "      <td>0.26</td>\n",
              "    </tr>\n",
              "    <tr>\n",
              "      <th>LinearDiscriminantAnalysis</th>\n",
              "      <td>0.96</td>\n",
              "      <td>0.95</td>\n",
              "      <td>0.95</td>\n",
              "      <td>0.96</td>\n",
              "      <td>0.02</td>\n",
              "    </tr>\n",
              "    <tr>\n",
              "      <th>NearestCentroid</th>\n",
              "      <td>0.96</td>\n",
              "      <td>0.95</td>\n",
              "      <td>0.95</td>\n",
              "      <td>0.96</td>\n",
              "      <td>0.02</td>\n",
              "    </tr>\n",
              "    <tr>\n",
              "      <th>NuSVC</th>\n",
              "      <td>0.96</td>\n",
              "      <td>0.95</td>\n",
              "      <td>0.95</td>\n",
              "      <td>0.96</td>\n",
              "      <td>0.02</td>\n",
              "    </tr>\n",
              "    <tr>\n",
              "      <th>RidgeClassifier</th>\n",
              "      <td>0.96</td>\n",
              "      <td>0.95</td>\n",
              "      <td>0.95</td>\n",
              "      <td>0.96</td>\n",
              "      <td>0.02</td>\n",
              "    </tr>\n",
              "    <tr>\n",
              "      <th>RidgeClassifierCV</th>\n",
              "      <td>0.96</td>\n",
              "      <td>0.95</td>\n",
              "      <td>0.95</td>\n",
              "      <td>0.96</td>\n",
              "      <td>0.01</td>\n",
              "    </tr>\n",
              "    <tr>\n",
              "      <th>KNeighborsClassifier</th>\n",
              "      <td>0.95</td>\n",
              "      <td>0.94</td>\n",
              "      <td>0.94</td>\n",
              "      <td>0.95</td>\n",
              "      <td>0.04</td>\n",
              "    </tr>\n",
              "    <tr>\n",
              "      <th>DecisionTreeClassifier</th>\n",
              "      <td>0.95</td>\n",
              "      <td>0.94</td>\n",
              "      <td>0.94</td>\n",
              "      <td>0.95</td>\n",
              "      <td>0.01</td>\n",
              "    </tr>\n",
              "    <tr>\n",
              "      <th>LabelSpreading</th>\n",
              "      <td>0.94</td>\n",
              "      <td>0.93</td>\n",
              "      <td>0.93</td>\n",
              "      <td>0.94</td>\n",
              "      <td>0.02</td>\n",
              "    </tr>\n",
              "    <tr>\n",
              "      <th>LabelPropagation</th>\n",
              "      <td>0.94</td>\n",
              "      <td>0.93</td>\n",
              "      <td>0.93</td>\n",
              "      <td>0.94</td>\n",
              "      <td>0.02</td>\n",
              "    </tr>\n",
              "    <tr>\n",
              "      <th>DummyClassifier</th>\n",
              "      <td>0.62</td>\n",
              "      <td>0.50</td>\n",
              "      <td>0.50</td>\n",
              "      <td>0.48</td>\n",
              "      <td>0.01</td>\n",
              "    </tr>\n",
              "  </tbody>\n",
              "</table>\n",
              "</div>"
            ],
            "text/plain": [
              "                               Accuracy  Balanced Accuracy  ROC AUC  F1 Score  \\\n",
              "Model                                                                           \n",
              "BernoulliNB                        0.98               0.98     0.98      0.98   \n",
              "PassiveAggressiveClassifier        0.98               0.98     0.98      0.98   \n",
              "SVC                                0.98               0.98     0.98      0.98   \n",
              "Perceptron                         0.97               0.97     0.97      0.97   \n",
              "AdaBoostClassifier                 0.97               0.97     0.97      0.97   \n",
              "LogisticRegression                 0.97               0.97     0.97      0.97   \n",
              "SGDClassifier                      0.96               0.97     0.97      0.97   \n",
              "ExtraTreeClassifier                0.96               0.97     0.97      0.97   \n",
              "CalibratedClassifierCV             0.97               0.97     0.97      0.97   \n",
              "RandomForestClassifier             0.96               0.96     0.96      0.96   \n",
              "LGBMClassifier                     0.96               0.96     0.96      0.96   \n",
              "GaussianNB                         0.96               0.96     0.96      0.96   \n",
              "ExtraTreesClassifier               0.96               0.96     0.96      0.96   \n",
              "QuadraticDiscriminantAnalysis      0.96               0.96     0.96      0.96   \n",
              "LinearSVC                          0.96               0.96     0.96      0.96   \n",
              "BaggingClassifier                  0.96               0.95     0.95      0.96   \n",
              "XGBClassifier                      0.96               0.95     0.95      0.96   \n",
              "LinearDiscriminantAnalysis         0.96               0.95     0.95      0.96   \n",
              "NearestCentroid                    0.96               0.95     0.95      0.96   \n",
              "NuSVC                              0.96               0.95     0.95      0.96   \n",
              "RidgeClassifier                    0.96               0.95     0.95      0.96   \n",
              "RidgeClassifierCV                  0.96               0.95     0.95      0.96   \n",
              "KNeighborsClassifier               0.95               0.94     0.94      0.95   \n",
              "DecisionTreeClassifier             0.95               0.94     0.94      0.95   \n",
              "LabelSpreading                     0.94               0.93     0.93      0.94   \n",
              "LabelPropagation                   0.94               0.93     0.93      0.94   \n",
              "DummyClassifier                    0.62               0.50     0.50      0.48   \n",
              "\n",
              "                               Time Taken  \n",
              "Model                                      \n",
              "BernoulliNB                          0.01  \n",
              "PassiveAggressiveClassifier          0.01  \n",
              "SVC                                  0.01  \n",
              "Perceptron                           0.01  \n",
              "AdaBoostClassifier                   0.15  \n",
              "LogisticRegression                   0.02  \n",
              "SGDClassifier                        0.01  \n",
              "ExtraTreeClassifier                  0.01  \n",
              "CalibratedClassifierCV               0.03  \n",
              "RandomForestClassifier               0.18  \n",
              "LGBMClassifier                       0.08  \n",
              "GaussianNB                           0.01  \n",
              "ExtraTreesClassifier                 0.07  \n",
              "QuadraticDiscriminantAnalysis        0.01  \n",
              "LinearSVC                            0.02  \n",
              "BaggingClassifier                    0.06  \n",
              "XGBClassifier                        0.26  \n",
              "LinearDiscriminantAnalysis           0.02  \n",
              "NearestCentroid                      0.02  \n",
              "NuSVC                                0.02  \n",
              "RidgeClassifier                      0.02  \n",
              "RidgeClassifierCV                    0.01  \n",
              "KNeighborsClassifier                 0.04  \n",
              "DecisionTreeClassifier               0.01  \n",
              "LabelSpreading                       0.02  \n",
              "LabelPropagation                     0.02  \n",
              "DummyClassifier                      0.01  "
            ]
          },
          "execution_count": 96,
          "metadata": {},
          "output_type": "execute_result"
        }
      ],
      "source": [
        "import lazypredict\n",
        "from lazypredict.supervised import LazyClassifier\n",
        "\n",
        "clf = LazyClassifier(verbose=0, ignore_warnings=True, custom_metric=None)\n",
        "models, predictions = clf.fit(X_train, X_test, y_train, y_test)\n",
        "models"
      ]
    },
    {
      "cell_type": "markdown",
      "metadata": {
        "id": "a-Cqp3b4jqgJ"
      },
      "source": [
        "Given the output, we now have a rough idea on which models will likely give us the best performance and we can focus our efforts on optimizing it."
      ]
    },
    {
      "cell_type": "markdown",
      "metadata": {
        "id": "dQO2a7m-izBi"
      },
      "source": [
        "## Exercise\n",
        "\n",
        "Try modeling the classic Titanic dataset using different feature engineering techniques."
      ]
    },
    {
      "cell_type": "code",
      "execution_count": 129,
      "metadata": {
        "colab": {
          "base_uri": "https://localhost:8080/",
          "height": 206
        },
        "collapsed": true,
        "id": "MMWS-DZeizBj",
        "outputId": "4a9b6fbc-0984-4e82-a813-ac7995ab67ea"
      },
      "outputs": [
        {
          "name": "stdout",
          "output_type": "stream",
          "text": [
            "<class 'pandas.core.frame.DataFrame'>\n",
            "RangeIndex: 891 entries, 0 to 890\n",
            "Data columns (total 12 columns):\n",
            " #   Column       Non-Null Count  Dtype  \n",
            "---  ------       --------------  -----  \n",
            " 0   PassengerId  891 non-null    int64  \n",
            " 1   Survived     891 non-null    int64  \n",
            " 2   Pclass       891 non-null    int64  \n",
            " 3   Name         891 non-null    object \n",
            " 4   Sex          891 non-null    object \n",
            " 5   Age          714 non-null    float64\n",
            " 6   SibSp        891 non-null    int64  \n",
            " 7   Parch        891 non-null    int64  \n",
            " 8   Ticket       891 non-null    object \n",
            " 9   Fare         891 non-null    float64\n",
            " 10  Cabin        204 non-null    object \n",
            " 11  Embarked     889 non-null    object \n",
            "dtypes: float64(2), int64(5), object(5)\n",
            "memory usage: 83.7+ KB\n",
            "Accuracy: 0.8156424581005587\n"
          ]
        }
      ],
      "source": [
        "df = pd.read_csv('https://raw.githubusercontent.com/efvaldez1/data-repository/main/titanic.csv')\n",
        "df.head(5)\n",
        "df.info()\n",
        "\n",
        "# check missing values\n",
        "#cdf.isnull().sum()\n",
        "df.drop(columns=['Cabin'], inplace=True)\n",
        "df.drop_duplicates()\n",
        "\n",
        "from sklearn.metrics import accuracy_score\n",
        "\n",
        "df['FamilySize'] = df['SibSp'] + df['Parch']\n",
        "df.drop(columns=['Name', 'Ticket', 'PassengerId'], inplace=True)\n",
        "df['Sex'] = df['Sex'].map({'male': 0, 'female': 1})\n",
        "df = pd.get_dummies(df, columns=['Embarked'], drop_first=True)\n",
        "\n",
        "X = df.drop(columns=['Survived'])\n",
        "y = df['Survived']\n",
        "\n",
        "from sklearn.model_selection import train_test_split\n",
        "X_train, X_test, y_train, y_test = train_test_split(X, y, test_size=.2, random_state=42)\n",
        "\n",
        "from sklearn.ensemble import RandomForestClassifier\n",
        "model = RandomForestClassifier(n_estimators=100, random_state=42)\n",
        "model.fit(X_train, y_train)\n",
        "\n",
        "y_pred = model.predict(X_test)\n",
        "accuracy = accuracy_score(y_test, y_pred)\n",
        "print(f'Accuracy: {accuracy}')\n"
      ]
    },
    {
      "cell_type": "markdown",
      "metadata": {
        "id": "tp9vhl21y7gK"
      },
      "source": [
        "## End\n",
        "<sup>made by **Eduardo Valdez**</sup> <br>\n",
        "<sup>for comments, corrections, suggestions, please email:</sup><sup> <href>edvaldez.business@gmail.com</href> or <href>eduardo.valdez@dlsu.edu.ph</href></sup><br>\n"
      ]
    }
  ],
  "metadata": {
    "colab": {
      "provenance": []
    },
    "kernelspec": {
      "display_name": "base",
      "language": "python",
      "name": "python3"
    },
    "language_info": {
      "codemirror_mode": {
        "name": "ipython",
        "version": 3
      },
      "file_extension": ".py",
      "mimetype": "text/x-python",
      "name": "python",
      "nbconvert_exporter": "python",
      "pygments_lexer": "ipython3",
      "version": "3.12.4"
    },
    "orig_nbformat": 4
  },
  "nbformat": 4,
  "nbformat_minor": 0
}
